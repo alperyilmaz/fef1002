{
 "cells": [
  {
   "cell_type": "markdown",
   "id": "80437a9b",
   "metadata": {
    "lines_to_next_cell": 0
   },
   "source": [
    "# Week 11 - Exploratory Data Analysis (EDA), data manipulation (dplyr) and data visualization (ggplot2) with R.\n",
    "\n",
    "* This week you will see `Exploratory Data Analysis (EDA)`, `data manipulation (dplyr)` and `data visualization (ggplot2)` with R.\n",
    "\n",
    "# Exploratory Data Analysis (EDA)\n",
    "\n",
    "* A collection of techniques for summarizing data sets with R.\n",
    "* Search for answers by visualizing and transforming data sets.\n",
    "* Use what you learn to refine your questions and/or generate new questions.\n",
    "* We will mostly use `summary`, `head` and `table` functions and data visualization methods to make EDA.\n",
    "\n",
    "## Example mtcars dataset\n",
    "\n",
    "* First example dataset will be `mtcars` dataset.\n",
    "* The data was extracted from the 1974 Motor Trend US magazine, and comprises fuel consumption and 10 aspects of automobile design and performance for 32 automobiles (1973--74 models).\n",
    "* A data frame with 32 observations on 11 (numeric) variables.\n",
    "\n",
    "    * `mpg`\t Miles/(US) gallon\n",
    "    * `cyl`\t Number of cylinders\n",
    "    * `disp`\t Displacement (cu.in.)\n",
    "    * `hp`\t Gross horsepower\n",
    "    * `drat`\t Rear axle ratio\n",
    "    * `wt`\t Weight (1000 lbs)\n",
    "    * `qsec`\t 1/4 mile time\n",
    "    * `vs`\t Engine (0 = V-shaped, 1 = straight)\n",
    "    * `am`\t Transmission (0 = automatic, 1 = manual)\n",
    "    * `gear`\t Number of forward gears\n",
    "    * `carb`\t Number of carburetors\n",
    "* `mtcars` is a data that comes with R installation so you do not need to import it. "
   ]
  },
  {
   "cell_type": "code",
   "execution_count": 1,
   "id": "b22a3c6e",
   "metadata": {},
   "outputs": [],
   "source": [
    "data(mtcars)"
   ]
  },
  {
   "cell_type": "code",
   "execution_count": 2,
   "id": "57935930",
   "metadata": {},
   "outputs": [
    {
     "data": {
      "text/html": [
       "<table>\n",
       "<thead><tr><th></th><th scope=col>mpg</th><th scope=col>cyl</th><th scope=col>disp</th><th scope=col>hp</th><th scope=col>drat</th><th scope=col>wt</th><th scope=col>qsec</th><th scope=col>vs</th><th scope=col>am</th><th scope=col>gear</th><th scope=col>carb</th></tr></thead>\n",
       "<tbody>\n",
       "\t<tr><th scope=row>Mazda RX4</th><td>21.0 </td><td>6    </td><td>160  </td><td>110  </td><td>3.90 </td><td>2.620</td><td>16.46</td><td>0    </td><td>1    </td><td>4    </td><td>4    </td></tr>\n",
       "\t<tr><th scope=row>Mazda RX4 Wag</th><td>21.0 </td><td>6    </td><td>160  </td><td>110  </td><td>3.90 </td><td>2.875</td><td>17.02</td><td>0    </td><td>1    </td><td>4    </td><td>4    </td></tr>\n",
       "\t<tr><th scope=row>Datsun 710</th><td>22.8 </td><td>4    </td><td>108  </td><td> 93  </td><td>3.85 </td><td>2.320</td><td>18.61</td><td>1    </td><td>1    </td><td>4    </td><td>1    </td></tr>\n",
       "\t<tr><th scope=row>Hornet 4 Drive</th><td>21.4 </td><td>6    </td><td>258  </td><td>110  </td><td>3.08 </td><td>3.215</td><td>19.44</td><td>1    </td><td>0    </td><td>3    </td><td>1    </td></tr>\n",
       "\t<tr><th scope=row>Hornet Sportabout</th><td>18.7 </td><td>8    </td><td>360  </td><td>175  </td><td>3.15 </td><td>3.440</td><td>17.02</td><td>0    </td><td>0    </td><td>3    </td><td>2    </td></tr>\n",
       "\t<tr><th scope=row>Valiant</th><td>18.1 </td><td>6    </td><td>225  </td><td>105  </td><td>2.76 </td><td>3.460</td><td>20.22</td><td>1    </td><td>0    </td><td>3    </td><td>1    </td></tr>\n",
       "</tbody>\n",
       "</table>\n"
      ],
      "text/latex": [
       "\\begin{tabular}{r|lllllllllll}\n",
       "  & mpg & cyl & disp & hp & drat & wt & qsec & vs & am & gear & carb\\\\\n",
       "\\hline\n",
       "\tMazda RX4 & 21.0  & 6     & 160   & 110   & 3.90  & 2.620 & 16.46 & 0     & 1     & 4     & 4    \\\\\n",
       "\tMazda RX4 Wag & 21.0  & 6     & 160   & 110   & 3.90  & 2.875 & 17.02 & 0     & 1     & 4     & 4    \\\\\n",
       "\tDatsun 710 & 22.8  & 4     & 108   &  93   & 3.85  & 2.320 & 18.61 & 1     & 1     & 4     & 1    \\\\\n",
       "\tHornet 4 Drive & 21.4  & 6     & 258   & 110   & 3.08  & 3.215 & 19.44 & 1     & 0     & 3     & 1    \\\\\n",
       "\tHornet Sportabout & 18.7  & 8     & 360   & 175   & 3.15  & 3.440 & 17.02 & 0     & 0     & 3     & 2    \\\\\n",
       "\tValiant & 18.1  & 6     & 225   & 105   & 2.76  & 3.460 & 20.22 & 1     & 0     & 3     & 1    \\\\\n",
       "\\end{tabular}\n"
      ],
      "text/markdown": [
       "\n",
       "| <!--/--> | mpg | cyl | disp | hp | drat | wt | qsec | vs | am | gear | carb |\n",
       "|---|---|---|---|---|---|---|---|---|---|---|---|\n",
       "| Mazda RX4 | 21.0  | 6     | 160   | 110   | 3.90  | 2.620 | 16.46 | 0     | 1     | 4     | 4     |\n",
       "| Mazda RX4 Wag | 21.0  | 6     | 160   | 110   | 3.90  | 2.875 | 17.02 | 0     | 1     | 4     | 4     |\n",
       "| Datsun 710 | 22.8  | 4     | 108   |  93   | 3.85  | 2.320 | 18.61 | 1     | 1     | 4     | 1     |\n",
       "| Hornet 4 Drive | 21.4  | 6     | 258   | 110   | 3.08  | 3.215 | 19.44 | 1     | 0     | 3     | 1     |\n",
       "| Hornet Sportabout | 18.7  | 8     | 360   | 175   | 3.15  | 3.440 | 17.02 | 0     | 0     | 3     | 2     |\n",
       "| Valiant | 18.1  | 6     | 225   | 105   | 2.76  | 3.460 | 20.22 | 1     | 0     | 3     | 1     |\n",
       "\n"
      ],
      "text/plain": [
       "                  mpg  cyl disp hp  drat wt    qsec  vs am gear carb\n",
       "Mazda RX4         21.0 6   160  110 3.90 2.620 16.46 0  1  4    4   \n",
       "Mazda RX4 Wag     21.0 6   160  110 3.90 2.875 17.02 0  1  4    4   \n",
       "Datsun 710        22.8 4   108   93 3.85 2.320 18.61 1  1  4    1   \n",
       "Hornet 4 Drive    21.4 6   258  110 3.08 3.215 19.44 1  0  3    1   \n",
       "Hornet Sportabout 18.7 8   360  175 3.15 3.440 17.02 0  0  3    2   \n",
       "Valiant           18.1 6   225  105 2.76 3.460 20.22 1  0  3    1   "
      ]
     },
     "metadata": {},
     "output_type": "display_data"
    }
   ],
   "source": [
    "head(mtcars)"
   ]
  },
  {
   "cell_type": "code",
   "execution_count": 3,
   "id": "e7c33ec3",
   "metadata": {},
   "outputs": [
    {
     "data": {
      "text/plain": [
       "      mpg             cyl             disp             hp       \n",
       " Min.   :10.40   Min.   :4.000   Min.   : 71.1   Min.   : 52.0  \n",
       " 1st Qu.:15.43   1st Qu.:4.000   1st Qu.:120.8   1st Qu.: 96.5  \n",
       " Median :19.20   Median :6.000   Median :196.3   Median :123.0  \n",
       " Mean   :20.09   Mean   :6.188   Mean   :230.7   Mean   :146.7  \n",
       " 3rd Qu.:22.80   3rd Qu.:8.000   3rd Qu.:326.0   3rd Qu.:180.0  \n",
       " Max.   :33.90   Max.   :8.000   Max.   :472.0   Max.   :335.0  \n",
       "      drat             wt             qsec             vs        \n",
       " Min.   :2.760   Min.   :1.513   Min.   :14.50   Min.   :0.0000  \n",
       " 1st Qu.:3.080   1st Qu.:2.581   1st Qu.:16.89   1st Qu.:0.0000  \n",
       " Median :3.695   Median :3.325   Median :17.71   Median :0.0000  \n",
       " Mean   :3.597   Mean   :3.217   Mean   :17.85   Mean   :0.4375  \n",
       " 3rd Qu.:3.920   3rd Qu.:3.610   3rd Qu.:18.90   3rd Qu.:1.0000  \n",
       " Max.   :4.930   Max.   :5.424   Max.   :22.90   Max.   :1.0000  \n",
       "       am              gear            carb      \n",
       " Min.   :0.0000   Min.   :3.000   Min.   :1.000  \n",
       " 1st Qu.:0.0000   1st Qu.:3.000   1st Qu.:2.000  \n",
       " Median :0.0000   Median :4.000   Median :2.000  \n",
       " Mean   :0.4062   Mean   :3.688   Mean   :2.812  \n",
       " 3rd Qu.:1.0000   3rd Qu.:4.000   3rd Qu.:4.000  \n",
       " Max.   :1.0000   Max.   :5.000   Max.   :8.000  "
      ]
     },
     "metadata": {},
     "output_type": "display_data"
    }
   ],
   "source": [
    "summary(mtcars)"
   ]
  },
  {
   "cell_type": "markdown",
   "id": "0e47a238",
   "metadata": {},
   "source": [
    "* You can use `apply` to iterate a function through all the columns. The code below gives a frequency table for all the columns.\n",
    "* Here the `apply` function takes three arguments.\n",
    "  * First is the dataset `mtcars`\n",
    "  * Second is the direction of the function `1` is for the rows, `2` is for the column.\n",
    "  * Third, the function to be applied `table`\n",
    "* So `apply(mtcars,2,table)` means that, `table` function will be applied to all the columns `2` inside the `mtcars` dataset.\n",
    "* According to dataset description (see `?mtcars`) first we need to categorize some variables."
   ]
  },
  {
   "cell_type": "code",
   "execution_count": 4,
   "id": "f3900128",
   "metadata": {
    "lines_to_next_cell": 0
   },
   "outputs": [
    {
     "data": {
      "text/plain": [
       "$mpg\n",
       "\n",
       "10.4 13.3 14.3 14.7   15 15.2 15.5 15.8 16.4 17.3 17.8 18.1 18.7 19.2 19.7   21 \n",
       "   2    1    1    1    1    2    1    1    1    1    1    1    1    2    1    2 \n",
       "21.4 21.5 22.8 24.4   26 27.3 30.4 32.4 33.9 \n",
       "   2    1    2    1    1    1    2    1    1 \n",
       "\n",
       "$cyl\n",
       "\n",
       " 4  6  8 \n",
       "11  7 14 \n",
       "\n",
       "$disp\n",
       "\n",
       " 71.1  75.7  78.7    79  95.1   108 120.1 120.3   121 140.8   145 146.7   160 \n",
       "    1     1     1     1     1     1     1     1     1     1     1     1     2 \n",
       "167.6   225   258 275.8   301   304   318   350   351   360   400   440   460 \n",
       "    2     1     1     3     1     1     1     1     1     2     1     1     1 \n",
       "  472 \n",
       "    1 \n",
       "\n",
       "$hp\n",
       "\n",
       " 52  62  65  66  91  93  95  97 105 109 110 113 123 150 175 180 205 215 230 245 \n",
       "  1   1   1   2   1   1   1   1   1   1   3   1   2   2   3   3   1   1   1   2 \n",
       "264 335 \n",
       "  1   1 \n",
       "\n",
       "$drat\n",
       "\n",
       "2.76 2.93    3 3.07 3.08 3.15 3.21 3.23 3.54 3.62 3.69  3.7 3.73 3.77 3.85  3.9 \n",
       "   2    1    1    3    2    2    1    1    1    1    1    1    1    1    1    2 \n",
       "3.92 4.08 4.11 4.22 4.43 4.93 \n",
       "   3    2    1    2    1    1 \n",
       "\n",
       "$wt\n",
       "\n",
       "1.513 1.615 1.835 1.935  2.14   2.2  2.32 2.465  2.62  2.77  2.78 2.875  3.15 \n",
       "    1     1     1     1     1     1     1     1     1     1     1     1     1 \n",
       " 3.17  3.19 3.215 3.435  3.44  3.46  3.52  3.57  3.73  3.78  3.84 3.845  4.07 \n",
       "    1     1     1     1     3     1     1     2     1     1     1     1     1 \n",
       " 5.25 5.345 5.424 \n",
       "    1     1     1 \n",
       "\n",
       "$qsec\n",
       "\n",
       " 14.5  14.6 15.41  15.5 15.84 16.46  16.7 16.87  16.9 17.02 17.05  17.3  17.4 \n",
       "    1     1     1     1     1     1     1     1     1     2     1     1     1 \n",
       "17.42  17.6 17.82 17.98    18  18.3 18.52  18.6 18.61  18.9 19.44 19.47  19.9 \n",
       "    1     1     1     1     1     1     1     1     1     2     1     1     1 \n",
       "   20 20.01 20.22  22.9 \n",
       "    1     1     1     1 \n",
       "\n",
       "$vs\n",
       "\n",
       " 0  1 \n",
       "18 14 \n",
       "\n",
       "$am\n",
       "\n",
       " 0  1 \n",
       "19 13 \n",
       "\n",
       "$gear\n",
       "\n",
       " 3  4  5 \n",
       "15 12  5 \n",
       "\n",
       "$carb\n",
       "\n",
       " 1  2  3  4  6  8 \n",
       " 7 10  3 10  1  1 \n"
      ]
     },
     "metadata": {},
     "output_type": "display_data"
    }
   ],
   "source": [
    "apply(mtcars,2,table)"
   ]
  },
  {
   "cell_type": "markdown",
   "id": "616c767a",
   "metadata": {},
   "source": [
    "* The code below converts some of the suitable variables to categorical ones. "
   ]
  },
  {
   "cell_type": "code",
   "execution_count": 5,
   "id": "c05a8378",
   "metadata": {
    "lines_to_next_cell": 2
   },
   "outputs": [],
   "source": [
    "mtcars$cyl <- as.factor(mtcars$cyl)\n",
    "mtcars$vs <- factor(mtcars$vs, labels = c(\"V-shaped\", \"straight\"))\n",
    "mtcars$am <- factor(mtcars$am, labels = c(\"automatic\", \"manual\"))\n",
    "mtcars$carb <- as.factor(mtcars$carb)\n",
    "mtcars$gear <- as.factor(mtcars$gear)"
   ]
  },
  {
   "cell_type": "code",
   "execution_count": 6,
   "id": "e1f5c1c7",
   "metadata": {},
   "outputs": [
    {
     "data": {
      "text/plain": [
       "      mpg        cyl         disp             hp             drat      \n",
       " Min.   :10.40   4:11   Min.   : 71.1   Min.   : 52.0   Min.   :2.760  \n",
       " 1st Qu.:15.43   6: 7   1st Qu.:120.8   1st Qu.: 96.5   1st Qu.:3.080  \n",
       " Median :19.20   8:14   Median :196.3   Median :123.0   Median :3.695  \n",
       " Mean   :20.09          Mean   :230.7   Mean   :146.7   Mean   :3.597  \n",
       " 3rd Qu.:22.80          3rd Qu.:326.0   3rd Qu.:180.0   3rd Qu.:3.920  \n",
       " Max.   :33.90          Max.   :472.0   Max.   :335.0   Max.   :4.930  \n",
       "       wt             qsec              vs             am     gear   carb  \n",
       " Min.   :1.513   Min.   :14.50   V-shaped:18   automatic:19   3:15   1: 7  \n",
       " 1st Qu.:2.581   1st Qu.:16.89   straight:14   manual   :13   4:12   2:10  \n",
       " Median :3.325   Median :17.71                                5: 5   3: 3  \n",
       " Mean   :3.217   Mean   :17.85                                       4:10  \n",
       " 3rd Qu.:3.610   3rd Qu.:18.90                                       6: 1  \n",
       " Max.   :5.424   Max.   :22.90                                       8: 1  "
      ]
     },
     "metadata": {},
     "output_type": "display_data"
    }
   ],
   "source": [
    "summary(mtcars)"
   ]
  },
  {
   "cell_type": "markdown",
   "id": "7fe57b04",
   "metadata": {},
   "source": [
    "# Data Manipulation with dplyr{#dplyr}\n",
    "\n",
    "## The Pipe Operator (%>%)\n",
    "\n",
    "* The pipe operator originally invented in the `magrittr()` package which provides a more simple and readable approach to coding complex and nested structures.\n",
    "* Later pipe operator is used as a cornerstone in `dplyr()` package.\n",
    "* Consider the different ways of achieving the same result below.\n",
    "* For this we will continue to look at the `mtcars()` data.\n",
    "\n",
    "* Assume that, we want to sort\n",
    "  * average fuel consumption of cars \n",
    "  * with number of carburators greater than 1 \n",
    "  * by their number of cylinders\n",
    "  * in a descending order.\n",
    "* We can solve this with a few different approaches.\n",
    "* Do not worry about the functions given below, just look at the readebility and complexity of the given code, you will learn each of these functions by the end of this week.\n",
    "\n",
    "### Nested option"
   ]
  },
  {
   "cell_type": "code",
   "execution_count": 7,
   "id": "cc174d0c",
   "metadata": {
    "message": false,
    "warning": false
   },
   "outputs": [
    {
     "name": "stderr",
     "output_type": "stream",
     "text": [
      "\n",
      "Attaching package: 'dplyr'\n",
      "\n",
      "The following objects are masked from 'package:stats':\n",
      "\n",
      "    filter, lag\n",
      "\n",
      "The following objects are masked from 'package:base':\n",
      "\n",
      "    intersect, setdiff, setequal, union\n",
      "\n"
     ]
    }
   ],
   "source": [
    "# install.packages('dplyr') # if you didn't do that earlier\n",
    "library(dplyr)"
   ]
  },
  {
   "cell_type": "code",
   "execution_count": 8,
   "id": "06d383aa",
   "metadata": {
    "message": false,
    "warning": false
   },
   "outputs": [
    {
     "data": {
      "text/html": [
       "<table>\n",
       "<thead><tr><th scope=col>cyl</th><th scope=col>Avg_mpg</th></tr></thead>\n",
       "<tbody>\n",
       "\t<tr><td>4    </td><td>25.90</td></tr>\n",
       "\t<tr><td>6    </td><td>19.74</td></tr>\n",
       "\t<tr><td>8    </td><td>15.10</td></tr>\n",
       "</tbody>\n",
       "</table>\n"
      ],
      "text/latex": [
       "\\begin{tabular}{r|ll}\n",
       " cyl & Avg\\_mpg\\\\\n",
       "\\hline\n",
       "\t 4     & 25.90\\\\\n",
       "\t 6     & 19.74\\\\\n",
       "\t 8     & 15.10\\\\\n",
       "\\end{tabular}\n"
      ],
      "text/markdown": [
       "\n",
       "| cyl | Avg_mpg |\n",
       "|---|---|\n",
       "| 4     | 25.90 |\n",
       "| 6     | 19.74 |\n",
       "| 8     | 15.10 |\n",
       "\n"
      ],
      "text/plain": [
       "  cyl Avg_mpg\n",
       "1 4   25.90  \n",
       "2 6   19.74  \n",
       "3 8   15.10  "
      ]
     },
     "metadata": {},
     "output_type": "display_data"
    }
   ],
   "source": [
    "arrange(\n",
    "  summarize(\n",
    "    group_by(\n",
    "      filter(mtcars, as.numeric(carb) > 1),\n",
    "      cyl\n",
    "      ),\n",
    "    Avg_mpg = mean(mpg)\n",
    "    ),\n",
    "  desc(Avg_mpg)\n",
    "  )"
   ]
  },
  {
   "cell_type": "markdown",
   "id": "268f837f",
   "metadata": {},
   "source": [
    "* This approach is too complicated as it requires elaboration from inside to outside.\n",
    "\n",
    "### Multiple Object Opinion"
   ]
  },
  {
   "cell_type": "code",
   "execution_count": 9,
   "id": "8ac889ac",
   "metadata": {
    "message": false,
    "warning": false
   },
   "outputs": [
    {
     "name": "stdout",
     "output_type": "stream",
     "text": [
      "# A tibble: 3 x 2\n",
      "  cyl   Avg_mpg\n",
      "  <fct>   <dbl>\n",
      "1 4        25.9\n",
      "2 6        19.7\n",
      "3 8        15.1\n"
     ]
    }
   ],
   "source": [
    "a <- filter(mtcars, as.numeric(carb) > 1)\n",
    "b <- group_by(a, cyl)\n",
    "c <- summarise(b, Avg_mpg = mean(mpg))\n",
    "d <- arrange(c, desc(Avg_mpg))\n",
    "print(d)"
   ]
  },
  {
   "cell_type": "markdown",
   "id": "dfa8ae8f",
   "metadata": {},
   "source": [
    "* This approach easy to read but requires creation of unnecessary mediating objects.\n",
    "\n",
    "### %>% (Pipe) Option"
   ]
  },
  {
   "cell_type": "code",
   "execution_count": 10,
   "id": "370a4356",
   "metadata": {
    "message": false,
    "warning": false
   },
   "outputs": [
    {
     "data": {
      "text/html": [
       "<table>\n",
       "<thead><tr><th scope=col>cyl</th><th scope=col>Avg_mpg</th></tr></thead>\n",
       "<tbody>\n",
       "\t<tr><td>4    </td><td>25.90</td></tr>\n",
       "\t<tr><td>6    </td><td>19.74</td></tr>\n",
       "\t<tr><td>8    </td><td>15.10</td></tr>\n",
       "</tbody>\n",
       "</table>\n"
      ],
      "text/latex": [
       "\\begin{tabular}{r|ll}\n",
       " cyl & Avg\\_mpg\\\\\n",
       "\\hline\n",
       "\t 4     & 25.90\\\\\n",
       "\t 6     & 19.74\\\\\n",
       "\t 8     & 15.10\\\\\n",
       "\\end{tabular}\n"
      ],
      "text/markdown": [
       "\n",
       "| cyl | Avg_mpg |\n",
       "|---|---|\n",
       "| 4     | 25.90 |\n",
       "| 6     | 19.74 |\n",
       "| 8     | 15.10 |\n",
       "\n"
      ],
      "text/plain": [
       "  cyl Avg_mpg\n",
       "1 4   25.90  \n",
       "2 6   19.74  \n",
       "3 8   15.10  "
      ]
     },
     "metadata": {},
     "output_type": "display_data"
    }
   ],
   "source": [
    "mtcars %>%\n",
    "  filter(as.numeric(carb) > 1) %>%\n",
    "  group_by(cyl) %>%\n",
    "  summarise(Avg_mpg = mean(mpg)) %>%\n",
    "  arrange(desc(Avg_mpg))"
   ]
  },
  {
   "cell_type": "markdown",
   "id": "b91584be",
   "metadata": {},
   "source": [
    "* `%>%` option is both easy to read and does not produce unnecessary objects.\n",
    "\n",
    "## Using dplyr to manipulate data\n",
    "\n",
    "* In this section we are going to find some useful functions that is contained in `dplyr` package.\n",
    "* First load the package."
   ]
  },
  {
   "cell_type": "code",
   "execution_count": 12,
   "id": "da44e164",
   "metadata": {
    "message": false,
    "warning": false
   },
   "outputs": [],
   "source": [
    "library(dplyr)"
   ]
  },
  {
   "cell_type": "markdown",
   "id": "6e26ee24",
   "metadata": {},
   "source": [
    "### select()\n",
    "\n",
    "* `select()` is used to select variables in a dataframe.\n",
    "* Let's select variables `mpg` and `disp`.\n"
   ]
  },
  {
   "cell_type": "code",
   "execution_count": 13,
   "id": "bc6b6b0d",
   "metadata": {
    "message": false,
    "warning": false
   },
   "outputs": [
    {
     "data": {
      "text/html": [
       "<table>\n",
       "<thead><tr><th></th><th scope=col>mpg</th><th scope=col>cyl</th></tr></thead>\n",
       "<tbody>\n",
       "\t<tr><th scope=row>Mazda RX4</th><td>21.0</td><td>6   </td></tr>\n",
       "\t<tr><th scope=row>Mazda RX4 Wag</th><td>21.0</td><td>6   </td></tr>\n",
       "\t<tr><th scope=row>Datsun 710</th><td>22.8</td><td>4   </td></tr>\n",
       "\t<tr><th scope=row>Hornet 4 Drive</th><td>21.4</td><td>6   </td></tr>\n",
       "\t<tr><th scope=row>Hornet Sportabout</th><td>18.7</td><td>8   </td></tr>\n",
       "\t<tr><th scope=row>Valiant</th><td>18.1</td><td>6   </td></tr>\n",
       "\t<tr><th scope=row>Duster 360</th><td>14.3</td><td>8   </td></tr>\n",
       "\t<tr><th scope=row>Merc 240D</th><td>24.4</td><td>4   </td></tr>\n",
       "\t<tr><th scope=row>Merc 230</th><td>22.8</td><td>4   </td></tr>\n",
       "\t<tr><th scope=row>Merc 280</th><td>19.2</td><td>6   </td></tr>\n",
       "\t<tr><th scope=row>Merc 280C</th><td>17.8</td><td>6   </td></tr>\n",
       "\t<tr><th scope=row>Merc 450SE</th><td>16.4</td><td>8   </td></tr>\n",
       "\t<tr><th scope=row>Merc 450SL</th><td>17.3</td><td>8   </td></tr>\n",
       "\t<tr><th scope=row>Merc 450SLC</th><td>15.2</td><td>8   </td></tr>\n",
       "\t<tr><th scope=row>Cadillac Fleetwood</th><td>10.4</td><td>8   </td></tr>\n",
       "\t<tr><th scope=row>Lincoln Continental</th><td>10.4</td><td>8   </td></tr>\n",
       "\t<tr><th scope=row>Chrysler Imperial</th><td>14.7</td><td>8   </td></tr>\n",
       "\t<tr><th scope=row>Fiat 128</th><td>32.4</td><td>4   </td></tr>\n",
       "\t<tr><th scope=row>Honda Civic</th><td>30.4</td><td>4   </td></tr>\n",
       "\t<tr><th scope=row>Toyota Corolla</th><td>33.9</td><td>4   </td></tr>\n",
       "\t<tr><th scope=row>Toyota Corona</th><td>21.5</td><td>4   </td></tr>\n",
       "\t<tr><th scope=row>Dodge Challenger</th><td>15.5</td><td>8   </td></tr>\n",
       "\t<tr><th scope=row>AMC Javelin</th><td>15.2</td><td>8   </td></tr>\n",
       "\t<tr><th scope=row>Camaro Z28</th><td>13.3</td><td>8   </td></tr>\n",
       "\t<tr><th scope=row>Pontiac Firebird</th><td>19.2</td><td>8   </td></tr>\n",
       "\t<tr><th scope=row>Fiat X1-9</th><td>27.3</td><td>4   </td></tr>\n",
       "\t<tr><th scope=row>Porsche 914-2</th><td>26.0</td><td>4   </td></tr>\n",
       "\t<tr><th scope=row>Lotus Europa</th><td>30.4</td><td>4   </td></tr>\n",
       "\t<tr><th scope=row>Ford Pantera L</th><td>15.8</td><td>8   </td></tr>\n",
       "\t<tr><th scope=row>Ferrari Dino</th><td>19.7</td><td>6   </td></tr>\n",
       "\t<tr><th scope=row>Maserati Bora</th><td>15.0</td><td>8   </td></tr>\n",
       "\t<tr><th scope=row>Volvo 142E</th><td>21.4</td><td>4   </td></tr>\n",
       "</tbody>\n",
       "</table>\n"
      ],
      "text/latex": [
       "\\begin{tabular}{r|ll}\n",
       "  & mpg & cyl\\\\\n",
       "\\hline\n",
       "\tMazda RX4 & 21.0 & 6   \\\\\n",
       "\tMazda RX4 Wag & 21.0 & 6   \\\\\n",
       "\tDatsun 710 & 22.8 & 4   \\\\\n",
       "\tHornet 4 Drive & 21.4 & 6   \\\\\n",
       "\tHornet Sportabout & 18.7 & 8   \\\\\n",
       "\tValiant & 18.1 & 6   \\\\\n",
       "\tDuster 360 & 14.3 & 8   \\\\\n",
       "\tMerc 240D & 24.4 & 4   \\\\\n",
       "\tMerc 230 & 22.8 & 4   \\\\\n",
       "\tMerc 280 & 19.2 & 6   \\\\\n",
       "\tMerc 280C & 17.8 & 6   \\\\\n",
       "\tMerc 450SE & 16.4 & 8   \\\\\n",
       "\tMerc 450SL & 17.3 & 8   \\\\\n",
       "\tMerc 450SLC & 15.2 & 8   \\\\\n",
       "\tCadillac Fleetwood & 10.4 & 8   \\\\\n",
       "\tLincoln Continental & 10.4 & 8   \\\\\n",
       "\tChrysler Imperial & 14.7 & 8   \\\\\n",
       "\tFiat 128 & 32.4 & 4   \\\\\n",
       "\tHonda Civic & 30.4 & 4   \\\\\n",
       "\tToyota Corolla & 33.9 & 4   \\\\\n",
       "\tToyota Corona & 21.5 & 4   \\\\\n",
       "\tDodge Challenger & 15.5 & 8   \\\\\n",
       "\tAMC Javelin & 15.2 & 8   \\\\\n",
       "\tCamaro Z28 & 13.3 & 8   \\\\\n",
       "\tPontiac Firebird & 19.2 & 8   \\\\\n",
       "\tFiat X1-9 & 27.3 & 4   \\\\\n",
       "\tPorsche 914-2 & 26.0 & 4   \\\\\n",
       "\tLotus Europa & 30.4 & 4   \\\\\n",
       "\tFord Pantera L & 15.8 & 8   \\\\\n",
       "\tFerrari Dino & 19.7 & 6   \\\\\n",
       "\tMaserati Bora & 15.0 & 8   \\\\\n",
       "\tVolvo 142E & 21.4 & 4   \\\\\n",
       "\\end{tabular}\n"
      ],
      "text/markdown": [
       "\n",
       "| <!--/--> | mpg | cyl |\n",
       "|---|---|---|\n",
       "| Mazda RX4 | 21.0 | 6    |\n",
       "| Mazda RX4 Wag | 21.0 | 6    |\n",
       "| Datsun 710 | 22.8 | 4    |\n",
       "| Hornet 4 Drive | 21.4 | 6    |\n",
       "| Hornet Sportabout | 18.7 | 8    |\n",
       "| Valiant | 18.1 | 6    |\n",
       "| Duster 360 | 14.3 | 8    |\n",
       "| Merc 240D | 24.4 | 4    |\n",
       "| Merc 230 | 22.8 | 4    |\n",
       "| Merc 280 | 19.2 | 6    |\n",
       "| Merc 280C | 17.8 | 6    |\n",
       "| Merc 450SE | 16.4 | 8    |\n",
       "| Merc 450SL | 17.3 | 8    |\n",
       "| Merc 450SLC | 15.2 | 8    |\n",
       "| Cadillac Fleetwood | 10.4 | 8    |\n",
       "| Lincoln Continental | 10.4 | 8    |\n",
       "| Chrysler Imperial | 14.7 | 8    |\n",
       "| Fiat 128 | 32.4 | 4    |\n",
       "| Honda Civic | 30.4 | 4    |\n",
       "| Toyota Corolla | 33.9 | 4    |\n",
       "| Toyota Corona | 21.5 | 4    |\n",
       "| Dodge Challenger | 15.5 | 8    |\n",
       "| AMC Javelin | 15.2 | 8    |\n",
       "| Camaro Z28 | 13.3 | 8    |\n",
       "| Pontiac Firebird | 19.2 | 8    |\n",
       "| Fiat X1-9 | 27.3 | 4    |\n",
       "| Porsche 914-2 | 26.0 | 4    |\n",
       "| Lotus Europa | 30.4 | 4    |\n",
       "| Ford Pantera L | 15.8 | 8    |\n",
       "| Ferrari Dino | 19.7 | 6    |\n",
       "| Maserati Bora | 15.0 | 8    |\n",
       "| Volvo 142E | 21.4 | 4    |\n",
       "\n"
      ],
      "text/plain": [
       "                    mpg  cyl\n",
       "Mazda RX4           21.0 6  \n",
       "Mazda RX4 Wag       21.0 6  \n",
       "Datsun 710          22.8 4  \n",
       "Hornet 4 Drive      21.4 6  \n",
       "Hornet Sportabout   18.7 8  \n",
       "Valiant             18.1 6  \n",
       "Duster 360          14.3 8  \n",
       "Merc 240D           24.4 4  \n",
       "Merc 230            22.8 4  \n",
       "Merc 280            19.2 6  \n",
       "Merc 280C           17.8 6  \n",
       "Merc 450SE          16.4 8  \n",
       "Merc 450SL          17.3 8  \n",
       "Merc 450SLC         15.2 8  \n",
       "Cadillac Fleetwood  10.4 8  \n",
       "Lincoln Continental 10.4 8  \n",
       "Chrysler Imperial   14.7 8  \n",
       "Fiat 128            32.4 4  \n",
       "Honda Civic         30.4 4  \n",
       "Toyota Corolla      33.9 4  \n",
       "Toyota Corona       21.5 4  \n",
       "Dodge Challenger    15.5 8  \n",
       "AMC Javelin         15.2 8  \n",
       "Camaro Z28          13.3 8  \n",
       "Pontiac Firebird    19.2 8  \n",
       "Fiat X1-9           27.3 4  \n",
       "Porsche 914-2       26.0 4  \n",
       "Lotus Europa        30.4 4  \n",
       "Ford Pantera L      15.8 8  \n",
       "Ferrari Dino        19.7 6  \n",
       "Maserati Bora       15.0 8  \n",
       "Volvo 142E          21.4 4  "
      ]
     },
     "metadata": {},
     "output_type": "display_data"
    }
   ],
   "source": [
    "select(mtcars, mpg, cyl)"
   ]
  },
  {
   "cell_type": "markdown",
   "id": "dec4e8fa",
   "metadata": {},
   "source": [
    "* Or you can use the pipe operator to achieve the same output. We will use this notation in the following examples because it allows us to use nested operations.\n"
   ]
  },
  {
   "cell_type": "code",
   "execution_count": 14,
   "id": "17a3f021",
   "metadata": {
    "message": false,
    "warning": false
   },
   "outputs": [
    {
     "data": {
      "text/html": [
       "<table>\n",
       "<thead><tr><th></th><th scope=col>mpg</th><th scope=col>cyl</th></tr></thead>\n",
       "<tbody>\n",
       "\t<tr><th scope=row>Mazda RX4</th><td>21.0</td><td>6   </td></tr>\n",
       "\t<tr><th scope=row>Mazda RX4 Wag</th><td>21.0</td><td>6   </td></tr>\n",
       "\t<tr><th scope=row>Datsun 710</th><td>22.8</td><td>4   </td></tr>\n",
       "\t<tr><th scope=row>Hornet 4 Drive</th><td>21.4</td><td>6   </td></tr>\n",
       "\t<tr><th scope=row>Hornet Sportabout</th><td>18.7</td><td>8   </td></tr>\n",
       "\t<tr><th scope=row>Valiant</th><td>18.1</td><td>6   </td></tr>\n",
       "\t<tr><th scope=row>Duster 360</th><td>14.3</td><td>8   </td></tr>\n",
       "\t<tr><th scope=row>Merc 240D</th><td>24.4</td><td>4   </td></tr>\n",
       "\t<tr><th scope=row>Merc 230</th><td>22.8</td><td>4   </td></tr>\n",
       "\t<tr><th scope=row>Merc 280</th><td>19.2</td><td>6   </td></tr>\n",
       "\t<tr><th scope=row>Merc 280C</th><td>17.8</td><td>6   </td></tr>\n",
       "\t<tr><th scope=row>Merc 450SE</th><td>16.4</td><td>8   </td></tr>\n",
       "\t<tr><th scope=row>Merc 450SL</th><td>17.3</td><td>8   </td></tr>\n",
       "\t<tr><th scope=row>Merc 450SLC</th><td>15.2</td><td>8   </td></tr>\n",
       "\t<tr><th scope=row>Cadillac Fleetwood</th><td>10.4</td><td>8   </td></tr>\n",
       "\t<tr><th scope=row>Lincoln Continental</th><td>10.4</td><td>8   </td></tr>\n",
       "\t<tr><th scope=row>Chrysler Imperial</th><td>14.7</td><td>8   </td></tr>\n",
       "\t<tr><th scope=row>Fiat 128</th><td>32.4</td><td>4   </td></tr>\n",
       "\t<tr><th scope=row>Honda Civic</th><td>30.4</td><td>4   </td></tr>\n",
       "\t<tr><th scope=row>Toyota Corolla</th><td>33.9</td><td>4   </td></tr>\n",
       "\t<tr><th scope=row>Toyota Corona</th><td>21.5</td><td>4   </td></tr>\n",
       "\t<tr><th scope=row>Dodge Challenger</th><td>15.5</td><td>8   </td></tr>\n",
       "\t<tr><th scope=row>AMC Javelin</th><td>15.2</td><td>8   </td></tr>\n",
       "\t<tr><th scope=row>Camaro Z28</th><td>13.3</td><td>8   </td></tr>\n",
       "\t<tr><th scope=row>Pontiac Firebird</th><td>19.2</td><td>8   </td></tr>\n",
       "\t<tr><th scope=row>Fiat X1-9</th><td>27.3</td><td>4   </td></tr>\n",
       "\t<tr><th scope=row>Porsche 914-2</th><td>26.0</td><td>4   </td></tr>\n",
       "\t<tr><th scope=row>Lotus Europa</th><td>30.4</td><td>4   </td></tr>\n",
       "\t<tr><th scope=row>Ford Pantera L</th><td>15.8</td><td>8   </td></tr>\n",
       "\t<tr><th scope=row>Ferrari Dino</th><td>19.7</td><td>6   </td></tr>\n",
       "\t<tr><th scope=row>Maserati Bora</th><td>15.0</td><td>8   </td></tr>\n",
       "\t<tr><th scope=row>Volvo 142E</th><td>21.4</td><td>4   </td></tr>\n",
       "</tbody>\n",
       "</table>\n"
      ],
      "text/latex": [
       "\\begin{tabular}{r|ll}\n",
       "  & mpg & cyl\\\\\n",
       "\\hline\n",
       "\tMazda RX4 & 21.0 & 6   \\\\\n",
       "\tMazda RX4 Wag & 21.0 & 6   \\\\\n",
       "\tDatsun 710 & 22.8 & 4   \\\\\n",
       "\tHornet 4 Drive & 21.4 & 6   \\\\\n",
       "\tHornet Sportabout & 18.7 & 8   \\\\\n",
       "\tValiant & 18.1 & 6   \\\\\n",
       "\tDuster 360 & 14.3 & 8   \\\\\n",
       "\tMerc 240D & 24.4 & 4   \\\\\n",
       "\tMerc 230 & 22.8 & 4   \\\\\n",
       "\tMerc 280 & 19.2 & 6   \\\\\n",
       "\tMerc 280C & 17.8 & 6   \\\\\n",
       "\tMerc 450SE & 16.4 & 8   \\\\\n",
       "\tMerc 450SL & 17.3 & 8   \\\\\n",
       "\tMerc 450SLC & 15.2 & 8   \\\\\n",
       "\tCadillac Fleetwood & 10.4 & 8   \\\\\n",
       "\tLincoln Continental & 10.4 & 8   \\\\\n",
       "\tChrysler Imperial & 14.7 & 8   \\\\\n",
       "\tFiat 128 & 32.4 & 4   \\\\\n",
       "\tHonda Civic & 30.4 & 4   \\\\\n",
       "\tToyota Corolla & 33.9 & 4   \\\\\n",
       "\tToyota Corona & 21.5 & 4   \\\\\n",
       "\tDodge Challenger & 15.5 & 8   \\\\\n",
       "\tAMC Javelin & 15.2 & 8   \\\\\n",
       "\tCamaro Z28 & 13.3 & 8   \\\\\n",
       "\tPontiac Firebird & 19.2 & 8   \\\\\n",
       "\tFiat X1-9 & 27.3 & 4   \\\\\n",
       "\tPorsche 914-2 & 26.0 & 4   \\\\\n",
       "\tLotus Europa & 30.4 & 4   \\\\\n",
       "\tFord Pantera L & 15.8 & 8   \\\\\n",
       "\tFerrari Dino & 19.7 & 6   \\\\\n",
       "\tMaserati Bora & 15.0 & 8   \\\\\n",
       "\tVolvo 142E & 21.4 & 4   \\\\\n",
       "\\end{tabular}\n"
      ],
      "text/markdown": [
       "\n",
       "| <!--/--> | mpg | cyl |\n",
       "|---|---|---|\n",
       "| Mazda RX4 | 21.0 | 6    |\n",
       "| Mazda RX4 Wag | 21.0 | 6    |\n",
       "| Datsun 710 | 22.8 | 4    |\n",
       "| Hornet 4 Drive | 21.4 | 6    |\n",
       "| Hornet Sportabout | 18.7 | 8    |\n",
       "| Valiant | 18.1 | 6    |\n",
       "| Duster 360 | 14.3 | 8    |\n",
       "| Merc 240D | 24.4 | 4    |\n",
       "| Merc 230 | 22.8 | 4    |\n",
       "| Merc 280 | 19.2 | 6    |\n",
       "| Merc 280C | 17.8 | 6    |\n",
       "| Merc 450SE | 16.4 | 8    |\n",
       "| Merc 450SL | 17.3 | 8    |\n",
       "| Merc 450SLC | 15.2 | 8    |\n",
       "| Cadillac Fleetwood | 10.4 | 8    |\n",
       "| Lincoln Continental | 10.4 | 8    |\n",
       "| Chrysler Imperial | 14.7 | 8    |\n",
       "| Fiat 128 | 32.4 | 4    |\n",
       "| Honda Civic | 30.4 | 4    |\n",
       "| Toyota Corolla | 33.9 | 4    |\n",
       "| Toyota Corona | 21.5 | 4    |\n",
       "| Dodge Challenger | 15.5 | 8    |\n",
       "| AMC Javelin | 15.2 | 8    |\n",
       "| Camaro Z28 | 13.3 | 8    |\n",
       "| Pontiac Firebird | 19.2 | 8    |\n",
       "| Fiat X1-9 | 27.3 | 4    |\n",
       "| Porsche 914-2 | 26.0 | 4    |\n",
       "| Lotus Europa | 30.4 | 4    |\n",
       "| Ford Pantera L | 15.8 | 8    |\n",
       "| Ferrari Dino | 19.7 | 6    |\n",
       "| Maserati Bora | 15.0 | 8    |\n",
       "| Volvo 142E | 21.4 | 4    |\n",
       "\n"
      ],
      "text/plain": [
       "                    mpg  cyl\n",
       "Mazda RX4           21.0 6  \n",
       "Mazda RX4 Wag       21.0 6  \n",
       "Datsun 710          22.8 4  \n",
       "Hornet 4 Drive      21.4 6  \n",
       "Hornet Sportabout   18.7 8  \n",
       "Valiant             18.1 6  \n",
       "Duster 360          14.3 8  \n",
       "Merc 240D           24.4 4  \n",
       "Merc 230            22.8 4  \n",
       "Merc 280            19.2 6  \n",
       "Merc 280C           17.8 6  \n",
       "Merc 450SE          16.4 8  \n",
       "Merc 450SL          17.3 8  \n",
       "Merc 450SLC         15.2 8  \n",
       "Cadillac Fleetwood  10.4 8  \n",
       "Lincoln Continental 10.4 8  \n",
       "Chrysler Imperial   14.7 8  \n",
       "Fiat 128            32.4 4  \n",
       "Honda Civic         30.4 4  \n",
       "Toyota Corolla      33.9 4  \n",
       "Toyota Corona       21.5 4  \n",
       "Dodge Challenger    15.5 8  \n",
       "AMC Javelin         15.2 8  \n",
       "Camaro Z28          13.3 8  \n",
       "Pontiac Firebird    19.2 8  \n",
       "Fiat X1-9           27.3 4  \n",
       "Porsche 914-2       26.0 4  \n",
       "Lotus Europa        30.4 4  \n",
       "Ford Pantera L      15.8 8  \n",
       "Ferrari Dino        19.7 6  \n",
       "Maserati Bora       15.0 8  \n",
       "Volvo 142E          21.4 4  "
      ]
     },
     "metadata": {},
     "output_type": "display_data"
    }
   ],
   "source": [
    "mtcars %>% select(mpg, cyl)"
   ]
  },
  {
   "cell_type": "markdown",
   "id": "4f4e3667",
   "metadata": {},
   "source": [
    "* You can also use `:` for selecting successive variables.\n"
   ]
  },
  {
   "cell_type": "code",
   "execution_count": 15,
   "id": "ddbba97e",
   "metadata": {
    "message": false,
    "warning": false
   },
   "outputs": [
    {
     "data": {
      "text/html": [
       "<table>\n",
       "<thead><tr><th></th><th scope=col>mpg</th><th scope=col>cyl</th><th scope=col>disp</th><th scope=col>hp</th><th scope=col>drat</th><th scope=col>wt</th><th scope=col>qsec</th></tr></thead>\n",
       "<tbody>\n",
       "\t<tr><th scope=row>Mazda RX4</th><td>21.0 </td><td>6    </td><td>160.0</td><td>110  </td><td>3.90 </td><td>2.620</td><td>16.46</td></tr>\n",
       "\t<tr><th scope=row>Mazda RX4 Wag</th><td>21.0 </td><td>6    </td><td>160.0</td><td>110  </td><td>3.90 </td><td>2.875</td><td>17.02</td></tr>\n",
       "\t<tr><th scope=row>Datsun 710</th><td>22.8 </td><td>4    </td><td>108.0</td><td> 93  </td><td>3.85 </td><td>2.320</td><td>18.61</td></tr>\n",
       "\t<tr><th scope=row>Hornet 4 Drive</th><td>21.4 </td><td>6    </td><td>258.0</td><td>110  </td><td>3.08 </td><td>3.215</td><td>19.44</td></tr>\n",
       "\t<tr><th scope=row>Hornet Sportabout</th><td>18.7 </td><td>8    </td><td>360.0</td><td>175  </td><td>3.15 </td><td>3.440</td><td>17.02</td></tr>\n",
       "\t<tr><th scope=row>Valiant</th><td>18.1 </td><td>6    </td><td>225.0</td><td>105  </td><td>2.76 </td><td>3.460</td><td>20.22</td></tr>\n",
       "\t<tr><th scope=row>Duster 360</th><td>14.3 </td><td>8    </td><td>360.0</td><td>245  </td><td>3.21 </td><td>3.570</td><td>15.84</td></tr>\n",
       "\t<tr><th scope=row>Merc 240D</th><td>24.4 </td><td>4    </td><td>146.7</td><td> 62  </td><td>3.69 </td><td>3.190</td><td>20.00</td></tr>\n",
       "\t<tr><th scope=row>Merc 230</th><td>22.8 </td><td>4    </td><td>140.8</td><td> 95  </td><td>3.92 </td><td>3.150</td><td>22.90</td></tr>\n",
       "\t<tr><th scope=row>Merc 280</th><td>19.2 </td><td>6    </td><td>167.6</td><td>123  </td><td>3.92 </td><td>3.440</td><td>18.30</td></tr>\n",
       "\t<tr><th scope=row>Merc 280C</th><td>17.8 </td><td>6    </td><td>167.6</td><td>123  </td><td>3.92 </td><td>3.440</td><td>18.90</td></tr>\n",
       "\t<tr><th scope=row>Merc 450SE</th><td>16.4 </td><td>8    </td><td>275.8</td><td>180  </td><td>3.07 </td><td>4.070</td><td>17.40</td></tr>\n",
       "\t<tr><th scope=row>Merc 450SL</th><td>17.3 </td><td>8    </td><td>275.8</td><td>180  </td><td>3.07 </td><td>3.730</td><td>17.60</td></tr>\n",
       "\t<tr><th scope=row>Merc 450SLC</th><td>15.2 </td><td>8    </td><td>275.8</td><td>180  </td><td>3.07 </td><td>3.780</td><td>18.00</td></tr>\n",
       "\t<tr><th scope=row>Cadillac Fleetwood</th><td>10.4 </td><td>8    </td><td>472.0</td><td>205  </td><td>2.93 </td><td>5.250</td><td>17.98</td></tr>\n",
       "\t<tr><th scope=row>Lincoln Continental</th><td>10.4 </td><td>8    </td><td>460.0</td><td>215  </td><td>3.00 </td><td>5.424</td><td>17.82</td></tr>\n",
       "\t<tr><th scope=row>Chrysler Imperial</th><td>14.7 </td><td>8    </td><td>440.0</td><td>230  </td><td>3.23 </td><td>5.345</td><td>17.42</td></tr>\n",
       "\t<tr><th scope=row>Fiat 128</th><td>32.4 </td><td>4    </td><td> 78.7</td><td> 66  </td><td>4.08 </td><td>2.200</td><td>19.47</td></tr>\n",
       "\t<tr><th scope=row>Honda Civic</th><td>30.4 </td><td>4    </td><td> 75.7</td><td> 52  </td><td>4.93 </td><td>1.615</td><td>18.52</td></tr>\n",
       "\t<tr><th scope=row>Toyota Corolla</th><td>33.9 </td><td>4    </td><td> 71.1</td><td> 65  </td><td>4.22 </td><td>1.835</td><td>19.90</td></tr>\n",
       "\t<tr><th scope=row>Toyota Corona</th><td>21.5 </td><td>4    </td><td>120.1</td><td> 97  </td><td>3.70 </td><td>2.465</td><td>20.01</td></tr>\n",
       "\t<tr><th scope=row>Dodge Challenger</th><td>15.5 </td><td>8    </td><td>318.0</td><td>150  </td><td>2.76 </td><td>3.520</td><td>16.87</td></tr>\n",
       "\t<tr><th scope=row>AMC Javelin</th><td>15.2 </td><td>8    </td><td>304.0</td><td>150  </td><td>3.15 </td><td>3.435</td><td>17.30</td></tr>\n",
       "\t<tr><th scope=row>Camaro Z28</th><td>13.3 </td><td>8    </td><td>350.0</td><td>245  </td><td>3.73 </td><td>3.840</td><td>15.41</td></tr>\n",
       "\t<tr><th scope=row>Pontiac Firebird</th><td>19.2 </td><td>8    </td><td>400.0</td><td>175  </td><td>3.08 </td><td>3.845</td><td>17.05</td></tr>\n",
       "\t<tr><th scope=row>Fiat X1-9</th><td>27.3 </td><td>4    </td><td> 79.0</td><td> 66  </td><td>4.08 </td><td>1.935</td><td>18.90</td></tr>\n",
       "\t<tr><th scope=row>Porsche 914-2</th><td>26.0 </td><td>4    </td><td>120.3</td><td> 91  </td><td>4.43 </td><td>2.140</td><td>16.70</td></tr>\n",
       "\t<tr><th scope=row>Lotus Europa</th><td>30.4 </td><td>4    </td><td> 95.1</td><td>113  </td><td>3.77 </td><td>1.513</td><td>16.90</td></tr>\n",
       "\t<tr><th scope=row>Ford Pantera L</th><td>15.8 </td><td>8    </td><td>351.0</td><td>264  </td><td>4.22 </td><td>3.170</td><td>14.50</td></tr>\n",
       "\t<tr><th scope=row>Ferrari Dino</th><td>19.7 </td><td>6    </td><td>145.0</td><td>175  </td><td>3.62 </td><td>2.770</td><td>15.50</td></tr>\n",
       "\t<tr><th scope=row>Maserati Bora</th><td>15.0 </td><td>8    </td><td>301.0</td><td>335  </td><td>3.54 </td><td>3.570</td><td>14.60</td></tr>\n",
       "\t<tr><th scope=row>Volvo 142E</th><td>21.4 </td><td>4    </td><td>121.0</td><td>109  </td><td>4.11 </td><td>2.780</td><td>18.60</td></tr>\n",
       "</tbody>\n",
       "</table>\n"
      ],
      "text/latex": [
       "\\begin{tabular}{r|lllllll}\n",
       "  & mpg & cyl & disp & hp & drat & wt & qsec\\\\\n",
       "\\hline\n",
       "\tMazda RX4 & 21.0  & 6     & 160.0 & 110   & 3.90  & 2.620 & 16.46\\\\\n",
       "\tMazda RX4 Wag & 21.0  & 6     & 160.0 & 110   & 3.90  & 2.875 & 17.02\\\\\n",
       "\tDatsun 710 & 22.8  & 4     & 108.0 &  93   & 3.85  & 2.320 & 18.61\\\\\n",
       "\tHornet 4 Drive & 21.4  & 6     & 258.0 & 110   & 3.08  & 3.215 & 19.44\\\\\n",
       "\tHornet Sportabout & 18.7  & 8     & 360.0 & 175   & 3.15  & 3.440 & 17.02\\\\\n",
       "\tValiant & 18.1  & 6     & 225.0 & 105   & 2.76  & 3.460 & 20.22\\\\\n",
       "\tDuster 360 & 14.3  & 8     & 360.0 & 245   & 3.21  & 3.570 & 15.84\\\\\n",
       "\tMerc 240D & 24.4  & 4     & 146.7 &  62   & 3.69  & 3.190 & 20.00\\\\\n",
       "\tMerc 230 & 22.8  & 4     & 140.8 &  95   & 3.92  & 3.150 & 22.90\\\\\n",
       "\tMerc 280 & 19.2  & 6     & 167.6 & 123   & 3.92  & 3.440 & 18.30\\\\\n",
       "\tMerc 280C & 17.8  & 6     & 167.6 & 123   & 3.92  & 3.440 & 18.90\\\\\n",
       "\tMerc 450SE & 16.4  & 8     & 275.8 & 180   & 3.07  & 4.070 & 17.40\\\\\n",
       "\tMerc 450SL & 17.3  & 8     & 275.8 & 180   & 3.07  & 3.730 & 17.60\\\\\n",
       "\tMerc 450SLC & 15.2  & 8     & 275.8 & 180   & 3.07  & 3.780 & 18.00\\\\\n",
       "\tCadillac Fleetwood & 10.4  & 8     & 472.0 & 205   & 2.93  & 5.250 & 17.98\\\\\n",
       "\tLincoln Continental & 10.4  & 8     & 460.0 & 215   & 3.00  & 5.424 & 17.82\\\\\n",
       "\tChrysler Imperial & 14.7  & 8     & 440.0 & 230   & 3.23  & 5.345 & 17.42\\\\\n",
       "\tFiat 128 & 32.4  & 4     &  78.7 &  66   & 4.08  & 2.200 & 19.47\\\\\n",
       "\tHonda Civic & 30.4  & 4     &  75.7 &  52   & 4.93  & 1.615 & 18.52\\\\\n",
       "\tToyota Corolla & 33.9  & 4     &  71.1 &  65   & 4.22  & 1.835 & 19.90\\\\\n",
       "\tToyota Corona & 21.5  & 4     & 120.1 &  97   & 3.70  & 2.465 & 20.01\\\\\n",
       "\tDodge Challenger & 15.5  & 8     & 318.0 & 150   & 2.76  & 3.520 & 16.87\\\\\n",
       "\tAMC Javelin & 15.2  & 8     & 304.0 & 150   & 3.15  & 3.435 & 17.30\\\\\n",
       "\tCamaro Z28 & 13.3  & 8     & 350.0 & 245   & 3.73  & 3.840 & 15.41\\\\\n",
       "\tPontiac Firebird & 19.2  & 8     & 400.0 & 175   & 3.08  & 3.845 & 17.05\\\\\n",
       "\tFiat X1-9 & 27.3  & 4     &  79.0 &  66   & 4.08  & 1.935 & 18.90\\\\\n",
       "\tPorsche 914-2 & 26.0  & 4     & 120.3 &  91   & 4.43  & 2.140 & 16.70\\\\\n",
       "\tLotus Europa & 30.4  & 4     &  95.1 & 113   & 3.77  & 1.513 & 16.90\\\\\n",
       "\tFord Pantera L & 15.8  & 8     & 351.0 & 264   & 4.22  & 3.170 & 14.50\\\\\n",
       "\tFerrari Dino & 19.7  & 6     & 145.0 & 175   & 3.62  & 2.770 & 15.50\\\\\n",
       "\tMaserati Bora & 15.0  & 8     & 301.0 & 335   & 3.54  & 3.570 & 14.60\\\\\n",
       "\tVolvo 142E & 21.4  & 4     & 121.0 & 109   & 4.11  & 2.780 & 18.60\\\\\n",
       "\\end{tabular}\n"
      ],
      "text/markdown": [
       "\n",
       "| <!--/--> | mpg | cyl | disp | hp | drat | wt | qsec |\n",
       "|---|---|---|---|---|---|---|---|\n",
       "| Mazda RX4 | 21.0  | 6     | 160.0 | 110   | 3.90  | 2.620 | 16.46 |\n",
       "| Mazda RX4 Wag | 21.0  | 6     | 160.0 | 110   | 3.90  | 2.875 | 17.02 |\n",
       "| Datsun 710 | 22.8  | 4     | 108.0 |  93   | 3.85  | 2.320 | 18.61 |\n",
       "| Hornet 4 Drive | 21.4  | 6     | 258.0 | 110   | 3.08  | 3.215 | 19.44 |\n",
       "| Hornet Sportabout | 18.7  | 8     | 360.0 | 175   | 3.15  | 3.440 | 17.02 |\n",
       "| Valiant | 18.1  | 6     | 225.0 | 105   | 2.76  | 3.460 | 20.22 |\n",
       "| Duster 360 | 14.3  | 8     | 360.0 | 245   | 3.21  | 3.570 | 15.84 |\n",
       "| Merc 240D | 24.4  | 4     | 146.7 |  62   | 3.69  | 3.190 | 20.00 |\n",
       "| Merc 230 | 22.8  | 4     | 140.8 |  95   | 3.92  | 3.150 | 22.90 |\n",
       "| Merc 280 | 19.2  | 6     | 167.6 | 123   | 3.92  | 3.440 | 18.30 |\n",
       "| Merc 280C | 17.8  | 6     | 167.6 | 123   | 3.92  | 3.440 | 18.90 |\n",
       "| Merc 450SE | 16.4  | 8     | 275.8 | 180   | 3.07  | 4.070 | 17.40 |\n",
       "| Merc 450SL | 17.3  | 8     | 275.8 | 180   | 3.07  | 3.730 | 17.60 |\n",
       "| Merc 450SLC | 15.2  | 8     | 275.8 | 180   | 3.07  | 3.780 | 18.00 |\n",
       "| Cadillac Fleetwood | 10.4  | 8     | 472.0 | 205   | 2.93  | 5.250 | 17.98 |\n",
       "| Lincoln Continental | 10.4  | 8     | 460.0 | 215   | 3.00  | 5.424 | 17.82 |\n",
       "| Chrysler Imperial | 14.7  | 8     | 440.0 | 230   | 3.23  | 5.345 | 17.42 |\n",
       "| Fiat 128 | 32.4  | 4     |  78.7 |  66   | 4.08  | 2.200 | 19.47 |\n",
       "| Honda Civic | 30.4  | 4     |  75.7 |  52   | 4.93  | 1.615 | 18.52 |\n",
       "| Toyota Corolla | 33.9  | 4     |  71.1 |  65   | 4.22  | 1.835 | 19.90 |\n",
       "| Toyota Corona | 21.5  | 4     | 120.1 |  97   | 3.70  | 2.465 | 20.01 |\n",
       "| Dodge Challenger | 15.5  | 8     | 318.0 | 150   | 2.76  | 3.520 | 16.87 |\n",
       "| AMC Javelin | 15.2  | 8     | 304.0 | 150   | 3.15  | 3.435 | 17.30 |\n",
       "| Camaro Z28 | 13.3  | 8     | 350.0 | 245   | 3.73  | 3.840 | 15.41 |\n",
       "| Pontiac Firebird | 19.2  | 8     | 400.0 | 175   | 3.08  | 3.845 | 17.05 |\n",
       "| Fiat X1-9 | 27.3  | 4     |  79.0 |  66   | 4.08  | 1.935 | 18.90 |\n",
       "| Porsche 914-2 | 26.0  | 4     | 120.3 |  91   | 4.43  | 2.140 | 16.70 |\n",
       "| Lotus Europa | 30.4  | 4     |  95.1 | 113   | 3.77  | 1.513 | 16.90 |\n",
       "| Ford Pantera L | 15.8  | 8     | 351.0 | 264   | 4.22  | 3.170 | 14.50 |\n",
       "| Ferrari Dino | 19.7  | 6     | 145.0 | 175   | 3.62  | 2.770 | 15.50 |\n",
       "| Maserati Bora | 15.0  | 8     | 301.0 | 335   | 3.54  | 3.570 | 14.60 |\n",
       "| Volvo 142E | 21.4  | 4     | 121.0 | 109   | 4.11  | 2.780 | 18.60 |\n",
       "\n"
      ],
      "text/plain": [
       "                    mpg  cyl disp  hp  drat wt    qsec \n",
       "Mazda RX4           21.0 6   160.0 110 3.90 2.620 16.46\n",
       "Mazda RX4 Wag       21.0 6   160.0 110 3.90 2.875 17.02\n",
       "Datsun 710          22.8 4   108.0  93 3.85 2.320 18.61\n",
       "Hornet 4 Drive      21.4 6   258.0 110 3.08 3.215 19.44\n",
       "Hornet Sportabout   18.7 8   360.0 175 3.15 3.440 17.02\n",
       "Valiant             18.1 6   225.0 105 2.76 3.460 20.22\n",
       "Duster 360          14.3 8   360.0 245 3.21 3.570 15.84\n",
       "Merc 240D           24.4 4   146.7  62 3.69 3.190 20.00\n",
       "Merc 230            22.8 4   140.8  95 3.92 3.150 22.90\n",
       "Merc 280            19.2 6   167.6 123 3.92 3.440 18.30\n",
       "Merc 280C           17.8 6   167.6 123 3.92 3.440 18.90\n",
       "Merc 450SE          16.4 8   275.8 180 3.07 4.070 17.40\n",
       "Merc 450SL          17.3 8   275.8 180 3.07 3.730 17.60\n",
       "Merc 450SLC         15.2 8   275.8 180 3.07 3.780 18.00\n",
       "Cadillac Fleetwood  10.4 8   472.0 205 2.93 5.250 17.98\n",
       "Lincoln Continental 10.4 8   460.0 215 3.00 5.424 17.82\n",
       "Chrysler Imperial   14.7 8   440.0 230 3.23 5.345 17.42\n",
       "Fiat 128            32.4 4    78.7  66 4.08 2.200 19.47\n",
       "Honda Civic         30.4 4    75.7  52 4.93 1.615 18.52\n",
       "Toyota Corolla      33.9 4    71.1  65 4.22 1.835 19.90\n",
       "Toyota Corona       21.5 4   120.1  97 3.70 2.465 20.01\n",
       "Dodge Challenger    15.5 8   318.0 150 2.76 3.520 16.87\n",
       "AMC Javelin         15.2 8   304.0 150 3.15 3.435 17.30\n",
       "Camaro Z28          13.3 8   350.0 245 3.73 3.840 15.41\n",
       "Pontiac Firebird    19.2 8   400.0 175 3.08 3.845 17.05\n",
       "Fiat X1-9           27.3 4    79.0  66 4.08 1.935 18.90\n",
       "Porsche 914-2       26.0 4   120.3  91 4.43 2.140 16.70\n",
       "Lotus Europa        30.4 4    95.1 113 3.77 1.513 16.90\n",
       "Ford Pantera L      15.8 8   351.0 264 4.22 3.170 14.50\n",
       "Ferrari Dino        19.7 6   145.0 175 3.62 2.770 15.50\n",
       "Maserati Bora       15.0 8   301.0 335 3.54 3.570 14.60\n",
       "Volvo 142E          21.4 4   121.0 109 4.11 2.780 18.60"
      ]
     },
     "metadata": {},
     "output_type": "display_data"
    }
   ],
   "source": [
    "mtcars %>% select(mpg:qsec)"
   ]
  },
  {
   "cell_type": "markdown",
   "id": "d8629a4f",
   "metadata": {},
   "source": [
    "* You can use negative sign to exclude variables.\n"
   ]
  },
  {
   "cell_type": "code",
   "execution_count": 16,
   "id": "6bdf7df4",
   "metadata": {
    "message": false,
    "warning": false
   },
   "outputs": [
    {
     "data": {
      "text/html": [
       "<table>\n",
       "<thead><tr><th></th><th scope=col>vs</th><th scope=col>am</th><th scope=col>gear</th><th scope=col>carb</th></tr></thead>\n",
       "<tbody>\n",
       "\t<tr><th scope=row>Mazda RX4</th><td>V-shaped </td><td>manual   </td><td>4        </td><td>4        </td></tr>\n",
       "\t<tr><th scope=row>Mazda RX4 Wag</th><td>V-shaped </td><td>manual   </td><td>4        </td><td>4        </td></tr>\n",
       "\t<tr><th scope=row>Datsun 710</th><td>straight </td><td>manual   </td><td>4        </td><td>1        </td></tr>\n",
       "\t<tr><th scope=row>Hornet 4 Drive</th><td>straight </td><td>automatic</td><td>3        </td><td>1        </td></tr>\n",
       "\t<tr><th scope=row>Hornet Sportabout</th><td>V-shaped </td><td>automatic</td><td>3        </td><td>2        </td></tr>\n",
       "\t<tr><th scope=row>Valiant</th><td>straight </td><td>automatic</td><td>3        </td><td>1        </td></tr>\n",
       "\t<tr><th scope=row>Duster 360</th><td>V-shaped </td><td>automatic</td><td>3        </td><td>4        </td></tr>\n",
       "\t<tr><th scope=row>Merc 240D</th><td>straight </td><td>automatic</td><td>4        </td><td>2        </td></tr>\n",
       "\t<tr><th scope=row>Merc 230</th><td>straight </td><td>automatic</td><td>4        </td><td>2        </td></tr>\n",
       "\t<tr><th scope=row>Merc 280</th><td>straight </td><td>automatic</td><td>4        </td><td>4        </td></tr>\n",
       "\t<tr><th scope=row>Merc 280C</th><td>straight </td><td>automatic</td><td>4        </td><td>4        </td></tr>\n",
       "\t<tr><th scope=row>Merc 450SE</th><td>V-shaped </td><td>automatic</td><td>3        </td><td>3        </td></tr>\n",
       "\t<tr><th scope=row>Merc 450SL</th><td>V-shaped </td><td>automatic</td><td>3        </td><td>3        </td></tr>\n",
       "\t<tr><th scope=row>Merc 450SLC</th><td>V-shaped </td><td>automatic</td><td>3        </td><td>3        </td></tr>\n",
       "\t<tr><th scope=row>Cadillac Fleetwood</th><td>V-shaped </td><td>automatic</td><td>3        </td><td>4        </td></tr>\n",
       "\t<tr><th scope=row>Lincoln Continental</th><td>V-shaped </td><td>automatic</td><td>3        </td><td>4        </td></tr>\n",
       "\t<tr><th scope=row>Chrysler Imperial</th><td>V-shaped </td><td>automatic</td><td>3        </td><td>4        </td></tr>\n",
       "\t<tr><th scope=row>Fiat 128</th><td>straight </td><td>manual   </td><td>4        </td><td>1        </td></tr>\n",
       "\t<tr><th scope=row>Honda Civic</th><td>straight </td><td>manual   </td><td>4        </td><td>2        </td></tr>\n",
       "\t<tr><th scope=row>Toyota Corolla</th><td>straight </td><td>manual   </td><td>4        </td><td>1        </td></tr>\n",
       "\t<tr><th scope=row>Toyota Corona</th><td>straight </td><td>automatic</td><td>3        </td><td>1        </td></tr>\n",
       "\t<tr><th scope=row>Dodge Challenger</th><td>V-shaped </td><td>automatic</td><td>3        </td><td>2        </td></tr>\n",
       "\t<tr><th scope=row>AMC Javelin</th><td>V-shaped </td><td>automatic</td><td>3        </td><td>2        </td></tr>\n",
       "\t<tr><th scope=row>Camaro Z28</th><td>V-shaped </td><td>automatic</td><td>3        </td><td>4        </td></tr>\n",
       "\t<tr><th scope=row>Pontiac Firebird</th><td>V-shaped </td><td>automatic</td><td>3        </td><td>2        </td></tr>\n",
       "\t<tr><th scope=row>Fiat X1-9</th><td>straight </td><td>manual   </td><td>4        </td><td>1        </td></tr>\n",
       "\t<tr><th scope=row>Porsche 914-2</th><td>V-shaped </td><td>manual   </td><td>5        </td><td>2        </td></tr>\n",
       "\t<tr><th scope=row>Lotus Europa</th><td>straight </td><td>manual   </td><td>5        </td><td>2        </td></tr>\n",
       "\t<tr><th scope=row>Ford Pantera L</th><td>V-shaped </td><td>manual   </td><td>5        </td><td>4        </td></tr>\n",
       "\t<tr><th scope=row>Ferrari Dino</th><td>V-shaped </td><td>manual   </td><td>5        </td><td>6        </td></tr>\n",
       "\t<tr><th scope=row>Maserati Bora</th><td>V-shaped </td><td>manual   </td><td>5        </td><td>8        </td></tr>\n",
       "\t<tr><th scope=row>Volvo 142E</th><td>straight </td><td>manual   </td><td>4        </td><td>2        </td></tr>\n",
       "</tbody>\n",
       "</table>\n"
      ],
      "text/latex": [
       "\\begin{tabular}{r|llll}\n",
       "  & vs & am & gear & carb\\\\\n",
       "\\hline\n",
       "\tMazda RX4 & V-shaped  & manual    & 4         & 4        \\\\\n",
       "\tMazda RX4 Wag & V-shaped  & manual    & 4         & 4        \\\\\n",
       "\tDatsun 710 & straight  & manual    & 4         & 1        \\\\\n",
       "\tHornet 4 Drive & straight  & automatic & 3         & 1        \\\\\n",
       "\tHornet Sportabout & V-shaped  & automatic & 3         & 2        \\\\\n",
       "\tValiant & straight  & automatic & 3         & 1        \\\\\n",
       "\tDuster 360 & V-shaped  & automatic & 3         & 4        \\\\\n",
       "\tMerc 240D & straight  & automatic & 4         & 2        \\\\\n",
       "\tMerc 230 & straight  & automatic & 4         & 2        \\\\\n",
       "\tMerc 280 & straight  & automatic & 4         & 4        \\\\\n",
       "\tMerc 280C & straight  & automatic & 4         & 4        \\\\\n",
       "\tMerc 450SE & V-shaped  & automatic & 3         & 3        \\\\\n",
       "\tMerc 450SL & V-shaped  & automatic & 3         & 3        \\\\\n",
       "\tMerc 450SLC & V-shaped  & automatic & 3         & 3        \\\\\n",
       "\tCadillac Fleetwood & V-shaped  & automatic & 3         & 4        \\\\\n",
       "\tLincoln Continental & V-shaped  & automatic & 3         & 4        \\\\\n",
       "\tChrysler Imperial & V-shaped  & automatic & 3         & 4        \\\\\n",
       "\tFiat 128 & straight  & manual    & 4         & 1        \\\\\n",
       "\tHonda Civic & straight  & manual    & 4         & 2        \\\\\n",
       "\tToyota Corolla & straight  & manual    & 4         & 1        \\\\\n",
       "\tToyota Corona & straight  & automatic & 3         & 1        \\\\\n",
       "\tDodge Challenger & V-shaped  & automatic & 3         & 2        \\\\\n",
       "\tAMC Javelin & V-shaped  & automatic & 3         & 2        \\\\\n",
       "\tCamaro Z28 & V-shaped  & automatic & 3         & 4        \\\\\n",
       "\tPontiac Firebird & V-shaped  & automatic & 3         & 2        \\\\\n",
       "\tFiat X1-9 & straight  & manual    & 4         & 1        \\\\\n",
       "\tPorsche 914-2 & V-shaped  & manual    & 5         & 2        \\\\\n",
       "\tLotus Europa & straight  & manual    & 5         & 2        \\\\\n",
       "\tFord Pantera L & V-shaped  & manual    & 5         & 4        \\\\\n",
       "\tFerrari Dino & V-shaped  & manual    & 5         & 6        \\\\\n",
       "\tMaserati Bora & V-shaped  & manual    & 5         & 8        \\\\\n",
       "\tVolvo 142E & straight  & manual    & 4         & 2        \\\\\n",
       "\\end{tabular}\n"
      ],
      "text/markdown": [
       "\n",
       "| <!--/--> | vs | am | gear | carb |\n",
       "|---|---|---|---|---|\n",
       "| Mazda RX4 | V-shaped  | manual    | 4         | 4         |\n",
       "| Mazda RX4 Wag | V-shaped  | manual    | 4         | 4         |\n",
       "| Datsun 710 | straight  | manual    | 4         | 1         |\n",
       "| Hornet 4 Drive | straight  | automatic | 3         | 1         |\n",
       "| Hornet Sportabout | V-shaped  | automatic | 3         | 2         |\n",
       "| Valiant | straight  | automatic | 3         | 1         |\n",
       "| Duster 360 | V-shaped  | automatic | 3         | 4         |\n",
       "| Merc 240D | straight  | automatic | 4         | 2         |\n",
       "| Merc 230 | straight  | automatic | 4         | 2         |\n",
       "| Merc 280 | straight  | automatic | 4         | 4         |\n",
       "| Merc 280C | straight  | automatic | 4         | 4         |\n",
       "| Merc 450SE | V-shaped  | automatic | 3         | 3         |\n",
       "| Merc 450SL | V-shaped  | automatic | 3         | 3         |\n",
       "| Merc 450SLC | V-shaped  | automatic | 3         | 3         |\n",
       "| Cadillac Fleetwood | V-shaped  | automatic | 3         | 4         |\n",
       "| Lincoln Continental | V-shaped  | automatic | 3         | 4         |\n",
       "| Chrysler Imperial | V-shaped  | automatic | 3         | 4         |\n",
       "| Fiat 128 | straight  | manual    | 4         | 1         |\n",
       "| Honda Civic | straight  | manual    | 4         | 2         |\n",
       "| Toyota Corolla | straight  | manual    | 4         | 1         |\n",
       "| Toyota Corona | straight  | automatic | 3         | 1         |\n",
       "| Dodge Challenger | V-shaped  | automatic | 3         | 2         |\n",
       "| AMC Javelin | V-shaped  | automatic | 3         | 2         |\n",
       "| Camaro Z28 | V-shaped  | automatic | 3         | 4         |\n",
       "| Pontiac Firebird | V-shaped  | automatic | 3         | 2         |\n",
       "| Fiat X1-9 | straight  | manual    | 4         | 1         |\n",
       "| Porsche 914-2 | V-shaped  | manual    | 5         | 2         |\n",
       "| Lotus Europa | straight  | manual    | 5         | 2         |\n",
       "| Ford Pantera L | V-shaped  | manual    | 5         | 4         |\n",
       "| Ferrari Dino | V-shaped  | manual    | 5         | 6         |\n",
       "| Maserati Bora | V-shaped  | manual    | 5         | 8         |\n",
       "| Volvo 142E | straight  | manual    | 4         | 2         |\n",
       "\n"
      ],
      "text/plain": [
       "                    vs       am        gear carb\n",
       "Mazda RX4           V-shaped manual    4    4   \n",
       "Mazda RX4 Wag       V-shaped manual    4    4   \n",
       "Datsun 710          straight manual    4    1   \n",
       "Hornet 4 Drive      straight automatic 3    1   \n",
       "Hornet Sportabout   V-shaped automatic 3    2   \n",
       "Valiant             straight automatic 3    1   \n",
       "Duster 360          V-shaped automatic 3    4   \n",
       "Merc 240D           straight automatic 4    2   \n",
       "Merc 230            straight automatic 4    2   \n",
       "Merc 280            straight automatic 4    4   \n",
       "Merc 280C           straight automatic 4    4   \n",
       "Merc 450SE          V-shaped automatic 3    3   \n",
       "Merc 450SL          V-shaped automatic 3    3   \n",
       "Merc 450SLC         V-shaped automatic 3    3   \n",
       "Cadillac Fleetwood  V-shaped automatic 3    4   \n",
       "Lincoln Continental V-shaped automatic 3    4   \n",
       "Chrysler Imperial   V-shaped automatic 3    4   \n",
       "Fiat 128            straight manual    4    1   \n",
       "Honda Civic         straight manual    4    2   \n",
       "Toyota Corolla      straight manual    4    1   \n",
       "Toyota Corona       straight automatic 3    1   \n",
       "Dodge Challenger    V-shaped automatic 3    2   \n",
       "AMC Javelin         V-shaped automatic 3    2   \n",
       "Camaro Z28          V-shaped automatic 3    4   \n",
       "Pontiac Firebird    V-shaped automatic 3    2   \n",
       "Fiat X1-9           straight manual    4    1   \n",
       "Porsche 914-2       V-shaped manual    5    2   \n",
       "Lotus Europa        straight manual    5    2   \n",
       "Ford Pantera L      V-shaped manual    5    4   \n",
       "Ferrari Dino        V-shaped manual    5    6   \n",
       "Maserati Bora       V-shaped manual    5    8   \n",
       "Volvo 142E          straight manual    4    2   "
      ]
     },
     "metadata": {},
     "output_type": "display_data"
    }
   ],
   "source": [
    "mtcars %>% select(-mpg:-qsec)"
   ]
  },
  {
   "cell_type": "markdown",
   "id": "8ebf0bf6",
   "metadata": {},
   "source": [
    "* Generally you have to assign the new dataframe to a new variable."
   ]
  },
  {
   "cell_type": "code",
   "execution_count": 17,
   "id": "2f3318fb",
   "metadata": {
    "message": false,
    "warning": false
   },
   "outputs": [
    {
     "data": {
      "text/html": [
       "<table>\n",
       "<thead><tr><th></th><th scope=col>vs</th><th scope=col>am</th><th scope=col>gear</th><th scope=col>carb</th></tr></thead>\n",
       "<tbody>\n",
       "\t<tr><th scope=row>Mazda RX4</th><td>V-shaped </td><td>manual   </td><td>4        </td><td>4        </td></tr>\n",
       "\t<tr><th scope=row>Mazda RX4 Wag</th><td>V-shaped </td><td>manual   </td><td>4        </td><td>4        </td></tr>\n",
       "\t<tr><th scope=row>Datsun 710</th><td>straight </td><td>manual   </td><td>4        </td><td>1        </td></tr>\n",
       "\t<tr><th scope=row>Hornet 4 Drive</th><td>straight </td><td>automatic</td><td>3        </td><td>1        </td></tr>\n",
       "\t<tr><th scope=row>Hornet Sportabout</th><td>V-shaped </td><td>automatic</td><td>3        </td><td>2        </td></tr>\n",
       "\t<tr><th scope=row>Valiant</th><td>straight </td><td>automatic</td><td>3        </td><td>1        </td></tr>\n",
       "\t<tr><th scope=row>Duster 360</th><td>V-shaped </td><td>automatic</td><td>3        </td><td>4        </td></tr>\n",
       "\t<tr><th scope=row>Merc 240D</th><td>straight </td><td>automatic</td><td>4        </td><td>2        </td></tr>\n",
       "\t<tr><th scope=row>Merc 230</th><td>straight </td><td>automatic</td><td>4        </td><td>2        </td></tr>\n",
       "\t<tr><th scope=row>Merc 280</th><td>straight </td><td>automatic</td><td>4        </td><td>4        </td></tr>\n",
       "\t<tr><th scope=row>Merc 280C</th><td>straight </td><td>automatic</td><td>4        </td><td>4        </td></tr>\n",
       "\t<tr><th scope=row>Merc 450SE</th><td>V-shaped </td><td>automatic</td><td>3        </td><td>3        </td></tr>\n",
       "\t<tr><th scope=row>Merc 450SL</th><td>V-shaped </td><td>automatic</td><td>3        </td><td>3        </td></tr>\n",
       "\t<tr><th scope=row>Merc 450SLC</th><td>V-shaped </td><td>automatic</td><td>3        </td><td>3        </td></tr>\n",
       "\t<tr><th scope=row>Cadillac Fleetwood</th><td>V-shaped </td><td>automatic</td><td>3        </td><td>4        </td></tr>\n",
       "\t<tr><th scope=row>Lincoln Continental</th><td>V-shaped </td><td>automatic</td><td>3        </td><td>4        </td></tr>\n",
       "\t<tr><th scope=row>Chrysler Imperial</th><td>V-shaped </td><td>automatic</td><td>3        </td><td>4        </td></tr>\n",
       "\t<tr><th scope=row>Fiat 128</th><td>straight </td><td>manual   </td><td>4        </td><td>1        </td></tr>\n",
       "\t<tr><th scope=row>Honda Civic</th><td>straight </td><td>manual   </td><td>4        </td><td>2        </td></tr>\n",
       "\t<tr><th scope=row>Toyota Corolla</th><td>straight </td><td>manual   </td><td>4        </td><td>1        </td></tr>\n",
       "\t<tr><th scope=row>Toyota Corona</th><td>straight </td><td>automatic</td><td>3        </td><td>1        </td></tr>\n",
       "\t<tr><th scope=row>Dodge Challenger</th><td>V-shaped </td><td>automatic</td><td>3        </td><td>2        </td></tr>\n",
       "\t<tr><th scope=row>AMC Javelin</th><td>V-shaped </td><td>automatic</td><td>3        </td><td>2        </td></tr>\n",
       "\t<tr><th scope=row>Camaro Z28</th><td>V-shaped </td><td>automatic</td><td>3        </td><td>4        </td></tr>\n",
       "\t<tr><th scope=row>Pontiac Firebird</th><td>V-shaped </td><td>automatic</td><td>3        </td><td>2        </td></tr>\n",
       "\t<tr><th scope=row>Fiat X1-9</th><td>straight </td><td>manual   </td><td>4        </td><td>1        </td></tr>\n",
       "\t<tr><th scope=row>Porsche 914-2</th><td>V-shaped </td><td>manual   </td><td>5        </td><td>2        </td></tr>\n",
       "\t<tr><th scope=row>Lotus Europa</th><td>straight </td><td>manual   </td><td>5        </td><td>2        </td></tr>\n",
       "\t<tr><th scope=row>Ford Pantera L</th><td>V-shaped </td><td>manual   </td><td>5        </td><td>4        </td></tr>\n",
       "\t<tr><th scope=row>Ferrari Dino</th><td>V-shaped </td><td>manual   </td><td>5        </td><td>6        </td></tr>\n",
       "\t<tr><th scope=row>Maserati Bora</th><td>V-shaped </td><td>manual   </td><td>5        </td><td>8        </td></tr>\n",
       "\t<tr><th scope=row>Volvo 142E</th><td>straight </td><td>manual   </td><td>4        </td><td>2        </td></tr>\n",
       "</tbody>\n",
       "</table>\n"
      ],
      "text/latex": [
       "\\begin{tabular}{r|llll}\n",
       "  & vs & am & gear & carb\\\\\n",
       "\\hline\n",
       "\tMazda RX4 & V-shaped  & manual    & 4         & 4        \\\\\n",
       "\tMazda RX4 Wag & V-shaped  & manual    & 4         & 4        \\\\\n",
       "\tDatsun 710 & straight  & manual    & 4         & 1        \\\\\n",
       "\tHornet 4 Drive & straight  & automatic & 3         & 1        \\\\\n",
       "\tHornet Sportabout & V-shaped  & automatic & 3         & 2        \\\\\n",
       "\tValiant & straight  & automatic & 3         & 1        \\\\\n",
       "\tDuster 360 & V-shaped  & automatic & 3         & 4        \\\\\n",
       "\tMerc 240D & straight  & automatic & 4         & 2        \\\\\n",
       "\tMerc 230 & straight  & automatic & 4         & 2        \\\\\n",
       "\tMerc 280 & straight  & automatic & 4         & 4        \\\\\n",
       "\tMerc 280C & straight  & automatic & 4         & 4        \\\\\n",
       "\tMerc 450SE & V-shaped  & automatic & 3         & 3        \\\\\n",
       "\tMerc 450SL & V-shaped  & automatic & 3         & 3        \\\\\n",
       "\tMerc 450SLC & V-shaped  & automatic & 3         & 3        \\\\\n",
       "\tCadillac Fleetwood & V-shaped  & automatic & 3         & 4        \\\\\n",
       "\tLincoln Continental & V-shaped  & automatic & 3         & 4        \\\\\n",
       "\tChrysler Imperial & V-shaped  & automatic & 3         & 4        \\\\\n",
       "\tFiat 128 & straight  & manual    & 4         & 1        \\\\\n",
       "\tHonda Civic & straight  & manual    & 4         & 2        \\\\\n",
       "\tToyota Corolla & straight  & manual    & 4         & 1        \\\\\n",
       "\tToyota Corona & straight  & automatic & 3         & 1        \\\\\n",
       "\tDodge Challenger & V-shaped  & automatic & 3         & 2        \\\\\n",
       "\tAMC Javelin & V-shaped  & automatic & 3         & 2        \\\\\n",
       "\tCamaro Z28 & V-shaped  & automatic & 3         & 4        \\\\\n",
       "\tPontiac Firebird & V-shaped  & automatic & 3         & 2        \\\\\n",
       "\tFiat X1-9 & straight  & manual    & 4         & 1        \\\\\n",
       "\tPorsche 914-2 & V-shaped  & manual    & 5         & 2        \\\\\n",
       "\tLotus Europa & straight  & manual    & 5         & 2        \\\\\n",
       "\tFord Pantera L & V-shaped  & manual    & 5         & 4        \\\\\n",
       "\tFerrari Dino & V-shaped  & manual    & 5         & 6        \\\\\n",
       "\tMaserati Bora & V-shaped  & manual    & 5         & 8        \\\\\n",
       "\tVolvo 142E & straight  & manual    & 4         & 2        \\\\\n",
       "\\end{tabular}\n"
      ],
      "text/markdown": [
       "\n",
       "| <!--/--> | vs | am | gear | carb |\n",
       "|---|---|---|---|---|\n",
       "| Mazda RX4 | V-shaped  | manual    | 4         | 4         |\n",
       "| Mazda RX4 Wag | V-shaped  | manual    | 4         | 4         |\n",
       "| Datsun 710 | straight  | manual    | 4         | 1         |\n",
       "| Hornet 4 Drive | straight  | automatic | 3         | 1         |\n",
       "| Hornet Sportabout | V-shaped  | automatic | 3         | 2         |\n",
       "| Valiant | straight  | automatic | 3         | 1         |\n",
       "| Duster 360 | V-shaped  | automatic | 3         | 4         |\n",
       "| Merc 240D | straight  | automatic | 4         | 2         |\n",
       "| Merc 230 | straight  | automatic | 4         | 2         |\n",
       "| Merc 280 | straight  | automatic | 4         | 4         |\n",
       "| Merc 280C | straight  | automatic | 4         | 4         |\n",
       "| Merc 450SE | V-shaped  | automatic | 3         | 3         |\n",
       "| Merc 450SL | V-shaped  | automatic | 3         | 3         |\n",
       "| Merc 450SLC | V-shaped  | automatic | 3         | 3         |\n",
       "| Cadillac Fleetwood | V-shaped  | automatic | 3         | 4         |\n",
       "| Lincoln Continental | V-shaped  | automatic | 3         | 4         |\n",
       "| Chrysler Imperial | V-shaped  | automatic | 3         | 4         |\n",
       "| Fiat 128 | straight  | manual    | 4         | 1         |\n",
       "| Honda Civic | straight  | manual    | 4         | 2         |\n",
       "| Toyota Corolla | straight  | manual    | 4         | 1         |\n",
       "| Toyota Corona | straight  | automatic | 3         | 1         |\n",
       "| Dodge Challenger | V-shaped  | automatic | 3         | 2         |\n",
       "| AMC Javelin | V-shaped  | automatic | 3         | 2         |\n",
       "| Camaro Z28 | V-shaped  | automatic | 3         | 4         |\n",
       "| Pontiac Firebird | V-shaped  | automatic | 3         | 2         |\n",
       "| Fiat X1-9 | straight  | manual    | 4         | 1         |\n",
       "| Porsche 914-2 | V-shaped  | manual    | 5         | 2         |\n",
       "| Lotus Europa | straight  | manual    | 5         | 2         |\n",
       "| Ford Pantera L | V-shaped  | manual    | 5         | 4         |\n",
       "| Ferrari Dino | V-shaped  | manual    | 5         | 6         |\n",
       "| Maserati Bora | V-shaped  | manual    | 5         | 8         |\n",
       "| Volvo 142E | straight  | manual    | 4         | 2         |\n",
       "\n"
      ],
      "text/plain": [
       "                    vs       am        gear carb\n",
       "Mazda RX4           V-shaped manual    4    4   \n",
       "Mazda RX4 Wag       V-shaped manual    4    4   \n",
       "Datsun 710          straight manual    4    1   \n",
       "Hornet 4 Drive      straight automatic 3    1   \n",
       "Hornet Sportabout   V-shaped automatic 3    2   \n",
       "Valiant             straight automatic 3    1   \n",
       "Duster 360          V-shaped automatic 3    4   \n",
       "Merc 240D           straight automatic 4    2   \n",
       "Merc 230            straight automatic 4    2   \n",
       "Merc 280            straight automatic 4    4   \n",
       "Merc 280C           straight automatic 4    4   \n",
       "Merc 450SE          V-shaped automatic 3    3   \n",
       "Merc 450SL          V-shaped automatic 3    3   \n",
       "Merc 450SLC         V-shaped automatic 3    3   \n",
       "Cadillac Fleetwood  V-shaped automatic 3    4   \n",
       "Lincoln Continental V-shaped automatic 3    4   \n",
       "Chrysler Imperial   V-shaped automatic 3    4   \n",
       "Fiat 128            straight manual    4    1   \n",
       "Honda Civic         straight manual    4    2   \n",
       "Toyota Corolla      straight manual    4    1   \n",
       "Toyota Corona       straight automatic 3    1   \n",
       "Dodge Challenger    V-shaped automatic 3    2   \n",
       "AMC Javelin         V-shaped automatic 3    2   \n",
       "Camaro Z28          V-shaped automatic 3    4   \n",
       "Pontiac Firebird    V-shaped automatic 3    2   \n",
       "Fiat X1-9           straight manual    4    1   \n",
       "Porsche 914-2       V-shaped manual    5    2   \n",
       "Lotus Europa        straight manual    5    2   \n",
       "Ford Pantera L      V-shaped manual    5    4   \n",
       "Ferrari Dino        V-shaped manual    5    6   \n",
       "Maserati Bora       V-shaped manual    5    8   \n",
       "Volvo 142E          straight manual    4    2   "
      ]
     },
     "metadata": {},
     "output_type": "display_data"
    }
   ],
   "source": [
    "mtcars2 <- mtcars %>% select(-mpg:-qsec)\n",
    "mtcars2"
   ]
  },
  {
   "cell_type": "markdown",
   "id": "7cbb31b5",
   "metadata": {},
   "source": [
    "* If you manage your variables name properly you can use additional arguments, such as `starts_with()`, `ends_with()`, `contains()` or `matches()`.\n",
    "* Let's extract the variables starts with the letter `c`, ends with letter `t`, and contains letter `a`.\n",
    "* Matches is used to use regular expressions in variable names.\n",
    "* For a full list of available options use `help(select)`\n"
   ]
  },
  {
   "cell_type": "code",
   "execution_count": 18,
   "id": "88974a95",
   "metadata": {
    "lines_to_next_cell": 2,
    "message": false,
    "warning": false
   },
   "outputs": [
    {
     "data": {
      "text/html": [
       "<table>\n",
       "<thead><tr><th></th><th scope=col>cyl</th><th scope=col>carb</th></tr></thead>\n",
       "<tbody>\n",
       "\t<tr><th scope=row>Mazda RX4</th><td>6</td><td>4</td></tr>\n",
       "\t<tr><th scope=row>Mazda RX4 Wag</th><td>6</td><td>4</td></tr>\n",
       "\t<tr><th scope=row>Datsun 710</th><td>4</td><td>1</td></tr>\n",
       "\t<tr><th scope=row>Hornet 4 Drive</th><td>6</td><td>1</td></tr>\n",
       "\t<tr><th scope=row>Hornet Sportabout</th><td>8</td><td>2</td></tr>\n",
       "\t<tr><th scope=row>Valiant</th><td>6</td><td>1</td></tr>\n",
       "\t<tr><th scope=row>Duster 360</th><td>8</td><td>4</td></tr>\n",
       "\t<tr><th scope=row>Merc 240D</th><td>4</td><td>2</td></tr>\n",
       "\t<tr><th scope=row>Merc 230</th><td>4</td><td>2</td></tr>\n",
       "\t<tr><th scope=row>Merc 280</th><td>6</td><td>4</td></tr>\n",
       "\t<tr><th scope=row>Merc 280C</th><td>6</td><td>4</td></tr>\n",
       "\t<tr><th scope=row>Merc 450SE</th><td>8</td><td>3</td></tr>\n",
       "\t<tr><th scope=row>Merc 450SL</th><td>8</td><td>3</td></tr>\n",
       "\t<tr><th scope=row>Merc 450SLC</th><td>8</td><td>3</td></tr>\n",
       "\t<tr><th scope=row>Cadillac Fleetwood</th><td>8</td><td>4</td></tr>\n",
       "\t<tr><th scope=row>Lincoln Continental</th><td>8</td><td>4</td></tr>\n",
       "\t<tr><th scope=row>Chrysler Imperial</th><td>8</td><td>4</td></tr>\n",
       "\t<tr><th scope=row>Fiat 128</th><td>4</td><td>1</td></tr>\n",
       "\t<tr><th scope=row>Honda Civic</th><td>4</td><td>2</td></tr>\n",
       "\t<tr><th scope=row>Toyota Corolla</th><td>4</td><td>1</td></tr>\n",
       "\t<tr><th scope=row>Toyota Corona</th><td>4</td><td>1</td></tr>\n",
       "\t<tr><th scope=row>Dodge Challenger</th><td>8</td><td>2</td></tr>\n",
       "\t<tr><th scope=row>AMC Javelin</th><td>8</td><td>2</td></tr>\n",
       "\t<tr><th scope=row>Camaro Z28</th><td>8</td><td>4</td></tr>\n",
       "\t<tr><th scope=row>Pontiac Firebird</th><td>8</td><td>2</td></tr>\n",
       "\t<tr><th scope=row>Fiat X1-9</th><td>4</td><td>1</td></tr>\n",
       "\t<tr><th scope=row>Porsche 914-2</th><td>4</td><td>2</td></tr>\n",
       "\t<tr><th scope=row>Lotus Europa</th><td>4</td><td>2</td></tr>\n",
       "\t<tr><th scope=row>Ford Pantera L</th><td>8</td><td>4</td></tr>\n",
       "\t<tr><th scope=row>Ferrari Dino</th><td>6</td><td>6</td></tr>\n",
       "\t<tr><th scope=row>Maserati Bora</th><td>8</td><td>8</td></tr>\n",
       "\t<tr><th scope=row>Volvo 142E</th><td>4</td><td>2</td></tr>\n",
       "</tbody>\n",
       "</table>\n"
      ],
      "text/latex": [
       "\\begin{tabular}{r|ll}\n",
       "  & cyl & carb\\\\\n",
       "\\hline\n",
       "\tMazda RX4 & 6 & 4\\\\\n",
       "\tMazda RX4 Wag & 6 & 4\\\\\n",
       "\tDatsun 710 & 4 & 1\\\\\n",
       "\tHornet 4 Drive & 6 & 1\\\\\n",
       "\tHornet Sportabout & 8 & 2\\\\\n",
       "\tValiant & 6 & 1\\\\\n",
       "\tDuster 360 & 8 & 4\\\\\n",
       "\tMerc 240D & 4 & 2\\\\\n",
       "\tMerc 230 & 4 & 2\\\\\n",
       "\tMerc 280 & 6 & 4\\\\\n",
       "\tMerc 280C & 6 & 4\\\\\n",
       "\tMerc 450SE & 8 & 3\\\\\n",
       "\tMerc 450SL & 8 & 3\\\\\n",
       "\tMerc 450SLC & 8 & 3\\\\\n",
       "\tCadillac Fleetwood & 8 & 4\\\\\n",
       "\tLincoln Continental & 8 & 4\\\\\n",
       "\tChrysler Imperial & 8 & 4\\\\\n",
       "\tFiat 128 & 4 & 1\\\\\n",
       "\tHonda Civic & 4 & 2\\\\\n",
       "\tToyota Corolla & 4 & 1\\\\\n",
       "\tToyota Corona & 4 & 1\\\\\n",
       "\tDodge Challenger & 8 & 2\\\\\n",
       "\tAMC Javelin & 8 & 2\\\\\n",
       "\tCamaro Z28 & 8 & 4\\\\\n",
       "\tPontiac Firebird & 8 & 2\\\\\n",
       "\tFiat X1-9 & 4 & 1\\\\\n",
       "\tPorsche 914-2 & 4 & 2\\\\\n",
       "\tLotus Europa & 4 & 2\\\\\n",
       "\tFord Pantera L & 8 & 4\\\\\n",
       "\tFerrari Dino & 6 & 6\\\\\n",
       "\tMaserati Bora & 8 & 8\\\\\n",
       "\tVolvo 142E & 4 & 2\\\\\n",
       "\\end{tabular}\n"
      ],
      "text/markdown": [
       "\n",
       "| <!--/--> | cyl | carb |\n",
       "|---|---|---|\n",
       "| Mazda RX4 | 6 | 4 |\n",
       "| Mazda RX4 Wag | 6 | 4 |\n",
       "| Datsun 710 | 4 | 1 |\n",
       "| Hornet 4 Drive | 6 | 1 |\n",
       "| Hornet Sportabout | 8 | 2 |\n",
       "| Valiant | 6 | 1 |\n",
       "| Duster 360 | 8 | 4 |\n",
       "| Merc 240D | 4 | 2 |\n",
       "| Merc 230 | 4 | 2 |\n",
       "| Merc 280 | 6 | 4 |\n",
       "| Merc 280C | 6 | 4 |\n",
       "| Merc 450SE | 8 | 3 |\n",
       "| Merc 450SL | 8 | 3 |\n",
       "| Merc 450SLC | 8 | 3 |\n",
       "| Cadillac Fleetwood | 8 | 4 |\n",
       "| Lincoln Continental | 8 | 4 |\n",
       "| Chrysler Imperial | 8 | 4 |\n",
       "| Fiat 128 | 4 | 1 |\n",
       "| Honda Civic | 4 | 2 |\n",
       "| Toyota Corolla | 4 | 1 |\n",
       "| Toyota Corona | 4 | 1 |\n",
       "| Dodge Challenger | 8 | 2 |\n",
       "| AMC Javelin | 8 | 2 |\n",
       "| Camaro Z28 | 8 | 4 |\n",
       "| Pontiac Firebird | 8 | 2 |\n",
       "| Fiat X1-9 | 4 | 1 |\n",
       "| Porsche 914-2 | 4 | 2 |\n",
       "| Lotus Europa | 4 | 2 |\n",
       "| Ford Pantera L | 8 | 4 |\n",
       "| Ferrari Dino | 6 | 6 |\n",
       "| Maserati Bora | 8 | 8 |\n",
       "| Volvo 142E | 4 | 2 |\n",
       "\n"
      ],
      "text/plain": [
       "                    cyl carb\n",
       "Mazda RX4           6   4   \n",
       "Mazda RX4 Wag       6   4   \n",
       "Datsun 710          4   1   \n",
       "Hornet 4 Drive      6   1   \n",
       "Hornet Sportabout   8   2   \n",
       "Valiant             6   1   \n",
       "Duster 360          8   4   \n",
       "Merc 240D           4   2   \n",
       "Merc 230            4   2   \n",
       "Merc 280            6   4   \n",
       "Merc 280C           6   4   \n",
       "Merc 450SE          8   3   \n",
       "Merc 450SL          8   3   \n",
       "Merc 450SLC         8   3   \n",
       "Cadillac Fleetwood  8   4   \n",
       "Lincoln Continental 8   4   \n",
       "Chrysler Imperial   8   4   \n",
       "Fiat 128            4   1   \n",
       "Honda Civic         4   2   \n",
       "Toyota Corolla      4   1   \n",
       "Toyota Corona       4   1   \n",
       "Dodge Challenger    8   2   \n",
       "AMC Javelin         8   2   \n",
       "Camaro Z28          8   4   \n",
       "Pontiac Firebird    8   2   \n",
       "Fiat X1-9           4   1   \n",
       "Porsche 914-2       4   2   \n",
       "Lotus Europa        4   2   \n",
       "Ford Pantera L      8   4   \n",
       "Ferrari Dino        6   6   \n",
       "Maserati Bora       8   8   \n",
       "Volvo 142E          4   2   "
      ]
     },
     "metadata": {},
     "output_type": "display_data"
    }
   ],
   "source": [
    "mtcars %>% select(starts_with(\"c\"))"
   ]
  },
  {
   "cell_type": "code",
   "execution_count": 19,
   "id": "f18f4c5d",
   "metadata": {
    "lines_to_next_cell": 2,
    "message": false,
    "warning": false
   },
   "outputs": [
    {
     "data": {
      "text/html": [
       "<table>\n",
       "<thead><tr><th></th><th scope=col>drat</th><th scope=col>wt</th></tr></thead>\n",
       "<tbody>\n",
       "\t<tr><th scope=row>Mazda RX4</th><td>3.90 </td><td>2.620</td></tr>\n",
       "\t<tr><th scope=row>Mazda RX4 Wag</th><td>3.90 </td><td>2.875</td></tr>\n",
       "\t<tr><th scope=row>Datsun 710</th><td>3.85 </td><td>2.320</td></tr>\n",
       "\t<tr><th scope=row>Hornet 4 Drive</th><td>3.08 </td><td>3.215</td></tr>\n",
       "\t<tr><th scope=row>Hornet Sportabout</th><td>3.15 </td><td>3.440</td></tr>\n",
       "\t<tr><th scope=row>Valiant</th><td>2.76 </td><td>3.460</td></tr>\n",
       "\t<tr><th scope=row>Duster 360</th><td>3.21 </td><td>3.570</td></tr>\n",
       "\t<tr><th scope=row>Merc 240D</th><td>3.69 </td><td>3.190</td></tr>\n",
       "\t<tr><th scope=row>Merc 230</th><td>3.92 </td><td>3.150</td></tr>\n",
       "\t<tr><th scope=row>Merc 280</th><td>3.92 </td><td>3.440</td></tr>\n",
       "\t<tr><th scope=row>Merc 280C</th><td>3.92 </td><td>3.440</td></tr>\n",
       "\t<tr><th scope=row>Merc 450SE</th><td>3.07 </td><td>4.070</td></tr>\n",
       "\t<tr><th scope=row>Merc 450SL</th><td>3.07 </td><td>3.730</td></tr>\n",
       "\t<tr><th scope=row>Merc 450SLC</th><td>3.07 </td><td>3.780</td></tr>\n",
       "\t<tr><th scope=row>Cadillac Fleetwood</th><td>2.93 </td><td>5.250</td></tr>\n",
       "\t<tr><th scope=row>Lincoln Continental</th><td>3.00 </td><td>5.424</td></tr>\n",
       "\t<tr><th scope=row>Chrysler Imperial</th><td>3.23 </td><td>5.345</td></tr>\n",
       "\t<tr><th scope=row>Fiat 128</th><td>4.08 </td><td>2.200</td></tr>\n",
       "\t<tr><th scope=row>Honda Civic</th><td>4.93 </td><td>1.615</td></tr>\n",
       "\t<tr><th scope=row>Toyota Corolla</th><td>4.22 </td><td>1.835</td></tr>\n",
       "\t<tr><th scope=row>Toyota Corona</th><td>3.70 </td><td>2.465</td></tr>\n",
       "\t<tr><th scope=row>Dodge Challenger</th><td>2.76 </td><td>3.520</td></tr>\n",
       "\t<tr><th scope=row>AMC Javelin</th><td>3.15 </td><td>3.435</td></tr>\n",
       "\t<tr><th scope=row>Camaro Z28</th><td>3.73 </td><td>3.840</td></tr>\n",
       "\t<tr><th scope=row>Pontiac Firebird</th><td>3.08 </td><td>3.845</td></tr>\n",
       "\t<tr><th scope=row>Fiat X1-9</th><td>4.08 </td><td>1.935</td></tr>\n",
       "\t<tr><th scope=row>Porsche 914-2</th><td>4.43 </td><td>2.140</td></tr>\n",
       "\t<tr><th scope=row>Lotus Europa</th><td>3.77 </td><td>1.513</td></tr>\n",
       "\t<tr><th scope=row>Ford Pantera L</th><td>4.22 </td><td>3.170</td></tr>\n",
       "\t<tr><th scope=row>Ferrari Dino</th><td>3.62 </td><td>2.770</td></tr>\n",
       "\t<tr><th scope=row>Maserati Bora</th><td>3.54 </td><td>3.570</td></tr>\n",
       "\t<tr><th scope=row>Volvo 142E</th><td>4.11 </td><td>2.780</td></tr>\n",
       "</tbody>\n",
       "</table>\n"
      ],
      "text/latex": [
       "\\begin{tabular}{r|ll}\n",
       "  & drat & wt\\\\\n",
       "\\hline\n",
       "\tMazda RX4 & 3.90  & 2.620\\\\\n",
       "\tMazda RX4 Wag & 3.90  & 2.875\\\\\n",
       "\tDatsun 710 & 3.85  & 2.320\\\\\n",
       "\tHornet 4 Drive & 3.08  & 3.215\\\\\n",
       "\tHornet Sportabout & 3.15  & 3.440\\\\\n",
       "\tValiant & 2.76  & 3.460\\\\\n",
       "\tDuster 360 & 3.21  & 3.570\\\\\n",
       "\tMerc 240D & 3.69  & 3.190\\\\\n",
       "\tMerc 230 & 3.92  & 3.150\\\\\n",
       "\tMerc 280 & 3.92  & 3.440\\\\\n",
       "\tMerc 280C & 3.92  & 3.440\\\\\n",
       "\tMerc 450SE & 3.07  & 4.070\\\\\n",
       "\tMerc 450SL & 3.07  & 3.730\\\\\n",
       "\tMerc 450SLC & 3.07  & 3.780\\\\\n",
       "\tCadillac Fleetwood & 2.93  & 5.250\\\\\n",
       "\tLincoln Continental & 3.00  & 5.424\\\\\n",
       "\tChrysler Imperial & 3.23  & 5.345\\\\\n",
       "\tFiat 128 & 4.08  & 2.200\\\\\n",
       "\tHonda Civic & 4.93  & 1.615\\\\\n",
       "\tToyota Corolla & 4.22  & 1.835\\\\\n",
       "\tToyota Corona & 3.70  & 2.465\\\\\n",
       "\tDodge Challenger & 2.76  & 3.520\\\\\n",
       "\tAMC Javelin & 3.15  & 3.435\\\\\n",
       "\tCamaro Z28 & 3.73  & 3.840\\\\\n",
       "\tPontiac Firebird & 3.08  & 3.845\\\\\n",
       "\tFiat X1-9 & 4.08  & 1.935\\\\\n",
       "\tPorsche 914-2 & 4.43  & 2.140\\\\\n",
       "\tLotus Europa & 3.77  & 1.513\\\\\n",
       "\tFord Pantera L & 4.22  & 3.170\\\\\n",
       "\tFerrari Dino & 3.62  & 2.770\\\\\n",
       "\tMaserati Bora & 3.54  & 3.570\\\\\n",
       "\tVolvo 142E & 4.11  & 2.780\\\\\n",
       "\\end{tabular}\n"
      ],
      "text/markdown": [
       "\n",
       "| <!--/--> | drat | wt |\n",
       "|---|---|---|\n",
       "| Mazda RX4 | 3.90  | 2.620 |\n",
       "| Mazda RX4 Wag | 3.90  | 2.875 |\n",
       "| Datsun 710 | 3.85  | 2.320 |\n",
       "| Hornet 4 Drive | 3.08  | 3.215 |\n",
       "| Hornet Sportabout | 3.15  | 3.440 |\n",
       "| Valiant | 2.76  | 3.460 |\n",
       "| Duster 360 | 3.21  | 3.570 |\n",
       "| Merc 240D | 3.69  | 3.190 |\n",
       "| Merc 230 | 3.92  | 3.150 |\n",
       "| Merc 280 | 3.92  | 3.440 |\n",
       "| Merc 280C | 3.92  | 3.440 |\n",
       "| Merc 450SE | 3.07  | 4.070 |\n",
       "| Merc 450SL | 3.07  | 3.730 |\n",
       "| Merc 450SLC | 3.07  | 3.780 |\n",
       "| Cadillac Fleetwood | 2.93  | 5.250 |\n",
       "| Lincoln Continental | 3.00  | 5.424 |\n",
       "| Chrysler Imperial | 3.23  | 5.345 |\n",
       "| Fiat 128 | 4.08  | 2.200 |\n",
       "| Honda Civic | 4.93  | 1.615 |\n",
       "| Toyota Corolla | 4.22  | 1.835 |\n",
       "| Toyota Corona | 3.70  | 2.465 |\n",
       "| Dodge Challenger | 2.76  | 3.520 |\n",
       "| AMC Javelin | 3.15  | 3.435 |\n",
       "| Camaro Z28 | 3.73  | 3.840 |\n",
       "| Pontiac Firebird | 3.08  | 3.845 |\n",
       "| Fiat X1-9 | 4.08  | 1.935 |\n",
       "| Porsche 914-2 | 4.43  | 2.140 |\n",
       "| Lotus Europa | 3.77  | 1.513 |\n",
       "| Ford Pantera L | 4.22  | 3.170 |\n",
       "| Ferrari Dino | 3.62  | 2.770 |\n",
       "| Maserati Bora | 3.54  | 3.570 |\n",
       "| Volvo 142E | 4.11  | 2.780 |\n",
       "\n"
      ],
      "text/plain": [
       "                    drat wt   \n",
       "Mazda RX4           3.90 2.620\n",
       "Mazda RX4 Wag       3.90 2.875\n",
       "Datsun 710          3.85 2.320\n",
       "Hornet 4 Drive      3.08 3.215\n",
       "Hornet Sportabout   3.15 3.440\n",
       "Valiant             2.76 3.460\n",
       "Duster 360          3.21 3.570\n",
       "Merc 240D           3.69 3.190\n",
       "Merc 230            3.92 3.150\n",
       "Merc 280            3.92 3.440\n",
       "Merc 280C           3.92 3.440\n",
       "Merc 450SE          3.07 4.070\n",
       "Merc 450SL          3.07 3.730\n",
       "Merc 450SLC         3.07 3.780\n",
       "Cadillac Fleetwood  2.93 5.250\n",
       "Lincoln Continental 3.00 5.424\n",
       "Chrysler Imperial   3.23 5.345\n",
       "Fiat 128            4.08 2.200\n",
       "Honda Civic         4.93 1.615\n",
       "Toyota Corolla      4.22 1.835\n",
       "Toyota Corona       3.70 2.465\n",
       "Dodge Challenger    2.76 3.520\n",
       "AMC Javelin         3.15 3.435\n",
       "Camaro Z28          3.73 3.840\n",
       "Pontiac Firebird    3.08 3.845\n",
       "Fiat X1-9           4.08 1.935\n",
       "Porsche 914-2       4.43 2.140\n",
       "Lotus Europa        3.77 1.513\n",
       "Ford Pantera L      4.22 3.170\n",
       "Ferrari Dino        3.62 2.770\n",
       "Maserati Bora       3.54 3.570\n",
       "Volvo 142E          4.11 2.780"
      ]
     },
     "metadata": {},
     "output_type": "display_data"
    }
   ],
   "source": [
    "mtcars %>% select(ends_with(\"t\"))"
   ]
  },
  {
   "cell_type": "code",
   "execution_count": 20,
   "id": "a3b57894",
   "metadata": {
    "message": false,
    "warning": false
   },
   "outputs": [
    {
     "data": {
      "text/html": [
       "<table>\n",
       "<thead><tr><th></th><th scope=col>drat</th><th scope=col>am</th><th scope=col>gear</th><th scope=col>carb</th></tr></thead>\n",
       "<tbody>\n",
       "\t<tr><th scope=row>Mazda RX4</th><td>3.90     </td><td>manual   </td><td>4        </td><td>4        </td></tr>\n",
       "\t<tr><th scope=row>Mazda RX4 Wag</th><td>3.90     </td><td>manual   </td><td>4        </td><td>4        </td></tr>\n",
       "\t<tr><th scope=row>Datsun 710</th><td>3.85     </td><td>manual   </td><td>4        </td><td>1        </td></tr>\n",
       "\t<tr><th scope=row>Hornet 4 Drive</th><td>3.08     </td><td>automatic</td><td>3        </td><td>1        </td></tr>\n",
       "\t<tr><th scope=row>Hornet Sportabout</th><td>3.15     </td><td>automatic</td><td>3        </td><td>2        </td></tr>\n",
       "\t<tr><th scope=row>Valiant</th><td>2.76     </td><td>automatic</td><td>3        </td><td>1        </td></tr>\n",
       "\t<tr><th scope=row>Duster 360</th><td>3.21     </td><td>automatic</td><td>3        </td><td>4        </td></tr>\n",
       "\t<tr><th scope=row>Merc 240D</th><td>3.69     </td><td>automatic</td><td>4        </td><td>2        </td></tr>\n",
       "\t<tr><th scope=row>Merc 230</th><td>3.92     </td><td>automatic</td><td>4        </td><td>2        </td></tr>\n",
       "\t<tr><th scope=row>Merc 280</th><td>3.92     </td><td>automatic</td><td>4        </td><td>4        </td></tr>\n",
       "\t<tr><th scope=row>Merc 280C</th><td>3.92     </td><td>automatic</td><td>4        </td><td>4        </td></tr>\n",
       "\t<tr><th scope=row>Merc 450SE</th><td>3.07     </td><td>automatic</td><td>3        </td><td>3        </td></tr>\n",
       "\t<tr><th scope=row>Merc 450SL</th><td>3.07     </td><td>automatic</td><td>3        </td><td>3        </td></tr>\n",
       "\t<tr><th scope=row>Merc 450SLC</th><td>3.07     </td><td>automatic</td><td>3        </td><td>3        </td></tr>\n",
       "\t<tr><th scope=row>Cadillac Fleetwood</th><td>2.93     </td><td>automatic</td><td>3        </td><td>4        </td></tr>\n",
       "\t<tr><th scope=row>Lincoln Continental</th><td>3.00     </td><td>automatic</td><td>3        </td><td>4        </td></tr>\n",
       "\t<tr><th scope=row>Chrysler Imperial</th><td>3.23     </td><td>automatic</td><td>3        </td><td>4        </td></tr>\n",
       "\t<tr><th scope=row>Fiat 128</th><td>4.08     </td><td>manual   </td><td>4        </td><td>1        </td></tr>\n",
       "\t<tr><th scope=row>Honda Civic</th><td>4.93     </td><td>manual   </td><td>4        </td><td>2        </td></tr>\n",
       "\t<tr><th scope=row>Toyota Corolla</th><td>4.22     </td><td>manual   </td><td>4        </td><td>1        </td></tr>\n",
       "\t<tr><th scope=row>Toyota Corona</th><td>3.70     </td><td>automatic</td><td>3        </td><td>1        </td></tr>\n",
       "\t<tr><th scope=row>Dodge Challenger</th><td>2.76     </td><td>automatic</td><td>3        </td><td>2        </td></tr>\n",
       "\t<tr><th scope=row>AMC Javelin</th><td>3.15     </td><td>automatic</td><td>3        </td><td>2        </td></tr>\n",
       "\t<tr><th scope=row>Camaro Z28</th><td>3.73     </td><td>automatic</td><td>3        </td><td>4        </td></tr>\n",
       "\t<tr><th scope=row>Pontiac Firebird</th><td>3.08     </td><td>automatic</td><td>3        </td><td>2        </td></tr>\n",
       "\t<tr><th scope=row>Fiat X1-9</th><td>4.08     </td><td>manual   </td><td>4        </td><td>1        </td></tr>\n",
       "\t<tr><th scope=row>Porsche 914-2</th><td>4.43     </td><td>manual   </td><td>5        </td><td>2        </td></tr>\n",
       "\t<tr><th scope=row>Lotus Europa</th><td>3.77     </td><td>manual   </td><td>5        </td><td>2        </td></tr>\n",
       "\t<tr><th scope=row>Ford Pantera L</th><td>4.22     </td><td>manual   </td><td>5        </td><td>4        </td></tr>\n",
       "\t<tr><th scope=row>Ferrari Dino</th><td>3.62     </td><td>manual   </td><td>5        </td><td>6        </td></tr>\n",
       "\t<tr><th scope=row>Maserati Bora</th><td>3.54     </td><td>manual   </td><td>5        </td><td>8        </td></tr>\n",
       "\t<tr><th scope=row>Volvo 142E</th><td>4.11     </td><td>manual   </td><td>4        </td><td>2        </td></tr>\n",
       "</tbody>\n",
       "</table>\n"
      ],
      "text/latex": [
       "\\begin{tabular}{r|llll}\n",
       "  & drat & am & gear & carb\\\\\n",
       "\\hline\n",
       "\tMazda RX4 & 3.90      & manual    & 4         & 4        \\\\\n",
       "\tMazda RX4 Wag & 3.90      & manual    & 4         & 4        \\\\\n",
       "\tDatsun 710 & 3.85      & manual    & 4         & 1        \\\\\n",
       "\tHornet 4 Drive & 3.08      & automatic & 3         & 1        \\\\\n",
       "\tHornet Sportabout & 3.15      & automatic & 3         & 2        \\\\\n",
       "\tValiant & 2.76      & automatic & 3         & 1        \\\\\n",
       "\tDuster 360 & 3.21      & automatic & 3         & 4        \\\\\n",
       "\tMerc 240D & 3.69      & automatic & 4         & 2        \\\\\n",
       "\tMerc 230 & 3.92      & automatic & 4         & 2        \\\\\n",
       "\tMerc 280 & 3.92      & automatic & 4         & 4        \\\\\n",
       "\tMerc 280C & 3.92      & automatic & 4         & 4        \\\\\n",
       "\tMerc 450SE & 3.07      & automatic & 3         & 3        \\\\\n",
       "\tMerc 450SL & 3.07      & automatic & 3         & 3        \\\\\n",
       "\tMerc 450SLC & 3.07      & automatic & 3         & 3        \\\\\n",
       "\tCadillac Fleetwood & 2.93      & automatic & 3         & 4        \\\\\n",
       "\tLincoln Continental & 3.00      & automatic & 3         & 4        \\\\\n",
       "\tChrysler Imperial & 3.23      & automatic & 3         & 4        \\\\\n",
       "\tFiat 128 & 4.08      & manual    & 4         & 1        \\\\\n",
       "\tHonda Civic & 4.93      & manual    & 4         & 2        \\\\\n",
       "\tToyota Corolla & 4.22      & manual    & 4         & 1        \\\\\n",
       "\tToyota Corona & 3.70      & automatic & 3         & 1        \\\\\n",
       "\tDodge Challenger & 2.76      & automatic & 3         & 2        \\\\\n",
       "\tAMC Javelin & 3.15      & automatic & 3         & 2        \\\\\n",
       "\tCamaro Z28 & 3.73      & automatic & 3         & 4        \\\\\n",
       "\tPontiac Firebird & 3.08      & automatic & 3         & 2        \\\\\n",
       "\tFiat X1-9 & 4.08      & manual    & 4         & 1        \\\\\n",
       "\tPorsche 914-2 & 4.43      & manual    & 5         & 2        \\\\\n",
       "\tLotus Europa & 3.77      & manual    & 5         & 2        \\\\\n",
       "\tFord Pantera L & 4.22      & manual    & 5         & 4        \\\\\n",
       "\tFerrari Dino & 3.62      & manual    & 5         & 6        \\\\\n",
       "\tMaserati Bora & 3.54      & manual    & 5         & 8        \\\\\n",
       "\tVolvo 142E & 4.11      & manual    & 4         & 2        \\\\\n",
       "\\end{tabular}\n"
      ],
      "text/markdown": [
       "\n",
       "| <!--/--> | drat | am | gear | carb |\n",
       "|---|---|---|---|---|\n",
       "| Mazda RX4 | 3.90      | manual    | 4         | 4         |\n",
       "| Mazda RX4 Wag | 3.90      | manual    | 4         | 4         |\n",
       "| Datsun 710 | 3.85      | manual    | 4         | 1         |\n",
       "| Hornet 4 Drive | 3.08      | automatic | 3         | 1         |\n",
       "| Hornet Sportabout | 3.15      | automatic | 3         | 2         |\n",
       "| Valiant | 2.76      | automatic | 3         | 1         |\n",
       "| Duster 360 | 3.21      | automatic | 3         | 4         |\n",
       "| Merc 240D | 3.69      | automatic | 4         | 2         |\n",
       "| Merc 230 | 3.92      | automatic | 4         | 2         |\n",
       "| Merc 280 | 3.92      | automatic | 4         | 4         |\n",
       "| Merc 280C | 3.92      | automatic | 4         | 4         |\n",
       "| Merc 450SE | 3.07      | automatic | 3         | 3         |\n",
       "| Merc 450SL | 3.07      | automatic | 3         | 3         |\n",
       "| Merc 450SLC | 3.07      | automatic | 3         | 3         |\n",
       "| Cadillac Fleetwood | 2.93      | automatic | 3         | 4         |\n",
       "| Lincoln Continental | 3.00      | automatic | 3         | 4         |\n",
       "| Chrysler Imperial | 3.23      | automatic | 3         | 4         |\n",
       "| Fiat 128 | 4.08      | manual    | 4         | 1         |\n",
       "| Honda Civic | 4.93      | manual    | 4         | 2         |\n",
       "| Toyota Corolla | 4.22      | manual    | 4         | 1         |\n",
       "| Toyota Corona | 3.70      | automatic | 3         | 1         |\n",
       "| Dodge Challenger | 2.76      | automatic | 3         | 2         |\n",
       "| AMC Javelin | 3.15      | automatic | 3         | 2         |\n",
       "| Camaro Z28 | 3.73      | automatic | 3         | 4         |\n",
       "| Pontiac Firebird | 3.08      | automatic | 3         | 2         |\n",
       "| Fiat X1-9 | 4.08      | manual    | 4         | 1         |\n",
       "| Porsche 914-2 | 4.43      | manual    | 5         | 2         |\n",
       "| Lotus Europa | 3.77      | manual    | 5         | 2         |\n",
       "| Ford Pantera L | 4.22      | manual    | 5         | 4         |\n",
       "| Ferrari Dino | 3.62      | manual    | 5         | 6         |\n",
       "| Maserati Bora | 3.54      | manual    | 5         | 8         |\n",
       "| Volvo 142E | 4.11      | manual    | 4         | 2         |\n",
       "\n"
      ],
      "text/plain": [
       "                    drat am        gear carb\n",
       "Mazda RX4           3.90 manual    4    4   \n",
       "Mazda RX4 Wag       3.90 manual    4    4   \n",
       "Datsun 710          3.85 manual    4    1   \n",
       "Hornet 4 Drive      3.08 automatic 3    1   \n",
       "Hornet Sportabout   3.15 automatic 3    2   \n",
       "Valiant             2.76 automatic 3    1   \n",
       "Duster 360          3.21 automatic 3    4   \n",
       "Merc 240D           3.69 automatic 4    2   \n",
       "Merc 230            3.92 automatic 4    2   \n",
       "Merc 280            3.92 automatic 4    4   \n",
       "Merc 280C           3.92 automatic 4    4   \n",
       "Merc 450SE          3.07 automatic 3    3   \n",
       "Merc 450SL          3.07 automatic 3    3   \n",
       "Merc 450SLC         3.07 automatic 3    3   \n",
       "Cadillac Fleetwood  2.93 automatic 3    4   \n",
       "Lincoln Continental 3.00 automatic 3    4   \n",
       "Chrysler Imperial   3.23 automatic 3    4   \n",
       "Fiat 128            4.08 manual    4    1   \n",
       "Honda Civic         4.93 manual    4    2   \n",
       "Toyota Corolla      4.22 manual    4    1   \n",
       "Toyota Corona       3.70 automatic 3    1   \n",
       "Dodge Challenger    2.76 automatic 3    2   \n",
       "AMC Javelin         3.15 automatic 3    2   \n",
       "Camaro Z28          3.73 automatic 3    4   \n",
       "Pontiac Firebird    3.08 automatic 3    2   \n",
       "Fiat X1-9           4.08 manual    4    1   \n",
       "Porsche 914-2       4.43 manual    5    2   \n",
       "Lotus Europa        3.77 manual    5    2   \n",
       "Ford Pantera L      4.22 manual    5    4   \n",
       "Ferrari Dino        3.62 manual    5    6   \n",
       "Maserati Bora       3.54 manual    5    8   \n",
       "Volvo 142E          4.11 manual    4    2   "
      ]
     },
     "metadata": {},
     "output_type": "display_data"
    }
   ],
   "source": [
    "mtcars %>% select(contains(\"a\"))"
   ]
  },
  {
   "cell_type": "code",
   "execution_count": 33,
   "id": "39b61d6a",
   "metadata": {
    "message": false,
    "warning": false
   },
   "outputs": [
    {
     "data": {
      "text/html": [
       "<table>\n",
       "<thead><tr><th></th><th scope=col>mpg</th><th scope=col>cyl</th><th scope=col>carb</th></tr></thead>\n",
       "<tbody>\n",
       "\t<tr><th scope=row>Mazda RX4</th><td>21.0</td><td>6   </td><td>4   </td></tr>\n",
       "\t<tr><th scope=row>Mazda RX4 Wag</th><td>21.0</td><td>6   </td><td>4   </td></tr>\n",
       "\t<tr><th scope=row>Datsun 710</th><td>22.8</td><td>4   </td><td>1   </td></tr>\n",
       "\t<tr><th scope=row>Hornet 4 Drive</th><td>21.4</td><td>6   </td><td>1   </td></tr>\n",
       "\t<tr><th scope=row>Hornet Sportabout</th><td>18.7</td><td>8   </td><td>2   </td></tr>\n",
       "\t<tr><th scope=row>Valiant</th><td>18.1</td><td>6   </td><td>1   </td></tr>\n",
       "\t<tr><th scope=row>Duster 360</th><td>14.3</td><td>8   </td><td>4   </td></tr>\n",
       "\t<tr><th scope=row>Merc 240D</th><td>24.4</td><td>4   </td><td>2   </td></tr>\n",
       "\t<tr><th scope=row>Merc 230</th><td>22.8</td><td>4   </td><td>2   </td></tr>\n",
       "\t<tr><th scope=row>Merc 280</th><td>19.2</td><td>6   </td><td>4   </td></tr>\n",
       "\t<tr><th scope=row>Merc 280C</th><td>17.8</td><td>6   </td><td>4   </td></tr>\n",
       "\t<tr><th scope=row>Merc 450SE</th><td>16.4</td><td>8   </td><td>3   </td></tr>\n",
       "\t<tr><th scope=row>Merc 450SL</th><td>17.3</td><td>8   </td><td>3   </td></tr>\n",
       "\t<tr><th scope=row>Merc 450SLC</th><td>15.2</td><td>8   </td><td>3   </td></tr>\n",
       "\t<tr><th scope=row>Cadillac Fleetwood</th><td>10.4</td><td>8   </td><td>4   </td></tr>\n",
       "\t<tr><th scope=row>Lincoln Continental</th><td>10.4</td><td>8   </td><td>4   </td></tr>\n",
       "\t<tr><th scope=row>Chrysler Imperial</th><td>14.7</td><td>8   </td><td>4   </td></tr>\n",
       "\t<tr><th scope=row>Fiat 128</th><td>32.4</td><td>4   </td><td>1   </td></tr>\n",
       "\t<tr><th scope=row>Honda Civic</th><td>30.4</td><td>4   </td><td>2   </td></tr>\n",
       "\t<tr><th scope=row>Toyota Corolla</th><td>33.9</td><td>4   </td><td>1   </td></tr>\n",
       "\t<tr><th scope=row>Toyota Corona</th><td>21.5</td><td>4   </td><td>1   </td></tr>\n",
       "\t<tr><th scope=row>Dodge Challenger</th><td>15.5</td><td>8   </td><td>2   </td></tr>\n",
       "\t<tr><th scope=row>AMC Javelin</th><td>15.2</td><td>8   </td><td>2   </td></tr>\n",
       "\t<tr><th scope=row>Camaro Z28</th><td>13.3</td><td>8   </td><td>4   </td></tr>\n",
       "\t<tr><th scope=row>Pontiac Firebird</th><td>19.2</td><td>8   </td><td>2   </td></tr>\n",
       "\t<tr><th scope=row>Fiat X1-9</th><td>27.3</td><td>4   </td><td>1   </td></tr>\n",
       "\t<tr><th scope=row>Porsche 914-2</th><td>26.0</td><td>4   </td><td>2   </td></tr>\n",
       "\t<tr><th scope=row>Lotus Europa</th><td>30.4</td><td>4   </td><td>2   </td></tr>\n",
       "\t<tr><th scope=row>Ford Pantera L</th><td>15.8</td><td>8   </td><td>4   </td></tr>\n",
       "\t<tr><th scope=row>Ferrari Dino</th><td>19.7</td><td>6   </td><td>6   </td></tr>\n",
       "\t<tr><th scope=row>Maserati Bora</th><td>15.0</td><td>8   </td><td>8   </td></tr>\n",
       "\t<tr><th scope=row>Volvo 142E</th><td>21.4</td><td>4   </td><td>2   </td></tr>\n",
       "</tbody>\n",
       "</table>\n"
      ],
      "text/latex": [
       "\\begin{tabular}{r|lll}\n",
       "  & mpg & cyl & carb\\\\\n",
       "\\hline\n",
       "\tMazda RX4 & 21.0 & 6    & 4   \\\\\n",
       "\tMazda RX4 Wag & 21.0 & 6    & 4   \\\\\n",
       "\tDatsun 710 & 22.8 & 4    & 1   \\\\\n",
       "\tHornet 4 Drive & 21.4 & 6    & 1   \\\\\n",
       "\tHornet Sportabout & 18.7 & 8    & 2   \\\\\n",
       "\tValiant & 18.1 & 6    & 1   \\\\\n",
       "\tDuster 360 & 14.3 & 8    & 4   \\\\\n",
       "\tMerc 240D & 24.4 & 4    & 2   \\\\\n",
       "\tMerc 230 & 22.8 & 4    & 2   \\\\\n",
       "\tMerc 280 & 19.2 & 6    & 4   \\\\\n",
       "\tMerc 280C & 17.8 & 6    & 4   \\\\\n",
       "\tMerc 450SE & 16.4 & 8    & 3   \\\\\n",
       "\tMerc 450SL & 17.3 & 8    & 3   \\\\\n",
       "\tMerc 450SLC & 15.2 & 8    & 3   \\\\\n",
       "\tCadillac Fleetwood & 10.4 & 8    & 4   \\\\\n",
       "\tLincoln Continental & 10.4 & 8    & 4   \\\\\n",
       "\tChrysler Imperial & 14.7 & 8    & 4   \\\\\n",
       "\tFiat 128 & 32.4 & 4    & 1   \\\\\n",
       "\tHonda Civic & 30.4 & 4    & 2   \\\\\n",
       "\tToyota Corolla & 33.9 & 4    & 1   \\\\\n",
       "\tToyota Corona & 21.5 & 4    & 1   \\\\\n",
       "\tDodge Challenger & 15.5 & 8    & 2   \\\\\n",
       "\tAMC Javelin & 15.2 & 8    & 2   \\\\\n",
       "\tCamaro Z28 & 13.3 & 8    & 4   \\\\\n",
       "\tPontiac Firebird & 19.2 & 8    & 2   \\\\\n",
       "\tFiat X1-9 & 27.3 & 4    & 1   \\\\\n",
       "\tPorsche 914-2 & 26.0 & 4    & 2   \\\\\n",
       "\tLotus Europa & 30.4 & 4    & 2   \\\\\n",
       "\tFord Pantera L & 15.8 & 8    & 4   \\\\\n",
       "\tFerrari Dino & 19.7 & 6    & 6   \\\\\n",
       "\tMaserati Bora & 15.0 & 8    & 8   \\\\\n",
       "\tVolvo 142E & 21.4 & 4    & 2   \\\\\n",
       "\\end{tabular}\n"
      ],
      "text/markdown": [
       "\n",
       "| <!--/--> | mpg | cyl | carb |\n",
       "|---|---|---|---|\n",
       "| Mazda RX4 | 21.0 | 6    | 4    |\n",
       "| Mazda RX4 Wag | 21.0 | 6    | 4    |\n",
       "| Datsun 710 | 22.8 | 4    | 1    |\n",
       "| Hornet 4 Drive | 21.4 | 6    | 1    |\n",
       "| Hornet Sportabout | 18.7 | 8    | 2    |\n",
       "| Valiant | 18.1 | 6    | 1    |\n",
       "| Duster 360 | 14.3 | 8    | 4    |\n",
       "| Merc 240D | 24.4 | 4    | 2    |\n",
       "| Merc 230 | 22.8 | 4    | 2    |\n",
       "| Merc 280 | 19.2 | 6    | 4    |\n",
       "| Merc 280C | 17.8 | 6    | 4    |\n",
       "| Merc 450SE | 16.4 | 8    | 3    |\n",
       "| Merc 450SL | 17.3 | 8    | 3    |\n",
       "| Merc 450SLC | 15.2 | 8    | 3    |\n",
       "| Cadillac Fleetwood | 10.4 | 8    | 4    |\n",
       "| Lincoln Continental | 10.4 | 8    | 4    |\n",
       "| Chrysler Imperial | 14.7 | 8    | 4    |\n",
       "| Fiat 128 | 32.4 | 4    | 1    |\n",
       "| Honda Civic | 30.4 | 4    | 2    |\n",
       "| Toyota Corolla | 33.9 | 4    | 1    |\n",
       "| Toyota Corona | 21.5 | 4    | 1    |\n",
       "| Dodge Challenger | 15.5 | 8    | 2    |\n",
       "| AMC Javelin | 15.2 | 8    | 2    |\n",
       "| Camaro Z28 | 13.3 | 8    | 4    |\n",
       "| Pontiac Firebird | 19.2 | 8    | 2    |\n",
       "| Fiat X1-9 | 27.3 | 4    | 1    |\n",
       "| Porsche 914-2 | 26.0 | 4    | 2    |\n",
       "| Lotus Europa | 30.4 | 4    | 2    |\n",
       "| Ford Pantera L | 15.8 | 8    | 4    |\n",
       "| Ferrari Dino | 19.7 | 6    | 6    |\n",
       "| Maserati Bora | 15.0 | 8    | 8    |\n",
       "| Volvo 142E | 21.4 | 4    | 2    |\n",
       "\n"
      ],
      "text/plain": [
       "                    mpg  cyl carb\n",
       "Mazda RX4           21.0 6   4   \n",
       "Mazda RX4 Wag       21.0 6   4   \n",
       "Datsun 710          22.8 4   1   \n",
       "Hornet 4 Drive      21.4 6   1   \n",
       "Hornet Sportabout   18.7 8   2   \n",
       "Valiant             18.1 6   1   \n",
       "Duster 360          14.3 8   4   \n",
       "Merc 240D           24.4 4   2   \n",
       "Merc 230            22.8 4   2   \n",
       "Merc 280            19.2 6   4   \n",
       "Merc 280C           17.8 6   4   \n",
       "Merc 450SE          16.4 8   3   \n",
       "Merc 450SL          17.3 8   3   \n",
       "Merc 450SLC         15.2 8   3   \n",
       "Cadillac Fleetwood  10.4 8   4   \n",
       "Lincoln Continental 10.4 8   4   \n",
       "Chrysler Imperial   14.7 8   4   \n",
       "Fiat 128            32.4 4   1   \n",
       "Honda Civic         30.4 4   2   \n",
       "Toyota Corolla      33.9 4   1   \n",
       "Toyota Corona       21.5 4   1   \n",
       "Dodge Challenger    15.5 8   2   \n",
       "AMC Javelin         15.2 8   2   \n",
       "Camaro Z28          13.3 8   4   \n",
       "Pontiac Firebird    19.2 8   2   \n",
       "Fiat X1-9           27.3 4   1   \n",
       "Porsche 914-2       26.0 4   2   \n",
       "Lotus Europa        30.4 4   2   \n",
       "Ford Pantera L      15.8 8   4   \n",
       "Ferrari Dino        19.7 6   6   \n",
       "Maserati Bora       15.0 8   8   \n",
       "Volvo 142E          21.4 4   2   "
      ]
     },
     "metadata": {},
     "output_type": "display_data"
    }
   ],
   "source": [
    "mtcars %>% select(matches(\"^(c|m)\")) # starts with either c or m"
   ]
  },
  {
   "cell_type": "markdown",
   "id": "4553bd27",
   "metadata": {},
   "source": [
    "* You can also rename a variable while selecting."
   ]
  },
  {
   "cell_type": "code",
   "execution_count": 34,
   "id": "36598b3c",
   "metadata": {
    "message": false,
    "warning": false
   },
   "outputs": [
    {
     "data": {
      "text/html": [
       "<table>\n",
       "<thead><tr><th></th><th scope=col>MilesPerGallon</th></tr></thead>\n",
       "<tbody>\n",
       "\t<tr><th scope=row>Mazda RX4</th><td>21.0</td></tr>\n",
       "\t<tr><th scope=row>Mazda RX4 Wag</th><td>21.0</td></tr>\n",
       "\t<tr><th scope=row>Datsun 710</th><td>22.8</td></tr>\n",
       "\t<tr><th scope=row>Hornet 4 Drive</th><td>21.4</td></tr>\n",
       "\t<tr><th scope=row>Hornet Sportabout</th><td>18.7</td></tr>\n",
       "\t<tr><th scope=row>Valiant</th><td>18.1</td></tr>\n",
       "\t<tr><th scope=row>Duster 360</th><td>14.3</td></tr>\n",
       "\t<tr><th scope=row>Merc 240D</th><td>24.4</td></tr>\n",
       "\t<tr><th scope=row>Merc 230</th><td>22.8</td></tr>\n",
       "\t<tr><th scope=row>Merc 280</th><td>19.2</td></tr>\n",
       "\t<tr><th scope=row>Merc 280C</th><td>17.8</td></tr>\n",
       "\t<tr><th scope=row>Merc 450SE</th><td>16.4</td></tr>\n",
       "\t<tr><th scope=row>Merc 450SL</th><td>17.3</td></tr>\n",
       "\t<tr><th scope=row>Merc 450SLC</th><td>15.2</td></tr>\n",
       "\t<tr><th scope=row>Cadillac Fleetwood</th><td>10.4</td></tr>\n",
       "\t<tr><th scope=row>Lincoln Continental</th><td>10.4</td></tr>\n",
       "\t<tr><th scope=row>Chrysler Imperial</th><td>14.7</td></tr>\n",
       "\t<tr><th scope=row>Fiat 128</th><td>32.4</td></tr>\n",
       "\t<tr><th scope=row>Honda Civic</th><td>30.4</td></tr>\n",
       "\t<tr><th scope=row>Toyota Corolla</th><td>33.9</td></tr>\n",
       "\t<tr><th scope=row>Toyota Corona</th><td>21.5</td></tr>\n",
       "\t<tr><th scope=row>Dodge Challenger</th><td>15.5</td></tr>\n",
       "\t<tr><th scope=row>AMC Javelin</th><td>15.2</td></tr>\n",
       "\t<tr><th scope=row>Camaro Z28</th><td>13.3</td></tr>\n",
       "\t<tr><th scope=row>Pontiac Firebird</th><td>19.2</td></tr>\n",
       "\t<tr><th scope=row>Fiat X1-9</th><td>27.3</td></tr>\n",
       "\t<tr><th scope=row>Porsche 914-2</th><td>26.0</td></tr>\n",
       "\t<tr><th scope=row>Lotus Europa</th><td>30.4</td></tr>\n",
       "\t<tr><th scope=row>Ford Pantera L</th><td>15.8</td></tr>\n",
       "\t<tr><th scope=row>Ferrari Dino</th><td>19.7</td></tr>\n",
       "\t<tr><th scope=row>Maserati Bora</th><td>15.0</td></tr>\n",
       "\t<tr><th scope=row>Volvo 142E</th><td>21.4</td></tr>\n",
       "</tbody>\n",
       "</table>\n"
      ],
      "text/latex": [
       "\\begin{tabular}{r|l}\n",
       "  & MilesPerGallon\\\\\n",
       "\\hline\n",
       "\tMazda RX4 & 21.0\\\\\n",
       "\tMazda RX4 Wag & 21.0\\\\\n",
       "\tDatsun 710 & 22.8\\\\\n",
       "\tHornet 4 Drive & 21.4\\\\\n",
       "\tHornet Sportabout & 18.7\\\\\n",
       "\tValiant & 18.1\\\\\n",
       "\tDuster 360 & 14.3\\\\\n",
       "\tMerc 240D & 24.4\\\\\n",
       "\tMerc 230 & 22.8\\\\\n",
       "\tMerc 280 & 19.2\\\\\n",
       "\tMerc 280C & 17.8\\\\\n",
       "\tMerc 450SE & 16.4\\\\\n",
       "\tMerc 450SL & 17.3\\\\\n",
       "\tMerc 450SLC & 15.2\\\\\n",
       "\tCadillac Fleetwood & 10.4\\\\\n",
       "\tLincoln Continental & 10.4\\\\\n",
       "\tChrysler Imperial & 14.7\\\\\n",
       "\tFiat 128 & 32.4\\\\\n",
       "\tHonda Civic & 30.4\\\\\n",
       "\tToyota Corolla & 33.9\\\\\n",
       "\tToyota Corona & 21.5\\\\\n",
       "\tDodge Challenger & 15.5\\\\\n",
       "\tAMC Javelin & 15.2\\\\\n",
       "\tCamaro Z28 & 13.3\\\\\n",
       "\tPontiac Firebird & 19.2\\\\\n",
       "\tFiat X1-9 & 27.3\\\\\n",
       "\tPorsche 914-2 & 26.0\\\\\n",
       "\tLotus Europa & 30.4\\\\\n",
       "\tFord Pantera L & 15.8\\\\\n",
       "\tFerrari Dino & 19.7\\\\\n",
       "\tMaserati Bora & 15.0\\\\\n",
       "\tVolvo 142E & 21.4\\\\\n",
       "\\end{tabular}\n"
      ],
      "text/markdown": [
       "\n",
       "| <!--/--> | MilesPerGallon |\n",
       "|---|---|\n",
       "| Mazda RX4 | 21.0 |\n",
       "| Mazda RX4 Wag | 21.0 |\n",
       "| Datsun 710 | 22.8 |\n",
       "| Hornet 4 Drive | 21.4 |\n",
       "| Hornet Sportabout | 18.7 |\n",
       "| Valiant | 18.1 |\n",
       "| Duster 360 | 14.3 |\n",
       "| Merc 240D | 24.4 |\n",
       "| Merc 230 | 22.8 |\n",
       "| Merc 280 | 19.2 |\n",
       "| Merc 280C | 17.8 |\n",
       "| Merc 450SE | 16.4 |\n",
       "| Merc 450SL | 17.3 |\n",
       "| Merc 450SLC | 15.2 |\n",
       "| Cadillac Fleetwood | 10.4 |\n",
       "| Lincoln Continental | 10.4 |\n",
       "| Chrysler Imperial | 14.7 |\n",
       "| Fiat 128 | 32.4 |\n",
       "| Honda Civic | 30.4 |\n",
       "| Toyota Corolla | 33.9 |\n",
       "| Toyota Corona | 21.5 |\n",
       "| Dodge Challenger | 15.5 |\n",
       "| AMC Javelin | 15.2 |\n",
       "| Camaro Z28 | 13.3 |\n",
       "| Pontiac Firebird | 19.2 |\n",
       "| Fiat X1-9 | 27.3 |\n",
       "| Porsche 914-2 | 26.0 |\n",
       "| Lotus Europa | 30.4 |\n",
       "| Ford Pantera L | 15.8 |\n",
       "| Ferrari Dino | 19.7 |\n",
       "| Maserati Bora | 15.0 |\n",
       "| Volvo 142E | 21.4 |\n",
       "\n"
      ],
      "text/plain": [
       "                    MilesPerGallon\n",
       "Mazda RX4           21.0          \n",
       "Mazda RX4 Wag       21.0          \n",
       "Datsun 710          22.8          \n",
       "Hornet 4 Drive      21.4          \n",
       "Hornet Sportabout   18.7          \n",
       "Valiant             18.1          \n",
       "Duster 360          14.3          \n",
       "Merc 240D           24.4          \n",
       "Merc 230            22.8          \n",
       "Merc 280            19.2          \n",
       "Merc 280C           17.8          \n",
       "Merc 450SE          16.4          \n",
       "Merc 450SL          17.3          \n",
       "Merc 450SLC         15.2          \n",
       "Cadillac Fleetwood  10.4          \n",
       "Lincoln Continental 10.4          \n",
       "Chrysler Imperial   14.7          \n",
       "Fiat 128            32.4          \n",
       "Honda Civic         30.4          \n",
       "Toyota Corolla      33.9          \n",
       "Toyota Corona       21.5          \n",
       "Dodge Challenger    15.5          \n",
       "AMC Javelin         15.2          \n",
       "Camaro Z28          13.3          \n",
       "Pontiac Firebird    19.2          \n",
       "Fiat X1-9           27.3          \n",
       "Porsche 914-2       26.0          \n",
       "Lotus Europa        30.4          \n",
       "Ford Pantera L      15.8          \n",
       "Ferrari Dino        19.7          \n",
       "Maserati Bora       15.0          \n",
       "Volvo 142E          21.4          "
      ]
     },
     "metadata": {},
     "output_type": "display_data"
    }
   ],
   "source": [
    "mtcars %>% select(MilesPerGallon = mpg)"
   ]
  },
  {
   "cell_type": "markdown",
   "id": "bddfb829",
   "metadata": {},
   "source": [
    "* If you intend to change variable name without selecting it, just use `rename()`."
   ]
  },
  {
   "cell_type": "code",
   "execution_count": 35,
   "id": "f1152180",
   "metadata": {
    "message": false,
    "warning": false
   },
   "outputs": [
    {
     "data": {
      "text/html": [
       "<table>\n",
       "<thead><tr><th></th><th scope=col>MilesPerGallon</th><th scope=col>cyl</th><th scope=col>disp</th><th scope=col>hp</th><th scope=col>drat</th><th scope=col>wt</th><th scope=col>qsec</th><th scope=col>vs</th><th scope=col>am</th><th scope=col>gear</th><th scope=col>carb</th></tr></thead>\n",
       "<tbody>\n",
       "\t<tr><th scope=row>Mazda RX4</th><td>21.0     </td><td>6        </td><td>160.0    </td><td>110      </td><td>3.90     </td><td>2.620    </td><td>16.46    </td><td>V-shaped </td><td>manual   </td><td>4        </td><td>4        </td></tr>\n",
       "\t<tr><th scope=row>Mazda RX4 Wag</th><td>21.0     </td><td>6        </td><td>160.0    </td><td>110      </td><td>3.90     </td><td>2.875    </td><td>17.02    </td><td>V-shaped </td><td>manual   </td><td>4        </td><td>4        </td></tr>\n",
       "\t<tr><th scope=row>Datsun 710</th><td>22.8     </td><td>4        </td><td>108.0    </td><td> 93      </td><td>3.85     </td><td>2.320    </td><td>18.61    </td><td>straight </td><td>manual   </td><td>4        </td><td>1        </td></tr>\n",
       "\t<tr><th scope=row>Hornet 4 Drive</th><td>21.4     </td><td>6        </td><td>258.0    </td><td>110      </td><td>3.08     </td><td>3.215    </td><td>19.44    </td><td>straight </td><td>automatic</td><td>3        </td><td>1        </td></tr>\n",
       "\t<tr><th scope=row>Hornet Sportabout</th><td>18.7     </td><td>8        </td><td>360.0    </td><td>175      </td><td>3.15     </td><td>3.440    </td><td>17.02    </td><td>V-shaped </td><td>automatic</td><td>3        </td><td>2        </td></tr>\n",
       "\t<tr><th scope=row>Valiant</th><td>18.1     </td><td>6        </td><td>225.0    </td><td>105      </td><td>2.76     </td><td>3.460    </td><td>20.22    </td><td>straight </td><td>automatic</td><td>3        </td><td>1        </td></tr>\n",
       "\t<tr><th scope=row>Duster 360</th><td>14.3     </td><td>8        </td><td>360.0    </td><td>245      </td><td>3.21     </td><td>3.570    </td><td>15.84    </td><td>V-shaped </td><td>automatic</td><td>3        </td><td>4        </td></tr>\n",
       "\t<tr><th scope=row>Merc 240D</th><td>24.4     </td><td>4        </td><td>146.7    </td><td> 62      </td><td>3.69     </td><td>3.190    </td><td>20.00    </td><td>straight </td><td>automatic</td><td>4        </td><td>2        </td></tr>\n",
       "\t<tr><th scope=row>Merc 230</th><td>22.8     </td><td>4        </td><td>140.8    </td><td> 95      </td><td>3.92     </td><td>3.150    </td><td>22.90    </td><td>straight </td><td>automatic</td><td>4        </td><td>2        </td></tr>\n",
       "\t<tr><th scope=row>Merc 280</th><td>19.2     </td><td>6        </td><td>167.6    </td><td>123      </td><td>3.92     </td><td>3.440    </td><td>18.30    </td><td>straight </td><td>automatic</td><td>4        </td><td>4        </td></tr>\n",
       "\t<tr><th scope=row>Merc 280C</th><td>17.8     </td><td>6        </td><td>167.6    </td><td>123      </td><td>3.92     </td><td>3.440    </td><td>18.90    </td><td>straight </td><td>automatic</td><td>4        </td><td>4        </td></tr>\n",
       "\t<tr><th scope=row>Merc 450SE</th><td>16.4     </td><td>8        </td><td>275.8    </td><td>180      </td><td>3.07     </td><td>4.070    </td><td>17.40    </td><td>V-shaped </td><td>automatic</td><td>3        </td><td>3        </td></tr>\n",
       "\t<tr><th scope=row>Merc 450SL</th><td>17.3     </td><td>8        </td><td>275.8    </td><td>180      </td><td>3.07     </td><td>3.730    </td><td>17.60    </td><td>V-shaped </td><td>automatic</td><td>3        </td><td>3        </td></tr>\n",
       "\t<tr><th scope=row>Merc 450SLC</th><td>15.2     </td><td>8        </td><td>275.8    </td><td>180      </td><td>3.07     </td><td>3.780    </td><td>18.00    </td><td>V-shaped </td><td>automatic</td><td>3        </td><td>3        </td></tr>\n",
       "\t<tr><th scope=row>Cadillac Fleetwood</th><td>10.4     </td><td>8        </td><td>472.0    </td><td>205      </td><td>2.93     </td><td>5.250    </td><td>17.98    </td><td>V-shaped </td><td>automatic</td><td>3        </td><td>4        </td></tr>\n",
       "\t<tr><th scope=row>Lincoln Continental</th><td>10.4     </td><td>8        </td><td>460.0    </td><td>215      </td><td>3.00     </td><td>5.424    </td><td>17.82    </td><td>V-shaped </td><td>automatic</td><td>3        </td><td>4        </td></tr>\n",
       "\t<tr><th scope=row>Chrysler Imperial</th><td>14.7     </td><td>8        </td><td>440.0    </td><td>230      </td><td>3.23     </td><td>5.345    </td><td>17.42    </td><td>V-shaped </td><td>automatic</td><td>3        </td><td>4        </td></tr>\n",
       "\t<tr><th scope=row>Fiat 128</th><td>32.4     </td><td>4        </td><td> 78.7    </td><td> 66      </td><td>4.08     </td><td>2.200    </td><td>19.47    </td><td>straight </td><td>manual   </td><td>4        </td><td>1        </td></tr>\n",
       "\t<tr><th scope=row>Honda Civic</th><td>30.4     </td><td>4        </td><td> 75.7    </td><td> 52      </td><td>4.93     </td><td>1.615    </td><td>18.52    </td><td>straight </td><td>manual   </td><td>4        </td><td>2        </td></tr>\n",
       "\t<tr><th scope=row>Toyota Corolla</th><td>33.9     </td><td>4        </td><td> 71.1    </td><td> 65      </td><td>4.22     </td><td>1.835    </td><td>19.90    </td><td>straight </td><td>manual   </td><td>4        </td><td>1        </td></tr>\n",
       "\t<tr><th scope=row>Toyota Corona</th><td>21.5     </td><td>4        </td><td>120.1    </td><td> 97      </td><td>3.70     </td><td>2.465    </td><td>20.01    </td><td>straight </td><td>automatic</td><td>3        </td><td>1        </td></tr>\n",
       "\t<tr><th scope=row>Dodge Challenger</th><td>15.5     </td><td>8        </td><td>318.0    </td><td>150      </td><td>2.76     </td><td>3.520    </td><td>16.87    </td><td>V-shaped </td><td>automatic</td><td>3        </td><td>2        </td></tr>\n",
       "\t<tr><th scope=row>AMC Javelin</th><td>15.2     </td><td>8        </td><td>304.0    </td><td>150      </td><td>3.15     </td><td>3.435    </td><td>17.30    </td><td>V-shaped </td><td>automatic</td><td>3        </td><td>2        </td></tr>\n",
       "\t<tr><th scope=row>Camaro Z28</th><td>13.3     </td><td>8        </td><td>350.0    </td><td>245      </td><td>3.73     </td><td>3.840    </td><td>15.41    </td><td>V-shaped </td><td>automatic</td><td>3        </td><td>4        </td></tr>\n",
       "\t<tr><th scope=row>Pontiac Firebird</th><td>19.2     </td><td>8        </td><td>400.0    </td><td>175      </td><td>3.08     </td><td>3.845    </td><td>17.05    </td><td>V-shaped </td><td>automatic</td><td>3        </td><td>2        </td></tr>\n",
       "\t<tr><th scope=row>Fiat X1-9</th><td>27.3     </td><td>4        </td><td> 79.0    </td><td> 66      </td><td>4.08     </td><td>1.935    </td><td>18.90    </td><td>straight </td><td>manual   </td><td>4        </td><td>1        </td></tr>\n",
       "\t<tr><th scope=row>Porsche 914-2</th><td>26.0     </td><td>4        </td><td>120.3    </td><td> 91      </td><td>4.43     </td><td>2.140    </td><td>16.70    </td><td>V-shaped </td><td>manual   </td><td>5        </td><td>2        </td></tr>\n",
       "\t<tr><th scope=row>Lotus Europa</th><td>30.4     </td><td>4        </td><td> 95.1    </td><td>113      </td><td>3.77     </td><td>1.513    </td><td>16.90    </td><td>straight </td><td>manual   </td><td>5        </td><td>2        </td></tr>\n",
       "\t<tr><th scope=row>Ford Pantera L</th><td>15.8     </td><td>8        </td><td>351.0    </td><td>264      </td><td>4.22     </td><td>3.170    </td><td>14.50    </td><td>V-shaped </td><td>manual   </td><td>5        </td><td>4        </td></tr>\n",
       "\t<tr><th scope=row>Ferrari Dino</th><td>19.7     </td><td>6        </td><td>145.0    </td><td>175      </td><td>3.62     </td><td>2.770    </td><td>15.50    </td><td>V-shaped </td><td>manual   </td><td>5        </td><td>6        </td></tr>\n",
       "\t<tr><th scope=row>Maserati Bora</th><td>15.0     </td><td>8        </td><td>301.0    </td><td>335      </td><td>3.54     </td><td>3.570    </td><td>14.60    </td><td>V-shaped </td><td>manual   </td><td>5        </td><td>8        </td></tr>\n",
       "\t<tr><th scope=row>Volvo 142E</th><td>21.4     </td><td>4        </td><td>121.0    </td><td>109      </td><td>4.11     </td><td>2.780    </td><td>18.60    </td><td>straight </td><td>manual   </td><td>4        </td><td>2        </td></tr>\n",
       "</tbody>\n",
       "</table>\n"
      ],
      "text/latex": [
       "\\begin{tabular}{r|lllllllllll}\n",
       "  & MilesPerGallon & cyl & disp & hp & drat & wt & qsec & vs & am & gear & carb\\\\\n",
       "\\hline\n",
       "\tMazda RX4 & 21.0      & 6         & 160.0     & 110       & 3.90      & 2.620     & 16.46     & V-shaped  & manual    & 4         & 4        \\\\\n",
       "\tMazda RX4 Wag & 21.0      & 6         & 160.0     & 110       & 3.90      & 2.875     & 17.02     & V-shaped  & manual    & 4         & 4        \\\\\n",
       "\tDatsun 710 & 22.8      & 4         & 108.0     &  93       & 3.85      & 2.320     & 18.61     & straight  & manual    & 4         & 1        \\\\\n",
       "\tHornet 4 Drive & 21.4      & 6         & 258.0     & 110       & 3.08      & 3.215     & 19.44     & straight  & automatic & 3         & 1        \\\\\n",
       "\tHornet Sportabout & 18.7      & 8         & 360.0     & 175       & 3.15      & 3.440     & 17.02     & V-shaped  & automatic & 3         & 2        \\\\\n",
       "\tValiant & 18.1      & 6         & 225.0     & 105       & 2.76      & 3.460     & 20.22     & straight  & automatic & 3         & 1        \\\\\n",
       "\tDuster 360 & 14.3      & 8         & 360.0     & 245       & 3.21      & 3.570     & 15.84     & V-shaped  & automatic & 3         & 4        \\\\\n",
       "\tMerc 240D & 24.4      & 4         & 146.7     &  62       & 3.69      & 3.190     & 20.00     & straight  & automatic & 4         & 2        \\\\\n",
       "\tMerc 230 & 22.8      & 4         & 140.8     &  95       & 3.92      & 3.150     & 22.90     & straight  & automatic & 4         & 2        \\\\\n",
       "\tMerc 280 & 19.2      & 6         & 167.6     & 123       & 3.92      & 3.440     & 18.30     & straight  & automatic & 4         & 4        \\\\\n",
       "\tMerc 280C & 17.8      & 6         & 167.6     & 123       & 3.92      & 3.440     & 18.90     & straight  & automatic & 4         & 4        \\\\\n",
       "\tMerc 450SE & 16.4      & 8         & 275.8     & 180       & 3.07      & 4.070     & 17.40     & V-shaped  & automatic & 3         & 3        \\\\\n",
       "\tMerc 450SL & 17.3      & 8         & 275.8     & 180       & 3.07      & 3.730     & 17.60     & V-shaped  & automatic & 3         & 3        \\\\\n",
       "\tMerc 450SLC & 15.2      & 8         & 275.8     & 180       & 3.07      & 3.780     & 18.00     & V-shaped  & automatic & 3         & 3        \\\\\n",
       "\tCadillac Fleetwood & 10.4      & 8         & 472.0     & 205       & 2.93      & 5.250     & 17.98     & V-shaped  & automatic & 3         & 4        \\\\\n",
       "\tLincoln Continental & 10.4      & 8         & 460.0     & 215       & 3.00      & 5.424     & 17.82     & V-shaped  & automatic & 3         & 4        \\\\\n",
       "\tChrysler Imperial & 14.7      & 8         & 440.0     & 230       & 3.23      & 5.345     & 17.42     & V-shaped  & automatic & 3         & 4        \\\\\n",
       "\tFiat 128 & 32.4      & 4         &  78.7     &  66       & 4.08      & 2.200     & 19.47     & straight  & manual    & 4         & 1        \\\\\n",
       "\tHonda Civic & 30.4      & 4         &  75.7     &  52       & 4.93      & 1.615     & 18.52     & straight  & manual    & 4         & 2        \\\\\n",
       "\tToyota Corolla & 33.9      & 4         &  71.1     &  65       & 4.22      & 1.835     & 19.90     & straight  & manual    & 4         & 1        \\\\\n",
       "\tToyota Corona & 21.5      & 4         & 120.1     &  97       & 3.70      & 2.465     & 20.01     & straight  & automatic & 3         & 1        \\\\\n",
       "\tDodge Challenger & 15.5      & 8         & 318.0     & 150       & 2.76      & 3.520     & 16.87     & V-shaped  & automatic & 3         & 2        \\\\\n",
       "\tAMC Javelin & 15.2      & 8         & 304.0     & 150       & 3.15      & 3.435     & 17.30     & V-shaped  & automatic & 3         & 2        \\\\\n",
       "\tCamaro Z28 & 13.3      & 8         & 350.0     & 245       & 3.73      & 3.840     & 15.41     & V-shaped  & automatic & 3         & 4        \\\\\n",
       "\tPontiac Firebird & 19.2      & 8         & 400.0     & 175       & 3.08      & 3.845     & 17.05     & V-shaped  & automatic & 3         & 2        \\\\\n",
       "\tFiat X1-9 & 27.3      & 4         &  79.0     &  66       & 4.08      & 1.935     & 18.90     & straight  & manual    & 4         & 1        \\\\\n",
       "\tPorsche 914-2 & 26.0      & 4         & 120.3     &  91       & 4.43      & 2.140     & 16.70     & V-shaped  & manual    & 5         & 2        \\\\\n",
       "\tLotus Europa & 30.4      & 4         &  95.1     & 113       & 3.77      & 1.513     & 16.90     & straight  & manual    & 5         & 2        \\\\\n",
       "\tFord Pantera L & 15.8      & 8         & 351.0     & 264       & 4.22      & 3.170     & 14.50     & V-shaped  & manual    & 5         & 4        \\\\\n",
       "\tFerrari Dino & 19.7      & 6         & 145.0     & 175       & 3.62      & 2.770     & 15.50     & V-shaped  & manual    & 5         & 6        \\\\\n",
       "\tMaserati Bora & 15.0      & 8         & 301.0     & 335       & 3.54      & 3.570     & 14.60     & V-shaped  & manual    & 5         & 8        \\\\\n",
       "\tVolvo 142E & 21.4      & 4         & 121.0     & 109       & 4.11      & 2.780     & 18.60     & straight  & manual    & 4         & 2        \\\\\n",
       "\\end{tabular}\n"
      ],
      "text/markdown": [
       "\n",
       "| <!--/--> | MilesPerGallon | cyl | disp | hp | drat | wt | qsec | vs | am | gear | carb |\n",
       "|---|---|---|---|---|---|---|---|---|---|---|---|\n",
       "| Mazda RX4 | 21.0      | 6         | 160.0     | 110       | 3.90      | 2.620     | 16.46     | V-shaped  | manual    | 4         | 4         |\n",
       "| Mazda RX4 Wag | 21.0      | 6         | 160.0     | 110       | 3.90      | 2.875     | 17.02     | V-shaped  | manual    | 4         | 4         |\n",
       "| Datsun 710 | 22.8      | 4         | 108.0     |  93       | 3.85      | 2.320     | 18.61     | straight  | manual    | 4         | 1         |\n",
       "| Hornet 4 Drive | 21.4      | 6         | 258.0     | 110       | 3.08      | 3.215     | 19.44     | straight  | automatic | 3         | 1         |\n",
       "| Hornet Sportabout | 18.7      | 8         | 360.0     | 175       | 3.15      | 3.440     | 17.02     | V-shaped  | automatic | 3         | 2         |\n",
       "| Valiant | 18.1      | 6         | 225.0     | 105       | 2.76      | 3.460     | 20.22     | straight  | automatic | 3         | 1         |\n",
       "| Duster 360 | 14.3      | 8         | 360.0     | 245       | 3.21      | 3.570     | 15.84     | V-shaped  | automatic | 3         | 4         |\n",
       "| Merc 240D | 24.4      | 4         | 146.7     |  62       | 3.69      | 3.190     | 20.00     | straight  | automatic | 4         | 2         |\n",
       "| Merc 230 | 22.8      | 4         | 140.8     |  95       | 3.92      | 3.150     | 22.90     | straight  | automatic | 4         | 2         |\n",
       "| Merc 280 | 19.2      | 6         | 167.6     | 123       | 3.92      | 3.440     | 18.30     | straight  | automatic | 4         | 4         |\n",
       "| Merc 280C | 17.8      | 6         | 167.6     | 123       | 3.92      | 3.440     | 18.90     | straight  | automatic | 4         | 4         |\n",
       "| Merc 450SE | 16.4      | 8         | 275.8     | 180       | 3.07      | 4.070     | 17.40     | V-shaped  | automatic | 3         | 3         |\n",
       "| Merc 450SL | 17.3      | 8         | 275.8     | 180       | 3.07      | 3.730     | 17.60     | V-shaped  | automatic | 3         | 3         |\n",
       "| Merc 450SLC | 15.2      | 8         | 275.8     | 180       | 3.07      | 3.780     | 18.00     | V-shaped  | automatic | 3         | 3         |\n",
       "| Cadillac Fleetwood | 10.4      | 8         | 472.0     | 205       | 2.93      | 5.250     | 17.98     | V-shaped  | automatic | 3         | 4         |\n",
       "| Lincoln Continental | 10.4      | 8         | 460.0     | 215       | 3.00      | 5.424     | 17.82     | V-shaped  | automatic | 3         | 4         |\n",
       "| Chrysler Imperial | 14.7      | 8         | 440.0     | 230       | 3.23      | 5.345     | 17.42     | V-shaped  | automatic | 3         | 4         |\n",
       "| Fiat 128 | 32.4      | 4         |  78.7     |  66       | 4.08      | 2.200     | 19.47     | straight  | manual    | 4         | 1         |\n",
       "| Honda Civic | 30.4      | 4         |  75.7     |  52       | 4.93      | 1.615     | 18.52     | straight  | manual    | 4         | 2         |\n",
       "| Toyota Corolla | 33.9      | 4         |  71.1     |  65       | 4.22      | 1.835     | 19.90     | straight  | manual    | 4         | 1         |\n",
       "| Toyota Corona | 21.5      | 4         | 120.1     |  97       | 3.70      | 2.465     | 20.01     | straight  | automatic | 3         | 1         |\n",
       "| Dodge Challenger | 15.5      | 8         | 318.0     | 150       | 2.76      | 3.520     | 16.87     | V-shaped  | automatic | 3         | 2         |\n",
       "| AMC Javelin | 15.2      | 8         | 304.0     | 150       | 3.15      | 3.435     | 17.30     | V-shaped  | automatic | 3         | 2         |\n",
       "| Camaro Z28 | 13.3      | 8         | 350.0     | 245       | 3.73      | 3.840     | 15.41     | V-shaped  | automatic | 3         | 4         |\n",
       "| Pontiac Firebird | 19.2      | 8         | 400.0     | 175       | 3.08      | 3.845     | 17.05     | V-shaped  | automatic | 3         | 2         |\n",
       "| Fiat X1-9 | 27.3      | 4         |  79.0     |  66       | 4.08      | 1.935     | 18.90     | straight  | manual    | 4         | 1         |\n",
       "| Porsche 914-2 | 26.0      | 4         | 120.3     |  91       | 4.43      | 2.140     | 16.70     | V-shaped  | manual    | 5         | 2         |\n",
       "| Lotus Europa | 30.4      | 4         |  95.1     | 113       | 3.77      | 1.513     | 16.90     | straight  | manual    | 5         | 2         |\n",
       "| Ford Pantera L | 15.8      | 8         | 351.0     | 264       | 4.22      | 3.170     | 14.50     | V-shaped  | manual    | 5         | 4         |\n",
       "| Ferrari Dino | 19.7      | 6         | 145.0     | 175       | 3.62      | 2.770     | 15.50     | V-shaped  | manual    | 5         | 6         |\n",
       "| Maserati Bora | 15.0      | 8         | 301.0     | 335       | 3.54      | 3.570     | 14.60     | V-shaped  | manual    | 5         | 8         |\n",
       "| Volvo 142E | 21.4      | 4         | 121.0     | 109       | 4.11      | 2.780     | 18.60     | straight  | manual    | 4         | 2         |\n",
       "\n"
      ],
      "text/plain": [
       "                    MilesPerGallon cyl disp  hp  drat wt    qsec  vs      \n",
       "Mazda RX4           21.0           6   160.0 110 3.90 2.620 16.46 V-shaped\n",
       "Mazda RX4 Wag       21.0           6   160.0 110 3.90 2.875 17.02 V-shaped\n",
       "Datsun 710          22.8           4   108.0  93 3.85 2.320 18.61 straight\n",
       "Hornet 4 Drive      21.4           6   258.0 110 3.08 3.215 19.44 straight\n",
       "Hornet Sportabout   18.7           8   360.0 175 3.15 3.440 17.02 V-shaped\n",
       "Valiant             18.1           6   225.0 105 2.76 3.460 20.22 straight\n",
       "Duster 360          14.3           8   360.0 245 3.21 3.570 15.84 V-shaped\n",
       "Merc 240D           24.4           4   146.7  62 3.69 3.190 20.00 straight\n",
       "Merc 230            22.8           4   140.8  95 3.92 3.150 22.90 straight\n",
       "Merc 280            19.2           6   167.6 123 3.92 3.440 18.30 straight\n",
       "Merc 280C           17.8           6   167.6 123 3.92 3.440 18.90 straight\n",
       "Merc 450SE          16.4           8   275.8 180 3.07 4.070 17.40 V-shaped\n",
       "Merc 450SL          17.3           8   275.8 180 3.07 3.730 17.60 V-shaped\n",
       "Merc 450SLC         15.2           8   275.8 180 3.07 3.780 18.00 V-shaped\n",
       "Cadillac Fleetwood  10.4           8   472.0 205 2.93 5.250 17.98 V-shaped\n",
       "Lincoln Continental 10.4           8   460.0 215 3.00 5.424 17.82 V-shaped\n",
       "Chrysler Imperial   14.7           8   440.0 230 3.23 5.345 17.42 V-shaped\n",
       "Fiat 128            32.4           4    78.7  66 4.08 2.200 19.47 straight\n",
       "Honda Civic         30.4           4    75.7  52 4.93 1.615 18.52 straight\n",
       "Toyota Corolla      33.9           4    71.1  65 4.22 1.835 19.90 straight\n",
       "Toyota Corona       21.5           4   120.1  97 3.70 2.465 20.01 straight\n",
       "Dodge Challenger    15.5           8   318.0 150 2.76 3.520 16.87 V-shaped\n",
       "AMC Javelin         15.2           8   304.0 150 3.15 3.435 17.30 V-shaped\n",
       "Camaro Z28          13.3           8   350.0 245 3.73 3.840 15.41 V-shaped\n",
       "Pontiac Firebird    19.2           8   400.0 175 3.08 3.845 17.05 V-shaped\n",
       "Fiat X1-9           27.3           4    79.0  66 4.08 1.935 18.90 straight\n",
       "Porsche 914-2       26.0           4   120.3  91 4.43 2.140 16.70 V-shaped\n",
       "Lotus Europa        30.4           4    95.1 113 3.77 1.513 16.90 straight\n",
       "Ford Pantera L      15.8           8   351.0 264 4.22 3.170 14.50 V-shaped\n",
       "Ferrari Dino        19.7           6   145.0 175 3.62 2.770 15.50 V-shaped\n",
       "Maserati Bora       15.0           8   301.0 335 3.54 3.570 14.60 V-shaped\n",
       "Volvo 142E          21.4           4   121.0 109 4.11 2.780 18.60 straight\n",
       "                    am        gear carb\n",
       "Mazda RX4           manual    4    4   \n",
       "Mazda RX4 Wag       manual    4    4   \n",
       "Datsun 710          manual    4    1   \n",
       "Hornet 4 Drive      automatic 3    1   \n",
       "Hornet Sportabout   automatic 3    2   \n",
       "Valiant             automatic 3    1   \n",
       "Duster 360          automatic 3    4   \n",
       "Merc 240D           automatic 4    2   \n",
       "Merc 230            automatic 4    2   \n",
       "Merc 280            automatic 4    4   \n",
       "Merc 280C           automatic 4    4   \n",
       "Merc 450SE          automatic 3    3   \n",
       "Merc 450SL          automatic 3    3   \n",
       "Merc 450SLC         automatic 3    3   \n",
       "Cadillac Fleetwood  automatic 3    4   \n",
       "Lincoln Continental automatic 3    4   \n",
       "Chrysler Imperial   automatic 3    4   \n",
       "Fiat 128            manual    4    1   \n",
       "Honda Civic         manual    4    2   \n",
       "Toyota Corolla      manual    4    1   \n",
       "Toyota Corona       automatic 3    1   \n",
       "Dodge Challenger    automatic 3    2   \n",
       "AMC Javelin         automatic 3    2   \n",
       "Camaro Z28          automatic 3    4   \n",
       "Pontiac Firebird    automatic 3    2   \n",
       "Fiat X1-9           manual    4    1   \n",
       "Porsche 914-2       manual    5    2   \n",
       "Lotus Europa        manual    5    2   \n",
       "Ford Pantera L      manual    5    4   \n",
       "Ferrari Dino        manual    5    6   \n",
       "Maserati Bora       manual    5    8   \n",
       "Volvo 142E          manual    4    2   "
      ]
     },
     "metadata": {},
     "output_type": "display_data"
    }
   ],
   "source": [
    "mtcars %>% rename(MilesPerGallon = mpg)"
   ]
  },
  {
   "cell_type": "markdown",
   "id": "89a196b1",
   "metadata": {},
   "source": [
    "### filter()\n",
    "\n",
    "* The function `filter()` is used, to get a subset in rows where a certain criteria met.\n",
    "* `select()` is used for filtering columns and `filter()` is used to filtering rows.\n",
    "* Let's start by filtering cars with 4 cylinders.\n"
   ]
  },
  {
   "cell_type": "code",
   "execution_count": 36,
   "id": "df5129ea",
   "metadata": {
    "message": false,
    "warning": false
   },
   "outputs": [
    {
     "data": {
      "text/html": [
       "<table>\n",
       "<thead><tr><th scope=col>mpg</th><th scope=col>cyl</th><th scope=col>disp</th><th scope=col>hp</th><th scope=col>drat</th><th scope=col>wt</th><th scope=col>qsec</th><th scope=col>vs</th><th scope=col>am</th><th scope=col>gear</th><th scope=col>carb</th></tr></thead>\n",
       "<tbody>\n",
       "\t<tr><td>22.8     </td><td>4        </td><td>108.0    </td><td> 93      </td><td>3.85     </td><td>2.320    </td><td>18.61    </td><td>straight </td><td>manual   </td><td>4        </td><td>1        </td></tr>\n",
       "\t<tr><td>24.4     </td><td>4        </td><td>146.7    </td><td> 62      </td><td>3.69     </td><td>3.190    </td><td>20.00    </td><td>straight </td><td>automatic</td><td>4        </td><td>2        </td></tr>\n",
       "\t<tr><td>22.8     </td><td>4        </td><td>140.8    </td><td> 95      </td><td>3.92     </td><td>3.150    </td><td>22.90    </td><td>straight </td><td>automatic</td><td>4        </td><td>2        </td></tr>\n",
       "\t<tr><td>32.4     </td><td>4        </td><td> 78.7    </td><td> 66      </td><td>4.08     </td><td>2.200    </td><td>19.47    </td><td>straight </td><td>manual   </td><td>4        </td><td>1        </td></tr>\n",
       "\t<tr><td>30.4     </td><td>4        </td><td> 75.7    </td><td> 52      </td><td>4.93     </td><td>1.615    </td><td>18.52    </td><td>straight </td><td>manual   </td><td>4        </td><td>2        </td></tr>\n",
       "\t<tr><td>33.9     </td><td>4        </td><td> 71.1    </td><td> 65      </td><td>4.22     </td><td>1.835    </td><td>19.90    </td><td>straight </td><td>manual   </td><td>4        </td><td>1        </td></tr>\n",
       "\t<tr><td>21.5     </td><td>4        </td><td>120.1    </td><td> 97      </td><td>3.70     </td><td>2.465    </td><td>20.01    </td><td>straight </td><td>automatic</td><td>3        </td><td>1        </td></tr>\n",
       "\t<tr><td>27.3     </td><td>4        </td><td> 79.0    </td><td> 66      </td><td>4.08     </td><td>1.935    </td><td>18.90    </td><td>straight </td><td>manual   </td><td>4        </td><td>1        </td></tr>\n",
       "\t<tr><td>26.0     </td><td>4        </td><td>120.3    </td><td> 91      </td><td>4.43     </td><td>2.140    </td><td>16.70    </td><td>V-shaped </td><td>manual   </td><td>5        </td><td>2        </td></tr>\n",
       "\t<tr><td>30.4     </td><td>4        </td><td> 95.1    </td><td>113      </td><td>3.77     </td><td>1.513    </td><td>16.90    </td><td>straight </td><td>manual   </td><td>5        </td><td>2        </td></tr>\n",
       "\t<tr><td>21.4     </td><td>4        </td><td>121.0    </td><td>109      </td><td>4.11     </td><td>2.780    </td><td>18.60    </td><td>straight </td><td>manual   </td><td>4        </td><td>2        </td></tr>\n",
       "</tbody>\n",
       "</table>\n"
      ],
      "text/latex": [
       "\\begin{tabular}{r|lllllllllll}\n",
       " mpg & cyl & disp & hp & drat & wt & qsec & vs & am & gear & carb\\\\\n",
       "\\hline\n",
       "\t 22.8      & 4         & 108.0     &  93       & 3.85      & 2.320     & 18.61     & straight  & manual    & 4         & 1        \\\\\n",
       "\t 24.4      & 4         & 146.7     &  62       & 3.69      & 3.190     & 20.00     & straight  & automatic & 4         & 2        \\\\\n",
       "\t 22.8      & 4         & 140.8     &  95       & 3.92      & 3.150     & 22.90     & straight  & automatic & 4         & 2        \\\\\n",
       "\t 32.4      & 4         &  78.7     &  66       & 4.08      & 2.200     & 19.47     & straight  & manual    & 4         & 1        \\\\\n",
       "\t 30.4      & 4         &  75.7     &  52       & 4.93      & 1.615     & 18.52     & straight  & manual    & 4         & 2        \\\\\n",
       "\t 33.9      & 4         &  71.1     &  65       & 4.22      & 1.835     & 19.90     & straight  & manual    & 4         & 1        \\\\\n",
       "\t 21.5      & 4         & 120.1     &  97       & 3.70      & 2.465     & 20.01     & straight  & automatic & 3         & 1        \\\\\n",
       "\t 27.3      & 4         &  79.0     &  66       & 4.08      & 1.935     & 18.90     & straight  & manual    & 4         & 1        \\\\\n",
       "\t 26.0      & 4         & 120.3     &  91       & 4.43      & 2.140     & 16.70     & V-shaped  & manual    & 5         & 2        \\\\\n",
       "\t 30.4      & 4         &  95.1     & 113       & 3.77      & 1.513     & 16.90     & straight  & manual    & 5         & 2        \\\\\n",
       "\t 21.4      & 4         & 121.0     & 109       & 4.11      & 2.780     & 18.60     & straight  & manual    & 4         & 2        \\\\\n",
       "\\end{tabular}\n"
      ],
      "text/markdown": [
       "\n",
       "| mpg | cyl | disp | hp | drat | wt | qsec | vs | am | gear | carb |\n",
       "|---|---|---|---|---|---|---|---|---|---|---|\n",
       "| 22.8      | 4         | 108.0     |  93       | 3.85      | 2.320     | 18.61     | straight  | manual    | 4         | 1         |\n",
       "| 24.4      | 4         | 146.7     |  62       | 3.69      | 3.190     | 20.00     | straight  | automatic | 4         | 2         |\n",
       "| 22.8      | 4         | 140.8     |  95       | 3.92      | 3.150     | 22.90     | straight  | automatic | 4         | 2         |\n",
       "| 32.4      | 4         |  78.7     |  66       | 4.08      | 2.200     | 19.47     | straight  | manual    | 4         | 1         |\n",
       "| 30.4      | 4         |  75.7     |  52       | 4.93      | 1.615     | 18.52     | straight  | manual    | 4         | 2         |\n",
       "| 33.9      | 4         |  71.1     |  65       | 4.22      | 1.835     | 19.90     | straight  | manual    | 4         | 1         |\n",
       "| 21.5      | 4         | 120.1     |  97       | 3.70      | 2.465     | 20.01     | straight  | automatic | 3         | 1         |\n",
       "| 27.3      | 4         |  79.0     |  66       | 4.08      | 1.935     | 18.90     | straight  | manual    | 4         | 1         |\n",
       "| 26.0      | 4         | 120.3     |  91       | 4.43      | 2.140     | 16.70     | V-shaped  | manual    | 5         | 2         |\n",
       "| 30.4      | 4         |  95.1     | 113       | 3.77      | 1.513     | 16.90     | straight  | manual    | 5         | 2         |\n",
       "| 21.4      | 4         | 121.0     | 109       | 4.11      | 2.780     | 18.60     | straight  | manual    | 4         | 2         |\n",
       "\n"
      ],
      "text/plain": [
       "   mpg  cyl disp  hp  drat wt    qsec  vs       am        gear carb\n",
       "1  22.8 4   108.0  93 3.85 2.320 18.61 straight manual    4    1   \n",
       "2  24.4 4   146.7  62 3.69 3.190 20.00 straight automatic 4    2   \n",
       "3  22.8 4   140.8  95 3.92 3.150 22.90 straight automatic 4    2   \n",
       "4  32.4 4    78.7  66 4.08 2.200 19.47 straight manual    4    1   \n",
       "5  30.4 4    75.7  52 4.93 1.615 18.52 straight manual    4    2   \n",
       "6  33.9 4    71.1  65 4.22 1.835 19.90 straight manual    4    1   \n",
       "7  21.5 4   120.1  97 3.70 2.465 20.01 straight automatic 3    1   \n",
       "8  27.3 4    79.0  66 4.08 1.935 18.90 straight manual    4    1   \n",
       "9  26.0 4   120.3  91 4.43 2.140 16.70 V-shaped manual    5    2   \n",
       "10 30.4 4    95.1 113 3.77 1.513 16.90 straight manual    5    2   \n",
       "11 21.4 4   121.0 109 4.11 2.780 18.60 straight manual    4    2   "
      ]
     },
     "metadata": {},
     "output_type": "display_data"
    }
   ],
   "source": [
    "mtcars %>% filter(cyl == 4)"
   ]
  },
  {
   "cell_type": "markdown",
   "id": "825189c5",
   "metadata": {},
   "source": [
    "* Some additional operators that can be used with `filter` are:\n",
    "    * `<` Less than\n",
    "    * `>` Greater than\n",
    "    * `==` Equal to\n",
    "    * `<=` Less than or equal to\n",
    "    * `>=` Greater than or equal to\n",
    "    * `!=` Not equal to\n",
    "    * `%in%` Group membership\n",
    "    * `is.na` is NA\n",
    "    * `!is.na` is not NA\n",
    "    * `&,|,!` Boolean operators\n",
    "\n",
    "* Let's filter cars with 4 cylinders and horsepower values greater than 90."
   ]
  },
  {
   "cell_type": "code",
   "execution_count": 37,
   "id": "eaef0826",
   "metadata": {
    "message": false,
    "warning": false
   },
   "outputs": [
    {
     "data": {
      "text/html": [
       "<table>\n",
       "<thead><tr><th scope=col>mpg</th><th scope=col>cyl</th><th scope=col>disp</th><th scope=col>hp</th><th scope=col>drat</th><th scope=col>wt</th><th scope=col>qsec</th><th scope=col>vs</th><th scope=col>am</th><th scope=col>gear</th><th scope=col>carb</th></tr></thead>\n",
       "<tbody>\n",
       "\t<tr><td>22.8     </td><td>4        </td><td>108.0    </td><td> 93      </td><td>3.85     </td><td>2.320    </td><td>18.61    </td><td>straight </td><td>manual   </td><td>4        </td><td>1        </td></tr>\n",
       "\t<tr><td>22.8     </td><td>4        </td><td>140.8    </td><td> 95      </td><td>3.92     </td><td>3.150    </td><td>22.90    </td><td>straight </td><td>automatic</td><td>4        </td><td>2        </td></tr>\n",
       "\t<tr><td>21.5     </td><td>4        </td><td>120.1    </td><td> 97      </td><td>3.70     </td><td>2.465    </td><td>20.01    </td><td>straight </td><td>automatic</td><td>3        </td><td>1        </td></tr>\n",
       "\t<tr><td>26.0     </td><td>4        </td><td>120.3    </td><td> 91      </td><td>4.43     </td><td>2.140    </td><td>16.70    </td><td>V-shaped </td><td>manual   </td><td>5        </td><td>2        </td></tr>\n",
       "\t<tr><td>30.4     </td><td>4        </td><td> 95.1    </td><td>113      </td><td>3.77     </td><td>1.513    </td><td>16.90    </td><td>straight </td><td>manual   </td><td>5        </td><td>2        </td></tr>\n",
       "\t<tr><td>21.4     </td><td>4        </td><td>121.0    </td><td>109      </td><td>4.11     </td><td>2.780    </td><td>18.60    </td><td>straight </td><td>manual   </td><td>4        </td><td>2        </td></tr>\n",
       "</tbody>\n",
       "</table>\n"
      ],
      "text/latex": [
       "\\begin{tabular}{r|lllllllllll}\n",
       " mpg & cyl & disp & hp & drat & wt & qsec & vs & am & gear & carb\\\\\n",
       "\\hline\n",
       "\t 22.8      & 4         & 108.0     &  93       & 3.85      & 2.320     & 18.61     & straight  & manual    & 4         & 1        \\\\\n",
       "\t 22.8      & 4         & 140.8     &  95       & 3.92      & 3.150     & 22.90     & straight  & automatic & 4         & 2        \\\\\n",
       "\t 21.5      & 4         & 120.1     &  97       & 3.70      & 2.465     & 20.01     & straight  & automatic & 3         & 1        \\\\\n",
       "\t 26.0      & 4         & 120.3     &  91       & 4.43      & 2.140     & 16.70     & V-shaped  & manual    & 5         & 2        \\\\\n",
       "\t 30.4      & 4         &  95.1     & 113       & 3.77      & 1.513     & 16.90     & straight  & manual    & 5         & 2        \\\\\n",
       "\t 21.4      & 4         & 121.0     & 109       & 4.11      & 2.780     & 18.60     & straight  & manual    & 4         & 2        \\\\\n",
       "\\end{tabular}\n"
      ],
      "text/markdown": [
       "\n",
       "| mpg | cyl | disp | hp | drat | wt | qsec | vs | am | gear | carb |\n",
       "|---|---|---|---|---|---|---|---|---|---|---|\n",
       "| 22.8      | 4         | 108.0     |  93       | 3.85      | 2.320     | 18.61     | straight  | manual    | 4         | 1         |\n",
       "| 22.8      | 4         | 140.8     |  95       | 3.92      | 3.150     | 22.90     | straight  | automatic | 4         | 2         |\n",
       "| 21.5      | 4         | 120.1     |  97       | 3.70      | 2.465     | 20.01     | straight  | automatic | 3         | 1         |\n",
       "| 26.0      | 4         | 120.3     |  91       | 4.43      | 2.140     | 16.70     | V-shaped  | manual    | 5         | 2         |\n",
       "| 30.4      | 4         |  95.1     | 113       | 3.77      | 1.513     | 16.90     | straight  | manual    | 5         | 2         |\n",
       "| 21.4      | 4         | 121.0     | 109       | 4.11      | 2.780     | 18.60     | straight  | manual    | 4         | 2         |\n",
       "\n"
      ],
      "text/plain": [
       "  mpg  cyl disp  hp  drat wt    qsec  vs       am        gear carb\n",
       "1 22.8 4   108.0  93 3.85 2.320 18.61 straight manual    4    1   \n",
       "2 22.8 4   140.8  95 3.92 3.150 22.90 straight automatic 4    2   \n",
       "3 21.5 4   120.1  97 3.70 2.465 20.01 straight automatic 3    1   \n",
       "4 26.0 4   120.3  91 4.43 2.140 16.70 V-shaped manual    5    2   \n",
       "5 30.4 4    95.1 113 3.77 1.513 16.90 straight manual    5    2   \n",
       "6 21.4 4   121.0 109 4.11 2.780 18.60 straight manual    4    2   "
      ]
     },
     "metadata": {},
     "output_type": "display_data"
    }
   ],
   "source": [
    "mtcars %>% filter(cyl == 4 & hp >90)"
   ]
  },
  {
   "cell_type": "markdown",
   "id": "8f8ddfd4",
   "metadata": {},
   "source": [
    "* Let's filter cars with 4 and 6 cylinders and horsepower values greater than 110."
   ]
  },
  {
   "cell_type": "code",
   "execution_count": 38,
   "id": "450a4f74",
   "metadata": {
    "message": false,
    "warning": false
   },
   "outputs": [
    {
     "data": {
      "text/html": [
       "<table>\n",
       "<thead><tr><th scope=col>mpg</th><th scope=col>cyl</th><th scope=col>disp</th><th scope=col>hp</th><th scope=col>drat</th><th scope=col>wt</th><th scope=col>qsec</th><th scope=col>vs</th><th scope=col>am</th><th scope=col>gear</th><th scope=col>carb</th></tr></thead>\n",
       "<tbody>\n",
       "\t<tr><td>19.2     </td><td>6        </td><td>167.6    </td><td>123      </td><td>3.92     </td><td>3.440    </td><td>18.3     </td><td>straight </td><td>automatic</td><td>4        </td><td>4        </td></tr>\n",
       "\t<tr><td>17.8     </td><td>6        </td><td>167.6    </td><td>123      </td><td>3.92     </td><td>3.440    </td><td>18.9     </td><td>straight </td><td>automatic</td><td>4        </td><td>4        </td></tr>\n",
       "\t<tr><td>30.4     </td><td>4        </td><td> 95.1    </td><td>113      </td><td>3.77     </td><td>1.513    </td><td>16.9     </td><td>straight </td><td>manual   </td><td>5        </td><td>2        </td></tr>\n",
       "\t<tr><td>19.7     </td><td>6        </td><td>145.0    </td><td>175      </td><td>3.62     </td><td>2.770    </td><td>15.5     </td><td>V-shaped </td><td>manual   </td><td>5        </td><td>6        </td></tr>\n",
       "</tbody>\n",
       "</table>\n"
      ],
      "text/latex": [
       "\\begin{tabular}{r|lllllllllll}\n",
       " mpg & cyl & disp & hp & drat & wt & qsec & vs & am & gear & carb\\\\\n",
       "\\hline\n",
       "\t 19.2      & 6         & 167.6     & 123       & 3.92      & 3.440     & 18.3      & straight  & automatic & 4         & 4        \\\\\n",
       "\t 17.8      & 6         & 167.6     & 123       & 3.92      & 3.440     & 18.9      & straight  & automatic & 4         & 4        \\\\\n",
       "\t 30.4      & 4         &  95.1     & 113       & 3.77      & 1.513     & 16.9      & straight  & manual    & 5         & 2        \\\\\n",
       "\t 19.7      & 6         & 145.0     & 175       & 3.62      & 2.770     & 15.5      & V-shaped  & manual    & 5         & 6        \\\\\n",
       "\\end{tabular}\n"
      ],
      "text/markdown": [
       "\n",
       "| mpg | cyl | disp | hp | drat | wt | qsec | vs | am | gear | carb |\n",
       "|---|---|---|---|---|---|---|---|---|---|---|\n",
       "| 19.2      | 6         | 167.6     | 123       | 3.92      | 3.440     | 18.3      | straight  | automatic | 4         | 4         |\n",
       "| 17.8      | 6         | 167.6     | 123       | 3.92      | 3.440     | 18.9      | straight  | automatic | 4         | 4         |\n",
       "| 30.4      | 4         |  95.1     | 113       | 3.77      | 1.513     | 16.9      | straight  | manual    | 5         | 2         |\n",
       "| 19.7      | 6         | 145.0     | 175       | 3.62      | 2.770     | 15.5      | V-shaped  | manual    | 5         | 6         |\n",
       "\n"
      ],
      "text/plain": [
       "  mpg  cyl disp  hp  drat wt    qsec vs       am        gear carb\n",
       "1 19.2 6   167.6 123 3.92 3.440 18.3 straight automatic 4    4   \n",
       "2 17.8 6   167.6 123 3.92 3.440 18.9 straight automatic 4    4   \n",
       "3 30.4 4    95.1 113 3.77 1.513 16.9 straight manual    5    2   \n",
       "4 19.7 6   145.0 175 3.62 2.770 15.5 V-shaped manual    5    6   "
      ]
     },
     "metadata": {},
     "output_type": "display_data"
    }
   ],
   "source": [
    "mtcars %>% filter((cyl == 4 | cyl == 6) & hp >110)"
   ]
  },
  {
   "cell_type": "code",
   "execution_count": 39,
   "id": "7c6e5a6f",
   "metadata": {
    "message": false,
    "warning": false
   },
   "outputs": [
    {
     "data": {
      "text/html": [
       "<table>\n",
       "<thead><tr><th scope=col>mpg</th><th scope=col>cyl</th><th scope=col>disp</th><th scope=col>hp</th><th scope=col>drat</th><th scope=col>wt</th><th scope=col>qsec</th><th scope=col>vs</th><th scope=col>am</th><th scope=col>gear</th><th scope=col>carb</th></tr></thead>\n",
       "<tbody>\n",
       "\t<tr><td>19.2     </td><td>6        </td><td>167.6    </td><td>123      </td><td>3.92     </td><td>3.440    </td><td>18.3     </td><td>straight </td><td>automatic</td><td>4        </td><td>4        </td></tr>\n",
       "\t<tr><td>17.8     </td><td>6        </td><td>167.6    </td><td>123      </td><td>3.92     </td><td>3.440    </td><td>18.9     </td><td>straight </td><td>automatic</td><td>4        </td><td>4        </td></tr>\n",
       "\t<tr><td>30.4     </td><td>4        </td><td> 95.1    </td><td>113      </td><td>3.77     </td><td>1.513    </td><td>16.9     </td><td>straight </td><td>manual   </td><td>5        </td><td>2        </td></tr>\n",
       "\t<tr><td>19.7     </td><td>6        </td><td>145.0    </td><td>175      </td><td>3.62     </td><td>2.770    </td><td>15.5     </td><td>V-shaped </td><td>manual   </td><td>5        </td><td>6        </td></tr>\n",
       "</tbody>\n",
       "</table>\n"
      ],
      "text/latex": [
       "\\begin{tabular}{r|lllllllllll}\n",
       " mpg & cyl & disp & hp & drat & wt & qsec & vs & am & gear & carb\\\\\n",
       "\\hline\n",
       "\t 19.2      & 6         & 167.6     & 123       & 3.92      & 3.440     & 18.3      & straight  & automatic & 4         & 4        \\\\\n",
       "\t 17.8      & 6         & 167.6     & 123       & 3.92      & 3.440     & 18.9      & straight  & automatic & 4         & 4        \\\\\n",
       "\t 30.4      & 4         &  95.1     & 113       & 3.77      & 1.513     & 16.9      & straight  & manual    & 5         & 2        \\\\\n",
       "\t 19.7      & 6         & 145.0     & 175       & 3.62      & 2.770     & 15.5      & V-shaped  & manual    & 5         & 6        \\\\\n",
       "\\end{tabular}\n"
      ],
      "text/markdown": [
       "\n",
       "| mpg | cyl | disp | hp | drat | wt | qsec | vs | am | gear | carb |\n",
       "|---|---|---|---|---|---|---|---|---|---|---|\n",
       "| 19.2      | 6         | 167.6     | 123       | 3.92      | 3.440     | 18.3      | straight  | automatic | 4         | 4         |\n",
       "| 17.8      | 6         | 167.6     | 123       | 3.92      | 3.440     | 18.9      | straight  | automatic | 4         | 4         |\n",
       "| 30.4      | 4         |  95.1     | 113       | 3.77      | 1.513     | 16.9      | straight  | manual    | 5         | 2         |\n",
       "| 19.7      | 6         | 145.0     | 175       | 3.62      | 2.770     | 15.5      | V-shaped  | manual    | 5         | 6         |\n",
       "\n"
      ],
      "text/plain": [
       "  mpg  cyl disp  hp  drat wt    qsec vs       am        gear carb\n",
       "1 19.2 6   167.6 123 3.92 3.440 18.3 straight automatic 4    4   \n",
       "2 17.8 6   167.6 123 3.92 3.440 18.9 straight automatic 4    4   \n",
       "3 30.4 4    95.1 113 3.77 1.513 16.9 straight manual    5    2   \n",
       "4 19.7 6   145.0 175 3.62 2.770 15.5 V-shaped manual    5    6   "
      ]
     },
     "metadata": {},
     "output_type": "display_data"
    }
   ],
   "source": [
    "mtcars %>% filter(cyl %in% c(4,6) & hp >110)"
   ]
  },
  {
   "cell_type": "markdown",
   "id": "71ab3342",
   "metadata": {},
   "source": [
    "### group_by() and summarise()\n",
    "\n",
    "* Usually, `group_by()` and `summarise()` functions are used together.\n",
    "* `group_by()` function is used to group the data according to a categorical variable.\n",
    "* `summarise()` is used to perform various summary statistics on the grouped data.\n"
   ]
  },
  {
   "cell_type": "code",
   "execution_count": 40,
   "id": "33663c71",
   "metadata": {
    "message": false,
    "warning": false
   },
   "outputs": [
    {
     "data": {
      "text/html": [
       "<table>\n",
       "<thead><tr><th></th><th scope=col>mpg</th><th scope=col>cyl</th><th scope=col>disp</th><th scope=col>hp</th><th scope=col>drat</th><th scope=col>wt</th><th scope=col>qsec</th><th scope=col>vs</th><th scope=col>am</th><th scope=col>gear</th><th scope=col>carb</th></tr></thead>\n",
       "<tbody>\n",
       "\t<tr><th scope=row>Mazda RX4</th><td>21.0     </td><td>6        </td><td>160.0    </td><td>110      </td><td>3.90     </td><td>2.620    </td><td>16.46    </td><td>V-shaped </td><td>manual   </td><td>4        </td><td>4        </td></tr>\n",
       "\t<tr><th scope=row>Mazda RX4 Wag</th><td>21.0     </td><td>6        </td><td>160.0    </td><td>110      </td><td>3.90     </td><td>2.875    </td><td>17.02    </td><td>V-shaped </td><td>manual   </td><td>4        </td><td>4        </td></tr>\n",
       "\t<tr><th scope=row>Datsun 710</th><td>22.8     </td><td>4        </td><td>108.0    </td><td> 93      </td><td>3.85     </td><td>2.320    </td><td>18.61    </td><td>straight </td><td>manual   </td><td>4        </td><td>1        </td></tr>\n",
       "\t<tr><th scope=row>Hornet 4 Drive</th><td>21.4     </td><td>6        </td><td>258.0    </td><td>110      </td><td>3.08     </td><td>3.215    </td><td>19.44    </td><td>straight </td><td>automatic</td><td>3        </td><td>1        </td></tr>\n",
       "\t<tr><th scope=row>Hornet Sportabout</th><td>18.7     </td><td>8        </td><td>360.0    </td><td>175      </td><td>3.15     </td><td>3.440    </td><td>17.02    </td><td>V-shaped </td><td>automatic</td><td>3        </td><td>2        </td></tr>\n",
       "\t<tr><th scope=row>Valiant</th><td>18.1     </td><td>6        </td><td>225.0    </td><td>105      </td><td>2.76     </td><td>3.460    </td><td>20.22    </td><td>straight </td><td>automatic</td><td>3        </td><td>1        </td></tr>\n",
       "\t<tr><th scope=row>Duster 360</th><td>14.3     </td><td>8        </td><td>360.0    </td><td>245      </td><td>3.21     </td><td>3.570    </td><td>15.84    </td><td>V-shaped </td><td>automatic</td><td>3        </td><td>4        </td></tr>\n",
       "\t<tr><th scope=row>Merc 240D</th><td>24.4     </td><td>4        </td><td>146.7    </td><td> 62      </td><td>3.69     </td><td>3.190    </td><td>20.00    </td><td>straight </td><td>automatic</td><td>4        </td><td>2        </td></tr>\n",
       "\t<tr><th scope=row>Merc 230</th><td>22.8     </td><td>4        </td><td>140.8    </td><td> 95      </td><td>3.92     </td><td>3.150    </td><td>22.90    </td><td>straight </td><td>automatic</td><td>4        </td><td>2        </td></tr>\n",
       "\t<tr><th scope=row>Merc 280</th><td>19.2     </td><td>6        </td><td>167.6    </td><td>123      </td><td>3.92     </td><td>3.440    </td><td>18.30    </td><td>straight </td><td>automatic</td><td>4        </td><td>4        </td></tr>\n",
       "\t<tr><th scope=row>Merc 280C</th><td>17.8     </td><td>6        </td><td>167.6    </td><td>123      </td><td>3.92     </td><td>3.440    </td><td>18.90    </td><td>straight </td><td>automatic</td><td>4        </td><td>4        </td></tr>\n",
       "\t<tr><th scope=row>Merc 450SE</th><td>16.4     </td><td>8        </td><td>275.8    </td><td>180      </td><td>3.07     </td><td>4.070    </td><td>17.40    </td><td>V-shaped </td><td>automatic</td><td>3        </td><td>3        </td></tr>\n",
       "\t<tr><th scope=row>Merc 450SL</th><td>17.3     </td><td>8        </td><td>275.8    </td><td>180      </td><td>3.07     </td><td>3.730    </td><td>17.60    </td><td>V-shaped </td><td>automatic</td><td>3        </td><td>3        </td></tr>\n",
       "\t<tr><th scope=row>Merc 450SLC</th><td>15.2     </td><td>8        </td><td>275.8    </td><td>180      </td><td>3.07     </td><td>3.780    </td><td>18.00    </td><td>V-shaped </td><td>automatic</td><td>3        </td><td>3        </td></tr>\n",
       "\t<tr><th scope=row>Cadillac Fleetwood</th><td>10.4     </td><td>8        </td><td>472.0    </td><td>205      </td><td>2.93     </td><td>5.250    </td><td>17.98    </td><td>V-shaped </td><td>automatic</td><td>3        </td><td>4        </td></tr>\n",
       "\t<tr><th scope=row>Lincoln Continental</th><td>10.4     </td><td>8        </td><td>460.0    </td><td>215      </td><td>3.00     </td><td>5.424    </td><td>17.82    </td><td>V-shaped </td><td>automatic</td><td>3        </td><td>4        </td></tr>\n",
       "\t<tr><th scope=row>Chrysler Imperial</th><td>14.7     </td><td>8        </td><td>440.0    </td><td>230      </td><td>3.23     </td><td>5.345    </td><td>17.42    </td><td>V-shaped </td><td>automatic</td><td>3        </td><td>4        </td></tr>\n",
       "\t<tr><th scope=row>Fiat 128</th><td>32.4     </td><td>4        </td><td> 78.7    </td><td> 66      </td><td>4.08     </td><td>2.200    </td><td>19.47    </td><td>straight </td><td>manual   </td><td>4        </td><td>1        </td></tr>\n",
       "\t<tr><th scope=row>Honda Civic</th><td>30.4     </td><td>4        </td><td> 75.7    </td><td> 52      </td><td>4.93     </td><td>1.615    </td><td>18.52    </td><td>straight </td><td>manual   </td><td>4        </td><td>2        </td></tr>\n",
       "\t<tr><th scope=row>Toyota Corolla</th><td>33.9     </td><td>4        </td><td> 71.1    </td><td> 65      </td><td>4.22     </td><td>1.835    </td><td>19.90    </td><td>straight </td><td>manual   </td><td>4        </td><td>1        </td></tr>\n",
       "\t<tr><th scope=row>Toyota Corona</th><td>21.5     </td><td>4        </td><td>120.1    </td><td> 97      </td><td>3.70     </td><td>2.465    </td><td>20.01    </td><td>straight </td><td>automatic</td><td>3        </td><td>1        </td></tr>\n",
       "\t<tr><th scope=row>Dodge Challenger</th><td>15.5     </td><td>8        </td><td>318.0    </td><td>150      </td><td>2.76     </td><td>3.520    </td><td>16.87    </td><td>V-shaped </td><td>automatic</td><td>3        </td><td>2        </td></tr>\n",
       "\t<tr><th scope=row>AMC Javelin</th><td>15.2     </td><td>8        </td><td>304.0    </td><td>150      </td><td>3.15     </td><td>3.435    </td><td>17.30    </td><td>V-shaped </td><td>automatic</td><td>3        </td><td>2        </td></tr>\n",
       "\t<tr><th scope=row>Camaro Z28</th><td>13.3     </td><td>8        </td><td>350.0    </td><td>245      </td><td>3.73     </td><td>3.840    </td><td>15.41    </td><td>V-shaped </td><td>automatic</td><td>3        </td><td>4        </td></tr>\n",
       "\t<tr><th scope=row>Pontiac Firebird</th><td>19.2     </td><td>8        </td><td>400.0    </td><td>175      </td><td>3.08     </td><td>3.845    </td><td>17.05    </td><td>V-shaped </td><td>automatic</td><td>3        </td><td>2        </td></tr>\n",
       "\t<tr><th scope=row>Fiat X1-9</th><td>27.3     </td><td>4        </td><td> 79.0    </td><td> 66      </td><td>4.08     </td><td>1.935    </td><td>18.90    </td><td>straight </td><td>manual   </td><td>4        </td><td>1        </td></tr>\n",
       "\t<tr><th scope=row>Porsche 914-2</th><td>26.0     </td><td>4        </td><td>120.3    </td><td> 91      </td><td>4.43     </td><td>2.140    </td><td>16.70    </td><td>V-shaped </td><td>manual   </td><td>5        </td><td>2        </td></tr>\n",
       "\t<tr><th scope=row>Lotus Europa</th><td>30.4     </td><td>4        </td><td> 95.1    </td><td>113      </td><td>3.77     </td><td>1.513    </td><td>16.90    </td><td>straight </td><td>manual   </td><td>5        </td><td>2        </td></tr>\n",
       "\t<tr><th scope=row>Ford Pantera L</th><td>15.8     </td><td>8        </td><td>351.0    </td><td>264      </td><td>4.22     </td><td>3.170    </td><td>14.50    </td><td>V-shaped </td><td>manual   </td><td>5        </td><td>4        </td></tr>\n",
       "\t<tr><th scope=row>Ferrari Dino</th><td>19.7     </td><td>6        </td><td>145.0    </td><td>175      </td><td>3.62     </td><td>2.770    </td><td>15.50    </td><td>V-shaped </td><td>manual   </td><td>5        </td><td>6        </td></tr>\n",
       "\t<tr><th scope=row>Maserati Bora</th><td>15.0     </td><td>8        </td><td>301.0    </td><td>335      </td><td>3.54     </td><td>3.570    </td><td>14.60    </td><td>V-shaped </td><td>manual   </td><td>5        </td><td>8        </td></tr>\n",
       "\t<tr><th scope=row>Volvo 142E</th><td>21.4     </td><td>4        </td><td>121.0    </td><td>109      </td><td>4.11     </td><td>2.780    </td><td>18.60    </td><td>straight </td><td>manual   </td><td>4        </td><td>2        </td></tr>\n",
       "</tbody>\n",
       "</table>\n"
      ],
      "text/latex": [
       "\\begin{tabular}{r|lllllllllll}\n",
       "  & mpg & cyl & disp & hp & drat & wt & qsec & vs & am & gear & carb\\\\\n",
       "\\hline\n",
       "\tMazda RX4 & 21.0      & 6         & 160.0     & 110       & 3.90      & 2.620     & 16.46     & V-shaped  & manual    & 4         & 4        \\\\\n",
       "\tMazda RX4 Wag & 21.0      & 6         & 160.0     & 110       & 3.90      & 2.875     & 17.02     & V-shaped  & manual    & 4         & 4        \\\\\n",
       "\tDatsun 710 & 22.8      & 4         & 108.0     &  93       & 3.85      & 2.320     & 18.61     & straight  & manual    & 4         & 1        \\\\\n",
       "\tHornet 4 Drive & 21.4      & 6         & 258.0     & 110       & 3.08      & 3.215     & 19.44     & straight  & automatic & 3         & 1        \\\\\n",
       "\tHornet Sportabout & 18.7      & 8         & 360.0     & 175       & 3.15      & 3.440     & 17.02     & V-shaped  & automatic & 3         & 2        \\\\\n",
       "\tValiant & 18.1      & 6         & 225.0     & 105       & 2.76      & 3.460     & 20.22     & straight  & automatic & 3         & 1        \\\\\n",
       "\tDuster 360 & 14.3      & 8         & 360.0     & 245       & 3.21      & 3.570     & 15.84     & V-shaped  & automatic & 3         & 4        \\\\\n",
       "\tMerc 240D & 24.4      & 4         & 146.7     &  62       & 3.69      & 3.190     & 20.00     & straight  & automatic & 4         & 2        \\\\\n",
       "\tMerc 230 & 22.8      & 4         & 140.8     &  95       & 3.92      & 3.150     & 22.90     & straight  & automatic & 4         & 2        \\\\\n",
       "\tMerc 280 & 19.2      & 6         & 167.6     & 123       & 3.92      & 3.440     & 18.30     & straight  & automatic & 4         & 4        \\\\\n",
       "\tMerc 280C & 17.8      & 6         & 167.6     & 123       & 3.92      & 3.440     & 18.90     & straight  & automatic & 4         & 4        \\\\\n",
       "\tMerc 450SE & 16.4      & 8         & 275.8     & 180       & 3.07      & 4.070     & 17.40     & V-shaped  & automatic & 3         & 3        \\\\\n",
       "\tMerc 450SL & 17.3      & 8         & 275.8     & 180       & 3.07      & 3.730     & 17.60     & V-shaped  & automatic & 3         & 3        \\\\\n",
       "\tMerc 450SLC & 15.2      & 8         & 275.8     & 180       & 3.07      & 3.780     & 18.00     & V-shaped  & automatic & 3         & 3        \\\\\n",
       "\tCadillac Fleetwood & 10.4      & 8         & 472.0     & 205       & 2.93      & 5.250     & 17.98     & V-shaped  & automatic & 3         & 4        \\\\\n",
       "\tLincoln Continental & 10.4      & 8         & 460.0     & 215       & 3.00      & 5.424     & 17.82     & V-shaped  & automatic & 3         & 4        \\\\\n",
       "\tChrysler Imperial & 14.7      & 8         & 440.0     & 230       & 3.23      & 5.345     & 17.42     & V-shaped  & automatic & 3         & 4        \\\\\n",
       "\tFiat 128 & 32.4      & 4         &  78.7     &  66       & 4.08      & 2.200     & 19.47     & straight  & manual    & 4         & 1        \\\\\n",
       "\tHonda Civic & 30.4      & 4         &  75.7     &  52       & 4.93      & 1.615     & 18.52     & straight  & manual    & 4         & 2        \\\\\n",
       "\tToyota Corolla & 33.9      & 4         &  71.1     &  65       & 4.22      & 1.835     & 19.90     & straight  & manual    & 4         & 1        \\\\\n",
       "\tToyota Corona & 21.5      & 4         & 120.1     &  97       & 3.70      & 2.465     & 20.01     & straight  & automatic & 3         & 1        \\\\\n",
       "\tDodge Challenger & 15.5      & 8         & 318.0     & 150       & 2.76      & 3.520     & 16.87     & V-shaped  & automatic & 3         & 2        \\\\\n",
       "\tAMC Javelin & 15.2      & 8         & 304.0     & 150       & 3.15      & 3.435     & 17.30     & V-shaped  & automatic & 3         & 2        \\\\\n",
       "\tCamaro Z28 & 13.3      & 8         & 350.0     & 245       & 3.73      & 3.840     & 15.41     & V-shaped  & automatic & 3         & 4        \\\\\n",
       "\tPontiac Firebird & 19.2      & 8         & 400.0     & 175       & 3.08      & 3.845     & 17.05     & V-shaped  & automatic & 3         & 2        \\\\\n",
       "\tFiat X1-9 & 27.3      & 4         &  79.0     &  66       & 4.08      & 1.935     & 18.90     & straight  & manual    & 4         & 1        \\\\\n",
       "\tPorsche 914-2 & 26.0      & 4         & 120.3     &  91       & 4.43      & 2.140     & 16.70     & V-shaped  & manual    & 5         & 2        \\\\\n",
       "\tLotus Europa & 30.4      & 4         &  95.1     & 113       & 3.77      & 1.513     & 16.90     & straight  & manual    & 5         & 2        \\\\\n",
       "\tFord Pantera L & 15.8      & 8         & 351.0     & 264       & 4.22      & 3.170     & 14.50     & V-shaped  & manual    & 5         & 4        \\\\\n",
       "\tFerrari Dino & 19.7      & 6         & 145.0     & 175       & 3.62      & 2.770     & 15.50     & V-shaped  & manual    & 5         & 6        \\\\\n",
       "\tMaserati Bora & 15.0      & 8         & 301.0     & 335       & 3.54      & 3.570     & 14.60     & V-shaped  & manual    & 5         & 8        \\\\\n",
       "\tVolvo 142E & 21.4      & 4         & 121.0     & 109       & 4.11      & 2.780     & 18.60     & straight  & manual    & 4         & 2        \\\\\n",
       "\\end{tabular}\n"
      ],
      "text/markdown": [
       "\n",
       "| <!--/--> | mpg | cyl | disp | hp | drat | wt | qsec | vs | am | gear | carb |\n",
       "|---|---|---|---|---|---|---|---|---|---|---|---|\n",
       "| Mazda RX4 | 21.0      | 6         | 160.0     | 110       | 3.90      | 2.620     | 16.46     | V-shaped  | manual    | 4         | 4         |\n",
       "| Mazda RX4 Wag | 21.0      | 6         | 160.0     | 110       | 3.90      | 2.875     | 17.02     | V-shaped  | manual    | 4         | 4         |\n",
       "| Datsun 710 | 22.8      | 4         | 108.0     |  93       | 3.85      | 2.320     | 18.61     | straight  | manual    | 4         | 1         |\n",
       "| Hornet 4 Drive | 21.4      | 6         | 258.0     | 110       | 3.08      | 3.215     | 19.44     | straight  | automatic | 3         | 1         |\n",
       "| Hornet Sportabout | 18.7      | 8         | 360.0     | 175       | 3.15      | 3.440     | 17.02     | V-shaped  | automatic | 3         | 2         |\n",
       "| Valiant | 18.1      | 6         | 225.0     | 105       | 2.76      | 3.460     | 20.22     | straight  | automatic | 3         | 1         |\n",
       "| Duster 360 | 14.3      | 8         | 360.0     | 245       | 3.21      | 3.570     | 15.84     | V-shaped  | automatic | 3         | 4         |\n",
       "| Merc 240D | 24.4      | 4         | 146.7     |  62       | 3.69      | 3.190     | 20.00     | straight  | automatic | 4         | 2         |\n",
       "| Merc 230 | 22.8      | 4         | 140.8     |  95       | 3.92      | 3.150     | 22.90     | straight  | automatic | 4         | 2         |\n",
       "| Merc 280 | 19.2      | 6         | 167.6     | 123       | 3.92      | 3.440     | 18.30     | straight  | automatic | 4         | 4         |\n",
       "| Merc 280C | 17.8      | 6         | 167.6     | 123       | 3.92      | 3.440     | 18.90     | straight  | automatic | 4         | 4         |\n",
       "| Merc 450SE | 16.4      | 8         | 275.8     | 180       | 3.07      | 4.070     | 17.40     | V-shaped  | automatic | 3         | 3         |\n",
       "| Merc 450SL | 17.3      | 8         | 275.8     | 180       | 3.07      | 3.730     | 17.60     | V-shaped  | automatic | 3         | 3         |\n",
       "| Merc 450SLC | 15.2      | 8         | 275.8     | 180       | 3.07      | 3.780     | 18.00     | V-shaped  | automatic | 3         | 3         |\n",
       "| Cadillac Fleetwood | 10.4      | 8         | 472.0     | 205       | 2.93      | 5.250     | 17.98     | V-shaped  | automatic | 3         | 4         |\n",
       "| Lincoln Continental | 10.4      | 8         | 460.0     | 215       | 3.00      | 5.424     | 17.82     | V-shaped  | automatic | 3         | 4         |\n",
       "| Chrysler Imperial | 14.7      | 8         | 440.0     | 230       | 3.23      | 5.345     | 17.42     | V-shaped  | automatic | 3         | 4         |\n",
       "| Fiat 128 | 32.4      | 4         |  78.7     |  66       | 4.08      | 2.200     | 19.47     | straight  | manual    | 4         | 1         |\n",
       "| Honda Civic | 30.4      | 4         |  75.7     |  52       | 4.93      | 1.615     | 18.52     | straight  | manual    | 4         | 2         |\n",
       "| Toyota Corolla | 33.9      | 4         |  71.1     |  65       | 4.22      | 1.835     | 19.90     | straight  | manual    | 4         | 1         |\n",
       "| Toyota Corona | 21.5      | 4         | 120.1     |  97       | 3.70      | 2.465     | 20.01     | straight  | automatic | 3         | 1         |\n",
       "| Dodge Challenger | 15.5      | 8         | 318.0     | 150       | 2.76      | 3.520     | 16.87     | V-shaped  | automatic | 3         | 2         |\n",
       "| AMC Javelin | 15.2      | 8         | 304.0     | 150       | 3.15      | 3.435     | 17.30     | V-shaped  | automatic | 3         | 2         |\n",
       "| Camaro Z28 | 13.3      | 8         | 350.0     | 245       | 3.73      | 3.840     | 15.41     | V-shaped  | automatic | 3         | 4         |\n",
       "| Pontiac Firebird | 19.2      | 8         | 400.0     | 175       | 3.08      | 3.845     | 17.05     | V-shaped  | automatic | 3         | 2         |\n",
       "| Fiat X1-9 | 27.3      | 4         |  79.0     |  66       | 4.08      | 1.935     | 18.90     | straight  | manual    | 4         | 1         |\n",
       "| Porsche 914-2 | 26.0      | 4         | 120.3     |  91       | 4.43      | 2.140     | 16.70     | V-shaped  | manual    | 5         | 2         |\n",
       "| Lotus Europa | 30.4      | 4         |  95.1     | 113       | 3.77      | 1.513     | 16.90     | straight  | manual    | 5         | 2         |\n",
       "| Ford Pantera L | 15.8      | 8         | 351.0     | 264       | 4.22      | 3.170     | 14.50     | V-shaped  | manual    | 5         | 4         |\n",
       "| Ferrari Dino | 19.7      | 6         | 145.0     | 175       | 3.62      | 2.770     | 15.50     | V-shaped  | manual    | 5         | 6         |\n",
       "| Maserati Bora | 15.0      | 8         | 301.0     | 335       | 3.54      | 3.570     | 14.60     | V-shaped  | manual    | 5         | 8         |\n",
       "| Volvo 142E | 21.4      | 4         | 121.0     | 109       | 4.11      | 2.780     | 18.60     | straight  | manual    | 4         | 2         |\n",
       "\n"
      ],
      "text/plain": [
       "                    mpg  cyl disp  hp  drat wt    qsec  vs       am        gear\n",
       "Mazda RX4           21.0 6   160.0 110 3.90 2.620 16.46 V-shaped manual    4   \n",
       "Mazda RX4 Wag       21.0 6   160.0 110 3.90 2.875 17.02 V-shaped manual    4   \n",
       "Datsun 710          22.8 4   108.0  93 3.85 2.320 18.61 straight manual    4   \n",
       "Hornet 4 Drive      21.4 6   258.0 110 3.08 3.215 19.44 straight automatic 3   \n",
       "Hornet Sportabout   18.7 8   360.0 175 3.15 3.440 17.02 V-shaped automatic 3   \n",
       "Valiant             18.1 6   225.0 105 2.76 3.460 20.22 straight automatic 3   \n",
       "Duster 360          14.3 8   360.0 245 3.21 3.570 15.84 V-shaped automatic 3   \n",
       "Merc 240D           24.4 4   146.7  62 3.69 3.190 20.00 straight automatic 4   \n",
       "Merc 230            22.8 4   140.8  95 3.92 3.150 22.90 straight automatic 4   \n",
       "Merc 280            19.2 6   167.6 123 3.92 3.440 18.30 straight automatic 4   \n",
       "Merc 280C           17.8 6   167.6 123 3.92 3.440 18.90 straight automatic 4   \n",
       "Merc 450SE          16.4 8   275.8 180 3.07 4.070 17.40 V-shaped automatic 3   \n",
       "Merc 450SL          17.3 8   275.8 180 3.07 3.730 17.60 V-shaped automatic 3   \n",
       "Merc 450SLC         15.2 8   275.8 180 3.07 3.780 18.00 V-shaped automatic 3   \n",
       "Cadillac Fleetwood  10.4 8   472.0 205 2.93 5.250 17.98 V-shaped automatic 3   \n",
       "Lincoln Continental 10.4 8   460.0 215 3.00 5.424 17.82 V-shaped automatic 3   \n",
       "Chrysler Imperial   14.7 8   440.0 230 3.23 5.345 17.42 V-shaped automatic 3   \n",
       "Fiat 128            32.4 4    78.7  66 4.08 2.200 19.47 straight manual    4   \n",
       "Honda Civic         30.4 4    75.7  52 4.93 1.615 18.52 straight manual    4   \n",
       "Toyota Corolla      33.9 4    71.1  65 4.22 1.835 19.90 straight manual    4   \n",
       "Toyota Corona       21.5 4   120.1  97 3.70 2.465 20.01 straight automatic 3   \n",
       "Dodge Challenger    15.5 8   318.0 150 2.76 3.520 16.87 V-shaped automatic 3   \n",
       "AMC Javelin         15.2 8   304.0 150 3.15 3.435 17.30 V-shaped automatic 3   \n",
       "Camaro Z28          13.3 8   350.0 245 3.73 3.840 15.41 V-shaped automatic 3   \n",
       "Pontiac Firebird    19.2 8   400.0 175 3.08 3.845 17.05 V-shaped automatic 3   \n",
       "Fiat X1-9           27.3 4    79.0  66 4.08 1.935 18.90 straight manual    4   \n",
       "Porsche 914-2       26.0 4   120.3  91 4.43 2.140 16.70 V-shaped manual    5   \n",
       "Lotus Europa        30.4 4    95.1 113 3.77 1.513 16.90 straight manual    5   \n",
       "Ford Pantera L      15.8 8   351.0 264 4.22 3.170 14.50 V-shaped manual    5   \n",
       "Ferrari Dino        19.7 6   145.0 175 3.62 2.770 15.50 V-shaped manual    5   \n",
       "Maserati Bora       15.0 8   301.0 335 3.54 3.570 14.60 V-shaped manual    5   \n",
       "Volvo 142E          21.4 4   121.0 109 4.11 2.780 18.60 straight manual    4   \n",
       "                    carb\n",
       "Mazda RX4           4   \n",
       "Mazda RX4 Wag       4   \n",
       "Datsun 710          1   \n",
       "Hornet 4 Drive      1   \n",
       "Hornet Sportabout   2   \n",
       "Valiant             1   \n",
       "Duster 360          4   \n",
       "Merc 240D           2   \n",
       "Merc 230            2   \n",
       "Merc 280            4   \n",
       "Merc 280C           4   \n",
       "Merc 450SE          3   \n",
       "Merc 450SL          3   \n",
       "Merc 450SLC         3   \n",
       "Cadillac Fleetwood  4   \n",
       "Lincoln Continental 4   \n",
       "Chrysler Imperial   4   \n",
       "Fiat 128            1   \n",
       "Honda Civic         2   \n",
       "Toyota Corolla      1   \n",
       "Toyota Corona       1   \n",
       "Dodge Challenger    2   \n",
       "AMC Javelin         2   \n",
       "Camaro Z28          4   \n",
       "Pontiac Firebird    2   \n",
       "Fiat X1-9           1   \n",
       "Porsche 914-2       2   \n",
       "Lotus Europa        2   \n",
       "Ford Pantera L      4   \n",
       "Ferrari Dino        6   \n",
       "Maserati Bora       8   \n",
       "Volvo 142E          2   "
      ]
     },
     "metadata": {},
     "output_type": "display_data"
    }
   ],
   "source": [
    "mtcars %>% group_by(cyl)"
   ]
  },
  {
   "cell_type": "markdown",
   "id": "6158375e",
   "metadata": {},
   "source": [
    "* At the output there is no significant difference.\n",
    "* If you don't use the `group_by()` function and use `summarise()` directly, the output will give the summary statistics for all the data.\n"
   ]
  },
  {
   "cell_type": "code",
   "execution_count": 41,
   "id": "8afae6a8",
   "metadata": {
    "message": false,
    "warning": false
   },
   "outputs": [
    {
     "data": {
      "text/html": [
       "<table>\n",
       "<thead><tr><th scope=col>mean</th></tr></thead>\n",
       "<tbody>\n",
       "\t<tr><td>146.6875</td></tr>\n",
       "</tbody>\n",
       "</table>\n"
      ],
      "text/latex": [
       "\\begin{tabular}{r|l}\n",
       " mean\\\\\n",
       "\\hline\n",
       "\t 146.6875\\\\\n",
       "\\end{tabular}\n"
      ],
      "text/markdown": [
       "\n",
       "| mean |\n",
       "|---|\n",
       "| 146.6875 |\n",
       "\n"
      ],
      "text/plain": [
       "  mean    \n",
       "1 146.6875"
      ]
     },
     "metadata": {},
     "output_type": "display_data"
    }
   ],
   "source": [
    "mtcars %>% summarise(mean = mean(hp))"
   ]
  },
  {
   "cell_type": "markdown",
   "id": "61d1d1e4",
   "metadata": {},
   "source": [
    "* But if you use the `group_by()` function and `summarise()` together, the summary statistics will be given separately for each group.\n"
   ]
  },
  {
   "cell_type": "code",
   "execution_count": 42,
   "id": "0c7d15db",
   "metadata": {
    "message": false,
    "warning": false
   },
   "outputs": [
    {
     "data": {
      "text/html": [
       "<table>\n",
       "<thead><tr><th scope=col>cyl</th><th scope=col>mean</th></tr></thead>\n",
       "<tbody>\n",
       "\t<tr><td>4        </td><td> 82.63636</td></tr>\n",
       "\t<tr><td>6        </td><td>122.28571</td></tr>\n",
       "\t<tr><td>8        </td><td>209.21429</td></tr>\n",
       "</tbody>\n",
       "</table>\n"
      ],
      "text/latex": [
       "\\begin{tabular}{r|ll}\n",
       " cyl & mean\\\\\n",
       "\\hline\n",
       "\t 4         &  82.63636\\\\\n",
       "\t 6         & 122.28571\\\\\n",
       "\t 8         & 209.21429\\\\\n",
       "\\end{tabular}\n"
      ],
      "text/markdown": [
       "\n",
       "| cyl | mean |\n",
       "|---|---|\n",
       "| 4         |  82.63636 |\n",
       "| 6         | 122.28571 |\n",
       "| 8         | 209.21429 |\n",
       "\n"
      ],
      "text/plain": [
       "  cyl mean     \n",
       "1 4    82.63636\n",
       "2 6   122.28571\n",
       "3 8   209.21429"
      ]
     },
     "metadata": {},
     "output_type": "display_data"
    }
   ],
   "source": [
    "mtcars %>%\n",
    "  group_by(cyl) %>%\n",
    "  summarise(mean = mean(hp))"
   ]
  },
  {
   "cell_type": "markdown",
   "id": "c3fdb27d",
   "metadata": {},
   "source": [
    "* If you wish to use all the data again you should use the function `ungroup()`."
   ]
  },
  {
   "cell_type": "markdown",
   "id": "d335907b",
   "metadata": {},
   "source": [
    "* In the example above the function ``mean()` is used as a summary statistics.\n",
    "* But you can also use some other functions.\n",
    "    * `first()`: First value of a vector.\n",
    "    * `last()`: Last value of a vector.\n",
    "    * `nth()`: nth value of a vector.\n",
    "    * `n()` : number of elements in a vector\n",
    "    * `n_distinct()`: number of distinct elements in a vector.\n",
    "    * `IQR()`: Interquantile range of a vector.\n",
    "    * `min()`: Minimum value of a vector.\n",
    "    * `max()`: Maximum value of a vector.\n",
    "    * `mean()`: Mean value of a vector.\n",
    "    * `median()`: Median value of a vector.\n",
    "    * `var()`: Variance of a vector.\n",
    "    * `sd()`: Standard deviation of a vector.\n",
    "\n",
    "* The following code will give frequency, mean and standard deviation for  the variables `mpg` and `hp` reported separately for four and six cylinder cars. "
   ]
  },
  {
   "cell_type": "code",
   "execution_count": 43,
   "id": "6bade90f",
   "metadata": {
    "message": false,
    "warning": false
   },
   "outputs": [
    {
     "data": {
      "text/html": [
       "<table>\n",
       "<thead><tr><th scope=col>cyl</th><th scope=col>count</th><th scope=col>mean_mpg</th><th scope=col>sd_mpg</th><th scope=col>mean_hp</th><th scope=col>sd_hp</th></tr></thead>\n",
       "<tbody>\n",
       "\t<tr><td>4        </td><td>11       </td><td>26.66364 </td><td>4.509828 </td><td> 82.63636</td><td>20.93453 </td></tr>\n",
       "\t<tr><td>6        </td><td> 7       </td><td>19.74286 </td><td>1.453567 </td><td>122.28571</td><td>24.26049 </td></tr>\n",
       "</tbody>\n",
       "</table>\n"
      ],
      "text/latex": [
       "\\begin{tabular}{r|llllll}\n",
       " cyl & count & mean\\_mpg & sd\\_mpg & mean\\_hp & sd\\_hp\\\\\n",
       "\\hline\n",
       "\t 4         & 11        & 26.66364  & 4.509828  &  82.63636 & 20.93453 \\\\\n",
       "\t 6         &  7        & 19.74286  & 1.453567  & 122.28571 & 24.26049 \\\\\n",
       "\\end{tabular}\n"
      ],
      "text/markdown": [
       "\n",
       "| cyl | count | mean_mpg | sd_mpg | mean_hp | sd_hp |\n",
       "|---|---|---|---|---|---|\n",
       "| 4         | 11        | 26.66364  | 4.509828  |  82.63636 | 20.93453  |\n",
       "| 6         |  7        | 19.74286  | 1.453567  | 122.28571 | 24.26049  |\n",
       "\n"
      ],
      "text/plain": [
       "  cyl count mean_mpg sd_mpg   mean_hp   sd_hp   \n",
       "1 4   11    26.66364 4.509828  82.63636 20.93453\n",
       "2 6    7    19.74286 1.453567 122.28571 24.26049"
      ]
     },
     "metadata": {},
     "output_type": "display_data"
    }
   ],
   "source": [
    "mtcars %>%\n",
    "  select(cyl, mpg, hp) %>%\n",
    "  filter(cyl %in% c(4,6)) %>%\n",
    "  group_by(cyl) %>%\n",
    "  summarise(\n",
    "    count = n(),\n",
    "    mean_mpg = mean(mpg, na.rm = T),\n",
    "    sd_mpg = sd(mpg, na.rm = T),\n",
    "    mean_hp = mean(hp, na.rm = T),\n",
    "    sd_hp = sd(hp, na.rm = T)\n",
    "  )"
   ]
  },
  {
   "cell_type": "markdown",
   "id": "fa2ecd00",
   "metadata": {},
   "source": [
    "### arrange()\n",
    "\n",
    "* `arrange()` function is used to to sort the data according to a variable.\n",
    "* By default, `arrange()` sorts in increasing order. You can use the argument `desc()` to sort in decreasing order.\n"
   ]
  },
  {
   "cell_type": "code",
   "execution_count": 44,
   "id": "486868b5",
   "metadata": {
    "lines_to_next_cell": 2,
    "message": false,
    "warning": false
   },
   "outputs": [
    {
     "data": {
      "text/html": [
       "<table>\n",
       "<thead><tr><th scope=col>mpg</th><th scope=col>cyl</th><th scope=col>disp</th><th scope=col>hp</th><th scope=col>drat</th><th scope=col>wt</th><th scope=col>qsec</th><th scope=col>vs</th><th scope=col>am</th><th scope=col>gear</th><th scope=col>carb</th></tr></thead>\n",
       "<tbody>\n",
       "\t<tr><td>22.8     </td><td>4        </td><td>108.0    </td><td> 93      </td><td>3.85     </td><td>2.320    </td><td>18.61    </td><td>straight </td><td>manual   </td><td>4        </td><td>1        </td></tr>\n",
       "\t<tr><td>24.4     </td><td>4        </td><td>146.7    </td><td> 62      </td><td>3.69     </td><td>3.190    </td><td>20.00    </td><td>straight </td><td>automatic</td><td>4        </td><td>2        </td></tr>\n",
       "\t<tr><td>22.8     </td><td>4        </td><td>140.8    </td><td> 95      </td><td>3.92     </td><td>3.150    </td><td>22.90    </td><td>straight </td><td>automatic</td><td>4        </td><td>2        </td></tr>\n",
       "\t<tr><td>32.4     </td><td>4        </td><td> 78.7    </td><td> 66      </td><td>4.08     </td><td>2.200    </td><td>19.47    </td><td>straight </td><td>manual   </td><td>4        </td><td>1        </td></tr>\n",
       "\t<tr><td>30.4     </td><td>4        </td><td> 75.7    </td><td> 52      </td><td>4.93     </td><td>1.615    </td><td>18.52    </td><td>straight </td><td>manual   </td><td>4        </td><td>2        </td></tr>\n",
       "\t<tr><td>33.9     </td><td>4        </td><td> 71.1    </td><td> 65      </td><td>4.22     </td><td>1.835    </td><td>19.90    </td><td>straight </td><td>manual   </td><td>4        </td><td>1        </td></tr>\n",
       "\t<tr><td>21.5     </td><td>4        </td><td>120.1    </td><td> 97      </td><td>3.70     </td><td>2.465    </td><td>20.01    </td><td>straight </td><td>automatic</td><td>3        </td><td>1        </td></tr>\n",
       "\t<tr><td>27.3     </td><td>4        </td><td> 79.0    </td><td> 66      </td><td>4.08     </td><td>1.935    </td><td>18.90    </td><td>straight </td><td>manual   </td><td>4        </td><td>1        </td></tr>\n",
       "\t<tr><td>26.0     </td><td>4        </td><td>120.3    </td><td> 91      </td><td>4.43     </td><td>2.140    </td><td>16.70    </td><td>V-shaped </td><td>manual   </td><td>5        </td><td>2        </td></tr>\n",
       "\t<tr><td>30.4     </td><td>4        </td><td> 95.1    </td><td>113      </td><td>3.77     </td><td>1.513    </td><td>16.90    </td><td>straight </td><td>manual   </td><td>5        </td><td>2        </td></tr>\n",
       "\t<tr><td>21.4     </td><td>4        </td><td>121.0    </td><td>109      </td><td>4.11     </td><td>2.780    </td><td>18.60    </td><td>straight </td><td>manual   </td><td>4        </td><td>2        </td></tr>\n",
       "\t<tr><td>21.0     </td><td>6        </td><td>160.0    </td><td>110      </td><td>3.90     </td><td>2.620    </td><td>16.46    </td><td>V-shaped </td><td>manual   </td><td>4        </td><td>4        </td></tr>\n",
       "\t<tr><td>21.0     </td><td>6        </td><td>160.0    </td><td>110      </td><td>3.90     </td><td>2.875    </td><td>17.02    </td><td>V-shaped </td><td>manual   </td><td>4        </td><td>4        </td></tr>\n",
       "\t<tr><td>21.4     </td><td>6        </td><td>258.0    </td><td>110      </td><td>3.08     </td><td>3.215    </td><td>19.44    </td><td>straight </td><td>automatic</td><td>3        </td><td>1        </td></tr>\n",
       "\t<tr><td>18.1     </td><td>6        </td><td>225.0    </td><td>105      </td><td>2.76     </td><td>3.460    </td><td>20.22    </td><td>straight </td><td>automatic</td><td>3        </td><td>1        </td></tr>\n",
       "\t<tr><td>19.2     </td><td>6        </td><td>167.6    </td><td>123      </td><td>3.92     </td><td>3.440    </td><td>18.30    </td><td>straight </td><td>automatic</td><td>4        </td><td>4        </td></tr>\n",
       "\t<tr><td>17.8     </td><td>6        </td><td>167.6    </td><td>123      </td><td>3.92     </td><td>3.440    </td><td>18.90    </td><td>straight </td><td>automatic</td><td>4        </td><td>4        </td></tr>\n",
       "\t<tr><td>19.7     </td><td>6        </td><td>145.0    </td><td>175      </td><td>3.62     </td><td>2.770    </td><td>15.50    </td><td>V-shaped </td><td>manual   </td><td>5        </td><td>6        </td></tr>\n",
       "\t<tr><td>18.7     </td><td>8        </td><td>360.0    </td><td>175      </td><td>3.15     </td><td>3.440    </td><td>17.02    </td><td>V-shaped </td><td>automatic</td><td>3        </td><td>2        </td></tr>\n",
       "\t<tr><td>14.3     </td><td>8        </td><td>360.0    </td><td>245      </td><td>3.21     </td><td>3.570    </td><td>15.84    </td><td>V-shaped </td><td>automatic</td><td>3        </td><td>4        </td></tr>\n",
       "\t<tr><td>16.4     </td><td>8        </td><td>275.8    </td><td>180      </td><td>3.07     </td><td>4.070    </td><td>17.40    </td><td>V-shaped </td><td>automatic</td><td>3        </td><td>3        </td></tr>\n",
       "\t<tr><td>17.3     </td><td>8        </td><td>275.8    </td><td>180      </td><td>3.07     </td><td>3.730    </td><td>17.60    </td><td>V-shaped </td><td>automatic</td><td>3        </td><td>3        </td></tr>\n",
       "\t<tr><td>15.2     </td><td>8        </td><td>275.8    </td><td>180      </td><td>3.07     </td><td>3.780    </td><td>18.00    </td><td>V-shaped </td><td>automatic</td><td>3        </td><td>3        </td></tr>\n",
       "\t<tr><td>10.4     </td><td>8        </td><td>472.0    </td><td>205      </td><td>2.93     </td><td>5.250    </td><td>17.98    </td><td>V-shaped </td><td>automatic</td><td>3        </td><td>4        </td></tr>\n",
       "\t<tr><td>10.4     </td><td>8        </td><td>460.0    </td><td>215      </td><td>3.00     </td><td>5.424    </td><td>17.82    </td><td>V-shaped </td><td>automatic</td><td>3        </td><td>4        </td></tr>\n",
       "\t<tr><td>14.7     </td><td>8        </td><td>440.0    </td><td>230      </td><td>3.23     </td><td>5.345    </td><td>17.42    </td><td>V-shaped </td><td>automatic</td><td>3        </td><td>4        </td></tr>\n",
       "\t<tr><td>15.5     </td><td>8        </td><td>318.0    </td><td>150      </td><td>2.76     </td><td>3.520    </td><td>16.87    </td><td>V-shaped </td><td>automatic</td><td>3        </td><td>2        </td></tr>\n",
       "\t<tr><td>15.2     </td><td>8        </td><td>304.0    </td><td>150      </td><td>3.15     </td><td>3.435    </td><td>17.30    </td><td>V-shaped </td><td>automatic</td><td>3        </td><td>2        </td></tr>\n",
       "\t<tr><td>13.3     </td><td>8        </td><td>350.0    </td><td>245      </td><td>3.73     </td><td>3.840    </td><td>15.41    </td><td>V-shaped </td><td>automatic</td><td>3        </td><td>4        </td></tr>\n",
       "\t<tr><td>19.2     </td><td>8        </td><td>400.0    </td><td>175      </td><td>3.08     </td><td>3.845    </td><td>17.05    </td><td>V-shaped </td><td>automatic</td><td>3        </td><td>2        </td></tr>\n",
       "\t<tr><td>15.8     </td><td>8        </td><td>351.0    </td><td>264      </td><td>4.22     </td><td>3.170    </td><td>14.50    </td><td>V-shaped </td><td>manual   </td><td>5        </td><td>4        </td></tr>\n",
       "\t<tr><td>15.0     </td><td>8        </td><td>301.0    </td><td>335      </td><td>3.54     </td><td>3.570    </td><td>14.60    </td><td>V-shaped </td><td>manual   </td><td>5        </td><td>8        </td></tr>\n",
       "</tbody>\n",
       "</table>\n"
      ],
      "text/latex": [
       "\\begin{tabular}{r|lllllllllll}\n",
       " mpg & cyl & disp & hp & drat & wt & qsec & vs & am & gear & carb\\\\\n",
       "\\hline\n",
       "\t 22.8      & 4         & 108.0     &  93       & 3.85      & 2.320     & 18.61     & straight  & manual    & 4         & 1        \\\\\n",
       "\t 24.4      & 4         & 146.7     &  62       & 3.69      & 3.190     & 20.00     & straight  & automatic & 4         & 2        \\\\\n",
       "\t 22.8      & 4         & 140.8     &  95       & 3.92      & 3.150     & 22.90     & straight  & automatic & 4         & 2        \\\\\n",
       "\t 32.4      & 4         &  78.7     &  66       & 4.08      & 2.200     & 19.47     & straight  & manual    & 4         & 1        \\\\\n",
       "\t 30.4      & 4         &  75.7     &  52       & 4.93      & 1.615     & 18.52     & straight  & manual    & 4         & 2        \\\\\n",
       "\t 33.9      & 4         &  71.1     &  65       & 4.22      & 1.835     & 19.90     & straight  & manual    & 4         & 1        \\\\\n",
       "\t 21.5      & 4         & 120.1     &  97       & 3.70      & 2.465     & 20.01     & straight  & automatic & 3         & 1        \\\\\n",
       "\t 27.3      & 4         &  79.0     &  66       & 4.08      & 1.935     & 18.90     & straight  & manual    & 4         & 1        \\\\\n",
       "\t 26.0      & 4         & 120.3     &  91       & 4.43      & 2.140     & 16.70     & V-shaped  & manual    & 5         & 2        \\\\\n",
       "\t 30.4      & 4         &  95.1     & 113       & 3.77      & 1.513     & 16.90     & straight  & manual    & 5         & 2        \\\\\n",
       "\t 21.4      & 4         & 121.0     & 109       & 4.11      & 2.780     & 18.60     & straight  & manual    & 4         & 2        \\\\\n",
       "\t 21.0      & 6         & 160.0     & 110       & 3.90      & 2.620     & 16.46     & V-shaped  & manual    & 4         & 4        \\\\\n",
       "\t 21.0      & 6         & 160.0     & 110       & 3.90      & 2.875     & 17.02     & V-shaped  & manual    & 4         & 4        \\\\\n",
       "\t 21.4      & 6         & 258.0     & 110       & 3.08      & 3.215     & 19.44     & straight  & automatic & 3         & 1        \\\\\n",
       "\t 18.1      & 6         & 225.0     & 105       & 2.76      & 3.460     & 20.22     & straight  & automatic & 3         & 1        \\\\\n",
       "\t 19.2      & 6         & 167.6     & 123       & 3.92      & 3.440     & 18.30     & straight  & automatic & 4         & 4        \\\\\n",
       "\t 17.8      & 6         & 167.6     & 123       & 3.92      & 3.440     & 18.90     & straight  & automatic & 4         & 4        \\\\\n",
       "\t 19.7      & 6         & 145.0     & 175       & 3.62      & 2.770     & 15.50     & V-shaped  & manual    & 5         & 6        \\\\\n",
       "\t 18.7      & 8         & 360.0     & 175       & 3.15      & 3.440     & 17.02     & V-shaped  & automatic & 3         & 2        \\\\\n",
       "\t 14.3      & 8         & 360.0     & 245       & 3.21      & 3.570     & 15.84     & V-shaped  & automatic & 3         & 4        \\\\\n",
       "\t 16.4      & 8         & 275.8     & 180       & 3.07      & 4.070     & 17.40     & V-shaped  & automatic & 3         & 3        \\\\\n",
       "\t 17.3      & 8         & 275.8     & 180       & 3.07      & 3.730     & 17.60     & V-shaped  & automatic & 3         & 3        \\\\\n",
       "\t 15.2      & 8         & 275.8     & 180       & 3.07      & 3.780     & 18.00     & V-shaped  & automatic & 3         & 3        \\\\\n",
       "\t 10.4      & 8         & 472.0     & 205       & 2.93      & 5.250     & 17.98     & V-shaped  & automatic & 3         & 4        \\\\\n",
       "\t 10.4      & 8         & 460.0     & 215       & 3.00      & 5.424     & 17.82     & V-shaped  & automatic & 3         & 4        \\\\\n",
       "\t 14.7      & 8         & 440.0     & 230       & 3.23      & 5.345     & 17.42     & V-shaped  & automatic & 3         & 4        \\\\\n",
       "\t 15.5      & 8         & 318.0     & 150       & 2.76      & 3.520     & 16.87     & V-shaped  & automatic & 3         & 2        \\\\\n",
       "\t 15.2      & 8         & 304.0     & 150       & 3.15      & 3.435     & 17.30     & V-shaped  & automatic & 3         & 2        \\\\\n",
       "\t 13.3      & 8         & 350.0     & 245       & 3.73      & 3.840     & 15.41     & V-shaped  & automatic & 3         & 4        \\\\\n",
       "\t 19.2      & 8         & 400.0     & 175       & 3.08      & 3.845     & 17.05     & V-shaped  & automatic & 3         & 2        \\\\\n",
       "\t 15.8      & 8         & 351.0     & 264       & 4.22      & 3.170     & 14.50     & V-shaped  & manual    & 5         & 4        \\\\\n",
       "\t 15.0      & 8         & 301.0     & 335       & 3.54      & 3.570     & 14.60     & V-shaped  & manual    & 5         & 8        \\\\\n",
       "\\end{tabular}\n"
      ],
      "text/markdown": [
       "\n",
       "| mpg | cyl | disp | hp | drat | wt | qsec | vs | am | gear | carb |\n",
       "|---|---|---|---|---|---|---|---|---|---|---|\n",
       "| 22.8      | 4         | 108.0     |  93       | 3.85      | 2.320     | 18.61     | straight  | manual    | 4         | 1         |\n",
       "| 24.4      | 4         | 146.7     |  62       | 3.69      | 3.190     | 20.00     | straight  | automatic | 4         | 2         |\n",
       "| 22.8      | 4         | 140.8     |  95       | 3.92      | 3.150     | 22.90     | straight  | automatic | 4         | 2         |\n",
       "| 32.4      | 4         |  78.7     |  66       | 4.08      | 2.200     | 19.47     | straight  | manual    | 4         | 1         |\n",
       "| 30.4      | 4         |  75.7     |  52       | 4.93      | 1.615     | 18.52     | straight  | manual    | 4         | 2         |\n",
       "| 33.9      | 4         |  71.1     |  65       | 4.22      | 1.835     | 19.90     | straight  | manual    | 4         | 1         |\n",
       "| 21.5      | 4         | 120.1     |  97       | 3.70      | 2.465     | 20.01     | straight  | automatic | 3         | 1         |\n",
       "| 27.3      | 4         |  79.0     |  66       | 4.08      | 1.935     | 18.90     | straight  | manual    | 4         | 1         |\n",
       "| 26.0      | 4         | 120.3     |  91       | 4.43      | 2.140     | 16.70     | V-shaped  | manual    | 5         | 2         |\n",
       "| 30.4      | 4         |  95.1     | 113       | 3.77      | 1.513     | 16.90     | straight  | manual    | 5         | 2         |\n",
       "| 21.4      | 4         | 121.0     | 109       | 4.11      | 2.780     | 18.60     | straight  | manual    | 4         | 2         |\n",
       "| 21.0      | 6         | 160.0     | 110       | 3.90      | 2.620     | 16.46     | V-shaped  | manual    | 4         | 4         |\n",
       "| 21.0      | 6         | 160.0     | 110       | 3.90      | 2.875     | 17.02     | V-shaped  | manual    | 4         | 4         |\n",
       "| 21.4      | 6         | 258.0     | 110       | 3.08      | 3.215     | 19.44     | straight  | automatic | 3         | 1         |\n",
       "| 18.1      | 6         | 225.0     | 105       | 2.76      | 3.460     | 20.22     | straight  | automatic | 3         | 1         |\n",
       "| 19.2      | 6         | 167.6     | 123       | 3.92      | 3.440     | 18.30     | straight  | automatic | 4         | 4         |\n",
       "| 17.8      | 6         | 167.6     | 123       | 3.92      | 3.440     | 18.90     | straight  | automatic | 4         | 4         |\n",
       "| 19.7      | 6         | 145.0     | 175       | 3.62      | 2.770     | 15.50     | V-shaped  | manual    | 5         | 6         |\n",
       "| 18.7      | 8         | 360.0     | 175       | 3.15      | 3.440     | 17.02     | V-shaped  | automatic | 3         | 2         |\n",
       "| 14.3      | 8         | 360.0     | 245       | 3.21      | 3.570     | 15.84     | V-shaped  | automatic | 3         | 4         |\n",
       "| 16.4      | 8         | 275.8     | 180       | 3.07      | 4.070     | 17.40     | V-shaped  | automatic | 3         | 3         |\n",
       "| 17.3      | 8         | 275.8     | 180       | 3.07      | 3.730     | 17.60     | V-shaped  | automatic | 3         | 3         |\n",
       "| 15.2      | 8         | 275.8     | 180       | 3.07      | 3.780     | 18.00     | V-shaped  | automatic | 3         | 3         |\n",
       "| 10.4      | 8         | 472.0     | 205       | 2.93      | 5.250     | 17.98     | V-shaped  | automatic | 3         | 4         |\n",
       "| 10.4      | 8         | 460.0     | 215       | 3.00      | 5.424     | 17.82     | V-shaped  | automatic | 3         | 4         |\n",
       "| 14.7      | 8         | 440.0     | 230       | 3.23      | 5.345     | 17.42     | V-shaped  | automatic | 3         | 4         |\n",
       "| 15.5      | 8         | 318.0     | 150       | 2.76      | 3.520     | 16.87     | V-shaped  | automatic | 3         | 2         |\n",
       "| 15.2      | 8         | 304.0     | 150       | 3.15      | 3.435     | 17.30     | V-shaped  | automatic | 3         | 2         |\n",
       "| 13.3      | 8         | 350.0     | 245       | 3.73      | 3.840     | 15.41     | V-shaped  | automatic | 3         | 4         |\n",
       "| 19.2      | 8         | 400.0     | 175       | 3.08      | 3.845     | 17.05     | V-shaped  | automatic | 3         | 2         |\n",
       "| 15.8      | 8         | 351.0     | 264       | 4.22      | 3.170     | 14.50     | V-shaped  | manual    | 5         | 4         |\n",
       "| 15.0      | 8         | 301.0     | 335       | 3.54      | 3.570     | 14.60     | V-shaped  | manual    | 5         | 8         |\n",
       "\n"
      ],
      "text/plain": [
       "   mpg  cyl disp  hp  drat wt    qsec  vs       am        gear carb\n",
       "1  22.8 4   108.0  93 3.85 2.320 18.61 straight manual    4    1   \n",
       "2  24.4 4   146.7  62 3.69 3.190 20.00 straight automatic 4    2   \n",
       "3  22.8 4   140.8  95 3.92 3.150 22.90 straight automatic 4    2   \n",
       "4  32.4 4    78.7  66 4.08 2.200 19.47 straight manual    4    1   \n",
       "5  30.4 4    75.7  52 4.93 1.615 18.52 straight manual    4    2   \n",
       "6  33.9 4    71.1  65 4.22 1.835 19.90 straight manual    4    1   \n",
       "7  21.5 4   120.1  97 3.70 2.465 20.01 straight automatic 3    1   \n",
       "8  27.3 4    79.0  66 4.08 1.935 18.90 straight manual    4    1   \n",
       "9  26.0 4   120.3  91 4.43 2.140 16.70 V-shaped manual    5    2   \n",
       "10 30.4 4    95.1 113 3.77 1.513 16.90 straight manual    5    2   \n",
       "11 21.4 4   121.0 109 4.11 2.780 18.60 straight manual    4    2   \n",
       "12 21.0 6   160.0 110 3.90 2.620 16.46 V-shaped manual    4    4   \n",
       "13 21.0 6   160.0 110 3.90 2.875 17.02 V-shaped manual    4    4   \n",
       "14 21.4 6   258.0 110 3.08 3.215 19.44 straight automatic 3    1   \n",
       "15 18.1 6   225.0 105 2.76 3.460 20.22 straight automatic 3    1   \n",
       "16 19.2 6   167.6 123 3.92 3.440 18.30 straight automatic 4    4   \n",
       "17 17.8 6   167.6 123 3.92 3.440 18.90 straight automatic 4    4   \n",
       "18 19.7 6   145.0 175 3.62 2.770 15.50 V-shaped manual    5    6   \n",
       "19 18.7 8   360.0 175 3.15 3.440 17.02 V-shaped automatic 3    2   \n",
       "20 14.3 8   360.0 245 3.21 3.570 15.84 V-shaped automatic 3    4   \n",
       "21 16.4 8   275.8 180 3.07 4.070 17.40 V-shaped automatic 3    3   \n",
       "22 17.3 8   275.8 180 3.07 3.730 17.60 V-shaped automatic 3    3   \n",
       "23 15.2 8   275.8 180 3.07 3.780 18.00 V-shaped automatic 3    3   \n",
       "24 10.4 8   472.0 205 2.93 5.250 17.98 V-shaped automatic 3    4   \n",
       "25 10.4 8   460.0 215 3.00 5.424 17.82 V-shaped automatic 3    4   \n",
       "26 14.7 8   440.0 230 3.23 5.345 17.42 V-shaped automatic 3    4   \n",
       "27 15.5 8   318.0 150 2.76 3.520 16.87 V-shaped automatic 3    2   \n",
       "28 15.2 8   304.0 150 3.15 3.435 17.30 V-shaped automatic 3    2   \n",
       "29 13.3 8   350.0 245 3.73 3.840 15.41 V-shaped automatic 3    4   \n",
       "30 19.2 8   400.0 175 3.08 3.845 17.05 V-shaped automatic 3    2   \n",
       "31 15.8 8   351.0 264 4.22 3.170 14.50 V-shaped manual    5    4   \n",
       "32 15.0 8   301.0 335 3.54 3.570 14.60 V-shaped manual    5    8   "
      ]
     },
     "metadata": {},
     "output_type": "display_data"
    }
   ],
   "source": [
    "mtcars %>% arrange(cyl)"
   ]
  },
  {
   "cell_type": "code",
   "execution_count": 45,
   "id": "af755a43",
   "metadata": {
    "lines_to_next_cell": 2,
    "message": false,
    "warning": false
   },
   "outputs": [
    {
     "data": {
      "text/html": [
       "<table>\n",
       "<thead><tr><th scope=col>mpg</th><th scope=col>cyl</th><th scope=col>disp</th><th scope=col>hp</th><th scope=col>drat</th><th scope=col>wt</th><th scope=col>qsec</th><th scope=col>vs</th><th scope=col>am</th><th scope=col>gear</th><th scope=col>carb</th></tr></thead>\n",
       "<tbody>\n",
       "\t<tr><td>33.9     </td><td>4        </td><td> 71.1    </td><td> 65      </td><td>4.22     </td><td>1.835    </td><td>19.90    </td><td>straight </td><td>manual   </td><td>4        </td><td>1        </td></tr>\n",
       "\t<tr><td>32.4     </td><td>4        </td><td> 78.7    </td><td> 66      </td><td>4.08     </td><td>2.200    </td><td>19.47    </td><td>straight </td><td>manual   </td><td>4        </td><td>1        </td></tr>\n",
       "\t<tr><td>30.4     </td><td>4        </td><td> 75.7    </td><td> 52      </td><td>4.93     </td><td>1.615    </td><td>18.52    </td><td>straight </td><td>manual   </td><td>4        </td><td>2        </td></tr>\n",
       "\t<tr><td>30.4     </td><td>4        </td><td> 95.1    </td><td>113      </td><td>3.77     </td><td>1.513    </td><td>16.90    </td><td>straight </td><td>manual   </td><td>5        </td><td>2        </td></tr>\n",
       "\t<tr><td>27.3     </td><td>4        </td><td> 79.0    </td><td> 66      </td><td>4.08     </td><td>1.935    </td><td>18.90    </td><td>straight </td><td>manual   </td><td>4        </td><td>1        </td></tr>\n",
       "\t<tr><td>26.0     </td><td>4        </td><td>120.3    </td><td> 91      </td><td>4.43     </td><td>2.140    </td><td>16.70    </td><td>V-shaped </td><td>manual   </td><td>5        </td><td>2        </td></tr>\n",
       "\t<tr><td>24.4     </td><td>4        </td><td>146.7    </td><td> 62      </td><td>3.69     </td><td>3.190    </td><td>20.00    </td><td>straight </td><td>automatic</td><td>4        </td><td>2        </td></tr>\n",
       "\t<tr><td>22.8     </td><td>4        </td><td>108.0    </td><td> 93      </td><td>3.85     </td><td>2.320    </td><td>18.61    </td><td>straight </td><td>manual   </td><td>4        </td><td>1        </td></tr>\n",
       "\t<tr><td>22.8     </td><td>4        </td><td>140.8    </td><td> 95      </td><td>3.92     </td><td>3.150    </td><td>22.90    </td><td>straight </td><td>automatic</td><td>4        </td><td>2        </td></tr>\n",
       "\t<tr><td>21.5     </td><td>4        </td><td>120.1    </td><td> 97      </td><td>3.70     </td><td>2.465    </td><td>20.01    </td><td>straight </td><td>automatic</td><td>3        </td><td>1        </td></tr>\n",
       "\t<tr><td>21.4     </td><td>6        </td><td>258.0    </td><td>110      </td><td>3.08     </td><td>3.215    </td><td>19.44    </td><td>straight </td><td>automatic</td><td>3        </td><td>1        </td></tr>\n",
       "\t<tr><td>21.4     </td><td>4        </td><td>121.0    </td><td>109      </td><td>4.11     </td><td>2.780    </td><td>18.60    </td><td>straight </td><td>manual   </td><td>4        </td><td>2        </td></tr>\n",
       "\t<tr><td>21.0     </td><td>6        </td><td>160.0    </td><td>110      </td><td>3.90     </td><td>2.620    </td><td>16.46    </td><td>V-shaped </td><td>manual   </td><td>4        </td><td>4        </td></tr>\n",
       "\t<tr><td>21.0     </td><td>6        </td><td>160.0    </td><td>110      </td><td>3.90     </td><td>2.875    </td><td>17.02    </td><td>V-shaped </td><td>manual   </td><td>4        </td><td>4        </td></tr>\n",
       "\t<tr><td>19.7     </td><td>6        </td><td>145.0    </td><td>175      </td><td>3.62     </td><td>2.770    </td><td>15.50    </td><td>V-shaped </td><td>manual   </td><td>5        </td><td>6        </td></tr>\n",
       "\t<tr><td>19.2     </td><td>6        </td><td>167.6    </td><td>123      </td><td>3.92     </td><td>3.440    </td><td>18.30    </td><td>straight </td><td>automatic</td><td>4        </td><td>4        </td></tr>\n",
       "\t<tr><td>19.2     </td><td>8        </td><td>400.0    </td><td>175      </td><td>3.08     </td><td>3.845    </td><td>17.05    </td><td>V-shaped </td><td>automatic</td><td>3        </td><td>2        </td></tr>\n",
       "\t<tr><td>18.7     </td><td>8        </td><td>360.0    </td><td>175      </td><td>3.15     </td><td>3.440    </td><td>17.02    </td><td>V-shaped </td><td>automatic</td><td>3        </td><td>2        </td></tr>\n",
       "\t<tr><td>18.1     </td><td>6        </td><td>225.0    </td><td>105      </td><td>2.76     </td><td>3.460    </td><td>20.22    </td><td>straight </td><td>automatic</td><td>3        </td><td>1        </td></tr>\n",
       "\t<tr><td>17.8     </td><td>6        </td><td>167.6    </td><td>123      </td><td>3.92     </td><td>3.440    </td><td>18.90    </td><td>straight </td><td>automatic</td><td>4        </td><td>4        </td></tr>\n",
       "\t<tr><td>17.3     </td><td>8        </td><td>275.8    </td><td>180      </td><td>3.07     </td><td>3.730    </td><td>17.60    </td><td>V-shaped </td><td>automatic</td><td>3        </td><td>3        </td></tr>\n",
       "\t<tr><td>16.4     </td><td>8        </td><td>275.8    </td><td>180      </td><td>3.07     </td><td>4.070    </td><td>17.40    </td><td>V-shaped </td><td>automatic</td><td>3        </td><td>3        </td></tr>\n",
       "\t<tr><td>15.8     </td><td>8        </td><td>351.0    </td><td>264      </td><td>4.22     </td><td>3.170    </td><td>14.50    </td><td>V-shaped </td><td>manual   </td><td>5        </td><td>4        </td></tr>\n",
       "\t<tr><td>15.5     </td><td>8        </td><td>318.0    </td><td>150      </td><td>2.76     </td><td>3.520    </td><td>16.87    </td><td>V-shaped </td><td>automatic</td><td>3        </td><td>2        </td></tr>\n",
       "\t<tr><td>15.2     </td><td>8        </td><td>275.8    </td><td>180      </td><td>3.07     </td><td>3.780    </td><td>18.00    </td><td>V-shaped </td><td>automatic</td><td>3        </td><td>3        </td></tr>\n",
       "\t<tr><td>15.2     </td><td>8        </td><td>304.0    </td><td>150      </td><td>3.15     </td><td>3.435    </td><td>17.30    </td><td>V-shaped </td><td>automatic</td><td>3        </td><td>2        </td></tr>\n",
       "\t<tr><td>15.0     </td><td>8        </td><td>301.0    </td><td>335      </td><td>3.54     </td><td>3.570    </td><td>14.60    </td><td>V-shaped </td><td>manual   </td><td>5        </td><td>8        </td></tr>\n",
       "\t<tr><td>14.7     </td><td>8        </td><td>440.0    </td><td>230      </td><td>3.23     </td><td>5.345    </td><td>17.42    </td><td>V-shaped </td><td>automatic</td><td>3        </td><td>4        </td></tr>\n",
       "\t<tr><td>14.3     </td><td>8        </td><td>360.0    </td><td>245      </td><td>3.21     </td><td>3.570    </td><td>15.84    </td><td>V-shaped </td><td>automatic</td><td>3        </td><td>4        </td></tr>\n",
       "\t<tr><td>13.3     </td><td>8        </td><td>350.0    </td><td>245      </td><td>3.73     </td><td>3.840    </td><td>15.41    </td><td>V-shaped </td><td>automatic</td><td>3        </td><td>4        </td></tr>\n",
       "\t<tr><td>10.4     </td><td>8        </td><td>472.0    </td><td>205      </td><td>2.93     </td><td>5.250    </td><td>17.98    </td><td>V-shaped </td><td>automatic</td><td>3        </td><td>4        </td></tr>\n",
       "\t<tr><td>10.4     </td><td>8        </td><td>460.0    </td><td>215      </td><td>3.00     </td><td>5.424    </td><td>17.82    </td><td>V-shaped </td><td>automatic</td><td>3        </td><td>4        </td></tr>\n",
       "</tbody>\n",
       "</table>\n"
      ],
      "text/latex": [
       "\\begin{tabular}{r|lllllllllll}\n",
       " mpg & cyl & disp & hp & drat & wt & qsec & vs & am & gear & carb\\\\\n",
       "\\hline\n",
       "\t 33.9      & 4         &  71.1     &  65       & 4.22      & 1.835     & 19.90     & straight  & manual    & 4         & 1        \\\\\n",
       "\t 32.4      & 4         &  78.7     &  66       & 4.08      & 2.200     & 19.47     & straight  & manual    & 4         & 1        \\\\\n",
       "\t 30.4      & 4         &  75.7     &  52       & 4.93      & 1.615     & 18.52     & straight  & manual    & 4         & 2        \\\\\n",
       "\t 30.4      & 4         &  95.1     & 113       & 3.77      & 1.513     & 16.90     & straight  & manual    & 5         & 2        \\\\\n",
       "\t 27.3      & 4         &  79.0     &  66       & 4.08      & 1.935     & 18.90     & straight  & manual    & 4         & 1        \\\\\n",
       "\t 26.0      & 4         & 120.3     &  91       & 4.43      & 2.140     & 16.70     & V-shaped  & manual    & 5         & 2        \\\\\n",
       "\t 24.4      & 4         & 146.7     &  62       & 3.69      & 3.190     & 20.00     & straight  & automatic & 4         & 2        \\\\\n",
       "\t 22.8      & 4         & 108.0     &  93       & 3.85      & 2.320     & 18.61     & straight  & manual    & 4         & 1        \\\\\n",
       "\t 22.8      & 4         & 140.8     &  95       & 3.92      & 3.150     & 22.90     & straight  & automatic & 4         & 2        \\\\\n",
       "\t 21.5      & 4         & 120.1     &  97       & 3.70      & 2.465     & 20.01     & straight  & automatic & 3         & 1        \\\\\n",
       "\t 21.4      & 6         & 258.0     & 110       & 3.08      & 3.215     & 19.44     & straight  & automatic & 3         & 1        \\\\\n",
       "\t 21.4      & 4         & 121.0     & 109       & 4.11      & 2.780     & 18.60     & straight  & manual    & 4         & 2        \\\\\n",
       "\t 21.0      & 6         & 160.0     & 110       & 3.90      & 2.620     & 16.46     & V-shaped  & manual    & 4         & 4        \\\\\n",
       "\t 21.0      & 6         & 160.0     & 110       & 3.90      & 2.875     & 17.02     & V-shaped  & manual    & 4         & 4        \\\\\n",
       "\t 19.7      & 6         & 145.0     & 175       & 3.62      & 2.770     & 15.50     & V-shaped  & manual    & 5         & 6        \\\\\n",
       "\t 19.2      & 6         & 167.6     & 123       & 3.92      & 3.440     & 18.30     & straight  & automatic & 4         & 4        \\\\\n",
       "\t 19.2      & 8         & 400.0     & 175       & 3.08      & 3.845     & 17.05     & V-shaped  & automatic & 3         & 2        \\\\\n",
       "\t 18.7      & 8         & 360.0     & 175       & 3.15      & 3.440     & 17.02     & V-shaped  & automatic & 3         & 2        \\\\\n",
       "\t 18.1      & 6         & 225.0     & 105       & 2.76      & 3.460     & 20.22     & straight  & automatic & 3         & 1        \\\\\n",
       "\t 17.8      & 6         & 167.6     & 123       & 3.92      & 3.440     & 18.90     & straight  & automatic & 4         & 4        \\\\\n",
       "\t 17.3      & 8         & 275.8     & 180       & 3.07      & 3.730     & 17.60     & V-shaped  & automatic & 3         & 3        \\\\\n",
       "\t 16.4      & 8         & 275.8     & 180       & 3.07      & 4.070     & 17.40     & V-shaped  & automatic & 3         & 3        \\\\\n",
       "\t 15.8      & 8         & 351.0     & 264       & 4.22      & 3.170     & 14.50     & V-shaped  & manual    & 5         & 4        \\\\\n",
       "\t 15.5      & 8         & 318.0     & 150       & 2.76      & 3.520     & 16.87     & V-shaped  & automatic & 3         & 2        \\\\\n",
       "\t 15.2      & 8         & 275.8     & 180       & 3.07      & 3.780     & 18.00     & V-shaped  & automatic & 3         & 3        \\\\\n",
       "\t 15.2      & 8         & 304.0     & 150       & 3.15      & 3.435     & 17.30     & V-shaped  & automatic & 3         & 2        \\\\\n",
       "\t 15.0      & 8         & 301.0     & 335       & 3.54      & 3.570     & 14.60     & V-shaped  & manual    & 5         & 8        \\\\\n",
       "\t 14.7      & 8         & 440.0     & 230       & 3.23      & 5.345     & 17.42     & V-shaped  & automatic & 3         & 4        \\\\\n",
       "\t 14.3      & 8         & 360.0     & 245       & 3.21      & 3.570     & 15.84     & V-shaped  & automatic & 3         & 4        \\\\\n",
       "\t 13.3      & 8         & 350.0     & 245       & 3.73      & 3.840     & 15.41     & V-shaped  & automatic & 3         & 4        \\\\\n",
       "\t 10.4      & 8         & 472.0     & 205       & 2.93      & 5.250     & 17.98     & V-shaped  & automatic & 3         & 4        \\\\\n",
       "\t 10.4      & 8         & 460.0     & 215       & 3.00      & 5.424     & 17.82     & V-shaped  & automatic & 3         & 4        \\\\\n",
       "\\end{tabular}\n"
      ],
      "text/markdown": [
       "\n",
       "| mpg | cyl | disp | hp | drat | wt | qsec | vs | am | gear | carb |\n",
       "|---|---|---|---|---|---|---|---|---|---|---|\n",
       "| 33.9      | 4         |  71.1     |  65       | 4.22      | 1.835     | 19.90     | straight  | manual    | 4         | 1         |\n",
       "| 32.4      | 4         |  78.7     |  66       | 4.08      | 2.200     | 19.47     | straight  | manual    | 4         | 1         |\n",
       "| 30.4      | 4         |  75.7     |  52       | 4.93      | 1.615     | 18.52     | straight  | manual    | 4         | 2         |\n",
       "| 30.4      | 4         |  95.1     | 113       | 3.77      | 1.513     | 16.90     | straight  | manual    | 5         | 2         |\n",
       "| 27.3      | 4         |  79.0     |  66       | 4.08      | 1.935     | 18.90     | straight  | manual    | 4         | 1         |\n",
       "| 26.0      | 4         | 120.3     |  91       | 4.43      | 2.140     | 16.70     | V-shaped  | manual    | 5         | 2         |\n",
       "| 24.4      | 4         | 146.7     |  62       | 3.69      | 3.190     | 20.00     | straight  | automatic | 4         | 2         |\n",
       "| 22.8      | 4         | 108.0     |  93       | 3.85      | 2.320     | 18.61     | straight  | manual    | 4         | 1         |\n",
       "| 22.8      | 4         | 140.8     |  95       | 3.92      | 3.150     | 22.90     | straight  | automatic | 4         | 2         |\n",
       "| 21.5      | 4         | 120.1     |  97       | 3.70      | 2.465     | 20.01     | straight  | automatic | 3         | 1         |\n",
       "| 21.4      | 6         | 258.0     | 110       | 3.08      | 3.215     | 19.44     | straight  | automatic | 3         | 1         |\n",
       "| 21.4      | 4         | 121.0     | 109       | 4.11      | 2.780     | 18.60     | straight  | manual    | 4         | 2         |\n",
       "| 21.0      | 6         | 160.0     | 110       | 3.90      | 2.620     | 16.46     | V-shaped  | manual    | 4         | 4         |\n",
       "| 21.0      | 6         | 160.0     | 110       | 3.90      | 2.875     | 17.02     | V-shaped  | manual    | 4         | 4         |\n",
       "| 19.7      | 6         | 145.0     | 175       | 3.62      | 2.770     | 15.50     | V-shaped  | manual    | 5         | 6         |\n",
       "| 19.2      | 6         | 167.6     | 123       | 3.92      | 3.440     | 18.30     | straight  | automatic | 4         | 4         |\n",
       "| 19.2      | 8         | 400.0     | 175       | 3.08      | 3.845     | 17.05     | V-shaped  | automatic | 3         | 2         |\n",
       "| 18.7      | 8         | 360.0     | 175       | 3.15      | 3.440     | 17.02     | V-shaped  | automatic | 3         | 2         |\n",
       "| 18.1      | 6         | 225.0     | 105       | 2.76      | 3.460     | 20.22     | straight  | automatic | 3         | 1         |\n",
       "| 17.8      | 6         | 167.6     | 123       | 3.92      | 3.440     | 18.90     | straight  | automatic | 4         | 4         |\n",
       "| 17.3      | 8         | 275.8     | 180       | 3.07      | 3.730     | 17.60     | V-shaped  | automatic | 3         | 3         |\n",
       "| 16.4      | 8         | 275.8     | 180       | 3.07      | 4.070     | 17.40     | V-shaped  | automatic | 3         | 3         |\n",
       "| 15.8      | 8         | 351.0     | 264       | 4.22      | 3.170     | 14.50     | V-shaped  | manual    | 5         | 4         |\n",
       "| 15.5      | 8         | 318.0     | 150       | 2.76      | 3.520     | 16.87     | V-shaped  | automatic | 3         | 2         |\n",
       "| 15.2      | 8         | 275.8     | 180       | 3.07      | 3.780     | 18.00     | V-shaped  | automatic | 3         | 3         |\n",
       "| 15.2      | 8         | 304.0     | 150       | 3.15      | 3.435     | 17.30     | V-shaped  | automatic | 3         | 2         |\n",
       "| 15.0      | 8         | 301.0     | 335       | 3.54      | 3.570     | 14.60     | V-shaped  | manual    | 5         | 8         |\n",
       "| 14.7      | 8         | 440.0     | 230       | 3.23      | 5.345     | 17.42     | V-shaped  | automatic | 3         | 4         |\n",
       "| 14.3      | 8         | 360.0     | 245       | 3.21      | 3.570     | 15.84     | V-shaped  | automatic | 3         | 4         |\n",
       "| 13.3      | 8         | 350.0     | 245       | 3.73      | 3.840     | 15.41     | V-shaped  | automatic | 3         | 4         |\n",
       "| 10.4      | 8         | 472.0     | 205       | 2.93      | 5.250     | 17.98     | V-shaped  | automatic | 3         | 4         |\n",
       "| 10.4      | 8         | 460.0     | 215       | 3.00      | 5.424     | 17.82     | V-shaped  | automatic | 3         | 4         |\n",
       "\n"
      ],
      "text/plain": [
       "   mpg  cyl disp  hp  drat wt    qsec  vs       am        gear carb\n",
       "1  33.9 4    71.1  65 4.22 1.835 19.90 straight manual    4    1   \n",
       "2  32.4 4    78.7  66 4.08 2.200 19.47 straight manual    4    1   \n",
       "3  30.4 4    75.7  52 4.93 1.615 18.52 straight manual    4    2   \n",
       "4  30.4 4    95.1 113 3.77 1.513 16.90 straight manual    5    2   \n",
       "5  27.3 4    79.0  66 4.08 1.935 18.90 straight manual    4    1   \n",
       "6  26.0 4   120.3  91 4.43 2.140 16.70 V-shaped manual    5    2   \n",
       "7  24.4 4   146.7  62 3.69 3.190 20.00 straight automatic 4    2   \n",
       "8  22.8 4   108.0  93 3.85 2.320 18.61 straight manual    4    1   \n",
       "9  22.8 4   140.8  95 3.92 3.150 22.90 straight automatic 4    2   \n",
       "10 21.5 4   120.1  97 3.70 2.465 20.01 straight automatic 3    1   \n",
       "11 21.4 6   258.0 110 3.08 3.215 19.44 straight automatic 3    1   \n",
       "12 21.4 4   121.0 109 4.11 2.780 18.60 straight manual    4    2   \n",
       "13 21.0 6   160.0 110 3.90 2.620 16.46 V-shaped manual    4    4   \n",
       "14 21.0 6   160.0 110 3.90 2.875 17.02 V-shaped manual    4    4   \n",
       "15 19.7 6   145.0 175 3.62 2.770 15.50 V-shaped manual    5    6   \n",
       "16 19.2 6   167.6 123 3.92 3.440 18.30 straight automatic 4    4   \n",
       "17 19.2 8   400.0 175 3.08 3.845 17.05 V-shaped automatic 3    2   \n",
       "18 18.7 8   360.0 175 3.15 3.440 17.02 V-shaped automatic 3    2   \n",
       "19 18.1 6   225.0 105 2.76 3.460 20.22 straight automatic 3    1   \n",
       "20 17.8 6   167.6 123 3.92 3.440 18.90 straight automatic 4    4   \n",
       "21 17.3 8   275.8 180 3.07 3.730 17.60 V-shaped automatic 3    3   \n",
       "22 16.4 8   275.8 180 3.07 4.070 17.40 V-shaped automatic 3    3   \n",
       "23 15.8 8   351.0 264 4.22 3.170 14.50 V-shaped manual    5    4   \n",
       "24 15.5 8   318.0 150 2.76 3.520 16.87 V-shaped automatic 3    2   \n",
       "25 15.2 8   275.8 180 3.07 3.780 18.00 V-shaped automatic 3    3   \n",
       "26 15.2 8   304.0 150 3.15 3.435 17.30 V-shaped automatic 3    2   \n",
       "27 15.0 8   301.0 335 3.54 3.570 14.60 V-shaped manual    5    8   \n",
       "28 14.7 8   440.0 230 3.23 5.345 17.42 V-shaped automatic 3    4   \n",
       "29 14.3 8   360.0 245 3.21 3.570 15.84 V-shaped automatic 3    4   \n",
       "30 13.3 8   350.0 245 3.73 3.840 15.41 V-shaped automatic 3    4   \n",
       "31 10.4 8   472.0 205 2.93 5.250 17.98 V-shaped automatic 3    4   \n",
       "32 10.4 8   460.0 215 3.00 5.424 17.82 V-shaped automatic 3    4   "
      ]
     },
     "metadata": {},
     "output_type": "display_data"
    }
   ],
   "source": [
    "mtcars %>% arrange(desc(mpg))"
   ]
  },
  {
   "cell_type": "code",
   "execution_count": 46,
   "id": "559c5ef4",
   "metadata": {
    "message": false,
    "warning": false
   },
   "outputs": [
    {
     "data": {
      "text/html": [
       "<table>\n",
       "<thead><tr><th scope=col>mpg</th><th scope=col>cyl</th><th scope=col>disp</th><th scope=col>hp</th><th scope=col>drat</th><th scope=col>wt</th><th scope=col>qsec</th><th scope=col>vs</th><th scope=col>am</th><th scope=col>gear</th><th scope=col>carb</th></tr></thead>\n",
       "<tbody>\n",
       "\t<tr><td>33.9     </td><td>4        </td><td> 71.1    </td><td> 65      </td><td>4.22     </td><td>1.835    </td><td>19.90    </td><td>straight </td><td>manual   </td><td>4        </td><td>1        </td></tr>\n",
       "\t<tr><td>32.4     </td><td>4        </td><td> 78.7    </td><td> 66      </td><td>4.08     </td><td>2.200    </td><td>19.47    </td><td>straight </td><td>manual   </td><td>4        </td><td>1        </td></tr>\n",
       "\t<tr><td>30.4     </td><td>4        </td><td> 75.7    </td><td> 52      </td><td>4.93     </td><td>1.615    </td><td>18.52    </td><td>straight </td><td>manual   </td><td>4        </td><td>2        </td></tr>\n",
       "\t<tr><td>30.4     </td><td>4        </td><td> 95.1    </td><td>113      </td><td>3.77     </td><td>1.513    </td><td>16.90    </td><td>straight </td><td>manual   </td><td>5        </td><td>2        </td></tr>\n",
       "\t<tr><td>27.3     </td><td>4        </td><td> 79.0    </td><td> 66      </td><td>4.08     </td><td>1.935    </td><td>18.90    </td><td>straight </td><td>manual   </td><td>4        </td><td>1        </td></tr>\n",
       "\t<tr><td>26.0     </td><td>4        </td><td>120.3    </td><td> 91      </td><td>4.43     </td><td>2.140    </td><td>16.70    </td><td>V-shaped </td><td>manual   </td><td>5        </td><td>2        </td></tr>\n",
       "\t<tr><td>24.4     </td><td>4        </td><td>146.7    </td><td> 62      </td><td>3.69     </td><td>3.190    </td><td>20.00    </td><td>straight </td><td>automatic</td><td>4        </td><td>2        </td></tr>\n",
       "\t<tr><td>22.8     </td><td>4        </td><td>108.0    </td><td> 93      </td><td>3.85     </td><td>2.320    </td><td>18.61    </td><td>straight </td><td>manual   </td><td>4        </td><td>1        </td></tr>\n",
       "\t<tr><td>22.8     </td><td>4        </td><td>140.8    </td><td> 95      </td><td>3.92     </td><td>3.150    </td><td>22.90    </td><td>straight </td><td>automatic</td><td>4        </td><td>2        </td></tr>\n",
       "\t<tr><td>21.5     </td><td>4        </td><td>120.1    </td><td> 97      </td><td>3.70     </td><td>2.465    </td><td>20.01    </td><td>straight </td><td>automatic</td><td>3        </td><td>1        </td></tr>\n",
       "\t<tr><td>21.4     </td><td>4        </td><td>121.0    </td><td>109      </td><td>4.11     </td><td>2.780    </td><td>18.60    </td><td>straight </td><td>manual   </td><td>4        </td><td>2        </td></tr>\n",
       "\t<tr><td>21.4     </td><td>6        </td><td>258.0    </td><td>110      </td><td>3.08     </td><td>3.215    </td><td>19.44    </td><td>straight </td><td>automatic</td><td>3        </td><td>1        </td></tr>\n",
       "\t<tr><td>21.0     </td><td>6        </td><td>160.0    </td><td>110      </td><td>3.90     </td><td>2.620    </td><td>16.46    </td><td>V-shaped </td><td>manual   </td><td>4        </td><td>4        </td></tr>\n",
       "\t<tr><td>21.0     </td><td>6        </td><td>160.0    </td><td>110      </td><td>3.90     </td><td>2.875    </td><td>17.02    </td><td>V-shaped </td><td>manual   </td><td>4        </td><td>4        </td></tr>\n",
       "\t<tr><td>19.7     </td><td>6        </td><td>145.0    </td><td>175      </td><td>3.62     </td><td>2.770    </td><td>15.50    </td><td>V-shaped </td><td>manual   </td><td>5        </td><td>6        </td></tr>\n",
       "\t<tr><td>19.2     </td><td>6        </td><td>167.6    </td><td>123      </td><td>3.92     </td><td>3.440    </td><td>18.30    </td><td>straight </td><td>automatic</td><td>4        </td><td>4        </td></tr>\n",
       "\t<tr><td>18.1     </td><td>6        </td><td>225.0    </td><td>105      </td><td>2.76     </td><td>3.460    </td><td>20.22    </td><td>straight </td><td>automatic</td><td>3        </td><td>1        </td></tr>\n",
       "\t<tr><td>17.8     </td><td>6        </td><td>167.6    </td><td>123      </td><td>3.92     </td><td>3.440    </td><td>18.90    </td><td>straight </td><td>automatic</td><td>4        </td><td>4        </td></tr>\n",
       "\t<tr><td>19.2     </td><td>8        </td><td>400.0    </td><td>175      </td><td>3.08     </td><td>3.845    </td><td>17.05    </td><td>V-shaped </td><td>automatic</td><td>3        </td><td>2        </td></tr>\n",
       "\t<tr><td>18.7     </td><td>8        </td><td>360.0    </td><td>175      </td><td>3.15     </td><td>3.440    </td><td>17.02    </td><td>V-shaped </td><td>automatic</td><td>3        </td><td>2        </td></tr>\n",
       "\t<tr><td>17.3     </td><td>8        </td><td>275.8    </td><td>180      </td><td>3.07     </td><td>3.730    </td><td>17.60    </td><td>V-shaped </td><td>automatic</td><td>3        </td><td>3        </td></tr>\n",
       "\t<tr><td>16.4     </td><td>8        </td><td>275.8    </td><td>180      </td><td>3.07     </td><td>4.070    </td><td>17.40    </td><td>V-shaped </td><td>automatic</td><td>3        </td><td>3        </td></tr>\n",
       "\t<tr><td>15.8     </td><td>8        </td><td>351.0    </td><td>264      </td><td>4.22     </td><td>3.170    </td><td>14.50    </td><td>V-shaped </td><td>manual   </td><td>5        </td><td>4        </td></tr>\n",
       "\t<tr><td>15.5     </td><td>8        </td><td>318.0    </td><td>150      </td><td>2.76     </td><td>3.520    </td><td>16.87    </td><td>V-shaped </td><td>automatic</td><td>3        </td><td>2        </td></tr>\n",
       "\t<tr><td>15.2     </td><td>8        </td><td>275.8    </td><td>180      </td><td>3.07     </td><td>3.780    </td><td>18.00    </td><td>V-shaped </td><td>automatic</td><td>3        </td><td>3        </td></tr>\n",
       "\t<tr><td>15.2     </td><td>8        </td><td>304.0    </td><td>150      </td><td>3.15     </td><td>3.435    </td><td>17.30    </td><td>V-shaped </td><td>automatic</td><td>3        </td><td>2        </td></tr>\n",
       "\t<tr><td>15.0     </td><td>8        </td><td>301.0    </td><td>335      </td><td>3.54     </td><td>3.570    </td><td>14.60    </td><td>V-shaped </td><td>manual   </td><td>5        </td><td>8        </td></tr>\n",
       "\t<tr><td>14.7     </td><td>8        </td><td>440.0    </td><td>230      </td><td>3.23     </td><td>5.345    </td><td>17.42    </td><td>V-shaped </td><td>automatic</td><td>3        </td><td>4        </td></tr>\n",
       "\t<tr><td>14.3     </td><td>8        </td><td>360.0    </td><td>245      </td><td>3.21     </td><td>3.570    </td><td>15.84    </td><td>V-shaped </td><td>automatic</td><td>3        </td><td>4        </td></tr>\n",
       "\t<tr><td>13.3     </td><td>8        </td><td>350.0    </td><td>245      </td><td>3.73     </td><td>3.840    </td><td>15.41    </td><td>V-shaped </td><td>automatic</td><td>3        </td><td>4        </td></tr>\n",
       "\t<tr><td>10.4     </td><td>8        </td><td>472.0    </td><td>205      </td><td>2.93     </td><td>5.250    </td><td>17.98    </td><td>V-shaped </td><td>automatic</td><td>3        </td><td>4        </td></tr>\n",
       "\t<tr><td>10.4     </td><td>8        </td><td>460.0    </td><td>215      </td><td>3.00     </td><td>5.424    </td><td>17.82    </td><td>V-shaped </td><td>automatic</td><td>3        </td><td>4        </td></tr>\n",
       "</tbody>\n",
       "</table>\n"
      ],
      "text/latex": [
       "\\begin{tabular}{r|lllllllllll}\n",
       " mpg & cyl & disp & hp & drat & wt & qsec & vs & am & gear & carb\\\\\n",
       "\\hline\n",
       "\t 33.9      & 4         &  71.1     &  65       & 4.22      & 1.835     & 19.90     & straight  & manual    & 4         & 1        \\\\\n",
       "\t 32.4      & 4         &  78.7     &  66       & 4.08      & 2.200     & 19.47     & straight  & manual    & 4         & 1        \\\\\n",
       "\t 30.4      & 4         &  75.7     &  52       & 4.93      & 1.615     & 18.52     & straight  & manual    & 4         & 2        \\\\\n",
       "\t 30.4      & 4         &  95.1     & 113       & 3.77      & 1.513     & 16.90     & straight  & manual    & 5         & 2        \\\\\n",
       "\t 27.3      & 4         &  79.0     &  66       & 4.08      & 1.935     & 18.90     & straight  & manual    & 4         & 1        \\\\\n",
       "\t 26.0      & 4         & 120.3     &  91       & 4.43      & 2.140     & 16.70     & V-shaped  & manual    & 5         & 2        \\\\\n",
       "\t 24.4      & 4         & 146.7     &  62       & 3.69      & 3.190     & 20.00     & straight  & automatic & 4         & 2        \\\\\n",
       "\t 22.8      & 4         & 108.0     &  93       & 3.85      & 2.320     & 18.61     & straight  & manual    & 4         & 1        \\\\\n",
       "\t 22.8      & 4         & 140.8     &  95       & 3.92      & 3.150     & 22.90     & straight  & automatic & 4         & 2        \\\\\n",
       "\t 21.5      & 4         & 120.1     &  97       & 3.70      & 2.465     & 20.01     & straight  & automatic & 3         & 1        \\\\\n",
       "\t 21.4      & 4         & 121.0     & 109       & 4.11      & 2.780     & 18.60     & straight  & manual    & 4         & 2        \\\\\n",
       "\t 21.4      & 6         & 258.0     & 110       & 3.08      & 3.215     & 19.44     & straight  & automatic & 3         & 1        \\\\\n",
       "\t 21.0      & 6         & 160.0     & 110       & 3.90      & 2.620     & 16.46     & V-shaped  & manual    & 4         & 4        \\\\\n",
       "\t 21.0      & 6         & 160.0     & 110       & 3.90      & 2.875     & 17.02     & V-shaped  & manual    & 4         & 4        \\\\\n",
       "\t 19.7      & 6         & 145.0     & 175       & 3.62      & 2.770     & 15.50     & V-shaped  & manual    & 5         & 6        \\\\\n",
       "\t 19.2      & 6         & 167.6     & 123       & 3.92      & 3.440     & 18.30     & straight  & automatic & 4         & 4        \\\\\n",
       "\t 18.1      & 6         & 225.0     & 105       & 2.76      & 3.460     & 20.22     & straight  & automatic & 3         & 1        \\\\\n",
       "\t 17.8      & 6         & 167.6     & 123       & 3.92      & 3.440     & 18.90     & straight  & automatic & 4         & 4        \\\\\n",
       "\t 19.2      & 8         & 400.0     & 175       & 3.08      & 3.845     & 17.05     & V-shaped  & automatic & 3         & 2        \\\\\n",
       "\t 18.7      & 8         & 360.0     & 175       & 3.15      & 3.440     & 17.02     & V-shaped  & automatic & 3         & 2        \\\\\n",
       "\t 17.3      & 8         & 275.8     & 180       & 3.07      & 3.730     & 17.60     & V-shaped  & automatic & 3         & 3        \\\\\n",
       "\t 16.4      & 8         & 275.8     & 180       & 3.07      & 4.070     & 17.40     & V-shaped  & automatic & 3         & 3        \\\\\n",
       "\t 15.8      & 8         & 351.0     & 264       & 4.22      & 3.170     & 14.50     & V-shaped  & manual    & 5         & 4        \\\\\n",
       "\t 15.5      & 8         & 318.0     & 150       & 2.76      & 3.520     & 16.87     & V-shaped  & automatic & 3         & 2        \\\\\n",
       "\t 15.2      & 8         & 275.8     & 180       & 3.07      & 3.780     & 18.00     & V-shaped  & automatic & 3         & 3        \\\\\n",
       "\t 15.2      & 8         & 304.0     & 150       & 3.15      & 3.435     & 17.30     & V-shaped  & automatic & 3         & 2        \\\\\n",
       "\t 15.0      & 8         & 301.0     & 335       & 3.54      & 3.570     & 14.60     & V-shaped  & manual    & 5         & 8        \\\\\n",
       "\t 14.7      & 8         & 440.0     & 230       & 3.23      & 5.345     & 17.42     & V-shaped  & automatic & 3         & 4        \\\\\n",
       "\t 14.3      & 8         & 360.0     & 245       & 3.21      & 3.570     & 15.84     & V-shaped  & automatic & 3         & 4        \\\\\n",
       "\t 13.3      & 8         & 350.0     & 245       & 3.73      & 3.840     & 15.41     & V-shaped  & automatic & 3         & 4        \\\\\n",
       "\t 10.4      & 8         & 472.0     & 205       & 2.93      & 5.250     & 17.98     & V-shaped  & automatic & 3         & 4        \\\\\n",
       "\t 10.4      & 8         & 460.0     & 215       & 3.00      & 5.424     & 17.82     & V-shaped  & automatic & 3         & 4        \\\\\n",
       "\\end{tabular}\n"
      ],
      "text/markdown": [
       "\n",
       "| mpg | cyl | disp | hp | drat | wt | qsec | vs | am | gear | carb |\n",
       "|---|---|---|---|---|---|---|---|---|---|---|\n",
       "| 33.9      | 4         |  71.1     |  65       | 4.22      | 1.835     | 19.90     | straight  | manual    | 4         | 1         |\n",
       "| 32.4      | 4         |  78.7     |  66       | 4.08      | 2.200     | 19.47     | straight  | manual    | 4         | 1         |\n",
       "| 30.4      | 4         |  75.7     |  52       | 4.93      | 1.615     | 18.52     | straight  | manual    | 4         | 2         |\n",
       "| 30.4      | 4         |  95.1     | 113       | 3.77      | 1.513     | 16.90     | straight  | manual    | 5         | 2         |\n",
       "| 27.3      | 4         |  79.0     |  66       | 4.08      | 1.935     | 18.90     | straight  | manual    | 4         | 1         |\n",
       "| 26.0      | 4         | 120.3     |  91       | 4.43      | 2.140     | 16.70     | V-shaped  | manual    | 5         | 2         |\n",
       "| 24.4      | 4         | 146.7     |  62       | 3.69      | 3.190     | 20.00     | straight  | automatic | 4         | 2         |\n",
       "| 22.8      | 4         | 108.0     |  93       | 3.85      | 2.320     | 18.61     | straight  | manual    | 4         | 1         |\n",
       "| 22.8      | 4         | 140.8     |  95       | 3.92      | 3.150     | 22.90     | straight  | automatic | 4         | 2         |\n",
       "| 21.5      | 4         | 120.1     |  97       | 3.70      | 2.465     | 20.01     | straight  | automatic | 3         | 1         |\n",
       "| 21.4      | 4         | 121.0     | 109       | 4.11      | 2.780     | 18.60     | straight  | manual    | 4         | 2         |\n",
       "| 21.4      | 6         | 258.0     | 110       | 3.08      | 3.215     | 19.44     | straight  | automatic | 3         | 1         |\n",
       "| 21.0      | 6         | 160.0     | 110       | 3.90      | 2.620     | 16.46     | V-shaped  | manual    | 4         | 4         |\n",
       "| 21.0      | 6         | 160.0     | 110       | 3.90      | 2.875     | 17.02     | V-shaped  | manual    | 4         | 4         |\n",
       "| 19.7      | 6         | 145.0     | 175       | 3.62      | 2.770     | 15.50     | V-shaped  | manual    | 5         | 6         |\n",
       "| 19.2      | 6         | 167.6     | 123       | 3.92      | 3.440     | 18.30     | straight  | automatic | 4         | 4         |\n",
       "| 18.1      | 6         | 225.0     | 105       | 2.76      | 3.460     | 20.22     | straight  | automatic | 3         | 1         |\n",
       "| 17.8      | 6         | 167.6     | 123       | 3.92      | 3.440     | 18.90     | straight  | automatic | 4         | 4         |\n",
       "| 19.2      | 8         | 400.0     | 175       | 3.08      | 3.845     | 17.05     | V-shaped  | automatic | 3         | 2         |\n",
       "| 18.7      | 8         | 360.0     | 175       | 3.15      | 3.440     | 17.02     | V-shaped  | automatic | 3         | 2         |\n",
       "| 17.3      | 8         | 275.8     | 180       | 3.07      | 3.730     | 17.60     | V-shaped  | automatic | 3         | 3         |\n",
       "| 16.4      | 8         | 275.8     | 180       | 3.07      | 4.070     | 17.40     | V-shaped  | automatic | 3         | 3         |\n",
       "| 15.8      | 8         | 351.0     | 264       | 4.22      | 3.170     | 14.50     | V-shaped  | manual    | 5         | 4         |\n",
       "| 15.5      | 8         | 318.0     | 150       | 2.76      | 3.520     | 16.87     | V-shaped  | automatic | 3         | 2         |\n",
       "| 15.2      | 8         | 275.8     | 180       | 3.07      | 3.780     | 18.00     | V-shaped  | automatic | 3         | 3         |\n",
       "| 15.2      | 8         | 304.0     | 150       | 3.15      | 3.435     | 17.30     | V-shaped  | automatic | 3         | 2         |\n",
       "| 15.0      | 8         | 301.0     | 335       | 3.54      | 3.570     | 14.60     | V-shaped  | manual    | 5         | 8         |\n",
       "| 14.7      | 8         | 440.0     | 230       | 3.23      | 5.345     | 17.42     | V-shaped  | automatic | 3         | 4         |\n",
       "| 14.3      | 8         | 360.0     | 245       | 3.21      | 3.570     | 15.84     | V-shaped  | automatic | 3         | 4         |\n",
       "| 13.3      | 8         | 350.0     | 245       | 3.73      | 3.840     | 15.41     | V-shaped  | automatic | 3         | 4         |\n",
       "| 10.4      | 8         | 472.0     | 205       | 2.93      | 5.250     | 17.98     | V-shaped  | automatic | 3         | 4         |\n",
       "| 10.4      | 8         | 460.0     | 215       | 3.00      | 5.424     | 17.82     | V-shaped  | automatic | 3         | 4         |\n",
       "\n"
      ],
      "text/plain": [
       "   mpg  cyl disp  hp  drat wt    qsec  vs       am        gear carb\n",
       "1  33.9 4    71.1  65 4.22 1.835 19.90 straight manual    4    1   \n",
       "2  32.4 4    78.7  66 4.08 2.200 19.47 straight manual    4    1   \n",
       "3  30.4 4    75.7  52 4.93 1.615 18.52 straight manual    4    2   \n",
       "4  30.4 4    95.1 113 3.77 1.513 16.90 straight manual    5    2   \n",
       "5  27.3 4    79.0  66 4.08 1.935 18.90 straight manual    4    1   \n",
       "6  26.0 4   120.3  91 4.43 2.140 16.70 V-shaped manual    5    2   \n",
       "7  24.4 4   146.7  62 3.69 3.190 20.00 straight automatic 4    2   \n",
       "8  22.8 4   108.0  93 3.85 2.320 18.61 straight manual    4    1   \n",
       "9  22.8 4   140.8  95 3.92 3.150 22.90 straight automatic 4    2   \n",
       "10 21.5 4   120.1  97 3.70 2.465 20.01 straight automatic 3    1   \n",
       "11 21.4 4   121.0 109 4.11 2.780 18.60 straight manual    4    2   \n",
       "12 21.4 6   258.0 110 3.08 3.215 19.44 straight automatic 3    1   \n",
       "13 21.0 6   160.0 110 3.90 2.620 16.46 V-shaped manual    4    4   \n",
       "14 21.0 6   160.0 110 3.90 2.875 17.02 V-shaped manual    4    4   \n",
       "15 19.7 6   145.0 175 3.62 2.770 15.50 V-shaped manual    5    6   \n",
       "16 19.2 6   167.6 123 3.92 3.440 18.30 straight automatic 4    4   \n",
       "17 18.1 6   225.0 105 2.76 3.460 20.22 straight automatic 3    1   \n",
       "18 17.8 6   167.6 123 3.92 3.440 18.90 straight automatic 4    4   \n",
       "19 19.2 8   400.0 175 3.08 3.845 17.05 V-shaped automatic 3    2   \n",
       "20 18.7 8   360.0 175 3.15 3.440 17.02 V-shaped automatic 3    2   \n",
       "21 17.3 8   275.8 180 3.07 3.730 17.60 V-shaped automatic 3    3   \n",
       "22 16.4 8   275.8 180 3.07 4.070 17.40 V-shaped automatic 3    3   \n",
       "23 15.8 8   351.0 264 4.22 3.170 14.50 V-shaped manual    5    4   \n",
       "24 15.5 8   318.0 150 2.76 3.520 16.87 V-shaped automatic 3    2   \n",
       "25 15.2 8   275.8 180 3.07 3.780 18.00 V-shaped automatic 3    3   \n",
       "26 15.2 8   304.0 150 3.15 3.435 17.30 V-shaped automatic 3    2   \n",
       "27 15.0 8   301.0 335 3.54 3.570 14.60 V-shaped manual    5    8   \n",
       "28 14.7 8   440.0 230 3.23 5.345 17.42 V-shaped automatic 3    4   \n",
       "29 14.3 8   360.0 245 3.21 3.570 15.84 V-shaped automatic 3    4   \n",
       "30 13.3 8   350.0 245 3.73 3.840 15.41 V-shaped automatic 3    4   \n",
       "31 10.4 8   472.0 205 2.93 5.250 17.98 V-shaped automatic 3    4   \n",
       "32 10.4 8   460.0 215 3.00 5.424 17.82 V-shaped automatic 3    4   "
      ]
     },
     "metadata": {},
     "output_type": "display_data"
    }
   ],
   "source": [
    "mtcars %>% arrange(cyl, desc(mpg))"
   ]
  },
  {
   "cell_type": "markdown",
   "id": "f7a2f7a1",
   "metadata": {},
   "source": [
    "### mutate()\n",
    "\n",
    "* `mutate()` is used to create a new variable from the data.\n",
    "* The `mpg()` variable stands for $\\texttt{miles per galon}$ now let's create a new variable called `galon for 100 miles`.\n",
    "* You can calculate this variable with,\n",
    "$$g100m = \\frac{1}{mpg}\\times 100$$\n"
   ]
  },
  {
   "cell_type": "code",
   "execution_count": 47,
   "id": "520d28e3",
   "metadata": {
    "message": false,
    "warning": false
   },
   "outputs": [
    {
     "data": {
      "text/html": [
       "<table>\n",
       "<thead><tr><th scope=col>mpg</th><th scope=col>cyl</th><th scope=col>disp</th><th scope=col>hp</th><th scope=col>drat</th><th scope=col>wt</th><th scope=col>qsec</th><th scope=col>vs</th><th scope=col>am</th><th scope=col>gear</th><th scope=col>carb</th><th scope=col>g100m</th></tr></thead>\n",
       "<tbody>\n",
       "\t<tr><td>33.9     </td><td>4        </td><td> 71.1    </td><td> 65      </td><td>4.22     </td><td>1.835    </td><td>19.90    </td><td>straight </td><td>manual   </td><td>4        </td><td>1        </td><td>2.950    </td></tr>\n",
       "\t<tr><td>32.4     </td><td>4        </td><td> 78.7    </td><td> 66      </td><td>4.08     </td><td>2.200    </td><td>19.47    </td><td>straight </td><td>manual   </td><td>4        </td><td>1        </td><td>3.086    </td></tr>\n",
       "\t<tr><td>30.4     </td><td>4        </td><td> 75.7    </td><td> 52      </td><td>4.93     </td><td>1.615    </td><td>18.52    </td><td>straight </td><td>manual   </td><td>4        </td><td>2        </td><td>3.289    </td></tr>\n",
       "\t<tr><td>30.4     </td><td>4        </td><td> 95.1    </td><td>113      </td><td>3.77     </td><td>1.513    </td><td>16.90    </td><td>straight </td><td>manual   </td><td>5        </td><td>2        </td><td>3.289    </td></tr>\n",
       "\t<tr><td>27.3     </td><td>4        </td><td> 79.0    </td><td> 66      </td><td>4.08     </td><td>1.935    </td><td>18.90    </td><td>straight </td><td>manual   </td><td>4        </td><td>1        </td><td>3.663    </td></tr>\n",
       "\t<tr><td>26.0     </td><td>4        </td><td>120.3    </td><td> 91      </td><td>4.43     </td><td>2.140    </td><td>16.70    </td><td>V-shaped </td><td>manual   </td><td>5        </td><td>2        </td><td>3.846    </td></tr>\n",
       "\t<tr><td>24.4     </td><td>4        </td><td>146.7    </td><td> 62      </td><td>3.69     </td><td>3.190    </td><td>20.00    </td><td>straight </td><td>automatic</td><td>4        </td><td>2        </td><td>4.098    </td></tr>\n",
       "\t<tr><td>22.8     </td><td>4        </td><td>108.0    </td><td> 93      </td><td>3.85     </td><td>2.320    </td><td>18.61    </td><td>straight </td><td>manual   </td><td>4        </td><td>1        </td><td>4.386    </td></tr>\n",
       "\t<tr><td>22.8     </td><td>4        </td><td>140.8    </td><td> 95      </td><td>3.92     </td><td>3.150    </td><td>22.90    </td><td>straight </td><td>automatic</td><td>4        </td><td>2        </td><td>4.386    </td></tr>\n",
       "\t<tr><td>21.5     </td><td>4        </td><td>120.1    </td><td> 97      </td><td>3.70     </td><td>2.465    </td><td>20.01    </td><td>straight </td><td>automatic</td><td>3        </td><td>1        </td><td>4.651    </td></tr>\n",
       "\t<tr><td>21.4     </td><td>6        </td><td>258.0    </td><td>110      </td><td>3.08     </td><td>3.215    </td><td>19.44    </td><td>straight </td><td>automatic</td><td>3        </td><td>1        </td><td>4.673    </td></tr>\n",
       "\t<tr><td>21.4     </td><td>4        </td><td>121.0    </td><td>109      </td><td>4.11     </td><td>2.780    </td><td>18.60    </td><td>straight </td><td>manual   </td><td>4        </td><td>2        </td><td>4.673    </td></tr>\n",
       "\t<tr><td>21.0     </td><td>6        </td><td>160.0    </td><td>110      </td><td>3.90     </td><td>2.620    </td><td>16.46    </td><td>V-shaped </td><td>manual   </td><td>4        </td><td>4        </td><td>4.762    </td></tr>\n",
       "\t<tr><td>21.0     </td><td>6        </td><td>160.0    </td><td>110      </td><td>3.90     </td><td>2.875    </td><td>17.02    </td><td>V-shaped </td><td>manual   </td><td>4        </td><td>4        </td><td>4.762    </td></tr>\n",
       "\t<tr><td>19.7     </td><td>6        </td><td>145.0    </td><td>175      </td><td>3.62     </td><td>2.770    </td><td>15.50    </td><td>V-shaped </td><td>manual   </td><td>5        </td><td>6        </td><td>5.076    </td></tr>\n",
       "\t<tr><td>19.2     </td><td>6        </td><td>167.6    </td><td>123      </td><td>3.92     </td><td>3.440    </td><td>18.30    </td><td>straight </td><td>automatic</td><td>4        </td><td>4        </td><td>5.208    </td></tr>\n",
       "\t<tr><td>19.2     </td><td>8        </td><td>400.0    </td><td>175      </td><td>3.08     </td><td>3.845    </td><td>17.05    </td><td>V-shaped </td><td>automatic</td><td>3        </td><td>2        </td><td>5.208    </td></tr>\n",
       "\t<tr><td>18.7     </td><td>8        </td><td>360.0    </td><td>175      </td><td>3.15     </td><td>3.440    </td><td>17.02    </td><td>V-shaped </td><td>automatic</td><td>3        </td><td>2        </td><td>5.348    </td></tr>\n",
       "\t<tr><td>18.1     </td><td>6        </td><td>225.0    </td><td>105      </td><td>2.76     </td><td>3.460    </td><td>20.22    </td><td>straight </td><td>automatic</td><td>3        </td><td>1        </td><td>5.525    </td></tr>\n",
       "\t<tr><td>17.8     </td><td>6        </td><td>167.6    </td><td>123      </td><td>3.92     </td><td>3.440    </td><td>18.90    </td><td>straight </td><td>automatic</td><td>4        </td><td>4        </td><td>5.618    </td></tr>\n",
       "\t<tr><td>17.3     </td><td>8        </td><td>275.8    </td><td>180      </td><td>3.07     </td><td>3.730    </td><td>17.60    </td><td>V-shaped </td><td>automatic</td><td>3        </td><td>3        </td><td>5.780    </td></tr>\n",
       "\t<tr><td>16.4     </td><td>8        </td><td>275.8    </td><td>180      </td><td>3.07     </td><td>4.070    </td><td>17.40    </td><td>V-shaped </td><td>automatic</td><td>3        </td><td>3        </td><td>6.098    </td></tr>\n",
       "\t<tr><td>15.8     </td><td>8        </td><td>351.0    </td><td>264      </td><td>4.22     </td><td>3.170    </td><td>14.50    </td><td>V-shaped </td><td>manual   </td><td>5        </td><td>4        </td><td>6.329    </td></tr>\n",
       "\t<tr><td>15.5     </td><td>8        </td><td>318.0    </td><td>150      </td><td>2.76     </td><td>3.520    </td><td>16.87    </td><td>V-shaped </td><td>automatic</td><td>3        </td><td>2        </td><td>6.452    </td></tr>\n",
       "\t<tr><td>15.2     </td><td>8        </td><td>275.8    </td><td>180      </td><td>3.07     </td><td>3.780    </td><td>18.00    </td><td>V-shaped </td><td>automatic</td><td>3        </td><td>3        </td><td>6.579    </td></tr>\n",
       "\t<tr><td>15.2     </td><td>8        </td><td>304.0    </td><td>150      </td><td>3.15     </td><td>3.435    </td><td>17.30    </td><td>V-shaped </td><td>automatic</td><td>3        </td><td>2        </td><td>6.579    </td></tr>\n",
       "\t<tr><td>15.0     </td><td>8        </td><td>301.0    </td><td>335      </td><td>3.54     </td><td>3.570    </td><td>14.60    </td><td>V-shaped </td><td>manual   </td><td>5        </td><td>8        </td><td>6.667    </td></tr>\n",
       "\t<tr><td>14.7     </td><td>8        </td><td>440.0    </td><td>230      </td><td>3.23     </td><td>5.345    </td><td>17.42    </td><td>V-shaped </td><td>automatic</td><td>3        </td><td>4        </td><td>6.803    </td></tr>\n",
       "\t<tr><td>14.3     </td><td>8        </td><td>360.0    </td><td>245      </td><td>3.21     </td><td>3.570    </td><td>15.84    </td><td>V-shaped </td><td>automatic</td><td>3        </td><td>4        </td><td>6.993    </td></tr>\n",
       "\t<tr><td>13.3     </td><td>8        </td><td>350.0    </td><td>245      </td><td>3.73     </td><td>3.840    </td><td>15.41    </td><td>V-shaped </td><td>automatic</td><td>3        </td><td>4        </td><td>7.519    </td></tr>\n",
       "\t<tr><td>10.4     </td><td>8        </td><td>472.0    </td><td>205      </td><td>2.93     </td><td>5.250    </td><td>17.98    </td><td>V-shaped </td><td>automatic</td><td>3        </td><td>4        </td><td>9.615    </td></tr>\n",
       "\t<tr><td>10.4     </td><td>8        </td><td>460.0    </td><td>215      </td><td>3.00     </td><td>5.424    </td><td>17.82    </td><td>V-shaped </td><td>automatic</td><td>3        </td><td>4        </td><td>9.615    </td></tr>\n",
       "</tbody>\n",
       "</table>\n"
      ],
      "text/latex": [
       "\\begin{tabular}{r|llllllllllll}\n",
       " mpg & cyl & disp & hp & drat & wt & qsec & vs & am & gear & carb & g100m\\\\\n",
       "\\hline\n",
       "\t 33.9      & 4         &  71.1     &  65       & 4.22      & 1.835     & 19.90     & straight  & manual    & 4         & 1         & 2.950    \\\\\n",
       "\t 32.4      & 4         &  78.7     &  66       & 4.08      & 2.200     & 19.47     & straight  & manual    & 4         & 1         & 3.086    \\\\\n",
       "\t 30.4      & 4         &  75.7     &  52       & 4.93      & 1.615     & 18.52     & straight  & manual    & 4         & 2         & 3.289    \\\\\n",
       "\t 30.4      & 4         &  95.1     & 113       & 3.77      & 1.513     & 16.90     & straight  & manual    & 5         & 2         & 3.289    \\\\\n",
       "\t 27.3      & 4         &  79.0     &  66       & 4.08      & 1.935     & 18.90     & straight  & manual    & 4         & 1         & 3.663    \\\\\n",
       "\t 26.0      & 4         & 120.3     &  91       & 4.43      & 2.140     & 16.70     & V-shaped  & manual    & 5         & 2         & 3.846    \\\\\n",
       "\t 24.4      & 4         & 146.7     &  62       & 3.69      & 3.190     & 20.00     & straight  & automatic & 4         & 2         & 4.098    \\\\\n",
       "\t 22.8      & 4         & 108.0     &  93       & 3.85      & 2.320     & 18.61     & straight  & manual    & 4         & 1         & 4.386    \\\\\n",
       "\t 22.8      & 4         & 140.8     &  95       & 3.92      & 3.150     & 22.90     & straight  & automatic & 4         & 2         & 4.386    \\\\\n",
       "\t 21.5      & 4         & 120.1     &  97       & 3.70      & 2.465     & 20.01     & straight  & automatic & 3         & 1         & 4.651    \\\\\n",
       "\t 21.4      & 6         & 258.0     & 110       & 3.08      & 3.215     & 19.44     & straight  & automatic & 3         & 1         & 4.673    \\\\\n",
       "\t 21.4      & 4         & 121.0     & 109       & 4.11      & 2.780     & 18.60     & straight  & manual    & 4         & 2         & 4.673    \\\\\n",
       "\t 21.0      & 6         & 160.0     & 110       & 3.90      & 2.620     & 16.46     & V-shaped  & manual    & 4         & 4         & 4.762    \\\\\n",
       "\t 21.0      & 6         & 160.0     & 110       & 3.90      & 2.875     & 17.02     & V-shaped  & manual    & 4         & 4         & 4.762    \\\\\n",
       "\t 19.7      & 6         & 145.0     & 175       & 3.62      & 2.770     & 15.50     & V-shaped  & manual    & 5         & 6         & 5.076    \\\\\n",
       "\t 19.2      & 6         & 167.6     & 123       & 3.92      & 3.440     & 18.30     & straight  & automatic & 4         & 4         & 5.208    \\\\\n",
       "\t 19.2      & 8         & 400.0     & 175       & 3.08      & 3.845     & 17.05     & V-shaped  & automatic & 3         & 2         & 5.208    \\\\\n",
       "\t 18.7      & 8         & 360.0     & 175       & 3.15      & 3.440     & 17.02     & V-shaped  & automatic & 3         & 2         & 5.348    \\\\\n",
       "\t 18.1      & 6         & 225.0     & 105       & 2.76      & 3.460     & 20.22     & straight  & automatic & 3         & 1         & 5.525    \\\\\n",
       "\t 17.8      & 6         & 167.6     & 123       & 3.92      & 3.440     & 18.90     & straight  & automatic & 4         & 4         & 5.618    \\\\\n",
       "\t 17.3      & 8         & 275.8     & 180       & 3.07      & 3.730     & 17.60     & V-shaped  & automatic & 3         & 3         & 5.780    \\\\\n",
       "\t 16.4      & 8         & 275.8     & 180       & 3.07      & 4.070     & 17.40     & V-shaped  & automatic & 3         & 3         & 6.098    \\\\\n",
       "\t 15.8      & 8         & 351.0     & 264       & 4.22      & 3.170     & 14.50     & V-shaped  & manual    & 5         & 4         & 6.329    \\\\\n",
       "\t 15.5      & 8         & 318.0     & 150       & 2.76      & 3.520     & 16.87     & V-shaped  & automatic & 3         & 2         & 6.452    \\\\\n",
       "\t 15.2      & 8         & 275.8     & 180       & 3.07      & 3.780     & 18.00     & V-shaped  & automatic & 3         & 3         & 6.579    \\\\\n",
       "\t 15.2      & 8         & 304.0     & 150       & 3.15      & 3.435     & 17.30     & V-shaped  & automatic & 3         & 2         & 6.579    \\\\\n",
       "\t 15.0      & 8         & 301.0     & 335       & 3.54      & 3.570     & 14.60     & V-shaped  & manual    & 5         & 8         & 6.667    \\\\\n",
       "\t 14.7      & 8         & 440.0     & 230       & 3.23      & 5.345     & 17.42     & V-shaped  & automatic & 3         & 4         & 6.803    \\\\\n",
       "\t 14.3      & 8         & 360.0     & 245       & 3.21      & 3.570     & 15.84     & V-shaped  & automatic & 3         & 4         & 6.993    \\\\\n",
       "\t 13.3      & 8         & 350.0     & 245       & 3.73      & 3.840     & 15.41     & V-shaped  & automatic & 3         & 4         & 7.519    \\\\\n",
       "\t 10.4      & 8         & 472.0     & 205       & 2.93      & 5.250     & 17.98     & V-shaped  & automatic & 3         & 4         & 9.615    \\\\\n",
       "\t 10.4      & 8         & 460.0     & 215       & 3.00      & 5.424     & 17.82     & V-shaped  & automatic & 3         & 4         & 9.615    \\\\\n",
       "\\end{tabular}\n"
      ],
      "text/markdown": [
       "\n",
       "| mpg | cyl | disp | hp | drat | wt | qsec | vs | am | gear | carb | g100m |\n",
       "|---|---|---|---|---|---|---|---|---|---|---|---|\n",
       "| 33.9      | 4         |  71.1     |  65       | 4.22      | 1.835     | 19.90     | straight  | manual    | 4         | 1         | 2.950     |\n",
       "| 32.4      | 4         |  78.7     |  66       | 4.08      | 2.200     | 19.47     | straight  | manual    | 4         | 1         | 3.086     |\n",
       "| 30.4      | 4         |  75.7     |  52       | 4.93      | 1.615     | 18.52     | straight  | manual    | 4         | 2         | 3.289     |\n",
       "| 30.4      | 4         |  95.1     | 113       | 3.77      | 1.513     | 16.90     | straight  | manual    | 5         | 2         | 3.289     |\n",
       "| 27.3      | 4         |  79.0     |  66       | 4.08      | 1.935     | 18.90     | straight  | manual    | 4         | 1         | 3.663     |\n",
       "| 26.0      | 4         | 120.3     |  91       | 4.43      | 2.140     | 16.70     | V-shaped  | manual    | 5         | 2         | 3.846     |\n",
       "| 24.4      | 4         | 146.7     |  62       | 3.69      | 3.190     | 20.00     | straight  | automatic | 4         | 2         | 4.098     |\n",
       "| 22.8      | 4         | 108.0     |  93       | 3.85      | 2.320     | 18.61     | straight  | manual    | 4         | 1         | 4.386     |\n",
       "| 22.8      | 4         | 140.8     |  95       | 3.92      | 3.150     | 22.90     | straight  | automatic | 4         | 2         | 4.386     |\n",
       "| 21.5      | 4         | 120.1     |  97       | 3.70      | 2.465     | 20.01     | straight  | automatic | 3         | 1         | 4.651     |\n",
       "| 21.4      | 6         | 258.0     | 110       | 3.08      | 3.215     | 19.44     | straight  | automatic | 3         | 1         | 4.673     |\n",
       "| 21.4      | 4         | 121.0     | 109       | 4.11      | 2.780     | 18.60     | straight  | manual    | 4         | 2         | 4.673     |\n",
       "| 21.0      | 6         | 160.0     | 110       | 3.90      | 2.620     | 16.46     | V-shaped  | manual    | 4         | 4         | 4.762     |\n",
       "| 21.0      | 6         | 160.0     | 110       | 3.90      | 2.875     | 17.02     | V-shaped  | manual    | 4         | 4         | 4.762     |\n",
       "| 19.7      | 6         | 145.0     | 175       | 3.62      | 2.770     | 15.50     | V-shaped  | manual    | 5         | 6         | 5.076     |\n",
       "| 19.2      | 6         | 167.6     | 123       | 3.92      | 3.440     | 18.30     | straight  | automatic | 4         | 4         | 5.208     |\n",
       "| 19.2      | 8         | 400.0     | 175       | 3.08      | 3.845     | 17.05     | V-shaped  | automatic | 3         | 2         | 5.208     |\n",
       "| 18.7      | 8         | 360.0     | 175       | 3.15      | 3.440     | 17.02     | V-shaped  | automatic | 3         | 2         | 5.348     |\n",
       "| 18.1      | 6         | 225.0     | 105       | 2.76      | 3.460     | 20.22     | straight  | automatic | 3         | 1         | 5.525     |\n",
       "| 17.8      | 6         | 167.6     | 123       | 3.92      | 3.440     | 18.90     | straight  | automatic | 4         | 4         | 5.618     |\n",
       "| 17.3      | 8         | 275.8     | 180       | 3.07      | 3.730     | 17.60     | V-shaped  | automatic | 3         | 3         | 5.780     |\n",
       "| 16.4      | 8         | 275.8     | 180       | 3.07      | 4.070     | 17.40     | V-shaped  | automatic | 3         | 3         | 6.098     |\n",
       "| 15.8      | 8         | 351.0     | 264       | 4.22      | 3.170     | 14.50     | V-shaped  | manual    | 5         | 4         | 6.329     |\n",
       "| 15.5      | 8         | 318.0     | 150       | 2.76      | 3.520     | 16.87     | V-shaped  | automatic | 3         | 2         | 6.452     |\n",
       "| 15.2      | 8         | 275.8     | 180       | 3.07      | 3.780     | 18.00     | V-shaped  | automatic | 3         | 3         | 6.579     |\n",
       "| 15.2      | 8         | 304.0     | 150       | 3.15      | 3.435     | 17.30     | V-shaped  | automatic | 3         | 2         | 6.579     |\n",
       "| 15.0      | 8         | 301.0     | 335       | 3.54      | 3.570     | 14.60     | V-shaped  | manual    | 5         | 8         | 6.667     |\n",
       "| 14.7      | 8         | 440.0     | 230       | 3.23      | 5.345     | 17.42     | V-shaped  | automatic | 3         | 4         | 6.803     |\n",
       "| 14.3      | 8         | 360.0     | 245       | 3.21      | 3.570     | 15.84     | V-shaped  | automatic | 3         | 4         | 6.993     |\n",
       "| 13.3      | 8         | 350.0     | 245       | 3.73      | 3.840     | 15.41     | V-shaped  | automatic | 3         | 4         | 7.519     |\n",
       "| 10.4      | 8         | 472.0     | 205       | 2.93      | 5.250     | 17.98     | V-shaped  | automatic | 3         | 4         | 9.615     |\n",
       "| 10.4      | 8         | 460.0     | 215       | 3.00      | 5.424     | 17.82     | V-shaped  | automatic | 3         | 4         | 9.615     |\n",
       "\n"
      ],
      "text/plain": [
       "   mpg  cyl disp  hp  drat wt    qsec  vs       am        gear carb g100m\n",
       "1  33.9 4    71.1  65 4.22 1.835 19.90 straight manual    4    1    2.950\n",
       "2  32.4 4    78.7  66 4.08 2.200 19.47 straight manual    4    1    3.086\n",
       "3  30.4 4    75.7  52 4.93 1.615 18.52 straight manual    4    2    3.289\n",
       "4  30.4 4    95.1 113 3.77 1.513 16.90 straight manual    5    2    3.289\n",
       "5  27.3 4    79.0  66 4.08 1.935 18.90 straight manual    4    1    3.663\n",
       "6  26.0 4   120.3  91 4.43 2.140 16.70 V-shaped manual    5    2    3.846\n",
       "7  24.4 4   146.7  62 3.69 3.190 20.00 straight automatic 4    2    4.098\n",
       "8  22.8 4   108.0  93 3.85 2.320 18.61 straight manual    4    1    4.386\n",
       "9  22.8 4   140.8  95 3.92 3.150 22.90 straight automatic 4    2    4.386\n",
       "10 21.5 4   120.1  97 3.70 2.465 20.01 straight automatic 3    1    4.651\n",
       "11 21.4 6   258.0 110 3.08 3.215 19.44 straight automatic 3    1    4.673\n",
       "12 21.4 4   121.0 109 4.11 2.780 18.60 straight manual    4    2    4.673\n",
       "13 21.0 6   160.0 110 3.90 2.620 16.46 V-shaped manual    4    4    4.762\n",
       "14 21.0 6   160.0 110 3.90 2.875 17.02 V-shaped manual    4    4    4.762\n",
       "15 19.7 6   145.0 175 3.62 2.770 15.50 V-shaped manual    5    6    5.076\n",
       "16 19.2 6   167.6 123 3.92 3.440 18.30 straight automatic 4    4    5.208\n",
       "17 19.2 8   400.0 175 3.08 3.845 17.05 V-shaped automatic 3    2    5.208\n",
       "18 18.7 8   360.0 175 3.15 3.440 17.02 V-shaped automatic 3    2    5.348\n",
       "19 18.1 6   225.0 105 2.76 3.460 20.22 straight automatic 3    1    5.525\n",
       "20 17.8 6   167.6 123 3.92 3.440 18.90 straight automatic 4    4    5.618\n",
       "21 17.3 8   275.8 180 3.07 3.730 17.60 V-shaped automatic 3    3    5.780\n",
       "22 16.4 8   275.8 180 3.07 4.070 17.40 V-shaped automatic 3    3    6.098\n",
       "23 15.8 8   351.0 264 4.22 3.170 14.50 V-shaped manual    5    4    6.329\n",
       "24 15.5 8   318.0 150 2.76 3.520 16.87 V-shaped automatic 3    2    6.452\n",
       "25 15.2 8   275.8 180 3.07 3.780 18.00 V-shaped automatic 3    3    6.579\n",
       "26 15.2 8   304.0 150 3.15 3.435 17.30 V-shaped automatic 3    2    6.579\n",
       "27 15.0 8   301.0 335 3.54 3.570 14.60 V-shaped manual    5    8    6.667\n",
       "28 14.7 8   440.0 230 3.23 5.345 17.42 V-shaped automatic 3    4    6.803\n",
       "29 14.3 8   360.0 245 3.21 3.570 15.84 V-shaped automatic 3    4    6.993\n",
       "30 13.3 8   350.0 245 3.73 3.840 15.41 V-shaped automatic 3    4    7.519\n",
       "31 10.4 8   472.0 205 2.93 5.250 17.98 V-shaped automatic 3    4    9.615\n",
       "32 10.4 8   460.0 215 3.00 5.424 17.82 V-shaped automatic 3    4    9.615"
      ]
     },
     "metadata": {},
     "output_type": "display_data"
    }
   ],
   "source": [
    "mtcars %>%\n",
    "  mutate(g100m = 1/mpg*100,\n",
    "         g100m = round(g100m,3)) %>%\n",
    "  arrange(g100m)"
   ]
  },
  {
   "cell_type": "markdown",
   "id": "a9a74af1",
   "metadata": {},
   "source": [
    "* `transmute()` is another form of `mutate` which drops all the variables from dataframe except the created one.\n"
   ]
  },
  {
   "cell_type": "code",
   "execution_count": 48,
   "id": "9daa6e32",
   "metadata": {
    "message": false,
    "warning": false
   },
   "outputs": [
    {
     "data": {
      "text/html": [
       "<table>\n",
       "<thead><tr><th scope=col>g100m</th></tr></thead>\n",
       "<tbody>\n",
       "\t<tr><td>2.950</td></tr>\n",
       "\t<tr><td>3.086</td></tr>\n",
       "\t<tr><td>3.289</td></tr>\n",
       "\t<tr><td>3.289</td></tr>\n",
       "\t<tr><td>3.663</td></tr>\n",
       "\t<tr><td>3.846</td></tr>\n",
       "\t<tr><td>4.098</td></tr>\n",
       "\t<tr><td>4.386</td></tr>\n",
       "\t<tr><td>4.386</td></tr>\n",
       "\t<tr><td>4.651</td></tr>\n",
       "\t<tr><td>4.673</td></tr>\n",
       "\t<tr><td>4.673</td></tr>\n",
       "\t<tr><td>4.762</td></tr>\n",
       "\t<tr><td>4.762</td></tr>\n",
       "\t<tr><td>5.076</td></tr>\n",
       "\t<tr><td>5.208</td></tr>\n",
       "\t<tr><td>5.208</td></tr>\n",
       "\t<tr><td>5.348</td></tr>\n",
       "\t<tr><td>5.525</td></tr>\n",
       "\t<tr><td>5.618</td></tr>\n",
       "\t<tr><td>5.780</td></tr>\n",
       "\t<tr><td>6.098</td></tr>\n",
       "\t<tr><td>6.329</td></tr>\n",
       "\t<tr><td>6.452</td></tr>\n",
       "\t<tr><td>6.579</td></tr>\n",
       "\t<tr><td>6.579</td></tr>\n",
       "\t<tr><td>6.667</td></tr>\n",
       "\t<tr><td>6.803</td></tr>\n",
       "\t<tr><td>6.993</td></tr>\n",
       "\t<tr><td>7.519</td></tr>\n",
       "\t<tr><td>9.615</td></tr>\n",
       "\t<tr><td>9.615</td></tr>\n",
       "</tbody>\n",
       "</table>\n"
      ],
      "text/latex": [
       "\\begin{tabular}{r|l}\n",
       " g100m\\\\\n",
       "\\hline\n",
       "\t 2.950\\\\\n",
       "\t 3.086\\\\\n",
       "\t 3.289\\\\\n",
       "\t 3.289\\\\\n",
       "\t 3.663\\\\\n",
       "\t 3.846\\\\\n",
       "\t 4.098\\\\\n",
       "\t 4.386\\\\\n",
       "\t 4.386\\\\\n",
       "\t 4.651\\\\\n",
       "\t 4.673\\\\\n",
       "\t 4.673\\\\\n",
       "\t 4.762\\\\\n",
       "\t 4.762\\\\\n",
       "\t 5.076\\\\\n",
       "\t 5.208\\\\\n",
       "\t 5.208\\\\\n",
       "\t 5.348\\\\\n",
       "\t 5.525\\\\\n",
       "\t 5.618\\\\\n",
       "\t 5.780\\\\\n",
       "\t 6.098\\\\\n",
       "\t 6.329\\\\\n",
       "\t 6.452\\\\\n",
       "\t 6.579\\\\\n",
       "\t 6.579\\\\\n",
       "\t 6.667\\\\\n",
       "\t 6.803\\\\\n",
       "\t 6.993\\\\\n",
       "\t 7.519\\\\\n",
       "\t 9.615\\\\\n",
       "\t 9.615\\\\\n",
       "\\end{tabular}\n"
      ],
      "text/markdown": [
       "\n",
       "| g100m |\n",
       "|---|\n",
       "| 2.950 |\n",
       "| 3.086 |\n",
       "| 3.289 |\n",
       "| 3.289 |\n",
       "| 3.663 |\n",
       "| 3.846 |\n",
       "| 4.098 |\n",
       "| 4.386 |\n",
       "| 4.386 |\n",
       "| 4.651 |\n",
       "| 4.673 |\n",
       "| 4.673 |\n",
       "| 4.762 |\n",
       "| 4.762 |\n",
       "| 5.076 |\n",
       "| 5.208 |\n",
       "| 5.208 |\n",
       "| 5.348 |\n",
       "| 5.525 |\n",
       "| 5.618 |\n",
       "| 5.780 |\n",
       "| 6.098 |\n",
       "| 6.329 |\n",
       "| 6.452 |\n",
       "| 6.579 |\n",
       "| 6.579 |\n",
       "| 6.667 |\n",
       "| 6.803 |\n",
       "| 6.993 |\n",
       "| 7.519 |\n",
       "| 9.615 |\n",
       "| 9.615 |\n",
       "\n"
      ],
      "text/plain": [
       "   g100m\n",
       "1  2.950\n",
       "2  3.086\n",
       "3  3.289\n",
       "4  3.289\n",
       "5  3.663\n",
       "6  3.846\n",
       "7  4.098\n",
       "8  4.386\n",
       "9  4.386\n",
       "10 4.651\n",
       "11 4.673\n",
       "12 4.673\n",
       "13 4.762\n",
       "14 4.762\n",
       "15 5.076\n",
       "16 5.208\n",
       "17 5.208\n",
       "18 5.348\n",
       "19 5.525\n",
       "20 5.618\n",
       "21 5.780\n",
       "22 6.098\n",
       "23 6.329\n",
       "24 6.452\n",
       "25 6.579\n",
       "26 6.579\n",
       "27 6.667\n",
       "28 6.803\n",
       "29 6.993\n",
       "30 7.519\n",
       "31 9.615\n",
       "32 9.615"
      ]
     },
     "metadata": {},
     "output_type": "display_data"
    }
   ],
   "source": [
    "mtcars %>%\n",
    "  transmute(g100m = 1/mpg*100) %>%\n",
    "  round(3) %>%\n",
    "  arrange(g100m)"
   ]
  },
  {
   "cell_type": "markdown",
   "id": "473fbc12",
   "metadata": {},
   "source": [
    "# Data Visualization in R\n",
    "\n",
    "* There are many methods to use for visualization in R.\n",
    "* The most basic method is using base graphics functions in R.\n",
    "* One of the most popular packages for visualization is `ggplot2`.\n",
    "* In this lecture you will only see visualization with `ggplot2`."
   ]
  },
  {
   "attachments": {
    "ggplot2.jpg": {
     "image/jpeg": "[encoded data removed]"
    }
   },
   "cell_type": "markdown",
   "id": "73fe6a84",
   "metadata": {
    "fig.align": "center",
    "fig.cap": "Growing phrases over years",
    "out.width": "800px",
    "tags": [
     "remove_input"
    ]
   },
   "source": [
    "![ggplot2.jpg](attachment:ggplot2.jpg)"
   ]
  },
  {
   "cell_type": "markdown",
   "id": "7f72e1e3",
   "metadata": {},
   "source": [
    "* Choosing the right graph is crucial in data visualization.\n",
    "* Suitable graph depends on the data type and purpose of the graph.\n",
    "\n",
    "## ggplot2\n",
    "\n",
    "For using visualization with `ggplot2` we need 3 main components,\n",
    "\n",
    "1. Data set: `data`\n",
    "2. Aesthetic properties of the data: `aes()`\n",
    "3. Geometry of the graph: `geom()`\n",
    "\n",
    "#### Aesthetics\n",
    "\n",
    "* Aesthetics are defined with the `aes` argument in ggplot and they are used to arrange various things like color, shape, labels and transparency of the graph.\n",
    "* Each aesthetics object behave differently for type of data.\n",
    "* Some of the aesthetic arguments are:\n",
    "    - `color`\n",
    "    - `fill`\n",
    "    - `size`\n",
    "    - `shape`\n",
    "    - `alpha`\n",
    "    - `stroke`\n",
    "    - `linetype` ...\n",
    "\n",
    "#### Geometries\n",
    "\n",
    "* Geometries are used to define the type of graph.\n",
    "\n",
    "    - `line`\n",
    "    - `bar`\n",
    "    - `area`\n",
    "    - `scatterplot` ...\n",
    "\n",
    "#### Install ggplot2"
   ]
  },
  {
   "cell_type": "code",
   "execution_count": 49,
   "id": "d7998b18",
   "metadata": {},
   "outputs": [
    {
     "name": "stderr",
     "output_type": "stream",
     "text": [
      "Registered S3 methods overwritten by 'ggplot2':\n",
      "  method         from \n",
      "  [.quosures     rlang\n",
      "  c.quosures     rlang\n",
      "  print.quosures rlang\n"
     ]
    }
   ],
   "source": [
    "# install.packages(\"ggplot2\")  # If you did not install it previously\n",
    "library(ggplot2)"
   ]
  },
  {
   "cell_type": "markdown",
   "id": "0994e2a3",
   "metadata": {},
   "source": [
    "### Some basic graphs with ggplot\n",
    "\n",
    "* **Scatterplot** are used with two continuous variables.\n"
   ]
  },
  {
   "cell_type": "code",
   "execution_count": 50,
   "id": "edf88e18",
   "metadata": {},
   "outputs": [
    {
     "data": {
      "image/png": "[encoded data removed]",
      "text/plain": [
       "plot without title"
      ]
     },
     "metadata": {},
     "output_type": "display_data"
    }
   ],
   "source": [
    "ggplot(mtcars)+\n",
    "  geom_point(aes(x = mpg, y = disp))"
   ]
  },
  {
   "cell_type": "markdown",
   "id": "9bcac53b",
   "metadata": {},
   "source": [
    "* **Histogram** is used to see the distribution of a continuous variable."
   ]
  },
  {
   "cell_type": "code",
   "execution_count": 51,
   "id": "61c6d46c",
   "metadata": {
    "lines_to_next_cell": 2,
    "message": false,
    "warning": false
   },
   "outputs": [
    {
     "name": "stderr",
     "output_type": "stream",
     "text": [
      "`stat_bin()` using `bins = 30`. Pick better value with `binwidth`.\n"
     ]
    },
    {
     "data": {
      "image/png": "[encoded data removed]",
      "text/plain": [
       "plot without title"
      ]
     },
     "metadata": {},
     "output_type": "display_data"
    }
   ],
   "source": [
    "ggplot(mtcars)+\n",
    "  geom_histogram(aes(mpg))"
   ]
  },
  {
   "cell_type": "code",
   "execution_count": 52,
   "id": "5f5bfae6",
   "metadata": {
    "message": false,
    "warning": false
   },
   "outputs": [
    {
     "name": "stderr",
     "output_type": "stream",
     "text": [
      "`stat_bin()` using `bins = 30`. Pick better value with `binwidth`.\n"
     ]
    },
    {
     "data": {
      "image/png": "[encoded data removed]",
      "text/plain": [
       "plot without title"
      ]
     },
     "metadata": {},
     "output_type": "display_data"
    }
   ],
   "source": [
    "ggplot(mtcars)+\n",
    "  geom_histogram(aes(mpg), fill = \"blue\")"
   ]
  },
  {
   "cell_type": "markdown",
   "id": "019fb354",
   "metadata": {},
   "source": [
    "* **barplot** is used to see the distribution of a categorical variable.\n"
   ]
  },
  {
   "cell_type": "code",
   "execution_count": 53,
   "id": "0c54f2a6",
   "metadata": {},
   "outputs": [
    {
     "data": {
      "image/png": "[encoded data removed]",
      "text/plain": [
       "plot without title"
      ]
     },
     "metadata": {},
     "output_type": "display_data"
    }
   ],
   "source": [
    "ggplot(mtcars)+\n",
    "  geom_bar(aes(x = cyl))"
   ]
  },
  {
   "cell_type": "markdown",
   "id": "0ac82c1f",
   "metadata": {},
   "source": [
    "* **boxplot** can be used to visualize the distribution of a continuous variable according to a categorical variable."
   ]
  },
  {
   "cell_type": "code",
   "execution_count": 54,
   "id": "ba27adcc",
   "metadata": {
    "lines_to_next_cell": 2
   },
   "outputs": [
    {
     "data": {
      "image/png": "[encoded data removed]",
      "text/plain": [
       "plot without title"
      ]
     },
     "metadata": {},
     "output_type": "display_data"
    }
   ],
   "source": [
    "ggplot(mtcars)+\n",
    "  geom_boxplot(aes(y= mpg))"
   ]
  },
  {
   "cell_type": "code",
   "execution_count": 55,
   "id": "601fd9a5",
   "metadata": {
    "lines_to_next_cell": 2
   },
   "outputs": [
    {
     "data": {
      "image/png": "[encoded data removed]",
      "text/plain": [
       "plot without title"
      ]
     },
     "metadata": {},
     "output_type": "display_data"
    }
   ],
   "source": [
    "ggplot(mtcars)+\n",
    "  geom_boxplot(aes(x= cyl, y= mpg))"
   ]
  },
  {
   "cell_type": "markdown",
   "id": "e3863268",
   "metadata": {},
   "source": [
    "* `ggplot2` is a flexible function. You can write the above code in several ways.\n"
   ]
  },
  {
   "cell_type": "code",
   "execution_count": 56,
   "id": "10112463",
   "metadata": {
    "message": false,
    "warning": false
   },
   "outputs": [
    {
     "name": "stderr",
     "output_type": "stream",
     "text": [
      "`stat_bin()` using `bins = 30`. Pick better value with `binwidth`.\n"
     ]
    },
    {
     "data": {
      "image/png": "[encoded data removed]",
      "text/plain": [
       "plot without title"
      ]
     },
     "metadata": {},
     "output_type": "display_data"
    }
   ],
   "source": [
    "ggplot(mtcars) +\n",
    "    geom_histogram(aes(mpg),fill = \"blue\")"
   ]
  },
  {
   "cell_type": "markdown",
   "id": "4424fd7d",
   "metadata": {},
   "source": [
    "### Some Aesthetic Properties\n",
    "\n",
    "#### color\n",
    "\n",
    "- `color` : Changes the color of graph. In that kind of usage the argument should be placed outside the `aes()` argument.\n"
   ]
  },
  {
   "cell_type": "code",
   "execution_count": 57,
   "id": "9d18ac13",
   "metadata": {},
   "outputs": [
    {
     "data": {
      "image/png": "[encoded data removed]",
      "text/plain": [
       "plot without title"
      ]
     },
     "metadata": {},
     "output_type": "display_data"
    }
   ],
   "source": [
    "ggplot(mtcars)+\n",
    "  geom_point(aes(x = mpg, y = disp), color = \"blue\")"
   ]
  },
  {
   "cell_type": "markdown",
   "id": "d95fd96e",
   "metadata": {},
   "source": [
    "* `color` argument can also be used to color different categories and can add an additional layer to the graph. In that kind of usage the argument should be placed inside the `aes()` argument and a variable should be assigned to the `color` argument.\n"
   ]
  },
  {
   "cell_type": "code",
   "execution_count": 58,
   "id": "0080bf53",
   "metadata": {
    "lines_to_next_cell": 2
   },
   "outputs": [
    {
     "data": {
      "image/png": "[encoded data removed]",
      "text/plain": [
       "plot without title"
      ]
     },
     "metadata": {},
     "output_type": "display_data"
    }
   ],
   "source": [
    "ggplot(mtcars)+\n",
    "  geom_point(aes(x = mpg, y = disp, color = cyl))"
   ]
  },
  {
   "cell_type": "code",
   "execution_count": 59,
   "id": "acaf7ff5",
   "metadata": {},
   "outputs": [
    {
     "data": {
      "image/png": "[encoded data removed]",
      "text/plain": [
       "plot without title"
      ]
     },
     "metadata": {},
     "output_type": "display_data"
    }
   ],
   "source": [
    "ggplot(mtcars)+\n",
    "  geom_point( aes(x = mpg, y = disp, color = hp))"
   ]
  },
  {
   "cell_type": "markdown",
   "id": "877767ae",
   "metadata": {},
   "source": [
    "#### size\n",
    "\n",
    "* `size` argument is used for adding the effect of a continuous variable to the graph by adding size. `size` argument is not preferred for categorical variables, it should be used for continuous variables.\n",
    "\n",
    "* The same logic given with the `color` argument is also valid here.\n",
    "* If you want to change the size of all the points, `size` argument should be defined outside the `aes()` argument.\n"
   ]
  },
  {
   "cell_type": "code",
   "execution_count": 60,
   "id": "a819c697",
   "metadata": {},
   "outputs": [
    {
     "data": {
      "image/png": "[encoded data removed]",
      "text/plain": [
       "plot without title"
      ]
     },
     "metadata": {},
     "output_type": "display_data"
    }
   ],
   "source": [
    "ggplot(mtcars)+\n",
    "  geom_point(aes(x = mpg, y = disp),size = 10)"
   ]
  },
  {
   "cell_type": "markdown",
   "id": "8dbd9e88",
   "metadata": {},
   "source": [
    "* If you want to change the size of the points based on another variable, `size` argument should be defined inside the `aes()` argument.\n"
   ]
  },
  {
   "cell_type": "code",
   "execution_count": 61,
   "id": "93b8f309",
   "metadata": {},
   "outputs": [
    {
     "data": {
      "image/png": "[encoded data removed]",
      "text/plain": [
       "plot without title"
      ]
     },
     "metadata": {},
     "output_type": "display_data"
    }
   ],
   "source": [
    "ggplot(mtcars)+\n",
    "  geom_point(aes(x = mpg, y = disp, size = hp))"
   ]
  },
  {
   "cell_type": "markdown",
   "id": "4cb42cdd",
   "metadata": {},
   "source": [
    "#### alpha\n",
    "\n",
    "- `alpha` is the argument used for transparency.\n",
    "- It is mostly used for continuous variables.\n",
    "- `alpha` value ranges between 0 and 1.\n",
    "- `alpha` should be used along with the `mapping` parameter.\n",
    "\n",
    "* If you want to change the transparency of all the points, `alpha` argument should be defined outside the `aes()` argument.\n"
   ]
  },
  {
   "cell_type": "code",
   "execution_count": 62,
   "id": "fdfb689a",
   "metadata": {},
   "outputs": [
    {
     "data": {
      "image/png": "[encoded data removed]",
      "text/plain": [
       "plot without title"
      ]
     },
     "metadata": {},
     "output_type": "display_data"
    }
   ],
   "source": [
    "ggplot(mtcars)+\n",
    "  geom_point( mapping = aes(x = mpg, y = disp), alpha = 0.3)"
   ]
  },
  {
   "cell_type": "markdown",
   "id": "468ef0a2",
   "metadata": {},
   "source": [
    "* If you want to change the transparency of the points based on another variable, `alpha` argument should be defined inside the `aes()` argument.\n"
   ]
  },
  {
   "cell_type": "code",
   "execution_count": 63,
   "id": "8ed55aa7",
   "metadata": {
    "lines_to_next_cell": 2
   },
   "outputs": [
    {
     "data": {
      "image/png": "[encoded data removed]",
      "text/plain": [
       "plot without title"
      ]
     },
     "metadata": {},
     "output_type": "display_data"
    }
   ],
   "source": [
    "ggplot(mtcars)+\n",
    "  geom_point(aes(x = mpg, y = disp, alpha = hp))"
   ]
  },
  {
   "cell_type": "markdown",
   "id": "713b1e2d",
   "metadata": {},
   "source": [
    "#### shape\n",
    "\n",
    "- `shape` gives different shapes to different categories.\n",
    "- `shape` argument works in categorical variables with maximum 6 categories."
   ]
  },
  {
   "cell_type": "markdown",
   "id": "8319054d",
   "metadata": {},
   "source": [
    "* If you want to change the shape of all the points, `shape` argument should be defined outside the `aes()` argument.\n"
   ]
  },
  {
   "cell_type": "code",
   "execution_count": 64,
   "id": "e82e0ea7",
   "metadata": {},
   "outputs": [
    {
     "data": {
      "image/png": "[encoded data removed]",
      "text/plain": [
       "plot without title"
      ]
     },
     "metadata": {},
     "output_type": "display_data"
    }
   ],
   "source": [
    "ggplot(mtcars)+\n",
    "  geom_point(aes(x = mpg, y = disp), shape = 25)"
   ]
  },
  {
   "cell_type": "markdown",
   "id": "065b4141",
   "metadata": {},
   "source": [
    "* If you want to change the shape of the points based on another variable, `shape` argument should be defined inside the `aes()` argument.\n"
   ]
  },
  {
   "cell_type": "code",
   "execution_count": 65,
   "id": "367e5f3e",
   "metadata": {},
   "outputs": [
    {
     "data": {
      "image/png": "[encoded data removed]",
      "text/plain": [
       "plot without title"
      ]
     },
     "metadata": {},
     "output_type": "display_data"
    }
   ],
   "source": [
    "ggplot(mtcars)+\n",
    "  geom_point(aes(x = mpg, y = disp, shape = cyl))"
   ]
  },
  {
   "cell_type": "markdown",
   "id": "a39833d7",
   "metadata": {},
   "source": [
    "### Facets\n",
    "\n",
    "* Above we showed that one way to add additional variable to graph is by using `aes()`.\n",
    "* Another way is to use `facets`.\n",
    "* `facets` divides the plot into subplots based on a discrete or categorical variable.\n",
    "* The first argument is the `facet_wrap` argument is used with a formula `~` sign.\n"
   ]
  },
  {
   "cell_type": "code",
   "execution_count": 66,
   "id": "51161799",
   "metadata": {},
   "outputs": [
    {
     "data": {
      "image/png": "[encoded data removed]",
      "text/plain": [
       "plot without title"
      ]
     },
     "metadata": {},
     "output_type": "display_data"
    }
   ],
   "source": [
    "ggplot(mtcars)+\n",
    "  geom_point(aes(x = mpg, y = disp)) +\n",
    "  facet_wrap(~ cyl, nrow = 1)"
   ]
  },
  {
   "cell_type": "markdown",
   "id": "2903bfa5",
   "metadata": {},
   "source": [
    "* Combination of two variables is also possible with `facet_grid()`\n"
   ]
  },
  {
   "cell_type": "code",
   "execution_count": 67,
   "id": "3810b884",
   "metadata": {},
   "outputs": [
    {
     "data": {
      "image/png": "[encoded data removed]",
      "text/plain": [
       "plot without title"
      ]
     },
     "metadata": {},
     "output_type": "display_data"
    }
   ],
   "source": [
    "ggplot(mtcars)+\n",
    "  geom_point(aes(x = mpg, y = disp)) +\n",
    "  facet_wrap(am~ cyl, nrow = 2)"
   ]
  },
  {
   "cell_type": "markdown",
   "id": "bcbd0e6b",
   "metadata": {},
   "source": [
    "### geom_bar(), geom_col() and statistical transformations\n",
    "\n",
    "* Bar charts are used to find some information of categorical variables.\n",
    "\n",
    "* There are two types of bar charts: `geom_bar()` and `geom_col()`.\n",
    "    * `geom_bar()` makes the height of the bar proportional to the number of cases in each group (or if the weight aesthetic is supplied, the sum of the weights).\n",
    "    * If you want the heights of the bars to represent values in the data, use `geom_col()`\n",
    "\n",
    "* To see the distribution of only one variable use `geom_bar()`.\n"
   ]
  },
  {
   "cell_type": "code",
   "execution_count": 68,
   "id": "3f3c8c49",
   "metadata": {
    "lines_to_next_cell": 2
   },
   "outputs": [
    {
     "data": {
      "image/png": "[encoded data removed]",
      "text/plain": [
       "plot without title"
      ]
     },
     "metadata": {},
     "output_type": "display_data"
    }
   ],
   "source": [
    "ggplot(mtcars)+\n",
    "  geom_bar(aes(x = cyl))"
   ]
  },
  {
   "cell_type": "markdown",
   "id": "088acef5",
   "metadata": {},
   "source": [
    "* To see the distribution of a continuous variable based on a categorical variable use `geom_col()`.\n"
   ]
  },
  {
   "cell_type": "code",
   "execution_count": 69,
   "id": "7577c580",
   "metadata": {},
   "outputs": [
    {
     "data": {
      "image/png": "[encoded data removed]",
      "text/plain": [
       "plot without title"
      ]
     },
     "metadata": {},
     "output_type": "display_data"
    }
   ],
   "source": [
    "ggplot(mtcars)+\n",
    "  geom_col(aes(x = as.factor(cyl), y=mpg))"
   ]
  },
  {
   "cell_type": "markdown",
   "id": "2fb70eee",
   "metadata": {},
   "source": [
    "* By default `geom_col()` stack all the values and sums them. You should use some `dplyr` skills yo make more meaningful graphs"
   ]
  },
  {
   "cell_type": "code",
   "execution_count": 70,
   "id": "f6be9002",
   "metadata": {
    "lines_to_next_cell": 2
   },
   "outputs": [],
   "source": [
    "library(dplyr)"
   ]
  },
  {
   "cell_type": "code",
   "execution_count": 71,
   "id": "3753b36d",
   "metadata": {},
   "outputs": [
    {
     "data": {
      "image/png": "[encoded data removed]",
      "text/plain": [
       "plot without title"
      ]
     },
     "metadata": {},
     "output_type": "display_data"
    }
   ],
   "source": [
    "ggplot(data =mtcars %>% group_by(cyl) %>% summarise(mean_mpg = mean(mpg)))+\n",
    "  geom_col(aes(x = (as.factor(cyl)), y= mean_mpg))+\n",
    "  ylab(\"Mean mpg\")+\n",
    "  xlab(\"Number of Cylinders\")"
   ]
  },
  {
   "cell_type": "markdown",
   "id": "2d0fd4f9",
   "metadata": {},
   "source": [
    "* Bar charts can be colored with the `color` or `fill` argument.\n"
   ]
  },
  {
   "cell_type": "code",
   "execution_count": 72,
   "id": "3d5de994",
   "metadata": {},
   "outputs": [
    {
     "data": {
      "image/png": "[encoded data removed]",
      "text/plain": [
       "plot without title"
      ]
     },
     "metadata": {},
     "output_type": "display_data"
    }
   ],
   "source": [
    "ggplot(mtcars)+\n",
    "  geom_bar(aes(x = cyl, color = cyl))"
   ]
  },
  {
   "cell_type": "code",
   "execution_count": 73,
   "id": "8c6df598",
   "metadata": {
    "lines_to_next_cell": 2
   },
   "outputs": [
    {
     "data": {
      "image/png": "[encoded data removed]",
      "text/plain": [
       "plot without title"
      ]
     },
     "metadata": {},
     "output_type": "display_data"
    }
   ],
   "source": [
    "ggplot(mtcars)+\n",
    "  geom_bar(aes(x = cyl, fill = cyl))"
   ]
  },
  {
   "cell_type": "markdown",
   "id": "3ff52952",
   "metadata": {},
   "source": [
    "### A few improvements in ggplot\n",
    "\n",
    "* Now we will make a little visual improvements on a `ggplot2` graph by adding titles and changing theme of the graph.\n"
   ]
  },
  {
   "cell_type": "code",
   "execution_count": 74,
   "id": "f0283989",
   "metadata": {
    "lines_to_next_cell": 2
   },
   "outputs": [
    {
     "data": {
      "image/png": "[encoded data removed]",
      "text/plain": [
       "plot without title"
      ]
     },
     "metadata": {},
     "output_type": "display_data"
    }
   ],
   "source": [
    "ggplot(mtcars)+\n",
    "  geom_bar(aes(x = cyl, fill = cyl)) +\n",
    "           ggtitle(\"Barplot for the number of cylinders\") +\n",
    "           xlab(\"Number of cylinders\") +\n",
    "           ylab(\"frequency\") +\n",
    "           theme_minimal()"
   ]
  },
  {
   "cell_type": "markdown",
   "id": "979f7327",
   "metadata": {},
   "source": [
    "### Some other graphs\n",
    "\n",
    "* Now I will make a scatterplot matrix.\n",
    "* Scatterplot is used to visualize two continuous variables so I need to determine all the continuous variables in a dataset.\n",
    "* `pairs()` function can be used to construct a scatterplot matrix."
   ]
  },
  {
   "cell_type": "code",
   "execution_count": 75,
   "id": "69fceb31",
   "metadata": {
    "lines_to_next_cell": 2
   },
   "outputs": [
    {
     "name": "stdout",
     "output_type": "stream",
     "text": [
      "'data.frame':\t32 obs. of  11 variables:\n",
      " $ mpg : num  21 21 22.8 21.4 18.7 18.1 14.3 24.4 22.8 19.2 ...\n",
      " $ cyl : Factor w/ 3 levels \"4\",\"6\",\"8\": 2 2 1 2 3 2 3 1 1 2 ...\n",
      " $ disp: num  160 160 108 258 360 ...\n",
      " $ hp  : num  110 110 93 110 175 105 245 62 95 123 ...\n",
      " $ drat: num  3.9 3.9 3.85 3.08 3.15 2.76 3.21 3.69 3.92 3.92 ...\n",
      " $ wt  : num  2.62 2.88 2.32 3.21 3.44 ...\n",
      " $ qsec: num  16.5 17 18.6 19.4 17 ...\n",
      " $ vs  : Factor w/ 2 levels \"V-shaped\",\"straight\": 1 1 2 2 1 2 1 2 2 2 ...\n",
      " $ am  : Factor w/ 2 levels \"automatic\",\"manual\": 2 2 2 1 1 1 1 1 1 1 ...\n",
      " $ gear: Factor w/ 3 levels \"3\",\"4\",\"5\": 2 2 2 1 1 1 1 2 2 2 ...\n",
      " $ carb: Factor w/ 6 levels \"1\",\"2\",\"3\",\"4\",..: 4 4 1 1 2 1 4 2 2 4 ...\n"
     ]
    }
   ],
   "source": [
    "str(mtcars)"
   ]
  },
  {
   "cell_type": "code",
   "execution_count": 76,
   "id": "d130b93f",
   "metadata": {},
   "outputs": [
    {
     "data": {
      "image/png": "[encoded data removed]",
      "text/plain": [
       "plot without title"
      ]
     },
     "metadata": {},
     "output_type": "display_data"
    }
   ],
   "source": [
    "pairs(mtcars[,c(1,3:7)])"
   ]
  },
  {
   "cell_type": "markdown",
   "id": "89fbdb1c",
   "metadata": {},
   "source": [
    "## Pima Dataset Example\n",
    "\n",
    "### Pima Data Set\n",
    "\n",
    "* Indian females of Pima heritage (Native americans living in an area consisting of what is now central and southern Arizona)\n",
    "* Columns (or Variables) of the Pima data set:\n",
    "    * **NTP**: number of times pregnant\n",
    "    * **PGC**: Plasma glucose concentration a 2 hours in an oral glucose tolerance test\n",
    "    * **DBP**: Diastolic blood pressure (mm Hg)\n",
    "    * **TSFT**: Triceps skin fold thickness (mm)\n",
    "    * **SI**: 2-Hour serum insulin (mu U/ml)\n",
    "    * **BMI**: Body mass index (weight in kg/(height in meter square))\n",
    "    * **Diabetes pedigree function**:\n",
    "    * **Age**: Age (years)\n",
    "    * **Diabetes**: f0,1g value 1 is interpreted as \"tested positive for diabetes\"."
   ]
  },
  {
   "cell_type": "code",
   "execution_count": 79,
   "id": "12c10227",
   "metadata": {
    "lines_to_next_cell": 0
   },
   "outputs": [],
   "source": [
    "pima <- read.csv(\"pima.csv\")"
   ]
  },
  {
   "cell_type": "code",
   "execution_count": 80,
   "id": "883a235d",
   "metadata": {},
   "outputs": [
    {
     "name": "stdout",
     "output_type": "stream",
     "text": [
      "'data.frame':\t768 obs. of  9 variables:\n",
      " $ NTP     : int  6 1 8 1 0 5 3 10 2 8 ...\n",
      " $ PGC     : int  148 85 183 89 137 116 78 115 197 125 ...\n",
      " $ DBP     : int  72 66 64 66 40 74 50 0 70 96 ...\n",
      " $ TSFT    : int  35 29 0 23 35 0 32 0 45 0 ...\n",
      " $ SI      : int  0 0 0 94 168 0 88 0 543 0 ...\n",
      " $ BMI     : num  33.6 26.6 23.3 28.1 43.1 25.6 31 35.3 30.5 0 ...\n",
      " $ DPF     : num  0.627 0.351 0.672 0.167 2.288 ...\n",
      " $ Age     : int  50 31 32 21 33 30 26 29 53 54 ...\n",
      " $ Diabetes: Factor w/ 2 levels \"negative\",\"positive\": 2 1 2 1 2 1 2 1 2 2 ...\n"
     ]
    }
   ],
   "source": [
    "str(pima)"
   ]
  },
  {
   "cell_type": "code",
   "execution_count": 81,
   "id": "c05bd03c",
   "metadata": {},
   "outputs": [
    {
     "data": {
      "text/html": [
       "<table>\n",
       "<thead><tr><th scope=col>NTP</th><th scope=col>PGC</th><th scope=col>DBP</th><th scope=col>TSFT</th><th scope=col>SI</th><th scope=col>BMI</th><th scope=col>DPF</th><th scope=col>Age</th><th scope=col>Diabetes</th></tr></thead>\n",
       "<tbody>\n",
       "\t<tr><td>6       </td><td>148     </td><td>72      </td><td>35      </td><td>  0     </td><td>33.6    </td><td>0.627   </td><td>50      </td><td>positive</td></tr>\n",
       "\t<tr><td>1       </td><td> 85     </td><td>66      </td><td>29      </td><td>  0     </td><td>26.6    </td><td>0.351   </td><td>31      </td><td>negative</td></tr>\n",
       "\t<tr><td>8       </td><td>183     </td><td>64      </td><td> 0      </td><td>  0     </td><td>23.3    </td><td>0.672   </td><td>32      </td><td>positive</td></tr>\n",
       "\t<tr><td>1       </td><td> 89     </td><td>66      </td><td>23      </td><td> 94     </td><td>28.1    </td><td>0.167   </td><td>21      </td><td>negative</td></tr>\n",
       "\t<tr><td>0       </td><td>137     </td><td>40      </td><td>35      </td><td>168     </td><td>43.1    </td><td>2.288   </td><td>33      </td><td>positive</td></tr>\n",
       "\t<tr><td>5       </td><td>116     </td><td>74      </td><td> 0      </td><td>  0     </td><td>25.6    </td><td>0.201   </td><td>30      </td><td>negative</td></tr>\n",
       "</tbody>\n",
       "</table>\n"
      ],
      "text/latex": [
       "\\begin{tabular}{r|lllllllll}\n",
       " NTP & PGC & DBP & TSFT & SI & BMI & DPF & Age & Diabetes\\\\\n",
       "\\hline\n",
       "\t 6        & 148      & 72       & 35       &   0      & 33.6     & 0.627    & 50       & positive\\\\\n",
       "\t 1        &  85      & 66       & 29       &   0      & 26.6     & 0.351    & 31       & negative\\\\\n",
       "\t 8        & 183      & 64       &  0       &   0      & 23.3     & 0.672    & 32       & positive\\\\\n",
       "\t 1        &  89      & 66       & 23       &  94      & 28.1     & 0.167    & 21       & negative\\\\\n",
       "\t 0        & 137      & 40       & 35       & 168      & 43.1     & 2.288    & 33       & positive\\\\\n",
       "\t 5        & 116      & 74       &  0       &   0      & 25.6     & 0.201    & 30       & negative\\\\\n",
       "\\end{tabular}\n"
      ],
      "text/markdown": [
       "\n",
       "| NTP | PGC | DBP | TSFT | SI | BMI | DPF | Age | Diabetes |\n",
       "|---|---|---|---|---|---|---|---|---|\n",
       "| 6        | 148      | 72       | 35       |   0      | 33.6     | 0.627    | 50       | positive |\n",
       "| 1        |  85      | 66       | 29       |   0      | 26.6     | 0.351    | 31       | negative |\n",
       "| 8        | 183      | 64       |  0       |   0      | 23.3     | 0.672    | 32       | positive |\n",
       "| 1        |  89      | 66       | 23       |  94      | 28.1     | 0.167    | 21       | negative |\n",
       "| 0        | 137      | 40       | 35       | 168      | 43.1     | 2.288    | 33       | positive |\n",
       "| 5        | 116      | 74       |  0       |   0      | 25.6     | 0.201    | 30       | negative |\n",
       "\n"
      ],
      "text/plain": [
       "  NTP PGC DBP TSFT SI  BMI  DPF   Age Diabetes\n",
       "1 6   148 72  35     0 33.6 0.627 50  positive\n",
       "2 1    85 66  29     0 26.6 0.351 31  negative\n",
       "3 8   183 64   0     0 23.3 0.672 32  positive\n",
       "4 1    89 66  23    94 28.1 0.167 21  negative\n",
       "5 0   137 40  35   168 43.1 2.288 33  positive\n",
       "6 5   116 74   0     0 25.6 0.201 30  negative"
      ]
     },
     "metadata": {},
     "output_type": "display_data"
    }
   ],
   "source": [
    "head(pima)"
   ]
  },
  {
   "cell_type": "code",
   "execution_count": 82,
   "id": "f31505d9",
   "metadata": {},
   "outputs": [
    {
     "data": {
      "text/plain": [
       "      NTP              PGC             DBP              TSFT      \n",
       " Min.   : 0.000   Min.   :  0.0   Min.   :  0.00   Min.   : 0.00  \n",
       " 1st Qu.: 1.000   1st Qu.: 99.0   1st Qu.: 62.00   1st Qu.: 0.00  \n",
       " Median : 3.000   Median :117.0   Median : 72.00   Median :23.00  \n",
       " Mean   : 3.845   Mean   :120.9   Mean   : 69.11   Mean   :20.54  \n",
       " 3rd Qu.: 6.000   3rd Qu.:140.2   3rd Qu.: 80.00   3rd Qu.:32.00  \n",
       " Max.   :17.000   Max.   :199.0   Max.   :122.00   Max.   :99.00  \n",
       "       SI             BMI             DPF              Age       \n",
       " Min.   :  0.0   Min.   : 0.00   Min.   :0.0780   Min.   :21.00  \n",
       " 1st Qu.:  0.0   1st Qu.:27.30   1st Qu.:0.2437   1st Qu.:24.00  \n",
       " Median : 30.5   Median :32.00   Median :0.3725   Median :29.00  \n",
       " Mean   : 79.8   Mean   :31.99   Mean   :0.4719   Mean   :33.24  \n",
       " 3rd Qu.:127.2   3rd Qu.:36.60   3rd Qu.:0.6262   3rd Qu.:41.00  \n",
       " Max.   :846.0   Max.   :67.10   Max.   :2.4200   Max.   :81.00  \n",
       "     Diabetes  \n",
       " negative:500  \n",
       " positive:268  \n",
       "               \n",
       "               \n",
       "               \n",
       "               "
      ]
     },
     "metadata": {},
     "output_type": "display_data"
    }
   ],
   "source": [
    "summary(pima)"
   ]
  },
  {
   "cell_type": "markdown",
   "id": "1ea5c32f",
   "metadata": {},
   "source": [
    "* First let's create age groups and visualize it with a suitable graph.\n",
    "* From the summary table, we can see that age varies from 21 to 81."
   ]
  },
  {
   "cell_type": "code",
   "execution_count": 83,
   "id": "75bd7b5f",
   "metadata": {},
   "outputs": [
    {
     "data": {
      "text/plain": [
       "\n",
       "(20,40] (40,60] (60,81] \n",
       "    574     167      27 "
      ]
     },
     "metadata": {},
     "output_type": "display_data"
    }
   ],
   "source": [
    "pima$AgeGroups <- cut(pima$Age,c(20,40,60,81))\n",
    "table(pima$AgeGroups)"
   ]
  },
  {
   "cell_type": "markdown",
   "id": "e4c18f23",
   "metadata": {},
   "source": [
    "### Barplot\n",
    "\n",
    "* Let's use barplot to visualize this."
   ]
  },
  {
   "cell_type": "code",
   "execution_count": 84,
   "id": "d2b81091",
   "metadata": {},
   "outputs": [
    {
     "data": {
      "image/png": "[encoded data removed]",
      "text/plain": [
       "plot without title"
      ]
     },
     "metadata": {},
     "output_type": "display_data"
    }
   ],
   "source": [
    "ggplot(pima) +\n",
    "  geom_bar(aes(x=AgeGroups, fill = AgeGroups))"
   ]
  },
  {
   "cell_type": "markdown",
   "id": "865ac8e6",
   "metadata": {},
   "source": [
    "* Now, we want to see the effect of Age Groups on diabetes.\n",
    "* Again we will use barplots."
   ]
  },
  {
   "cell_type": "code",
   "execution_count": 85,
   "id": "772249ae",
   "metadata": {},
   "outputs": [
    {
     "data": {
      "image/png": "[encoded data removed]",
      "text/plain": [
       "plot without title"
      ]
     },
     "metadata": {},
     "output_type": "display_data"
    }
   ],
   "source": [
    "ggplot(pima) +\n",
    "  geom_bar(aes(x=AgeGroups, fill = Diabetes))"
   ]
  },
  {
   "cell_type": "markdown",
   "id": "d70fda79",
   "metadata": {},
   "source": [
    "* To give barplots in unstacked way you can use additional argument `position = \"dodge\"`"
   ]
  },
  {
   "cell_type": "code",
   "execution_count": 86,
   "id": "a2cf18ea",
   "metadata": {},
   "outputs": [
    {
     "data": {
      "image/png": "[encoded data removed]",
      "text/plain": [
       "plot without title"
      ]
     },
     "metadata": {},
     "output_type": "display_data"
    }
   ],
   "source": [
    "ggplot(pima) +\n",
    "  geom_bar(aes(x=AgeGroups, fill = Diabetes), position= 'dodge')"
   ]
  },
  {
   "cell_type": "markdown",
   "id": "1f2a01f7",
   "metadata": {},
   "source": [
    "* Now see how BMI changes in each age group, based on existence of diabetes.\n"
   ]
  },
  {
   "cell_type": "code",
   "execution_count": 87,
   "id": "f2e352d9",
   "metadata": {},
   "outputs": [
    {
     "data": {
      "image/png": "[encoded data removed]",
      "text/plain": [
       "plot without title"
      ]
     },
     "metadata": {},
     "output_type": "display_data"
    }
   ],
   "source": [
    "ggplot(pima) +\n",
    "  geom_col(aes(x=AgeGroups, y = BMI, fill = Diabetes))"
   ]
  },
  {
   "cell_type": "code",
   "execution_count": 88,
   "id": "05d3efd3",
   "metadata": {
    "lines_to_next_cell": 2
   },
   "outputs": [
    {
     "data": {
      "image/png": "[encoded data removed]",
      "text/plain": [
       "plot without title"
      ]
     },
     "metadata": {},
     "output_type": "display_data"
    }
   ],
   "source": [
    "ggplot(pima) +\n",
    "  geom_col(aes(x=AgeGroups, y = BMI, fill = Diabetes), \n",
    "           position = 'dodge')"
   ]
  },
  {
   "cell_type": "markdown",
   "id": "2b526c7b",
   "metadata": {},
   "source": [
    "* This time use the combination of `dplyr`, `geom_col()` and `facet_wrap()` to visualize the average BMI for each age group and existence of diabetes.\n"
   ]
  },
  {
   "cell_type": "code",
   "execution_count": 89,
   "id": "e344c64c",
   "metadata": {
    "lines_to_next_cell": 2
   },
   "outputs": [
    {
     "data": {
      "text/html": [
       "<table>\n",
       "<thead><tr><th scope=col>AgeGroups</th><th scope=col>Diabetes</th><th scope=col>mean_BMI</th></tr></thead>\n",
       "<tbody>\n",
       "\t<tr><td>(20,40] </td><td>negative</td><td>30.09363</td></tr>\n",
       "\t<tr><td>(20,40] </td><td>positive</td><td>35.82108</td></tr>\n",
       "\t<tr><td>(40,60] </td><td>negative</td><td>32.48472</td></tr>\n",
       "\t<tr><td>(40,60] </td><td>positive</td><td>34.10526</td></tr>\n",
       "\t<tr><td>(60,81] </td><td>negative</td><td>26.75000</td></tr>\n",
       "\t<tr><td>(60,81] </td><td>positive</td><td>33.12857</td></tr>\n",
       "</tbody>\n",
       "</table>\n"
      ],
      "text/latex": [
       "\\begin{tabular}{r|lll}\n",
       " AgeGroups & Diabetes & mean\\_BMI\\\\\n",
       "\\hline\n",
       "\t (20,40{]} & negative  & 30.09363 \\\\\n",
       "\t (20,40{]} & positive  & 35.82108 \\\\\n",
       "\t (40,60{]} & negative  & 32.48472 \\\\\n",
       "\t (40,60{]} & positive  & 34.10526 \\\\\n",
       "\t (60,81{]} & negative  & 26.75000 \\\\\n",
       "\t (60,81{]} & positive  & 33.12857 \\\\\n",
       "\\end{tabular}\n"
      ],
      "text/markdown": [
       "\n",
       "| AgeGroups | Diabetes | mean_BMI |\n",
       "|---|---|---|\n",
       "| (20,40]  | negative | 30.09363 |\n",
       "| (20,40]  | positive | 35.82108 |\n",
       "| (40,60]  | negative | 32.48472 |\n",
       "| (40,60]  | positive | 34.10526 |\n",
       "| (60,81]  | negative | 26.75000 |\n",
       "| (60,81]  | positive | 33.12857 |\n",
       "\n"
      ],
      "text/plain": [
       "  AgeGroups Diabetes mean_BMI\n",
       "1 (20,40]   negative 30.09363\n",
       "2 (20,40]   positive 35.82108\n",
       "3 (40,60]   negative 32.48472\n",
       "4 (40,60]   positive 34.10526\n",
       "5 (60,81]   negative 26.75000\n",
       "6 (60,81]   positive 33.12857"
      ]
     },
     "metadata": {},
     "output_type": "display_data"
    }
   ],
   "source": [
    "pima %>% group_by(AgeGroups, Diabetes) %>% summarise(mean_BMI = mean(BMI))"
   ]
  },
  {
   "cell_type": "code",
   "execution_count": 90,
   "id": "48fcf282",
   "metadata": {
    "lines_to_next_cell": 2,
    "message": false,
    "warning": false
   },
   "outputs": [
    {
     "data": {
      "image/png": "[encoded data removed]",
      "text/plain": [
       "plot without title"
      ]
     },
     "metadata": {},
     "output_type": "display_data"
    }
   ],
   "source": [
    "ggplot(data =pima %>% group_by(AgeGroups, Diabetes) %>% summarise(mean_BMI = mean(BMI)))+\n",
    "  geom_col(aes(x = AgeGroups, y= mean_BMI, fill = AgeGroups),\n",
    "           show.legend = F)+\n",
    "  facet_wrap(~Diabetes)+\n",
    "  ylab(\"Mean BMI\")+\n",
    "  xlab(\"Age Groups\")+\n",
    "  theme_bw()"
   ]
  },
  {
   "cell_type": "markdown",
   "id": "0a0086ba",
   "metadata": {},
   "source": [
    "### Histogram\n",
    "\n",
    "* Now let's draw histogram of BMI."
   ]
  },
  {
   "cell_type": "code",
   "execution_count": 91,
   "id": "31a7c541",
   "metadata": {
    "lines_to_next_cell": 2
   },
   "outputs": [
    {
     "data": {
      "image/png": "[encoded data removed]",
      "text/plain": [
       "plot without title"
      ]
     },
     "metadata": {},
     "output_type": "display_data"
    }
   ],
   "source": [
    "ggplot(pima, aes(BMI))+\n",
    "  geom_histogram(binwidth = 5, fill = \"blue\")+\n",
    "  theme_bw()"
   ]
  },
  {
   "cell_type": "code",
   "execution_count": 92,
   "id": "028b73ea",
   "metadata": {},
   "outputs": [
    {
     "data": {
      "image/png": "[encoded data removed]",
      "text/plain": [
       "plot without title"
      ]
     },
     "metadata": {},
     "output_type": "display_data"
    }
   ],
   "source": [
    "ggplot(pima, aes(BMI))+\n",
    "  geom_histogram(binwidth = 10, fill = \"green\")+\n",
    "  theme_bw()"
   ]
  },
  {
   "cell_type": "markdown",
   "id": "8fb5fb8d",
   "metadata": {},
   "source": [
    "* Now see how the histogram of BMI (Body Mass Index) changes with Diabetes.\n"
   ]
  },
  {
   "cell_type": "code",
   "execution_count": 93,
   "id": "fd5da92d",
   "metadata": {},
   "outputs": [
    {
     "data": {
      "image/png": "[encoded data removed]",
      "text/plain": [
       "plot without title"
      ]
     },
     "metadata": {},
     "output_type": "display_data"
    }
   ],
   "source": [
    "ggplot(pima, aes(BMI))+\n",
    "  geom_histogram(binwidth = 10, fill = \"red\")+\n",
    "  theme_bw()+\n",
    "  facet_grid(~ Diabetes)"
   ]
  },
  {
   "cell_type": "markdown",
   "id": "4a323709",
   "metadata": {},
   "source": [
    "* Now look at another histogram.\n",
    "* Draw the histogram of NTP (Number of times getting pregnant) grouped by both Diabetes and Age Groups.\n"
   ]
  },
  {
   "cell_type": "code",
   "execution_count": 94,
   "id": "631ff07a",
   "metadata": {},
   "outputs": [
    {
     "data": {
      "image/png": "[encoded data removed]",
      "text/plain": [
       "plot without title"
      ]
     },
     "metadata": {},
     "output_type": "display_data"
    }
   ],
   "source": [
    "ggplot(pima, aes(NTP, fill= Diabetes))+\n",
    "  geom_histogram(binwidth = 3)+\n",
    "  theme_bw()+\n",
    "  facet_grid(~ AgeGroups)"
   ]
  },
  {
   "cell_type": "code",
   "execution_count": 95,
   "id": "59db27de",
   "metadata": {
    "lines_to_next_cell": 0
   },
   "outputs": [
    {
     "data": {
      "image/png": "[encoded data removed]",
      "text/plain": [
       "plot without title"
      ]
     },
     "metadata": {},
     "output_type": "display_data"
    }
   ],
   "source": [
    "ggplot(pima, aes(NTP, fill= Diabetes))+\n",
    "  geom_histogram(binwidth = 3, position = 'dodge')+\n",
    "  theme_bw()+\n",
    "  facet_grid(~ AgeGroups)"
   ]
  },
  {
   "cell_type": "markdown",
   "id": "c02a23be",
   "metadata": {},
   "source": []
  },
  {
   "cell_type": "markdown",
   "id": "49814fb8",
   "metadata": {},
   "source": [
    "### Boxplot\n",
    "\n",
    "* Let's see the boxplot of NTP."
   ]
  },
  {
   "cell_type": "code",
   "execution_count": 96,
   "id": "65a8fead",
   "metadata": {},
   "outputs": [
    {
     "data": {
      "image/png": "[encoded data removed]",
      "text/plain": [
       "plot without title"
      ]
     },
     "metadata": {},
     "output_type": "display_data"
    }
   ],
   "source": [
    "ggplot(data = pima)+\n",
    "  geom_boxplot(mapping = aes(y= NTP))+\n",
    "  ggtitle(\"Boxplot of NTP\")"
   ]
  },
  {
   "cell_type": "markdown",
   "id": "5400253e",
   "metadata": {},
   "source": [
    "* Now visualize the NTP by age groups.\n"
   ]
  },
  {
   "cell_type": "code",
   "execution_count": 97,
   "id": "8d2ab92a",
   "metadata": {
    "lines_to_next_cell": 2
   },
   "outputs": [
    {
     "data": {
      "image/png": "[encoded data removed]",
      "text/plain": [
       "plot without title"
      ]
     },
     "metadata": {},
     "output_type": "display_data"
    }
   ],
   "source": [
    "ggplot(data = pima)+\n",
    "  geom_boxplot(mapping = aes(x= AgeGroups, y= NTP))"
   ]
  },
  {
   "cell_type": "markdown",
   "id": "dd8d6624",
   "metadata": {},
   "source": [
    "* Now visualize the NTP by both age Groups and Diabetes.\n"
   ]
  },
  {
   "cell_type": "code",
   "execution_count": 98,
   "id": "eefd19f4",
   "metadata": {},
   "outputs": [
    {
     "data": {
      "image/png": "[encoded data removed]",
      "text/plain": [
       "plot without title"
      ]
     },
     "metadata": {},
     "output_type": "display_data"
    }
   ],
   "source": [
    "ggplot(data = pima)+\n",
    "  geom_boxplot(mapping = aes(x= AgeGroups, y= NTP))+\n",
    "  facet_grid(~ Diabetes)"
   ]
  },
  {
   "cell_type": "markdown",
   "id": "ffecb67b",
   "metadata": {},
   "source": [
    "### Scatterplots\n",
    "\n",
    "* Draw scatterplots of two variables: PGC and DBP of Pima females."
   ]
  },
  {
   "cell_type": "code",
   "execution_count": 99,
   "id": "e3877034",
   "metadata": {
    "lines_to_next_cell": 2
   },
   "outputs": [
    {
     "data": {
      "image/png": "[encoded data removed]",
      "text/plain": [
       "plot without title"
      ]
     },
     "metadata": {},
     "output_type": "display_data"
    }
   ],
   "source": [
    "ggplot(pima)+\n",
    "  geom_point(aes(x=PGC, y=DBP))"
   ]
  },
  {
   "cell_type": "code",
   "execution_count": 100,
   "id": "fa8eef93",
   "metadata": {},
   "outputs": [
    {
     "data": {
      "image/png": "[encoded data removed]",
      "text/plain": [
       "plot without title"
      ]
     },
     "metadata": {},
     "output_type": "display_data"
    }
   ],
   "source": [
    "ggplot(pima)+\n",
    "  geom_point(aes(x=PGC, y=DBP, col = Diabetes))"
   ]
  },
  {
   "cell_type": "markdown",
   "id": "27ddbb66",
   "metadata": {},
   "source": [
    "### Multiple Scatter Plots\n",
    "\n",
    "* We have to use only numeric variables.\n",
    "* Also we want to group each scatterplot with diabetes.\n",
    "* To draw scatterplot we will use `pairs()` function and to color based on a diabetes we will use the `col` argument.\n"
   ]
  },
  {
   "cell_type": "code",
   "execution_count": 101,
   "id": "a054c5c6",
   "metadata": {
    "lines_to_next_cell": 2
   },
   "outputs": [
    {
     "name": "stdout",
     "output_type": "stream",
     "text": [
      "'data.frame':\t768 obs. of  10 variables:\n",
      " $ NTP      : int  6 1 8 1 0 5 3 10 2 8 ...\n",
      " $ PGC      : int  148 85 183 89 137 116 78 115 197 125 ...\n",
      " $ DBP      : int  72 66 64 66 40 74 50 0 70 96 ...\n",
      " $ TSFT     : int  35 29 0 23 35 0 32 0 45 0 ...\n",
      " $ SI       : int  0 0 0 94 168 0 88 0 543 0 ...\n",
      " $ BMI      : num  33.6 26.6 23.3 28.1 43.1 25.6 31 35.3 30.5 0 ...\n",
      " $ DPF      : num  0.627 0.351 0.672 0.167 2.288 ...\n",
      " $ Age      : int  50 31 32 21 33 30 26 29 53 54 ...\n",
      " $ Diabetes : Factor w/ 2 levels \"negative\",\"positive\": 2 1 2 1 2 1 2 1 2 2 ...\n",
      " $ AgeGroups: Factor w/ 3 levels \"(20,40]\",\"(40,60]\",..: 2 1 1 1 1 1 1 1 2 2 ...\n"
     ]
    }
   ],
   "source": [
    "str(pima)"
   ]
  },
  {
   "cell_type": "code",
   "execution_count": 102,
   "id": "f50e11d7",
   "metadata": {
    "lines_to_next_cell": 0,
    "scrolled": true
   },
   "outputs": [
    {
     "data": {
      "image/png": "[encoded data removed]",
      "text/plain": [
       "plot without title"
      ]
     },
     "metadata": {},
     "output_type": "display_data"
    }
   ],
   "source": [
    "pairs(pima[,1:8], col = as.factor(pima$Diabetes))"
   ]
  }
 ],
 "metadata": {
  "jupytext": {
   "cell_metadata_filter": "name,message,warning,tags,fig.align,out.width,fig.cap,-all",
   "main_language": "R",
   "notebook_metadata_filter": "-all"
  },
  "kernelspec": {
   "display_name": "R",
   "language": "R",
   "name": "ir"
  },
  "language_info": {
   "codemirror_mode": "r",
   "file_extension": ".r",
   "mimetype": "text/x-r-source",
   "name": "R",
   "pygments_lexer": "r",
   "version": "3.6.1"
  }
 },
 "nbformat": 4,
 "nbformat_minor": 5
}
