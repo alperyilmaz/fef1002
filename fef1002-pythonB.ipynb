{
 "cells": [
  {
   "cell_type": "markdown",
   "id": "fba48d88-0f34-41f1-bf70-fb30d23e34f5",
   "metadata": {},
   "source": [
    "# Python - part 2\n",
    "\n",
    "> This is HTML version of the lecture notes. If you'd like to run the sample Python codes please visit this [LINK](https://mybinder.org/v2/gh/alperyilmaz/jupyterlab-python-binder/main?urlpath=git-pull%3Frepo%3Dhttps%253A%252F%252Fgithub.com%252Falperyilmaz%252Ffef1002%26urlpath%3Dlab%252Ftree%252Ffef1002%252F%26branch%3Dmain\n",
    ") and open file `fef1002-pythonB.ipynb`\n",
    "\n",
    "## Conditional Statements\n",
    "\n",
    "1\\.  **`if/else` statement**:  \n",
    "The `if` statement, which means IF, is used to control conditions based on a specific criterion as the name suggests. The `if/else` statement works together with the `if` statement and covers all cases where the `if` conditions are not met.\n",
    "\n",
    "![](images/if.png)"
   ]
  },
  {
   "cell_type": "code",
   "execution_count": null,
   "id": "ada2536a-0c67-4de0-8ba8-2a9f845975cd",
   "metadata": {},
   "outputs": [],
   "source": [
    "print(\"Division operation will be performed:\")\n",
    "dividend=int(input(\"Enter the first number for operation:\"))\n",
    "divisor=int(input(\"Enter the second number for operation:\"))\n",
    "if divisor!=0:\n",
    "    print(dividend,\"/\",divisor,\"=\", dividend/divisor)\n",
    "else:\n",
    "    print(\"Division by zero is not possible!\")"
   ]
  },
  {
   "cell_type": "markdown",
   "id": "ae81fd9d-5a0c-4bd9-bb93-f7b1dee3e57b",
   "metadata": {},
   "source": [
    "2\\. **`if/elif/else` statement**:\n",
    "In Python, multi-way conditional statements can be used with both nested `if` statements and the `if/elif/else` statement. The `elif` statement is short for `else if`. While simple `if/else` statements have two different conditions, multi-way decision statements perform operations based on more conditions being met."
   ]
  },
  {
   "cell_type": "code",
   "execution_count": null,
   "id": "f4c49694-4146-4420-a3c9-5ac7f55f3d3c",
   "metadata": {},
   "outputs": [],
   "source": [
    "value = int(input(\"Enter an integer between 0 - 2: \"))\n",
    "if value < 0:\n",
    "    print(\"too small\")\n",
    "elif value == 0:\n",
    "    print(\"zero\")\n",
    "elif value == 1:\n",
    "    print(\"one\")\n",
    "elif value == 2:\n",
    "    print(\"two\")\n",
    "else:\n",
    "    print(\"too big\")\n",
    "print(\"Completed!\")"
   ]
  },
  {
   "cell_type": "markdown",
   "id": "7ce5ead7-437a-4579-8d94-138b45d9c143",
   "metadata": {},
   "source": [
    "## Loops\n",
    "\n",
    "1\\. **`for` Loop:** These are loops used for repeating operations a specific number of times. It repeats between start and end values according to the increment amount."
   ]
  },
  {
   "cell_type": "code",
   "execution_count": null,
   "id": "0e4b78b5-3a0f-4e6b-9e0e-b42be1eaf54c",
   "metadata": {},
   "outputs": [],
   "source": [
    "#range (start value, end value, increment/decrement value) \n",
    "range(0,30,1) # range(30)\n",
    "range(1,11,2)\n",
    "range(5)\n",
    "range(2,7)\n",
    "range(20,10,-2)\n",
    "r= range(0,20,2)\n",
    "print(11 in r)\n",
    "print(10 in r)\n",
    "print(r.index(10))\n",
    "#writes integers from 1 to 9\n",
    "# 1 2 3 4 5 6 7 8 9\n",
    "for i in range(1,10): \n",
    "    print(i, end=\" \")    \n",
    "print(\"Finished!\")"
   ]
  },
  {
   "cell_type": "markdown",
   "id": "f4e321df-3cd7-43ed-b470-f806fe4c3904",
   "metadata": {},
   "source": [
    "2\\. **`while` Loop:** The `while` statement determines whether the relevant code lines should be executed. It repeatedly executes the code block as long as the condition is true. When the condition becomes false, the loop ends."
   ]
  },
  {
   "cell_type": "code",
   "execution_count": null,
   "id": "e5d15450-663c-4ac5-8f28-cb194cfccbc9",
   "metadata": {},
   "outputs": [],
   "source": [
    "#A while loop that displays how many times it has looped until N/n character is entered from outside\n",
    "counter = 0\n",
    "entry= \"Y\"\n",
    "while entry!= \"N\" and entry!= \"n\":\n",
    "    entry= input(\"Enter 'Y' to continue – 'N' to exit: \")\n",
    "    if entry == \"Y\" or entry == \"y\":\n",
    "        counter += 1\n",
    "    elif entry != \"N\" and entry != \"n\":\n",
    "        print(\"Not a valid entry code! Please enter a valid code.\") \n",
    "print(\"Number of valid entries=\",counter)"
   ]
  },
  {
   "cell_type": "markdown",
   "id": "856c26ab-7cb0-4e84-ae52-a83493a668f6",
   "metadata": {},
   "source": [
    "### Loop Exit Commands\n",
    "The While loop executes the relevant code lines as long as the condition is met. Similarly, the for loop performs the relevant operations within the range. However, it's possible to exit the loop structure for certain values, in other words, to make changes in the loop operation. \n",
    "\n",
    "For this, `break` and `continue` commands can be used. \n",
    "\n",
    "When the `break` statement is used, the relevant code lines are skipped without execution, while when the `continue` statement is used, the loop starts over to process the next new value."
   ]
  },
  {
   "cell_type": "code",
   "execution_count": null,
   "id": "3bbed76e-7e13-4ec2-af94-0f87a21e5d0c",
   "metadata": {},
   "outputs": [],
   "source": [
    "# A while loop that adds positive numbers entered until a negative number is entered from outside\n",
    "number = 0\n",
    "total = 0\n",
    "print(\"Enter a number, negative number ends the loop:\")\n",
    "while number >= 0:\n",
    "    number= int(input())\n",
    "    if number < 0:\n",
    "        break    # Exiting the loop\n",
    "    total += number\n",
    "print(\"Total=\", total)"
   ]
  },
  {
   "cell_type": "code",
   "execution_count": null,
   "id": "a02a7016-6f6f-431d-8cfa-599e2922c052",
   "metadata": {},
   "outputs": [],
   "source": [
    "#Program that prints odd numbers from 1 to 10\n",
    "n=0\n",
    "while n<=10:\n",
    "#   print(n)\n",
    "    n=n+1\n",
    "    if n%2==0:\n",
    "        continue\n",
    "    print(n) #using print(n,end=' ') will print side by side"
   ]
  },
  {
   "cell_type": "markdown",
   "id": "7349e15a-750e-40b6-ace9-b6c465019c18",
   "metadata": {},
   "source": [
    "## Python Libraries\n",
    "\n",
    "Commonly used libraries in Python:\n",
    "\n",
    "1. **NumPy**:\n",
    "   - **Description**: A fundamental library for scientific computing. Enables working with multi-dimensional arrays and matrices.\n",
    "   - **Usage Area**: Mathematical operations, linear algebra, Fourier transforms.\n",
    "\n",
    "2. **Pandas**:\n",
    "   - **Description**: Provides powerful tools for data analysis and manipulation.\n",
    "   - **Usage Area**: Data cleaning, data transformation, working with data frames.\n",
    "\n",
    "3. **Matplotlib**:\n",
    "   - **Description**: Enables creating graphs and visualizations.\n",
    "   - **Usage Area**: Graph plotting, data visualization, histograms.\n",
    "\n",
    "4. **SciPy**:\n",
    "   - **Description**: Offers a wide range of functions for scientific and technical computing.\n",
    "   - **Usage Area**: Statistical analysis, optimization, signal processing.\n",
    "\n",
    "5. **scikit-learn**:\n",
    "   - **Description**: A library for machine learning algorithms.\n",
    "   - **Usage Area**: Classification, regression, clustering, model evaluation.\n",
    "\n",
    "6. **TensorFlow**:\n",
    "   - **Description**: A library developed by Google, used for machine learning and deep learning.\n",
    "   - **Usage Area**: Creating, training, and evaluating deep learning models.\n",
    "\n",
    "7. **Keras**:\n",
    "   - **Description**: A high-level neural network library. Works on backends like TensorFlow and Theano.\n",
    "   - **Usage Area**: Rapid prototyping of deep learning models.\n",
    "\n",
    "8. **Requests**:\n",
    "   - **Description**: A simple and user-friendly library for making HTTP requests.\n",
    "   - **Usage Area**: API calls, fetching data from websites.\n",
    "\n",
    "9. **BeautifulSoup**:\n",
    "   - **Description**: Used for parsing HTML and XML files.\n",
    "   - **Usage Area**: Web scraping, data mining.\n",
    "\n",
    "10. **Flask**:\n",
    "    - **Description**: A lightweight web application framework.\n",
    "    - **Usage Area**: Web application development, creating RESTful APIs.\n",
    "\n",
    "11. **Django**:\n",
    "    - **Description**: A full-featured web application framework.\n",
    "    - **Usage Area**: Developing complex web applications, rapid prototyping.\n",
    "\n",
    "12. **Pygame**:\n",
    "    - **Description**: A library used for developing 2D games.\n",
    "    - **Usage Area**: Game development, interactive applications.\n",
    "\n",
    "13. **OpenCV**:\n",
    "    - **Description**: A library used for image processing and computer vision tasks.\n",
    "    - **Usage Area**: Image analysis, object detection, face recognition.\n",
    "\n",
    "14. **NLTK (Natural Language Toolkit)**:\n",
    "    - **Description**: A library providing extensive tools for natural language processing (NLP).\n",
    "    - **Usage Area**: Text analysis, language modeling, part-of-speech tagging.\n",
    "\n",
    "The choice of library depends on the specific task at hand.\n",
    "\n",
    "## Scientific computing in Python: Numpy\n",
    "\n",
    "NumPy is a library used in Python that can perform complex mathematical operations, process very large arrays and matrices, and is used in data mining and data analysis. It has similar features to Python lists. The main difference is that numpy arrays must consist of elements of the same type while lists can contain elements of different types. Additionally, numpy arrays are much faster than Python lists and can perform matrix operations.\n",
    "\n",
    "NumPy package is imported with `import numpy as np`. With this definition, the numpy package will now be represented by the name `np` within the program."
   ]
  },
  {
   "cell_type": "code",
   "execution_count": null,
   "id": "caf50bf8-9c28-4036-8cdb-fb575915f783",
   "metadata": {},
   "outputs": [],
   "source": [
    "import numpy as np\n"
   ]
  },
  {
   "cell_type": "markdown",
   "id": "e18c7a22-9a42-4e0e-a66f-64a949737208",
   "metadata": {},
   "source": [
    "**Creating Numpy Arrays**\n",
    "\n",
    "Various arrays can be created using the numpy methods given below. Numpy arrays can be used to create one-dimensional (vector), two-dimensional (matrix), and multi-dimensional arrays.\n",
    "\n",
    "**NumPy array/matrix creation methods**\n",
    "\n",
    "| NumPy methods | Description | Example Usage |\n",
    "|---------------|-------------|---------------|\n",
    "| np.array() | Converts list to NumPy array. | np.array([1, 3, 5, 7]) print(d) # [1, 3, 5, 7] |\n",
    "| np.arange(n) | Creates an array of numbers from 0 to n (not including n). | np.arange(5) print(d) # [0 1 2 3 4] |\n",
    "| np.arange(4, 20, 2) | Creates an array of consecutive numbers in the specified range (4-20) with increment amount (2). | np.arange(4, 20, 2) print(d) # [4 6 8 10 12 14 16 18] |\n",
    "| np.linspace(0, 5, n) | Creates an array of n equally spaced numbers in the specified range (0-5). | np.linspace(0, 5, 10) print(d) # [0. 0.555 1.11 1.667 2.22 2.778 3.33 3.89 4.44 5.] |\n",
    "| np.logspace(0, 2, n) | Creates an array of n logarithmic numbers as powers of 10 in the specified range (0-2). | np.logspace(0, 2, 5) print(d) # [1. 3.16227766  10.  31.6227766  100.] |\n",
    "| np.zeros((n,m), dtype=int) | Creates an array/matrix of zeros (0) with desired dimensions (n rows, m columns) and type. | e = np.zeros((2,3)) print(d) # [[0. 0. 0.] [0. 0. 0.]] |\n",
    "| np.ones((n,m), dtype=int) | Creates an array/matrix of ones (1) with desired dimensions (n rows, m columns) and type. | d = np.ones((2,3), dtype=int) print(d) # [[1 1 1] [1 1 1]] |\n",
    "| np.full((n,m), a) | Creates an array/matrix filled with value a of desired dimensions (n rows, m columns). | d = np.full((2,3),6) print(d) # [[6 6 6] [6 6 6]] |\n",
    "| np.repeat(a, (n)) | Creates an array of n elements with repeating numbers (a). | e = np.repeat(3,4) print(e) # [3 3 3 3] |\n",
    "| np.eye(n, dtype=int) | Creates an n*n identity matrix. | d = np.eye(3, dtype=int) print(d) # [[1 0 0] [0 1 0] [0 0 1]] |\n",
    "| np.trace(d) | Returns the trace (sum of diagonals) of a matrix. | print(np.trace(d)) # 3 |\n",
    "| np.random.rand(n) | Creates an array of n random (floating-point) numbers between 0-1. | d = np.random.rand(5) print(d) # [0.12 0.27 0.32 0.41 0.54] |\n",
    "| np.random.rand(n,m) | Creates an array/matrix of random (floating-point) numbers between 0-1 with n rows, m columns. | d = np.random.rand((2,3)) print(d) # [[0.54 0.5 0.67] [0.12 0.42 0.99]] |\n",
    "| np.random.randint(a,size=n) | Creates an n-dimensional array of positive integers up to a. | d=np.random.randint(25,size=3]) print(d) # [9, 15, 7] |\n",
    "| np.random.randint(a,b, [n,m]) | Creates an n row, m column matrix ([n,m] dimensional matrix) of integers between (a-b). | d=np.random.randint(1,9,[2,3]) print(d) # [[5 7 6] [7 7 6]] |"
   ]
  },
  {
   "cell_type": "code",
   "execution_count": null,
   "id": "462ea107-7e43-4c52-a1dd-94ffd4bfd5ed",
   "metadata": {},
   "outputs": [],
   "source": [
    "# Data types must be the same, otherwise they are converted to a single type\n",
    "X = np.array([50, 25, 350, 400, 450, 100, 550])\n",
    "print(X)\n",
    "\n",
    "V=np.array([\"ali\", 3, 4])\n",
    "print(V)  # integer expressions are also converted to strings"
   ]
  },
  {
   "cell_type": "markdown",
   "id": "2b0ac8b9-97b7-4b51-a30b-9da9b7f24e82",
   "metadata": {},
   "source": [
    "   - Array elements in Numpy can be accessed with index numbers, just like list elements. The dimension of Numpy arrays is expressed with axes and ranks. These axes in NumPy arrays are expressed with the \"axis\" parameter. In a 2-dimensional (matrix) array, columns are \"axis=0\", rows are \"axis=1\", and in a 3-dimensional (3D) array, height (degree) is \"axis=0\", columns are \"axis=1\", and rows are \"axis=2\".\n",
    "   - For those who confuse array dimensions: in 3-dimensional array definition, three \"[[[...]]]\" square brackets are used, in 2-dimensional array two \"[[..]]\" square brackets, in one-dimensional array one \"[.]\" square bracket is used.\n",
    "   - `ndarray` is an n-dimensional array, and different properties of an ndarray type array can be learned using the methods given in the table below.\n",
    "\n",
    "| NumPy methods | Description | Example Usage |\n",
    "|---------------|-------------|---------------|\n",
    "| ndarray.dtype | Returns the type of the array. | a=np.arange(6) print(a.dtype) # int32 |\n",
    "| ndarray.ndim | Returns the dimension of the array. | print(a.ndim) # 1 |\n",
    "| ndarray.shape | Shows the dimensional shape of the array. | b=np.zeros((3,7)) print(b.shape) # (3,7) |\n",
    "| ndarray.size | Returns the number of elements (n x m) in the array. | print(b.size) # 21 |\n",
    "| ndarray.reshape(n, m) or ndarray.resize((n,m)) | Converts a one-dimensional array into an n row, m column matrix. That is, reshapes the array. | d = np.arange(6) A = d.reshape(2,3) print(A) # [[0 1 2] [3 4 5]] |\n",
    "| A.ravel() or A.flat | Converts matrix A to a one-dimensional array. | d = A.ravel() #d=[0 1 2 3 4 5] |\n",
    "| A.T or A.transpose() | Takes the transpose of matrix A. That is, swaps its rows and columns. | c = A.T print(c) # [[0 3] [1 4] [2 5]] |\n",
    "| np.mean() | Returns the average of array elements. | d = np.array([1,2,3,4]) Avg = d.mean() print(Avg) # 2.5 |\n",
    "| np.sum() | Adds all elements of the array. | T = d.sum() print(T) # 10 |\n",
    "| np.prod() | Multiplies all elements of the array. | T = d.prod() print(T) # 24 |\n",
    "| np.cumsum(axis= ) | Performs cumulative addition operation on elements (rows for axis=1) in the given axis. | d = np.array([[1,2,3],[4,5,6]]) t = d.cumsum(axis=1) print(t) # [[ 1 3 6] [ 4 9 15]] |\n",
    "| np.cumprod(axis=) | Performs cumulative multiplication operation on elements (rows for axis=1) in the given axis. | c = d.cumprod(axis=1) print(c) # [[ 1 2 6] [ 4 20 120]] |\n",
    "| ndarray.max(axis= ) | Returns the element with the largest value in the given axis. | d.max(axis=1) # [3,6] # returns the largest value in each row of matrix d. |\n",
    "| ndarray.min(axis= ) | Returns the element with the smallest value in the given axis. | d.min(axis=1) #[1,4] # returns the smallest value in each row of matrix d. |\n",
    "| ndarray.argmax(axis=) | Returns the index number of the element with the largest value in the given axis. | d.argmax(axis=1) #[2,2] # returns the index number of the largest value in each row of matrix d. |\n",
    "| ndarray.argmin(axis=) | Returns the index number of the element with the smallest value in the given axis. | d.argmin(axis=1) #[2,2] # returns the index number of the largest value in each row of matrix d. |\n",
    "| np.add() | Adds two arrays / matrices. | T = np.add(d,t) print(T) #[[ 2  5  9] [ 8 14 21]] |\n",
    "| np.copy() | Copies all elements of the array to another array. | C = np.copy(T) print(C) #[[ 2  5  9] [ 8 14 21]] |\n",
    "| np.sort() | Sorts the elements of the array. | S=np.array([[20, 40, 4.56], [5, 77, 0.17]]) print(np.sort(S), np.sort(S.T), sep=\"\\n\" ) |"
   ]
  },
  {
   "cell_type": "code",
   "execution_count": null,
   "id": "818de1bc-cb19-4af6-94ab-526f40329460",
   "metadata": {},
   "outputs": [],
   "source": [
    "# - Selecting array elements\n",
    "y = np.random.randint(100, size=(3, 5))\n",
    "# Selecting any row of the array\n",
    "# 1st row\n",
    "first_row = y[0]\n",
    "print(\"First row\", first_row)\n",
    "\n",
    "# 1st column\n",
    "first_column = y[:,0]\n",
    "print(\"First column\", first_column)\n",
    "\n",
    "# 1st and 2nd column\n",
    "first_and_second_column = y[:,0:2]\n",
    "print(\"First and second column: \\n\", first_and_second_column)"
   ]
  },
  {
   "cell_type": "code",
   "execution_count": null,
   "id": "5579cf0a-d02d-425c-af83-e4bc65fb9c0a",
   "metadata": {},
   "outputs": [],
   "source": [
    "t = np.arange(30)\n",
    "print(t)\n",
    "print(t[3:])\n",
    "print(t[:3])\n",
    "print(t[1:6])\n",
    "print(t[1::6])\n",
    "print(t[::-2])\n",
    "print(t[4::-2])"
   ]
  },
  {
   "cell_type": "markdown",
   "id": "27a4c81d-dfcf-455a-b5f9-80bc7765c434",
   "metadata": {},
   "source": [
    "## Data Analysis in Python: Pandas\n",
    "\n",
    "Pandas is a Python library designed for data analysis and manipulation, built on top of NumPy. It works with two fundamental data structures: Series and DataFrame. Series are used for holding and processing data in single-dimensional arrays, while DataFrames are used for multi-column tabular data.\n",
    "\n",
    "The Pandas package is imported with `import pandas as pd`. With this definition, the pandas package will now be represented by the name `pd` within the program."
   ]
  },
  {
   "cell_type": "code",
   "execution_count": null,
   "id": "74067336-2f2c-4423-b2ac-9515d42bddc5",
   "metadata": {},
   "outputs": [],
   "source": [
    "import pandas as pd\n"
   ]
  },
  {
   "cell_type": "markdown",
   "id": "a6676107-1c11-400c-80fd-0349e8b74f21",
   "metadata": {},
   "source": [
    "**Series:** These are one-dimensional array-like objects that can store data of any type and can be labeled. Each element in a Series gets an index value. The index value of the first element in the Series is zero."
   ]
  },
  {
   "cell_type": "code",
   "execution_count": null,
   "id": "08259db3-07bb-489c-9488-3749464cb9ae",
   "metadata": {},
   "outputs": [],
   "source": [
    "# filtering can be done within series\n",
    "series = pd.Series([10,15,20,25,30,35])\n",
    "print(series[series>20]) #printing numbers greater than 20\n",
    "\n",
    "print(series.unique()) #unique values in the series\n",
    "print(series.value_counts()) #prints how many times each value repeats in the series\n",
    "\n",
    "grades = {\"Mathematics\":70,\"Data_Analysis\":90,\"Operations_Research\":96,\"Statistics\":60}\n",
    "grades = pd.Series(grades)\n",
    "print(grades*1.05)  #5% increase added to grades\n",
    "print(np.sqrt(grades)) #square root of grades taken"
   ]
  },
  {
   "cell_type": "markdown",
   "id": "a5bbaf30-458e-416d-993f-62172bf2b2be",
   "metadata": {},
   "source": [
    "**DataFrame:** These are objects that represent Series in multiple dimensions. It's an electronic spreadsheet structure containing row index labels, column names, and cell values. DataFrames are similar to Excel sheets. Each column in a DataFrame can contain values of different data types."
   ]
  },
  {
   "cell_type": "code",
   "execution_count": null,
   "id": "c76a99d8-c32a-4857-b835-32baa696e114",
   "metadata": {},
   "outputs": [],
   "source": [
    "students_dict = {\n",
    "    \"school_no\": pd.Series([101,110,606],\n",
    "               index = [\"Ayse\",\"Fatma\", \"Betul\"]),\n",
    "    \"average\":pd.Series([90,95,85],\n",
    "               index=[\"Ayse\",\"Fatma\", \"Betul\"]),\n",
    "    \"department\":pd.Series([\"Business\",\"Economics\",\"Mathematics\"],\n",
    "               index=[\"Ayse\",\"Fatma\", \"Betul\"]),\n",
    "    \"birth_year\":pd.Series([2000,1999,1998],\n",
    "               index=[\"Ayse\",\"Fatma\", \"Betul\"]),\n",
    "    }\n",
    "table = pd.DataFrame(students_dict)\n",
    "print(table)\n",
    "print(table[table[\"average\"] < 95])"
   ]
  },
  {
   "cell_type": "markdown",
   "id": "53649bd2-94c1-4b29-94de-cbf3ebc190fe",
   "metadata": {},
   "source": [
    "### Data Import\n",
    "\n",
    "For a machine learning application, you may need to work with very large datasets containing many rows and columns. Data can be obtained from a database, an Excel file, or a text file. The Pandas library provides ease of use by converting datasets in different file formats into DataFrame structures."
   ]
  },
  {
   "cell_type": "code",
   "execution_count": null,
   "id": "a43ab68b-f7f3-4a97-b3f7-0e867d716e39",
   "metadata": {},
   "outputs": [],
   "source": [
    "#CSV = pd.read_csv()\n",
    "#JSON = pd.read_json()\n",
    "#HTML = pd.read_html()\n",
    "#MS EXCEL = pd.read_excel()\n",
    "#SQL = pd.read_sql()\n",
    "\n",
    "data = pd.read_csv('files/vgsales.csv', encoding=\"utf-8\")\n",
    "print(data.head())  # Shows first few rows of the data\n",
    "print(data.info())  # Shows general information about the data\n",
    "print(data.describe())  # Shows statistical summary of the data"
   ]
  },
  {
   "cell_type": "markdown",
   "id": "c6082088-1c7f-4ff7-8052-d31353f2a0f5",
   "metadata": {},
   "source": [
    "### Data Manipulation\n"
   ]
  },
  {
   "cell_type": "code",
   "execution_count": null,
   "id": "1954aa30-797e-4616-af47-9a8fbdef7175",
   "metadata": {},
   "outputs": [],
   "source": [
    "data.isnull()  #is there null in the data (cell by cell)?\n",
    "data.isna()\n",
    "data.isnull().any(axis=0)  # are there any nulls?\n",
    "data.isnull().sum() #how many empty (missing data) are there in columns?\n",
    "\n",
    "#deleting missing data\n",
    "data.dropna(axis=0, how=\"any\", inplace=True) #delete rows with empty cells and modify data dataframe\n",
    "data2=data.dropna(axis=\"index\", how=\"any\") #when we perform the operation without assigning to data2 dataframe, it doesn't change data dataframe, only shows the operation\n",
    "print(data.isna().any())\n",
    "print(data.shape)"
   ]
  },
  {
   "cell_type": "code",
   "execution_count": null,
   "id": "dd355ca7-f176-406d-82b2-c2c27afe1a9e",
   "metadata": {},
   "outputs": [],
   "source": [
    "data = pd.read_csv('vgsales.csv', encoding=\"utf-8\")\n",
    "print(data.isna().any())\n",
    "print(data.shape)\n",
    "\"\"\"let's run these again so that the changed data dataFrame returns to its initial state\"\"\"\n"
   ]
  },
  {
   "cell_type": "code",
   "execution_count": null,
   "id": "de38e75f-b7e2-412b-958e-7019b4a65c75",
   "metadata": {},
   "outputs": [],
   "source": [
    "#filling missing data \n",
    "numeric_columns = data.select_dtypes(include=['number'])\n",
    "data.fillna(numeric_columns.mean(),inplace=True)  #will only fill numeric ones\n",
    "data.fillna(\"unknown publisher\", inplace=True) #since only publisher column has missing data now, we filled it this way\n"
   ]
  },
  {
   "cell_type": "code",
   "execution_count": null,
   "id": "f1b272d5-0121-40c2-8e67-4dfb344a5fba",
   "metadata": {},
   "outputs": [],
   "source": [
    "#Getting Columns and Rows from Data Table \n",
    "data.head() #first 5 rows of dataset by index\n",
    "data.head(3) #first 3 rows of dataset\n",
    "data.tail() #last 5 rows of dataset by index\n",
    "data.tail(2) #last 2 rows of dataset\n",
    "data[200:301] #rows between 200-301\n",
    "data.sample(3) #random 3 samples\n",
    "data.sample(frac=0.05) #Brings random 5% from dataset\n",
    "data[\"Name\"] #only name column\n",
    "data[\"Publisher\"].head() #first 5 rows of publisher column\n",
    "data.Publisher #only publisher column but it's not always good to get it this way because column names might have spaces causing errors\n",
    "data[[\"Name\",\"Publisher\"]]\n",
    "data[[\"Name\",\"Year\"]].head(7)\n",
    "data[data.Year >= 2010].head(5)\n",
    "data[(data.Year >= 2002)&(data.Year <=2018)].head(20)\n",
    "\n",
    "type(data) #dataFrame\n",
    "type(data.Publisher) #series\n",
    "type(data[[\"Name\",\"Publisher\"]])  #dataFrame\n"
   ]
  },
  {
   "cell_type": "code",
   "execution_count": null,
   "id": "f9f8b3a0-9248-42a7-803e-8d025c141a5b",
   "metadata": {},
   "outputs": [],
   "source": [
    "# Creating subset from dataset\n",
    "data.iloc[:5] #first 5 records of dataframe\n",
    "data.iloc[:5,:3] #first 3 columns of first 5 records of dataframe\n",
    "data.iloc[3,1] #cell at index 3 record's index 1 column\n",
    "data.iloc[100:110,3:5] #genre and year of games between 100-110\n",
    "data.iloc[:,3:5] #genre and year of all games\n"
   ]
  },
  {
   "cell_type": "code",
   "execution_count": null,
   "id": "6aed05fb-de6b-4372-bb36-19d1288766a0",
   "metadata": {},
   "outputs": [],
   "source": [
    "data[(data[\"Global_Sales\"]>10)][\"Publisher\"] #publishers of records with Global_Sales greater than 10 million\n",
    "data[(data[\"Global_Sales\"]>10)][\"Publisher\"].count() #how many games total meet the condition\n",
    "data[(data[\"Global_Sales\"]>10)][\"Publisher\"].value_counts() #how many games each publisher made in the list meeting the condition\n",
    "data[(data[\"Global_Sales\"]>10)][\"Publisher\"].sum() #concatenated elements in the list meeting the condition\n",
    "data[(data[\"Global_Sales\"]>10)][\"Publisher\"].value_counts(normalize=True) #percentage distributions\n",
    "data[(data[\"Genre\"]==\"Sports\" ) & (data[\"Global_Sales\"]>3)][\"Publisher\"] #publishers of sports games that sold more than 3 million\n",
    "data[(data[\"Publisher\"]==\"Electronic Arts\" ) & (data[\"Global_Sales\"]>3)][\"Genre\"].value_counts()\n"
   ]
  },
  {
   "cell_type": "code",
   "execution_count": null,
   "id": "203d4aab-c130-4476-b1d0-f285a7ad2c55",
   "metadata": {},
   "outputs": [],
   "source": [
    "#Data analysis\n",
    "print(data[\"Global_Sales\"].sum())  #sum of Global_Sales column\n",
    "print(data[\"Global_Sales\"].mean())  #mean of Global_Sales column"
   ]
  },
  {
   "cell_type": "markdown",
   "id": "e7b18e3c-5772-4bcc-b7b3-08ed2af62c95",
   "metadata": {},
   "source": [
    "## Data Visualization in Python: Matplotlib\n",
    "\n",
    "Matplotlib is a drawing library designed for data visualization and graphics, developed based on NumPy. The Pylab library under Matplotlib bears considerable similarity to Matlab graphing commands.\n",
    "\n",
    "Matplotlib package is imported with `import matplotlib.pyplot as plt`. With this definition, the matplotlib package will now be represented by the name `plt` within the program."
   ]
  },
  {
   "cell_type": "code",
   "execution_count": null,
   "id": "2887365d-493e-4fb6-a8f4-1d29c3e5a5bc",
   "metadata": {},
   "outputs": [],
   "source": [
    "import matplotlib.pyplot as plt\n",
    "\n",
    "#to show graphs below in jupyter without opening a new page\n",
    "%matplotlib inline"
   ]
  },
  {
   "cell_type": "markdown",
   "id": "9c260d8f-dc37-41e3-8000-a7ee58ec5342",
   "metadata": {},
   "source": [
    "### Basic Usage"
   ]
  },
  {
   "cell_type": "code",
   "execution_count": null,
   "id": "e4461e6d-aeb7-4d48-a541-f319d223f365",
   "metadata": {},
   "outputs": [],
   "source": [
    "# A simple line graph example containing x and y data points\n",
    "x = np.arange(6)\n",
    "y = x**2\n",
    "\n",
    "# Creating the graph\n",
    "plt.plot(x, y)\n",
    "\n",
    "# Showing the graph\n",
    "plt.show()"
   ]
  },
  {
   "cell_type": "markdown",
   "id": "9034ae57-3273-4f37-b3f8-a9f6ecc4a099",
   "metadata": {},
   "source": [
    "## Graph Size and Resolution\n",
    "\n",
    "Output quality can be controlled by adjusting the graph's size and resolution."
   ]
  },
  {
   "cell_type": "code",
   "execution_count": null,
   "id": "24e03b8e-f023-479f-91b2-8d48e8ae6683",
   "metadata": {},
   "outputs": [],
   "source": [
    "# Adjusting graph size and resolution\n",
    "plt.figure(figsize=(10, 5), dpi=100)\n",
    "plt.plot(x, y)\n",
    "plt.title('Graph Size and Resolution')   # Adding title\n",
    "plt.show()"
   ]
  },
  {
   "cell_type": "markdown",
   "id": "fd5b45d2-87fa-4ebd-87f3-0edd687061d8",
   "metadata": {},
   "source": [
    "## Graph Types\n",
    "\n",
    "**1. Line Graph:** Line graphs are mostly used to show changes in data over time."
   ]
  },
  {
   "cell_type": "code",
   "execution_count": null,
   "id": "b875d83a-61cc-4681-9d9b-8a56c97280f0",
   "metadata": {},
   "outputs": [],
   "source": [
    "#Drawing line graph\n",
    "years=np.arange(2018,2022)\n",
    "gpa=[3.2, 2.9, 3.5, 3.8]\n",
    "plt.plot(years, gpa)\n",
    "plt.ylabel(\"GPA\")\n",
    "plt.xlabel(\"Years\")\n",
    "plt.show()"
   ]
  },
  {
   "cell_type": "code",
   "execution_count": null,
   "id": "5f3e5760-fea8-4201-b29b-9e6e6dddc0ee",
   "metadata": {},
   "outputs": [],
   "source": [
    "years=[2018, 2019, 2020, 2021]\n",
    "gpa=[3.2, 2.9, 3.5, 3.8]\n",
    "gpa2=[2.7, 2.2, 1.8, 3.1]\n",
    "plt.plot(years, gpa, label=\"student1\")\n",
    "plt.plot(years, gpa2, label=\"student2\")\n",
    "plt.legend(loc=\"lower left\")\n",
    "plt.ylabel(\"GPA\")\n",
    "plt.xlabel(\"Years\")\n",
    "plt.axis([2018,2021,0,4])\n",
    "plt.show()"
   ]
  },
  {
   "cell_type": "code",
   "execution_count": null,
   "id": "fb885706-b3f0-4048-a68a-112bf154d823",
   "metadata": {},
   "outputs": [],
   "source": [
    "#Graph formatting\n",
    "plt.plot(years, gpa2, \"o\", label=\"student2\") # using any of \" o * p s ^ \" will show markers instead of lines\n",
    "plt.plot(years, gpa2, \"o-\", label=\"student2\") # connects the markers\n",
    "plt.plot(years, gpa, \":b^\", label=\"student1\") # marks points with blue triangles and connects with dots"
   ]
  },
  {
   "cell_type": "markdown",
   "id": "001e72cf-275f-4d58-bdc9-794c43ba283d",
   "metadata": {},
   "source": [
    "**2. Pie Chart:** Pie charts are used to show proportions of categorical data."
   ]
  },
  {
   "cell_type": "code",
   "execution_count": null,
   "id": "a5d08d47-786f-46a8-b0a8-6bf886d47969",
   "metadata": {},
   "outputs": [],
   "source": [
    "#Drawing pie chart\n",
    "shares={\"A\":20, \"B\":10, \"C\":40, \"D\":30}\n",
    "print(shares.keys())\n",
    "print(shares.values())\n",
    "plt.pie(shares.values(), explode=[0,0,0.1,0], labels=shares.keys(), shadow=True, autopct=\"%1.1f%%\")\n",
    "plt.show()"
   ]
  },
  {
   "cell_type": "markdown",
   "id": "7e4f4089-a115-4899-a202-d6130ef94033",
   "metadata": {},
   "source": [
    "**3. Bar Graph:** Bar graphs are used for comparing categorical data."
   ]
  },
  {
   "cell_type": "code",
   "execution_count": null,
   "id": "61627c14-bf37-44ae-90db-8221200da9e9",
   "metadata": {},
   "outputs": [],
   "source": [
    "#Drawing bar graph\n",
    "people=[\"Ahmed\", \"Michael\", \"Python\", \"Jupyter\"]\n",
    "salaries=[2.5, 1.1, 3.9, 1.8]\n",
    "plt.bar(people, salaries)\n",
    "plt.title(\"Salary Graph\")\n",
    "plt.show()"
   ]
  },
  {
   "cell_type": "code",
   "execution_count": null,
   "id": "3945bbe6-9a2c-44ab-b80e-704c3a69b1ae",
   "metadata": {},
   "outputs": [],
   "source": [
    "data=np.random.random(size=100)*100\n",
    "data\n",
    "x_axis=np.arange(100)\n",
    "plt.bar(x_axis, data)\n",
    "plt.show()\n",
    "\n",
    "data=np.random.random(size=10)*100\n",
    "data\n",
    "height=np.arange(10)\n",
    "plt.barh(data, height)\n",
    "plt.show()"
   ]
  },
  {
   "cell_type": "markdown",
   "id": "5f62ce9f-0f8a-4217-ae49-5bbf20a25846",
   "metadata": {},
   "source": [
    "**4. Scatter Plot:** Scatter plots are used to see if there is a correlation between values on the axes."
   ]
  },
  {
   "cell_type": "code",
   "execution_count": null,
   "id": "0a3c2fc2-94b7-4259-8210-cfcc4f66bdd9",
   "metadata": {},
   "outputs": [],
   "source": [
    "#Drawing scatter plot\n",
    "ages=[3.5, 2.5, 1.5, 5, 4, 1, 2, 3, 4.5, 2]\n",
    "words=[45, 30, 10, 100, 80, 3, 35, 55, 67, 15]\n",
    "scatter=plt.scatter(ages, words, c=ages, s=np.array(words)*10)\n",
    "plt.colorbar(scatter)\n",
    "plt.show()"
   ]
  },
  {
   "cell_type": "markdown",
   "id": "12d79868-29ea-4ceb-8248-3e62b477ce3b",
   "metadata": {},
   "source": [
    "**5. Histogram:** Histograms are used to show data distribution."
   ]
  },
  {
   "cell_type": "code",
   "execution_count": null,
   "id": "c5bd86a0-215f-455e-b550-713f381eb549",
   "metadata": {},
   "outputs": [],
   "source": [
    "#Histogram\n",
    "hist_data=np.random.normal(size=1000)\n",
    "hist_data\n",
    "plt.hist(hist_data, bins=50)\n",
    "plt.show()"
   ]
  },
  {
   "cell_type": "markdown",
   "id": "88ceefe2-0be9-4783-83b6-7380e299bb98",
   "metadata": {},
   "source": [
    "### References\n",
    "\n",
    "1. [Python Official Documentation](https://docs.python.org/3/)\n",
    "2. [Fundamentals of Programming with Python](https://ahgal.meb.k12.tr/meb_iys_dosyalar/08/03/125513/dosyalar/2018_02/07085232_PYTHON-II.DYNEM.pdf)\n",
    "3. Van Rossum, Guido. \"Python Programming Language.\" Python Software Foundation, 2023.\n",
    "4. Sorhun, E. \"Machine Learning with Python.\" 2021.\n",
    "5. Çobanoğlu, Bülent. \"Python for Everyone.\" Pusula, 2020.\n",
    "6. McKinney, Wes. \"Python for Data Analysis.\" O'Reilly Media, 2017.\n",
    "7. Gowrishankar, S., & Veena, A. \"Introduction to Python programming.\" Chapman and Hall/CRC, 2018.\n",
    "8. Mitchell, Ryan. \"Web Scraping with Python.\" O'Reilly Media, 2015.\n",
    "9. [Kaggle Dataset](https://www.kaggle.com/datasets/gregorut/videogamesales)"
   ]
  }
 ],
 "metadata": {
  "kernelspec": {
   "display_name": "Python 3 (ipykernel)",
   "language": "python",
   "name": "python3"
  },
  "language_info": {
   "codemirror_mode": {
    "name": "ipython",
    "version": 3
   },
   "file_extension": ".py",
   "mimetype": "text/x-python",
   "name": "python",
   "nbconvert_exporter": "python",
   "pygments_lexer": "ipython3",
   "version": "3.10.13"
  }
 },
 "nbformat": 4,
 "nbformat_minor": 5
}
