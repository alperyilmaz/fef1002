{
 "cells": [
  {
   "cell_type": "markdown",
   "id": "c46fdd77-bcb4-4a07-b031-414f7a960c80",
   "metadata": {},
   "source": [
    "# Python\n",
    "\n",
    "## What is Python?\n",
    "\n",
    "- Python is a programming language that was first developed by Guido Van Rossum in Amsterdam in the early 1990s.</li>\n",
    "- Python is an object-oriented, interpreted, and high-level programming language that stands out in software development and data analysis.</li>\n",
    "- Its standard library, development tools, and many other libraries can be downloaded for free as open source code.</li>\n",
    "- Due to its advanced libraries for data science, data analysis, and artificial intelligence, it is one of the most used programming languages by people who want to advance in these fields.</li>\n",
    "- It has many development environments such as Jupyter, PyCharm, and Spyder.</li>\n",
    "\n",
    "### How Python Works\n",
    "\n",
    "![](images/python.JPG)\n",
    "\n",
    "The bytecode compiler takes source code (Python commands) as input. It then produces Python bytecode (.pyc file) that can be read by the machine as output.\n",
    "\n",
    "The virtual machine takes Python bytecode (.pyc) and any relevant library modules as input, executes the virtual machine instructions represented by the bytecode, converting it into executable file format.\n",
    "\n",
    "In Python, the import statement is used to add/import a library module to the current source file.\n",
    "\n",
    "## Installing and Using Jupyter Notebook through Anaconda\n",
    "\n",
    "**What is Anaconda?**\n",
    "\n",
    "Anaconda is a popular open-source distribution for data science and machine learning projects. Anaconda makes it easy to process, analyze and visualize data using Python and R programming languages. It contains many packages and tools and also simplifies managing virtual environments. Anaconda Navigator allows users to manage these packages and tools through a graphical interface.\n",
    "\n",
    "1. **Downloading Anaconda:**\n",
    "   - Open a web browser and go to the [Anaconda Download Page](https://www.anaconda.com/products/distribution)\n",
    "   - Download the appropriate version of Anaconda for your operating system (Windows, macOS, or Linux)\n",
    "\n",
    "2. **Installing Anaconda:**\n",
    "   - Run the downloaded Anaconda installation file\n",
    "   - Follow the necessary steps using default settings during installation\n",
    "\n",
    "3. **Opening Anaconda Navigator:**\n",
    "   - After installation is complete, open Anaconda Navigator (You can access it from the Start Menu in Windows or Applications folder in macOS)\n",
    "\n",
    "4. **Starting Jupyter Notebook:**\n",
    "   - Once Anaconda Navigator opens, find the \"Jupyter Notebook\" card on the main screen\n",
    "   - Click the \"Launch\" button. This will start Jupyter Notebook in your default web browser\n",
    "\n",
    "5. **Creating a New Notebook:**\n",
    "   - When Jupyter Notebook opens, it will open in your file system's root directory by default\n",
    "   - Click the \"New\" button in the top right corner and select \"Python 3\" from the dropdown menu. This creates a new Python 3 Notebook\n",
    "\n",
    "6. **Using Notebook Cells:**\n",
    "   - You can use cells to write code in the newly created Notebook\n",
    "   - Press `Shift + Enter` to run a cell after writing code\n",
    "\n",
    "## Python Basics\n",
    "\n",
    "Some Jupyter Notebook shortcuts are given in the table below:\n",
    "\n",
    "| Shortcuts       | Action                           |\n",
    "|----------------|----------------------------------|\n",
    "| a              | Adds a cell above                |\n",
    "| b              | Adds a cell below                |\n",
    "| dd             | Deletes the cell                 |\n",
    "| enter          | Enters cell editing mode         |\n",
    "| shift + enter  | Runs the cell                    |\n",
    "| esc            | Makes cell inactive              |\n",
    "| y              | Converts to code snippet         |\n",
    "| m              | Converts to markdown snippet     |\n",
    "| shift + j      | Select current and next cell     |\n",
    "| shift + m      | Merge selected cells             |\n",
    "| shift + minus  | Split cell                       |\n",
    "\n",
    "\n",
    "\n",
    "**Comments**\n",
    "\n",
    "Comments are expressions that are not considered or interpreted by the Python interpreter. Comments are generally used for the following operations:\n",
    "   - Adding a reminder\n",
    "   - Making an explanation about the program or code\n",
    "   - Making an unused code line passive\n",
    "   - Such comment lines help others better understand the code\n",
    "\n",
    "**Note:** These are expressions that are not considered and interpreted by the Python interpreter. The `#` symbol is used for single-line comments. For multiple comment lines, comments are written between <b>triple single quotes</b> or <b>triple double quotes</b> blocks.\n",
    "\n",
    "**Python Block Structure**\n",
    "\n",
    "In Python (and other programming languages), codes are expressed in certain subsets (blocks). This structure is created with indentation in Python. In Python, codes that are vertically aligned are in the same block structure. It is recommended to use a tab (4 spaces) to easily distinguish code blocks. If an IDE (integrated development environment) is used, these indentations will be set automatically. Loops, functions, and conditional statements are created using code blocks."
   ]
  },
  {
   "cell_type": "code",
   "execution_count": null,
   "id": "bf31f068-6fa8-433d-b9d9-61a5c146768b",
   "metadata": {},
   "outputs": [],
   "source": [
    "Age=int(input(\"Age= \"))\n",
    "Name=input(\"Name= \")\n",
    "if (Age<=18):\n",
    "    print(\"You are in the if block!!\")\n",
    "    print(\"You are in the if block!!\")\n",
    "print(\"You are not in the if block!!\")"
   ]
  },
  {
   "cell_type": "markdown",
   "id": "6caa7632-aa43-4c8a-a395-b7ab44494ff1",
   "metadata": {},
   "source": [
    "In the program above, a block was created by creating an indent under the `if` statement. The result of the logical expression \"age>=18\" causes all codes in the block to be skipped or executed. When writing code in Python, attention must be paid to indentation. Since indentation determines the block structure, it can cause the program to run incorrectly or not run at all.\n",
    "\n",
    "**Variables**\n",
    "\n",
    "- When writing code, it may be necessary to get data from users or other sources. For example, if we want to find the sum of two numbers, we need to get two numbers as input from the user. These inputs (values) must be stored in memory to perform operations. A certain space must be allocated in memory to store these inputs. When a variable is defined, the interpreter allocates space in memory depending on the data type and determines what type of data can be stored in the allocated section.\n",
    "- Variables represent this space allocated in memory for a string, number, or different type of data. Values of different data types can be assigned to variables. Integer, decimal number, array, or string type values can be stored in variables through value assignment.   \n",
    "- The same variable can take values of different data types. A number can be assigned to the same variable first, then a text, then a value of another type. When a value is assigned to a variable, the data type is automatically defined.\n",
    "- Python will give an error if an unassigned and/or undefined variable is used, if variables are not used according to their data types.\n",
    "- There is no need to explicitly declare variables' data types. The same variable can take values of different data types. A number can be assigned to the same variable first, then a text, then a value of another type. When a value is assigned to a variable, the data type is automatically defined.\n",
    "- Variables can be assigned side by side with commas between them. Their values should also be written in the same order.\n",
    "- Another method to assign values to variables is to write variable-value pairs with semicolons \";\" between them."
   ]
  },
  {
   "cell_type": "code",
   "execution_count": null,
   "id": "f7080d9f-c649-4752-8ee0-8b71c1a578de",
   "metadata": {},
   "outputs": [],
   "source": [
    "#number1 is 5 now\n",
    "number1=5\n",
    "print('The variable contains: ', number1)\n",
    "number1=10\n",
    "print('Current value of variable is: ', number1)\n",
    "number1='Murat'\n",
    "print ('Current value of variable is: ', number1)\n",
    "number1=10.5\n",
    "print ('Current value of variable is: ', number1)"
   ]
  },
  {
   "cell_type": "code",
   "execution_count": null,
   "id": "00a3e006-e23a-433b-bd4f-fe9c10d647a0",
   "metadata": {},
   "outputs": [],
   "source": [
    "name, lastname,age='Ali', 'CAN', 34\n",
    "print(\"First Name= \", name)\n",
    "print(\"Laste Name= \", lastname,)\n",
    "print(\"Age= \", age)"
   ]
  },
  {
   "cell_type": "code",
   "execution_count": null,
   "id": "229f86f6-117f-4709-8eb7-7d3796627bdd",
   "metadata": {},
   "outputs": [],
   "source": [
    "s1=3; s2=5;t=s1+s2\n",
    "print(\"1.Number=\", s1)\n",
    "print(\"2.Number=\", s2)\n",
    "print(\"Total=\", t)"
   ]
  },
  {
   "cell_type": "markdown",
   "id": "5c29911f-91ef-47cf-842b-88e34b8e96d2",
   "metadata": {},
   "source": [
    "**Variable Naming Rules**\n",
    "\n",
    "- Case sensitivity exists\n",
    "- Reserved words like \"False, True, None, continue, break, class, and, as, else, elif\" cannot be used as variables\n",
    "- The first character of variables must be alphabetic or `_`. The rest can only continue with alphabetic, alphanumeric, or again `_`. Other characters cannot be used\n",
    "- Variable names can be any length\n",
    "- Turkish characters (ç, ğ, ı, ö, ş, and ü) are allowed in variable naming. However, since some versions don't allow this, it should be avoided"
   ]
  },
  {
   "cell_type": "code",
   "execution_count": null,
   "id": "87b7529b-ab56-421e-8c17-72fd46aba74a",
   "metadata": {},
   "outputs": [],
   "source": [
    "number1=1\n",
    "Number1=2\n",
    "print(number1)\n",
    "print(Number1)\n",
    "\"\"\"number1 with capital N is differenet variable than all small letter\"\"\""
   ]
  },
  {
   "cell_type": "markdown",
   "id": "2cb49b25-a090-4638-b8bb-aae3f892bb94",
   "metadata": {},
   "source": [
    "**Python Functions**\n",
    "\n",
    "1.  **print()**:\n",
    "\n",
    "A function used to show the results of operations to the user, print certain messages to the screen, and print certain information with a specific format.\n",
    "\n",
    "**format() method:** A method used in the print() command for formatting operations such as alignment and printing to desired locations on the screen when outputting values."
   ]
  },
  {
   "cell_type": "code",
   "execution_count": null,
   "id": "4c22bc0f-804d-4978-ae85-fbd5d66367cb",
   "metadata": {},
   "outputs": [],
   "source": [
    "print(\"{} likes {}!\".format(\"John\", \"soccer\"))\n",
    "print(\"{} is a {} at age of {}.\".format(\"Jane\", \"girl\", \"8\"))"
   ]
  },
  {
   "cell_type": "markdown",
   "id": "3da73346-81c1-4026-bceb-9ddfdcdf5b0e",
   "metadata": {},
   "source": [
    "2.  **input()**:\n",
    "\n",
    "A function used to get input from the keyboard. In Python, the `input()` function has a more functional structure than in other programming languages. With the `input()` function, information can be given to the user about the data to be entered without needing the `print()` function."
   ]
  },
  {
   "cell_type": "code",
   "execution_count": null,
   "id": "b96bdd21-0328-49ef-a27c-8b834c1130f8",
   "metadata": {},
   "outputs": [],
   "source": [
    "a=input(\"Provide a number: \")\n",
    "b=input(\"Provide another number: \")\n",
    "print(\"Total of two numbers: \",a+b)\n",
    "\n",
    "c=int(a) #c=int(input(\"c= \"))\n",
    "d=int(b) #d=int(input(\"d= \"))\n",
    "print(\"Total of two numbers: \",c+d)"
   ]
  },
  {
   "cell_type": "markdown",
   "id": "0c365483-8cc2-4830-9adf-73b73d922c4e",
   "metadata": {},
   "source": [
    "3.  **Standard Mathematical Functions**\n",
    "\n",
    "The `math.py` file contains functions in the standard mathematics module. Access to the entire `math` module is provided using the `import math` expression. However, when calling the relevant function, the module name must also be specified. Module names must be used by joining them with `.` to function names. This structure is called a combined (module name. function name) structure."
   ]
  },
  {
   "cell_type": "markdown",
   "id": "760c574c-b9e1-4b34-93cb-3b0b603f8606",
   "metadata": {},
   "source": [
    "| Function Name | Description | Example Usage and Output |\n",
    "|---------------|------------|-------------------------|\n",
    "| sqrt()        | Finds the square root of the desired value. | `math.sqrt(16) -> 4` |\n",
    "| exp()         | Raises e (Euler's constant) to the desired power. | `math.exp(2) -> 7.389056` |\n",
    "| log()         | Our `log(x,y)` function takes two parameters. First parameter x represents the number whose logarithm is to be taken; second parameter y represents the base number. | `math.log(2,2) -> 1.0` |\n",
    "| log10()       | The only difference from `log(x,y)` function is that the base is fixed as 10. | `math.log10(10) -> 1.0` |\n",
    "| cos()         | `cos(x)` gives the cosine value of x degrees. | `math.cos(45) -> 0.5253` |\n",
    "| pow()         | `pow(x,y)` function raises number x to the y power. | `math.pow(2,2) -> 4` |\n",
    "| degrees()     | `degrees(x)` function converts angle x from radians to degrees. | `math.degrees(45) -> 2578.310078088` |\n",
    "| radians()     | `radians(x)` function converts angle x from degrees to radians. | `math.radians(45) -> 0.78539816333` |\n",
    "| fabs()        | `fabs(x)` function performs the operation of taking the absolute value of x. | `math.fabs(-5) -> 5.0` |"
   ]
  },
  {
   "cell_type": "code",
   "execution_count": null,
   "id": "874316d3-19e5-4d21-88bd-1e903a5f908f",
   "metadata": {},
   "outputs": [],
   "source": [
    "import math\n",
    "x=625\n",
    "y = math.sqrt(x)\n",
    "print(math.log10(100),y, sep=\"\\n\")"
   ]
  },
  {
   "cell_type": "markdown",
   "id": "4ae5c473-e5da-4b3c-94b3-72cf49f721c5",
   "metadata": {},
   "source": [
    "**Data Types**\n",
    "\n",
    "Frequently used data types in Python programming language are given in the table below:\n",
    "\n",
    "| Data Type        | Class    | Description                                                                                |\n",
    "|------------------|----------|--------------------------------------------------------------------------------------------|\n",
    "| Integer          | int      | Integer number. <br> 3, 5, 369963                                                          |\n",
    "| Float            | float    | Real number. <br> 10.45                                                                    |\n",
    "| Complex          | complex  | Complex numbers used in the form A+Bj. <br> 4+5j                                          |\n",
    "| String           | str      | Used to represent character strings/String (text). <br> \"Hello\" or 'Hello'                |\n",
    "| Boolean          | bool     | Takes only True or False values. <br> int(True)=1 while int(False)=0                      |\n",
    "| List             | list     | Can contain different data types. <br> mylist=['Pine', 24, 'Engineer', True]              |\n",
    "| Tuple            | tuple    | Can contain different data types. <br> tuple1=('Pine', 24, 'Engineer', True)              |\n",
    "| Dictionary       | dict     | Can contain different data types. <br> dict={'name':'Pine', 'age':24, 'job':'Engineer', 'militaryStatus': 'True'} |\n",
    "\n",
    "**type() function:** Although Python automatically assigns data types, it may be necessary to check and change a variable's data type according to its intended use. The `type()` command is used to learn the data type of a variable."
   ]
  },
  {
   "cell_type": "code",
   "execution_count": null,
   "id": "91e45791-518d-4686-8dc7-e86155915ba6",
   "metadata": {},
   "outputs": [],
   "source": [
    "number1=5\n",
    "number2=5.0\n",
    "number3=10.556\n",
    "text1=\"1\"\n",
    "number4=4+5j\n",
    "Did_Pass_Class=True\n",
    "\n",
    "print(\"1st variable's data type: \", type(number1))\n",
    "print(\"2nd variable's data type: \", type(number2))\n",
    "print(\"3rd variable's data type: \", type(number3))\n",
    "print(\"4th variable's data type: \", type(text1))\n",
    "print(\"5th variable's data type: \", type(number4))\n",
    "print(\"6th variable's data type: \", type(Did_Pass_Class))\n",
    "\n",
    "t=type(1<5)\n",
    "print(t)\n",
    "\n",
    "print('Complex number imaginary part=', number4.imag) #Complex number imaginary part\n",
    "print('Complex number real part=', number4.real) #Complex number real part"
   ]
  },
  {
   "cell_type": "markdown",
   "id": "23b3cb5d-b378-4062-ae97-fb53715d9f24",
   "metadata": {},
   "source": [
    "**Converting Data Types:** When performing operations on values, it may be necessary to convert a string containing only numbers to a numerical data type, or sometimes do the opposite. There are some functions for this. The basic functions used to convert data types are:\n",
    "   -  **int() :** Converts data type to integer.\n",
    "   -  **float() :** Converts data type to float.\n",
    "   -  **str() :** Converts data type to string.\n",
    "   \n",
    "When a number of type **integer** is multiplied by a number of type **float**, Python automatically determines this data type as the result will be **float**."
   ]
  },
  {
   "cell_type": "code",
   "execution_count": null,
   "id": "142487ab-8979-48a7-827e-b39d80468375",
   "metadata": {},
   "outputs": [],
   "source": [
    "#explicit conversion\n",
    "p=5.9 \n",
    "p2=int(p) # with positive numbers, converts to nearest SMALLER number, with negative numbers it does the opposite\n",
    "print(p,type(p))\n",
    "print(p2,type(p2))\n",
    "n= -1.7 \n",
    "n2=int(n)\n",
    "print(n2,type(n2))\n",
    "#implicit conversion\n",
    "p2=p+p2\n",
    "print(p2,type(p2))\n",
    "\n",
    "a=7;b=9\n",
    "print(a,b)\n",
    "a,b=b,a #Swap process\n",
    "print(a,b)"
   ]
  },
  {
   "cell_type": "markdown",
   "id": "e2ec7783-680e-4897-a920-026a4a48cb4f",
   "metadata": {},
   "source": [
    "**Advanced Data Structures (List, Tuple, Dictionary)**\n",
    "\n",
    "1\\. **List:**\n",
    "\n",
    "Lists are ordered and modifiable data structures. Different data types can be stored in the same list.\n",
    "\n",
    "Features:\n",
    "   - Elements can be added, removed, or modified.\n",
    "   - The order of elements in lists is important and can be accessed by indexes. List indexes start at 0 (zero).\n",
    "   - Different types of data (numbers, strings, other lists, etc.) can exist in the same list."
   ]
  },
  {
   "cell_type": "code",
   "execution_count": null,
   "id": "38bd9dbf-5f20-418c-a98f-677894c35ab4",
   "metadata": {},
   "outputs": [],
   "source": [
    "my_list = [3,4,'TBT','Hello',6,\"Apple\",3.14,True]\n",
    "#common operations\n",
    "print(len(my_list)) #returns number of elements in the list\n",
    "print(my_list.count(True)) #returns how many times the given value appears in the list\n",
    "my_list.append(4) #element 4 is added to the list\n",
    "print(len(my_list), my_list.index('Hello'), my_list.count(4) ,sep=\"\\n\") #prints requested items line by line\n",
    "my_list.remove(\"Apple\") #\"Apple\" element is removed from the list\n",
    "print(my_list)\n",
    "print(my_list[0]) #access the first element of the list\n",
    "print(my_list[-1]) #access the last element of the list\n",
    "print(my_list[1:5]) #sliced access from element with index 1 to element with index 5 (5 not included)\n",
    "my_list.reverse() #recreates and saves elements in reverse order\n",
    "new_list = [ 11, 3, -4, 9 , 3.14, 2]\n",
    "new_list.sort()  #sorts elements of list consisting of same type elements from smallest to largest (won't error with int-float!)\n",
    "print(my_list, new_list, sep=\"\\n\") \n",
    "NEW_LIST = [\"Apple\",\"Pear\",\"Banana\",\"Cherry\"]\n",
    "NEW_LIST.sort(reverse = True) # Sorts from largest to smallest\n",
    "print(NEW_LIST)"
   ]
  },
  {
   "cell_type": "markdown",
   "id": "aae87b7a-4af7-4896-939b-942fa4293ecd",
   "metadata": {},
   "source": [
    "2\\. **Tuple:**\n",
    "\n",
    "Tuples are ordered but immutable data structures. They are similar to lists but their elements cannot be changed.\n",
    "\n",
    "Features:\n",
    "   - Elements cannot be changed, added, or removed.\n",
    "   - Elements are ordered and can be accessed by indexes.\n",
    "   - Can contain different data types.\n",
    "\n",
    "<b>Note:</b> They are similar to lists, but the difference is that they are immutable. This means that after a tuple is created, its items cannot be changed. However, if the items themselves are mutable, they can be changed. For example, a tuple can contain lists, and the contents of these lists can be modified."
   ]
  },
  {
   "cell_type": "code",
   "execution_count": null,
   "id": "a3a562af-81a8-4206-93ab-d97e42fb4ad7",
   "metadata": {},
   "outputs": [],
   "source": [
    "my_tuple  = (3,4,'TBT','Hello',6,\"Apple\",3.14,True,4,6,False,4)\n",
    "#common operations\n",
    "print(len(my_tuple)) #returns number of elements in the tuple\n",
    "print(my_tuple.index(\"Apple\")) #returns at which index the given value is found in the tuple\n",
    "print(my_tuple.count('TBT')) #returns how many times the given value appears in the tuple\n",
    "print(my_tuple[0]) #access the first element of the tuple\n",
    "print(my_tuple[-1]) #access the last element of the tuple\n",
    "print(my_tuple[1:5]) #sliced access from element with index 1 to element with index 5 (5 not included)\n",
    "new_tuple = ([1, 2], [3, 4])\n",
    "# Element of the list inside the tuple can be changed directly\n",
    "new_tuple[0][0] = 5\n",
    "print(new_tuple)"
   ]
  },
  {
   "cell_type": "markdown",
   "id": "547f53f1-f052-4876-bfbb-ed917658854c",
   "metadata": {},
   "source": [
    "3\\. **Dictionary:**\n",
    "\n",
    "Dictionaries are mutable data structures consisting of key-value pairs. Each key is unique.\n",
    "\n",
    "Features:\n",
    "\n",
    "- Elements can be added, removed, or modified.\n",
    "- Elements are accessed by keys, not indexes.\n",
    "- Keys and values can be of different data types."
   ]
  },
  {
   "cell_type": "code",
   "execution_count": null,
   "id": "7b99511c-b626-42d0-aa4f-11f170725741",
   "metadata": {},
   "outputs": [],
   "source": [
    "my_dict = {\n",
    "    'name': 'John',\n",
    "    'age': 24,\n",
    "    'occupation': 'Engineer'\n",
    "}\n",
    "#common operations\n",
    "my_dict[\"email\"] = \"john@example.com\"  #Adding/Modifying\n",
    "print(my_dict.keys()) #Listing Keys\n",
    "print(my_dict.values()) #Listing Values\n",
    "del my_dict[\"age\"]  #Removing\n",
    "print(my_dict[\"name\"]) #Accessing\n",
    "print(my_dict.items())  #Listing Key-Value Pairs"
   ]
  }
 ],
 "metadata": {
  "kernelspec": {
   "display_name": "Python 3 (ipykernel)",
   "language": "python",
   "name": "python3"
  },
  "language_info": {
   "codemirror_mode": {
    "name": "ipython",
    "version": 3
   },
   "file_extension": ".py",
   "mimetype": "text/x-python",
   "name": "python",
   "nbconvert_exporter": "python",
   "pygments_lexer": "ipython3",
   "version": "3.10.13"
  }
 },
 "nbformat": 4,
 "nbformat_minor": 5
}
